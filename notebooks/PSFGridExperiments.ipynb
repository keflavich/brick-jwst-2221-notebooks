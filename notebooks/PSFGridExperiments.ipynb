{
 "cells": [
  {
   "cell_type": "code",
   "execution_count": 1,
   "id": "80617b6f-e187-42f8-95c8-f05290600fc2",
   "metadata": {},
   "outputs": [],
   "source": [
    "import webbpsf"
   ]
  },
  {
   "cell_type": "code",
   "execution_count": 3,
   "id": "7f926d2b-3cc1-451d-8389-6be9329bff33",
   "metadata": {},
   "outputs": [
    {
     "name": "stdout",
     "output_type": "stream",
     "text": [
      "\n",
      "Running instrument: NIRCam, filter: F405N.  Detector list = ['NRCA5', 'NRCB5']\n",
      "  Running detector: NRCA5\n",
      "    Position 1/16: (0, 0) pixels\n",
      "    Position 2/16: (0, 682) pixels\n",
      "    Position 3/16: (0, 1365) pixels\n",
      "    Position 4/16: (0, 2047) pixels\n",
      "    Position 5/16: (682, 0) pixels\n",
      "    Position 6/16: (682, 682) pixels\n",
      "    Position 7/16: (682, 1365) pixels\n",
      "    Position 8/16: (682, 2047) pixels\n",
      "    Position 9/16: (1365, 0) pixels\n",
      "    Position 10/16: (1365, 682) pixels\n",
      "    Position 11/16: (1365, 1365) pixels\n",
      "    Position 12/16: (1365, 2047) pixels\n",
      "    Position 13/16: (2047, 0) pixels\n",
      "    Position 14/16: (2047, 682) pixels\n",
      "    Position 15/16: (2047, 1365) pixels\n",
      "    Position 16/16: (2047, 2047) pixels\n",
      "  Saving file: nircam_nrca5_f405n_fovp101_samp4_npsf16.fits\n",
      "  Running detector: NRCB5\n",
      "    Position 1/16: (0, 0) pixels\n"
     ]
    },
    {
     "name": "stderr",
     "output_type": "stream",
     "text": [
      "WARNING: VerifyWarning: Card is too long, comment will be truncated. [astropy.io.fits.card]\n"
     ]
    },
    {
     "name": "stdout",
     "output_type": "stream",
     "text": [
      "    Position 2/16: (0, 682) pixels\n",
      "    Position 3/16: (0, 1365) pixels\n",
      "    Position 4/16: (0, 2047) pixels\n",
      "    Position 5/16: (682, 0) pixels\n",
      "    Position 6/16: (682, 682) pixels\n",
      "    Position 7/16: (682, 1365) pixels\n",
      "    Position 8/16: (682, 2047) pixels\n",
      "    Position 9/16: (1365, 0) pixels\n",
      "    Position 10/16: (1365, 682) pixels\n",
      "    Position 11/16: (1365, 1365) pixels\n",
      "    Position 12/16: (1365, 2047) pixels\n",
      "    Position 13/16: (2047, 0) pixels\n",
      "    Position 14/16: (2047, 682) pixels\n",
      "    Position 15/16: (2047, 1365) pixels\n",
      "    Position 16/16: (2047, 2047) pixels\n",
      "  Saving file: nircam_nrcb5_f405n_fovp101_samp4_npsf16.fits\n"
     ]
    },
    {
     "name": "stderr",
     "output_type": "stream",
     "text": [
      "WARNING: VerifyWarning: Card is too long, comment will be truncated. [astropy.io.fits.card]\n"
     ]
    }
   ],
   "source": [
    "nrc = webbpsf.NIRCam()\n",
    "#nrc.load_wss_opd_by_date(f'{obsdate}T00:00:00')\n",
    "nrc.filter = 'F405N'\n",
    "grid = nrc.psf_grid(num_psfs=16, all_detectors=True, verbose=True, save=True)"
   ]
  },
  {
   "cell_type": "code",
   "execution_count": 4,
   "id": "e7683ac4-ac85-45d4-ba41-062d29c93a6d",
   "metadata": {},
   "outputs": [
    {
     "data": {
      "text/plain": [
       "[<GriddedPSFModel(flux=1., x_0=0., y_0=0.)>,\n",
       " <GriddedPSFModel(flux=1., x_0=0., y_0=0.)>]"
      ]
     },
     "execution_count": 4,
     "metadata": {},
     "output_type": "execute_result"
    }
   ],
   "source": [
    "grid"
   ]
  },
  {
   "cell_type": "code",
   "execution_count": 6,
   "id": "d3757474-ad57-484f-b411-f478de3b6d25",
   "metadata": {},
   "outputs": [],
   "source": [
    "g0=grid[0]"
   ]
  },
  {
   "cell_type": "code",
   "execution_count": 9,
   "id": "23993dfe-d7e4-4b01-8bc0-fdd4969a837e",
   "metadata": {},
   "outputs": [
    {
     "data": {
      "text/plain": [
       "{'instrume': ('NIRCam', 'Instrument name'),\n",
       " 'detector': ('NRCA5', 'Detector name'),\n",
       " 'filter': ('F405N', 'Filter name'),\n",
       " 'pupilopd': ('JWST_OTE_OPD_RevAA_prelaunch_predicted.fits.gz',\n",
       "  'Pupil OPD source name'),\n",
       " 'opd_file': ('JWST_OTE_OPD_RevAA_prelaunch_predicted.fits.gz',\n",
       "  'Pupil OPD file name'),\n",
       " 'opdslice': (0, 'Pupil OPD slice number'),\n",
       " 'fovpixel': (101, 'Field of view in pixels (full array)'),\n",
       " 'fov': (6.363, 'Field of view in arcsec (full array)'),\n",
       " 'oversamp': (4, 'Oversampling factor for FFTs in computation'),\n",
       " 'det_samp': (4, 'Oversampling factor for MFT to detector plane'),\n",
       " 'nwaves': (3, 'Number of wavelengths used in calculation'),\n",
       " 'det_yx0': ('(0.0, 0.0)', \"The #0 PSF's (y,x) detector pixel position\"),\n",
       " 'det_yx1': ('(682.0, 0.0)', \"The #1 PSF's (y,x) detector pixel position\"),\n",
       " 'det_yx2': ('(1365.0, 0.0)', \"The #2 PSF's (y,x) detector pixel position\"),\n",
       " 'det_yx3': ('(2047.0, 0.0)', \"The #3 PSF's (y,x) detector pixel position\"),\n",
       " 'det_yx4': ('(0.0, 682.0)', \"The #4 PSF's (y,x) detector pixel position\"),\n",
       " 'det_yx5': ('(682.0, 682.0)', \"The #5 PSF's (y,x) detector pixel position\"),\n",
       " 'det_yx6': ('(1365.0, 682.0)', \"The #6 PSF's (y,x) detector pixel position\"),\n",
       " 'det_yx7': ('(2047.0, 682.0)', \"The #7 PSF's (y,x) detector pixel position\"),\n",
       " 'det_yx8': ('(0.0, 1365.0)', \"The #8 PSF's (y,x) detector pixel position\"),\n",
       " 'det_yx9': ('(682.0, 1365.0)', \"The #9 PSF's (y,x) detector pixel position\"),\n",
       " 'det_yx10': ('(1365.0, 1365.0)',\n",
       "  \"The #10 PSF's (y,x) detector pixel position\"),\n",
       " 'det_yx11': ('(2047.0, 1365.0)',\n",
       "  \"The #11 PSF's (y,x) detector pixel position\"),\n",
       " 'det_yx12': ('(0.0, 2047.0)', \"The #12 PSF's (y,x) detector pixel position\"),\n",
       " 'det_yx13': ('(682.0, 2047.0)',\n",
       "  \"The #13 PSF's (y,x) detector pixel position\"),\n",
       " 'det_yx14': ('(1365.0, 2047.0)',\n",
       "  \"The #14 PSF's (y,x) detector pixel position\"),\n",
       " 'det_yx15': ('(2047.0, 2047.0)',\n",
       "  \"The #15 PSF's (y,x) detector pixel position\"),\n",
       " 'num_psfs': (16, 'The total number of fiducial PSFs'),\n",
       " 'distort': ('True', 'SIAF distortion coefficients applied'),\n",
       " 'siaf_ver': ('PRDOPSSOC-055', 'SIAF PRD version used'),\n",
       " 'coef_x00': (0.0, 'SIAF distortion coefficient for COEF_X00'),\n",
       " 'coef_x10': (15.934586591, 'SIAF distortion coefficient for COEF_X10'),\n",
       " 'coef_x11': (6.1225534446e-19, 'SIAF distortion coefficient for COEF_X11'),\n",
       " 'coef_x20': (-0.0004860451882200001,\n",
       "  'SIAF distortion coefficient for COEF_X20'),\n",
       " 'coef_x21': (0.0029294804571, 'SIAF distortion coefficient for COEF_X21'),\n",
       " 'coef_x22': (0.00039357949251, 'SIAF distortion coefficient for COEF_X22'),\n",
       " 'coef_x30': (-6.7374950535e-06, 'SIAF distortion coefficient for COEF_X30'),\n",
       " 'coef_x31': (-7.230975754699999e-09,\n",
       "  'SIAF distortion coefficient for COEF_X31'),\n",
       " 'coef_x32': (-5.9452147996e-06, 'SIAF distortion coefficient for COEF_X32'),\n",
       " 'coef_x33': (1.4114505609e-07, 'SIAF distortion coefficient for COEF_X33'),\n",
       " 'coef_x40': (2.8803386451e-09, 'SIAF distortion coefficient for COEF_X40'),\n",
       " 'coef_x41': (-3.0457278225e-09, 'SIAF distortion coefficient for COEF_X41'),\n",
       " 'coef_x42': (-3.2304192859e-10, 'SIAF distortion coefficient for COEF_X42'),\n",
       " 'coef_x43': (-2.471072929e-09, 'SIAF distortion coefficient for COEF_X43'),\n",
       " 'coef_x44': (-1.0673171267e-09, 'SIAF distortion coefficient for COEF_X44'),\n",
       " 'coef_x50': (1.0371288008e-11, 'SIAF distortion coefficient for COEF_X50'),\n",
       " 'coef_x51': (-5.1463793568e-11, 'SIAF distortion coefficient for COEF_X51'),\n",
       " 'coef_x52': (-1.1436682755e-10, 'SIAF distortion coefficient for COEF_X52'),\n",
       " 'coef_x53': (-3.4039991744e-11, 'SIAF distortion coefficient for COEF_X53'),\n",
       " 'coef_x54': (-3.542093106e-11, 'SIAF distortion coefficient for COEF_X54'),\n",
       " 'coef_x55': (7.9949066785e-12, 'SIAF distortion coefficient for COEF_X55'),\n",
       " 'coef_y00': (0.0, 'SIAF distortion coefficient for COEF_Y00'),\n",
       " 'coef_y10': (0.025071427204, 'SIAF distortion coefficient for COEF_Y10'),\n",
       " 'coef_y11': (15.857391688, 'SIAF distortion coefficient for COEF_Y11'),\n",
       " 'coef_y20': (-0.0012596083931, 'SIAF distortion coefficient for COEF_Y20'),\n",
       " 'coef_y21': (-0.0009069409412899999,\n",
       "  'SIAF distortion coefficient for COEF_Y21'),\n",
       " 'coef_y22': (0.0016839119037, 'SIAF distortion coefficient for COEF_Y22'),\n",
       " 'coef_y30': (1.1045697736e-07, 'SIAF distortion coefficient for COEF_Y30'),\n",
       " 'coef_y31': (-6.9614413805e-06, 'SIAF distortion coefficient for COEF_Y31'),\n",
       " 'coef_y32': (-2.8271618798e-07, 'SIAF distortion coefficient for COEF_Y32'),\n",
       " 'coef_y33': (-6.0995195046e-06, 'SIAF distortion coefficient for COEF_Y33'),\n",
       " 'coef_y40': (-1.7467033315e-10, 'SIAF distortion coefficient for COEF_Y40'),\n",
       " 'coef_y41': (1.5033345224e-09, 'SIAF distortion coefficient for COEF_Y41'),\n",
       " 'coef_y42': (-6.2825999944e-10, 'SIAF distortion coefficient for COEF_Y42'),\n",
       " 'coef_y43': (4.4341353065e-10, 'SIAF distortion coefficient for COEF_Y43'),\n",
       " 'coef_y44': (-7.9152861609e-10, 'SIAF distortion coefficient for COEF_Y44'),\n",
       " 'coef_y50': (4.5260382438e-12, 'SIAF distortion coefficient for COEF_Y50'),\n",
       " 'coef_y51': (-4.6145320711e-11, 'SIAF distortion coefficient for COEF_Y51'),\n",
       " 'coef_y52': (8.9644415268e-12, 'SIAF distortion coefficient for COEF_Y52'),\n",
       " 'coef_y53': (-9.024547149399999e-11,\n",
       "  'SIAF distortion coefficient for COEF_Y53'),\n",
       " 'coef_y54': (-1.3061529521e-11, 'SIAF distortion coefficient for COEF_Y54'),\n",
       " 'coef_y55': (-5.0902672494e-11, 'SIAF distortion coefficient for COEF_Y55'),\n",
       " 'rotation': (-0.07436148, 'PSF rotated to match detector rotation'),\n",
       " 'wavelen': (4.051463399887345e-06, 'Weighted mean wavelength in meters'),\n",
       " 'difflmt': (0.12594141068359374, 'Diffraction limit lambda/D in arcsec'),\n",
       " 'ffttype': ('numpy.fft', 'Algorithm for FFTs: numpy or fftw'),\n",
       " 'normaliz': ('first', 'PSF normalization method'),\n",
       " 'tel_wfe': (62.27585352898682, '[nm] Telescope pupil RMS wavefront error'),\n",
       " 'jitrtype': ('Gaussian convolution', 'Type of jitter applied'),\n",
       " 'jitrsigm': (0.0008, 'Gaussian sigma for jitter, per axis [arcsec]'),\n",
       " 'jitrstrl': (1.0, 'Strehl reduction from jitter '),\n",
       " 'date': ('2022-10-29T19:38:12', 'Date of calculation'),\n",
       " 'author': ('adamginsburg@c0709a-s1.ufhpc', 'username@host for calculation'),\n",
       " 'version': ('0.1.dev1901+g6d83a9d', 'WebbPSF software version'),\n",
       " 'datavers': ('1.0.0', 'WebbPSF reference data files version'),\n",
       " 'grid_xypos': [(0.0, 0.0),\n",
       "  (0.0, 682.0),\n",
       "  (0.0, 1365.0),\n",
       "  (0.0, 2047.0),\n",
       "  (682.0, 0.0),\n",
       "  (682.0, 682.0),\n",
       "  (682.0, 1365.0),\n",
       "  (682.0, 2047.0),\n",
       "  (1365.0, 0.0),\n",
       "  (1365.0, 682.0),\n",
       "  (1365.0, 1365.0),\n",
       "  (1365.0, 2047.0),\n",
       "  (2047.0, 0.0),\n",
       "  (2047.0, 682.0),\n",
       "  (2047.0, 1365.0),\n",
       "  (2047.0, 2047.0)],\n",
       " 'oversampling': 4}"
      ]
     },
     "execution_count": 9,
     "metadata": {},
     "output_type": "execute_result"
    }
   ],
   "source": [
    "g0.meta"
   ]
  }
 ],
 "metadata": {
  "kernelspec": {
   "display_name": "python39",
   "language": "python",
   "name": "python39"
  },
  "language_info": {
   "codemirror_mode": {
    "name": "ipython",
    "version": 3
   },
   "file_extension": ".py",
   "mimetype": "text/x-python",
   "name": "python",
   "nbconvert_exporter": "python",
   "pygments_lexer": "ipython3",
   "version": "3.9.13"
  }
 },
 "nbformat": 4,
 "nbformat_minor": 5
}
