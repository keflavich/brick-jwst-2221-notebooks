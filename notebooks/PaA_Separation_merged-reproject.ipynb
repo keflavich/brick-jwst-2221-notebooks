{
 "cells": [
  {
   "cell_type": "markdown",
   "id": "bbedd65f-e69d-4c07-bafe-b66457728670",
   "metadata": {},
   "source": [
    "# Copied from BrA_Separation_merged-reproject on July 28, 2023"
   ]
  },
  {
   "cell_type": "code",
   "execution_count": null,
   "id": "3ddb567c-eb53-4df3-848a-971c357b3048",
   "metadata": {},
   "outputs": [],
   "source": [
    "from photutils.background import MMMBackground, MADStdBackgroundRMS\n",
    "from astropy.modeling.fitting import LevMarLSQFitter"
   ]
  },
  {
   "cell_type": "code",
   "execution_count": null,
   "id": "07f47ae9-7ac8-4917-bfae-16033d4d8b07",
   "metadata": {},
   "outputs": [],
   "source": [
    "from astropy import stats\n",
    "from astropy.table import Table\n",
    "from astropy.wcs import WCS"
   ]
  },
  {
   "cell_type": "code",
   "execution_count": null,
   "id": "495fbb34-1d8c-4d32-a376-baee197e72d9",
   "metadata": {},
   "outputs": [],
   "source": [
    "from astropy.io import fits"
   ]
  },
  {
   "cell_type": "code",
   "execution_count": null,
   "id": "06a449ca-6797-4d43-b1f3-db00afdcd729",
   "metadata": {},
   "outputs": [],
   "source": [
    "from astropy.table import Table\n",
    "from astropy.coordinates import SkyCoord\n",
    "from astropy.visualization import simple_norm\n",
    "from astropy import wcs\n",
    "from astropy import table\n",
    "from astropy import units as u\n",
    "import pylab as pl\n",
    "pl.rcParams['figure.facecolor'] = 'w'\n",
    "pl.rcParams['image.origin'] = 'lower'"
   ]
  },
  {
   "cell_type": "code",
   "execution_count": null,
   "id": "eafbaa4d-b5fc-4f1a-9af3-59659ca8bd1b",
   "metadata": {},
   "outputs": [],
   "source": [
    "from astroquery.svo_fps import SvoFps"
   ]
  },
  {
   "cell_type": "code",
   "execution_count": null,
   "id": "cf2c1a82-e457-411e-ba6f-84ffd3db515d",
   "metadata": {},
   "outputs": [],
   "source": [
    "import numpy as np"
   ]
  },
  {
   "cell_type": "code",
   "execution_count": null,
   "id": "735e1861-9831-4a77-82f5-f6e22da3df69",
   "metadata": {},
   "outputs": [],
   "source": [
    "import reproject"
   ]
  },
  {
   "cell_type": "code",
   "execution_count": null,
   "id": "16cee3bd-1bf0-4c43-bf5a-1c1612d993ec",
   "metadata": {},
   "outputs": [],
   "source": [
    "from astropy import units as u"
   ]
  },
  {
   "cell_type": "code",
   "execution_count": null,
   "id": "15b950af-838a-45b7-a4df-e2da4b1ad206",
   "metadata": {},
   "outputs": [],
   "source": [
    "basepath = '/orange/adamginsburg/jwst/brick/'"
   ]
  },
  {
   "cell_type": "code",
   "execution_count": null,
   "id": "fb43faa6-548d-4b57-a3bf-8163cf4d8e9d",
   "metadata": {},
   "outputs": [],
   "source": [
    "fh_187 = fits.open(f'{basepath}/F187N/pipeline/jw02221-o001_t001_nircam_clear-f187n-merged_i2d.fits')\n",
    "fh_182 = fits.open(f'{basepath}/F182M/pipeline/jw02221-o001_t001_nircam_clear-f182m-merged_i2d.fits')"
   ]
  },
  {
   "cell_type": "code",
   "execution_count": null,
   "id": "08a3bcc8-a5ce-4a3f-ae6e-2b4295240ef1",
   "metadata": {},
   "outputs": [],
   "source": [
    "ww187 = wcs.WCS(fh_187['SCI'].header)\n",
    "ww182 = wcs.WCS(fh_182['SCI'].header)"
   ]
  },
  {
   "cell_type": "code",
   "execution_count": null,
   "id": "88d118bc-0e8b-45d5-b9ad-0e3313564783",
   "metadata": {},
   "outputs": [],
   "source": [
    "instrument = fh_187[0].header['INSTRUME']\n",
    "telescope = fh_187[0].header['TELESCOP']\n",
    "filt187 = fh_187[0].header['FILTER']\n",
    "wavelength_table_187 = SvoFps.get_transmission_data(f'{telescope}/{instrument}.{filt187}')\n",
    "filt182 = fh_182[0].header['FILTER']\n",
    "wavelength_table_182 = SvoFps.get_transmission_data(f'{telescope}/{instrument}.{filt182}')"
   ]
  },
  {
   "cell_type": "code",
   "execution_count": null,
   "id": "79e070bf-5ab3-440a-a3df-af267b24ebaa",
   "metadata": {},
   "outputs": [],
   "source": [
    "filt187, filt182"
   ]
  },
  {
   "cell_type": "code",
   "execution_count": null,
   "id": "1ec1a62e-65b7-4782-8378-07b0e9b001a9",
   "metadata": {},
   "outputs": [],
   "source": [
    "waves_182 = wavelength_table_182['Wavelength']\n",
    "trans_187 = np.interp(waves_182, wavelength_table_187['Wavelength'], wavelength_table_187['Transmission'])\n",
    "trans_182 = wavelength_table_182['Transmission']"
   ]
  },
  {
   "cell_type": "code",
   "execution_count": null,
   "id": "22c241fd-9619-41ae-9ab6-04ef84358678",
   "metadata": {},
   "outputs": [],
   "source": [
    "pl.plot(waves_182, trans_182)\n",
    "pl.plot(waves_182, trans_187)\n",
    "pl.xlabel(\"Wavelength [Angstroms]\")"
   ]
  },
  {
   "cell_type": "code",
   "execution_count": null,
   "id": "19e739da-9c37-480f-b569-54db4a83512f",
   "metadata": {},
   "outputs": [],
   "source": [
    "fractional_bandwidth_187 = (( (trans_182/trans_182.max()) *\n",
    "                            (trans_187/trans_187.max()) ).sum()\n",
    "                            / (trans_182/trans_182.max()).sum()\n",
    "                           )\n",
    "fractional_bandwidth_187"
   ]
  },
  {
   "cell_type": "code",
   "execution_count": null,
   "id": "90d21ce2-a872-4bd1-b466-70d5a415edd9",
   "metadata": {},
   "outputs": [],
   "source": [
    "fraction_bandwidth_empirical = 0.1742 # see end of document"
   ]
  },
  {
   "cell_type": "code",
   "execution_count": null,
   "id": "79011688-0ce3-4deb-b70e-a6ff94d48043",
   "metadata": {},
   "outputs": [],
   "source": [
    "data_187_proj_182 = reproject.reproject_exact(fh_187['SCI'], fh_182['SCI'].header)"
   ]
  },
  {
   "cell_type": "code",
   "execution_count": null,
   "id": "8e1eff74-f460-4c6f-b501-85e31a5f8a8f",
   "metadata": {},
   "outputs": [],
   "source": [
    "from astropy.convolution import convolve_fft, Gaussian2DKernel"
   ]
  },
  {
   "cell_type": "markdown",
   "id": "1c18b2cd-1412-4599-9535-bcfea451744c",
   "metadata": {},
   "source": [
    "### from PSF analysis below, we need to smooth the ....\n",
    "(This analysis was borrowed from BrA and isn't even correct there)"
   ]
  },
  {
   "cell_type": "code",
   "execution_count": null,
   "id": "b86400d4-0cc3-4d91-ba5e-dab2063be33d",
   "metadata": {},
   "outputs": [],
   "source": [
    "cont182_sub_paa = (fh_182['SCI'].data - convolve_fft(data_187_proj_182[0]*fractional_bandwidth_187/(1-fractional_bandwidth_187),\n",
    "                   Gaussian2DKernel(0.3)))\n",
    "fits.PrimaryHDU(data=cont182_sub_paa, header=fh_182['SCI'].header).writeto(f'{basepath}/images/F182_minus_F187_merged-reproject_theoretical_bandwidth.fits', overwrite=True)"
   ]
  },
  {
   "cell_type": "code",
   "execution_count": null,
   "id": "8c279e61-455d-455a-9d42-cc28991da381",
   "metadata": {},
   "outputs": [],
   "source": [
    "paa_minus_cont = data_187_proj_182[0] - cont182_sub_paa #* fractional_bandwidth_187\n",
    "fits.PrimaryHDU(data=paa_minus_cont, header=fh_182['SCI'].header).writeto(f'{basepath}/images/F187_minus_F182cont_merged-reproject_theoretical_bandwidth.fits', overwrite=True)"
   ]
  },
  {
   "cell_type": "code",
   "execution_count": null,
   "id": "2cd7aabc-f3e4-4154-b3ce-bbabecf08857",
   "metadata": {},
   "outputs": [],
   "source": [
    "pl.figure(figsize=(12,8))\n",
    "pl.imshow(fh_182['SCI'].data, norm=simple_norm(cont182_sub_paa, min_percent=1, max_percent=99, stretch='log'))\n",
    "pl.colorbar()"
   ]
  },
  {
   "cell_type": "code",
   "execution_count": null,
   "id": "ffd38589-281e-46b6-83a8-e287a090ebad",
   "metadata": {},
   "outputs": [],
   "source": [
    "pl.figure(figsize=(12,8))\n",
    "pl.imshow(cont182_sub_paa, norm=simple_norm(cont182_sub_paa, min_percent=1, max_percent=99, stretch='log'))\n",
    "pl.colorbar()"
   ]
  },
  {
   "cell_type": "code",
   "execution_count": null,
   "id": "d658320a-f727-4d2b-8475-3a9cd69eba38",
   "metadata": {},
   "outputs": [],
   "source": [
    "pl.figure(figsize=(12,8))\n",
    "pl.imshow(fh_187['SCI'].data, norm=simple_norm(cont182_sub_paa, min_percent=1, max_percent=99, stretch='log'))\n",
    "pl.colorbar()"
   ]
  },
  {
   "cell_type": "code",
   "execution_count": null,
   "id": "f57f51ba-6a3a-44e4-aae8-09489c89bdfd",
   "metadata": {},
   "outputs": [],
   "source": [
    "pl.figure(figsize=(12,8))\n",
    "pl.imshow(paa_minus_cont, norm=simple_norm(paa_minus_cont, min_percent=4, max_percent=99.5, stretch='log'))\n",
    "pl.colorbar()"
   ]
  },
  {
   "cell_type": "markdown",
   "id": "bddb2524-5841-46c3-89cc-d0093265351f",
   "metadata": {},
   "source": [
    "# PSF comparison\n",
    "\n",
    "There was evidence of oversubtraction / undersubtraction in rings around the stars in the 187-182 image before we did PSF convolution:"
   ]
  },
  {
   "cell_type": "code",
   "execution_count": null,
   "id": "37c8ba12-5e53-4fae-b071-a702c930501b",
   "metadata": {},
   "outputs": [],
   "source": [
    "class slcgt:\n",
    "    def __getitem__(self, args):\n",
    "        return args"
   ]
  },
  {
   "cell_type": "code",
   "execution_count": null,
   "id": "01c6742b-d5f7-44aa-b9f1-73256a49bebb",
   "metadata": {},
   "outputs": [],
   "source": [
    "dd = fh_182['SCI'].data\n",
    "pl.figure(figsize=(12,8))\n",
    "slc = slcgt()[1000:1250,1000:1250]\n",
    "pl.imshow(dd[slc],\n",
    "          norm=simple_norm(dd[slc], min_percent=4, max_percent=99.5, stretch='log'))\n",
    "pl.colorbar()"
   ]
  },
  {
   "cell_type": "code",
   "execution_count": null,
   "id": "675f05aa-61ee-4a3a-8b24-7021529345ea",
   "metadata": {},
   "outputs": [],
   "source": [
    "pl.figure(figsize=(12,8))\n",
    "slc = slcgt()[1000:1250,1000:1250]\n",
    "pl.imshow(cont182_sub_paa[slc],\n",
    "          norm=simple_norm(cont182_sub_paa[slc], min_percent=4, max_percent=99.5, stretch='log'))\n",
    "pl.colorbar()"
   ]
  },
  {
   "cell_type": "code",
   "execution_count": null,
   "id": "c487cac0-f0aa-4250-9574-397a962bb397",
   "metadata": {},
   "outputs": [],
   "source": [
    "pl.figure(figsize=(12,8))\n",
    "slc = slcgt()[1000:1250,1000:1250]\n",
    "pl.imshow(paa_minus_cont[slc],\n",
    "          norm=simple_norm(paa_minus_cont[slc], min_percent=4, max_percent=99.5, stretch='log'))\n",
    "pl.colorbar()"
   ]
  },
  {
   "cell_type": "code",
   "execution_count": null,
   "id": "398114bc-8a62-4c09-ad05-36c71b62fb7f",
   "metadata": {},
   "outputs": [],
   "source": [
    "import os\n",
    "os.environ['WEBBPSF_PATH'] = '/orange/adamginsburg/jwst/webbpsf-data/'\n",
    "import webbpsf\n",
    "from webbpsf.utils import to_griddedpsfmodel"
   ]
  },
  {
   "cell_type": "code",
   "execution_count": null,
   "id": "ec27fccf-d071-4cc8-9187-29d6febf8a15",
   "metadata": {},
   "outputs": [],
   "source": [
    "import sys\n",
    "sys.path.append(f'{basepath}/reduction/')"
   ]
  },
  {
   "cell_type": "code",
   "execution_count": null,
   "id": "427b2779-8b8b-4fdf-bfa2-64d8f39a0e08",
   "metadata": {},
   "outputs": [],
   "source": [
    "import saturated_star_finding\n",
    "import importlib as imp\n",
    "imp.reload(saturated_star_finding)\n",
    "from saturated_star_finding import get_psf"
   ]
  },
  {
   "cell_type": "code",
   "execution_count": null,
   "id": "15d1d2a7-1b06-4a8b-928e-d9eb3c0a94c5",
   "metadata": {},
   "outputs": [],
   "source": [
    "psf_paa = get_psf(fh_187['SCI'].header)"
   ]
  },
  {
   "cell_type": "code",
   "execution_count": null,
   "id": "88570120-fb9b-42fb-9454-e6b88ebb570f",
   "metadata": {},
   "outputs": [],
   "source": [
    "psf_182 = get_psf(fh_182['SCI'].header)"
   ]
  },
  {
   "cell_type": "code",
   "execution_count": null,
   "id": "43ddcd66-32f3-46f9-be1f-a0a69e9b4bef",
   "metadata": {},
   "outputs": [],
   "source": [
    "from astropy.visualization import imshow_norm, simple_norm, LogStretch, AsinhStretch"
   ]
  },
  {
   "cell_type": "code",
   "execution_count": null,
   "id": "605f89c8-bf6c-4973-9f29-bf9ae30723d4",
   "metadata": {},
   "outputs": [],
   "source": [
    "yy, xx = np.mgrid[-20:20.1:1,-20:20.1:1]\n",
    "pl.figure(dpi=150)\n",
    "ax = pl.subplot(1,3,1)\n",
    "imshow_norm(psf_182(xx, yy), ax=ax, stretch=LogStretch())\n",
    "ax = pl.subplot(1,3,2)\n",
    "imshow_norm(psf_paa(xx, yy), ax=ax, stretch=LogStretch())\n",
    "ax = pl.subplot(1,3,3)\n",
    "imshow_norm(psf_paa(xx, yy) - psf_182(xx, yy), ax=ax, stretch=AsinhStretch())"
   ]
  },
  {
   "cell_type": "code",
   "execution_count": null,
   "id": "f34a0b6d-e98a-480e-a250-bc532f7e7669",
   "metadata": {},
   "outputs": [],
   "source": [
    "pb = psf_paa(xx, yy)\n",
    "p4 = psf_182(xx, yy)\n",
    "from astropy.convolution import convolve, convolve_fft, Gaussian2DKernel, AiryDisk2DKernel\n",
    "def residual(x):\n",
    "    return convolve(pb, Gaussian2DKernel(x)) - p4\n",
    "def aresidual(x):\n",
    "    return convolve(pb, AiryDisk2DKernel(x)) - p4"
   ]
  },
  {
   "cell_type": "code",
   "execution_count": null,
   "id": "d3639326-6128-4b51-a183-4ba552f8095b",
   "metadata": {},
   "outputs": [],
   "source": [
    "pl.plot(np.linspace(0,0.6), [(residual(x)**2).sum() for x in np.linspace(0,0.6)])\n",
    "pl.plot(np.linspace(0.1,0.4), [(residual(x)**2).sum() for x in np.linspace(0.1,0.4)])\n",
    "pl.plot(np.linspace(0,0.6), [(aresidual(x)**2).sum() for x in np.linspace(0,0.6)])\n",
    "pl.ylim(0,0.000003);"
   ]
  },
  {
   "cell_type": "code",
   "execution_count": null,
   "id": "14a239cc-3f3e-487e-8cf5-acc4ba87320a",
   "metadata": {},
   "outputs": [],
   "source": [
    "resids = [(residual(x)**2).sum() for x in np.linspace(0.2,0.4)]\n",
    "np.linspace(0.2,0.4)[np.argmin(resids)]"
   ]
  },
  {
   "cell_type": "code",
   "execution_count": null,
   "id": "ce9512f1-d5b8-4697-a1f8-810bbe600dfe",
   "metadata": {},
   "outputs": [],
   "source": [
    "yy, xx = np.mgrid[-20:20.1:1,-20:20.1:1]\n",
    "pl.figure(dpi=150, figsize=(10,3.5))\n",
    "ax = pl.subplot(1,3,1)\n",
    "imshow_norm(psf_182(xx, yy), ax=ax, stretch=LogStretch())\n",
    "ax = pl.subplot(1,3,2)\n",
    "imshow_norm(psf_paa(xx, yy), ax=ax, stretch=LogStretch())\n",
    "ax = pl.subplot(1,3,3)\n",
    "im, norm = imshow_norm(convolve(psf_paa(xx, yy), Gaussian2DKernel(0.3)) - psf_182(xx, yy), ax=ax, stretch=AsinhStretch())\n",
    "pl.colorbar(mappable=im)"
   ]
  },
  {
   "cell_type": "code",
   "execution_count": null,
   "id": "a72cedc6-5450-470c-8ead-0937896678d4",
   "metadata": {},
   "outputs": [],
   "source": [
    "Gaussian2DKernel(0.3, x_size=xx.shape[1], y_size=yy.shape[0]).array.shape"
   ]
  },
  {
   "cell_type": "markdown",
   "id": "907edd57-c83d-440d-a8af-847e7bbe1b81",
   "metadata": {},
   "source": [
    "### Attempt direct deconvolution\n",
    "\n",
    "Maybe a Gaussian isn't the right kernel?"
   ]
  },
  {
   "cell_type": "code",
   "execution_count": null,
   "id": "df289d01-bc3e-4cc1-8316-2b0d3f28a262",
   "metadata": {},
   "outputs": [],
   "source": [
    "ft4 = np.fft.fftshift(np.fft.fft2(psf_182(xx, yy)))\n",
    "ftb = np.fft.fftshift(np.fft.fft2(psf_paa(xx, yy)))\n",
    "ftk = np.fft.fftshift(np.fft.fft2(Gaussian2DKernel(0.3, x_size=xx.shape[1], y_size=yy.shape[0]).array))"
   ]
  },
  {
   "cell_type": "code",
   "execution_count": null,
   "id": "89426d6a-7ae0-4e18-9689-ac6558c4620d",
   "metadata": {},
   "outputs": [],
   "source": [
    "pl.figure(figsize=(10,3))\n",
    "pl.subplot(1,4,1)\n",
    "pl.imshow(np.abs(ftb))\n",
    "pl.subplot(1,4,2)\n",
    "pl.imshow(np.abs(ft4))\n",
    "pl.subplot(1,4,3)\n",
    "pl.imshow(np.abs(ftk))\n",
    "pl.subplot(1,4,4)\n",
    "pl.imshow(np.abs(ft4/ftb), vmin=0, vmax=1)"
   ]
  },
  {
   "cell_type": "code",
   "execution_count": null,
   "id": "14b605eb-168f-4c99-9e0c-fa77b674c060",
   "metadata": {},
   "outputs": [],
   "source": [
    "#im, norm = imshow_norm(np.abs(ft4)/np.abs(ftb) * np.abs(ftb) > 1e-3, stretch=AsinhStretch(), vmax=1.1, vmin=0.9)\n",
    "#pl.colorbar(mappable=im)\n",
    "pl.subplot(1,2,1)\n",
    "pl.plot(np.abs((ft4[20,:])))\n",
    "pl.plot(np.abs((ftb[20,:])))\n",
    "pl.subplot(1,2,2)\n",
    "pl.plot(np.abs((ft4[20,:])) / np.abs((ftb[20,:])))\n",
    "pl.plot(np.abs(ftk[20,:]) / ftk.max())\n",
    "pl.ylim(0.96, 1.005);"
   ]
  },
  {
   "cell_type": "code",
   "execution_count": null,
   "id": "abe2a4f1-379d-436c-aaf6-8e42866a4d9b",
   "metadata": {},
   "outputs": [],
   "source": [
    "pl.plot((ft4[20,5:-5] / ftb[20,5:-5]))\n",
    "pl.plot((ft4[5:-5,20] / ftb[5:-5,20]))\n",
    "pl.plot(np.abs(ftk[5:-5,20])/np.abs(ftk).max())"
   ]
  },
  {
   "cell_type": "code",
   "execution_count": null,
   "id": "51f7f749-a4d7-49a6-8d67-50f6d9a277f5",
   "metadata": {},
   "outputs": [],
   "source": [
    "paa_to_182_kernel = np.abs((np.fft.fftshift(np.fft.fft2(ft4/ftb))))\n",
    "paa_to_182_kernel /= paa_to_182_kernel.max()\n",
    "imshow_norm(paa_to_182_kernel, stretch=LogStretch())\n",
    "paa_to_182_kernel.max()\n",
    "paa_to_182_kernel_ = np.zeros_like(paa_to_182_kernel)\n",
    "paa_to_182_kernel_[15:25,15:25] = paa_to_182_kernel[15:25, 15:25]\n",
    "paa_to_182_kernel = paa_to_182_kernel_"
   ]
  },
  {
   "cell_type": "code",
   "execution_count": null,
   "id": "4d61539b-dc95-4434-8fc5-e62b17a382cf",
   "metadata": {},
   "outputs": [],
   "source": [
    "yy, xx = np.mgrid[-20:20.1:1,-20:20.1:1]\n",
    "pl.figure(dpi=150, figsize=(10,3.5))\n",
    "ax = pl.subplot(1,3,1)\n",
    "imshow_norm(psf_182(xx, yy), ax=ax, stretch=LogStretch())\n",
    "ax = pl.subplot(1,3,2)\n",
    "imshow_norm(convolve(psf_paa(xx, yy), Gaussian2DKernel(0.3, x_size=41, y_size=41)), ax=ax, stretch=LogStretch())\n",
    "ax = pl.subplot(1,3,3)\n",
    "im, norm = imshow_norm(convolve(psf_paa(xx, yy), Gaussian2DKernel(0.3, x_size=41, y_size=41)) - psf_182(xx, yy), ax=ax, stretch=AsinhStretch())\n",
    "pl.colorbar(mappable=im)"
   ]
  },
  {
   "cell_type": "markdown",
   "id": "b0706e79-05c6-4be8-9df7-99b34ee81682",
   "metadata": {},
   "source": [
    "### Kernel\n",
    "\n",
    "The BrA needs to be convolved with an 0.8469 * 0.1 pixel = 0.085 pixel Gaussian\n",
    "\n",
    "or an 0.3469 * 0.5 = 0.017 pixel gaussian!?\n",
    "\n",
    "or an 0.30 pixel gaussian?!"
   ]
  },
  {
   "cell_type": "code",
   "execution_count": null,
   "id": "92edcb64-e009-4065-a6a3-7fa333130350",
   "metadata": {},
   "outputs": [],
   "source": [
    "def residual2(x):\n",
    "    return pb - convolve(p4, Gaussian2DKernel(x))\n",
    "pl.plot(np.linspace(0,1), [(residual2(x)**2).sum() for x in np.linspace(0,1)])"
   ]
  },
  {
   "cell_type": "markdown",
   "id": "f6b3a060-ab6e-4d31-9921-5d1f30d385c2",
   "metadata": {},
   "source": [
    "# Further star removal via photometry\n",
    "\n",
    "Starfinding on unsubtracted data so we can do some spatial cross-matching."
   ]
  },
  {
   "cell_type": "code",
   "execution_count": null,
   "id": "53ffa6e9-1b3d-45b0-b6bb-0ceddf922299",
   "metadata": {},
   "outputs": [],
   "source": [
    "stars_paa = DAOStarFinder(threshold=60, fwhm=2.302, peakmax=1e4)(fh_187['SCI'].data)\n",
    "stars_paa['skycoord'] = ww187.pixel_to_world(stars_paa['xcentroid'], stars_paa['ycentroid'])\n",
    "len(stars_paa)"
   ]
  },
  {
   "cell_type": "code",
   "execution_count": null,
   "id": "0ab3b81e-0e53-41a2-918c-f2b9e3d310a1",
   "metadata": {},
   "outputs": [],
   "source": [
    "stars_182 = DAOStarFinder(threshold=10, fwhm=2.302, peakmax=900)(fh_182['SCI'].data)\n",
    "stars_182['skycoord'] = ww182.pixel_to_world(stars_182['xcentroid'], stars_182['ycentroid'])\n",
    "len(stars_182)"
   ]
  },
  {
   "cell_type": "code",
   "execution_count": null,
   "id": "76a9bcbc-375c-4f93-8e2a-6c4e4a8e2810",
   "metadata": {},
   "outputs": [],
   "source": [
    "matches, sep, _ = stars_paa['skycoord'].match_to_catalog_sky(stars_182['skycoord'], nthneighbor=1)\n",
    "\n",
    "for cn in stars_paa.colnames:\n",
    "    stars_paa.rename_column(cn, f\"{cn}_187\")\n",
    "for cn in stars_182.colnames:\n",
    "    stars_182.rename_column(cn, f\"{cn}_182\")\n",
    "                         \n",
    "stars_paa.add_column(name=\"sep_182_187\", col=sep)\n",
    "stars_paa.add_column(name=\"id_182_187\", col=matches)\n",
    "mergetbl = table.hstack([stars_paa, stars_182[matches]], join_type='exact')"
   ]
  },
  {
   "cell_type": "code",
   "execution_count": null,
   "id": "9a41ed4d-15ba-4a0b-9617-a6d5146a3e2a",
   "metadata": {},
   "outputs": [],
   "source": [
    "pl.hist(mergetbl['sep_182_187'].to(u.arcsec).value)"
   ]
  },
  {
   "cell_type": "code",
   "execution_count": null,
   "id": "11d50c0d-3961-4caf-900e-dbd1ba1123b9",
   "metadata": {},
   "outputs": [],
   "source": [
    "radiff = (mergetbl['skycoord_187'].ra - mergetbl['skycoord_182'].ra).to(u.arcsec)\n",
    "decdiff = (mergetbl['skycoord_187'].dec - mergetbl['skycoord_182'].dec).to(u.arcsec)\n",
    "pl.scatter(radiff, decdiff, marker=',', s=1, alpha=0.8)\n",
    "pl.axis([-0.5,0.5,-0.5,0.5])"
   ]
  },
  {
   "cell_type": "markdown",
   "id": "fb76f702-36c1-4595-9420-85a305e5fd4c",
   "metadata": {},
   "source": [
    "# YIKES what the heck - why is there a big blob to the upper right?"
   ]
  },
  {
   "cell_type": "code",
   "execution_count": null,
   "id": "58fe86a8-9bb9-41c4-a00c-3b1c24828c5f",
   "metadata": {},
   "outputs": [],
   "source": [
    "pl.figure(figsize=(10,8))\n",
    "radiff = (mergetbl['skycoord_187'].ra - mergetbl['skycoord_182'].ra).to(u.arcsec)\n",
    "decdiff = (mergetbl['skycoord_187'].dec - mergetbl['skycoord_182'].dec).to(u.arcsec)\n",
    "topleft = (mergetbl['xcentroid_187'] < 1424) & (mergetbl['ycentroid_187'] > 1024)\n",
    "pl.scatter(radiff[topleft], decdiff[topleft], marker=',', s=1, alpha=0.8)\n",
    "topright = (mergetbl['xcentroid_187'] > 1424) & (mergetbl['ycentroid_187'] > 1024)\n",
    "pl.scatter(radiff[topright], decdiff[topright], marker=',', s=1, alpha=0.8)\n",
    "bottomleft = (mergetbl['xcentroid_187'] < 1424) & (mergetbl['ycentroid_187'] < 1024)\n",
    "pl.scatter(radiff[bottomleft], decdiff[bottomleft], marker=',', s=1, alpha=0.8)\n",
    "bottomright = (mergetbl['xcentroid_187'] > 1424) & (mergetbl['ycentroid_187'] < 1024)\n",
    "pl.scatter(radiff[bottomright], decdiff[bottomright], marker=',', s=1, alpha=0.8)\n",
    "pl.axis([-0.05,0.05,-0.05,0.05])\n",
    "pl.xlabel(\"RA offset\")\n",
    "pl.ylabel(\"Dec offset\")"
   ]
  },
  {
   "cell_type": "code",
   "execution_count": null,
   "id": "16a5f37d-ab02-4036-9d85-cdf4e1fe7e52",
   "metadata": {},
   "outputs": [],
   "source": [
    "mergetbl['xcentroid_187'].max(), mergetbl['ycentroid_187'].max()"
   ]
  },
  {
   "cell_type": "code",
   "execution_count": null,
   "id": "20c3b9da-186e-411f-b26c-d578636c5b80",
   "metadata": {},
   "outputs": [],
   "source": [
    "dist_from_center = ((mergetbl['xcentroid_187'] - 1450)**2 + (mergetbl['ycentroid_187'] - 1145)**2)**0.5"
   ]
  },
  {
   "cell_type": "code",
   "execution_count": null,
   "id": "d7f944e5-7820-47ef-a870-4bbafab527b4",
   "metadata": {},
   "outputs": [],
   "source": [
    "pl.plot(dist_from_center, mergetbl['sep_182_187'].to(u.arcsec).value, ',')\n",
    "pl.plot(dist_from_center, dist_from_center/1750 * 0.045 + 0.008)\n",
    "pl.plot(dist_from_center, dist_from_center/1750 * 0.035 - 0.004)\n",
    "pl.ylim(0,0.07)\n",
    "pl.xlabel(\"Distance from center of image (pixels)\")\n",
    "pl.ylabel(\"Offset from F182 (arcseconds)\")"
   ]
  },
  {
   "cell_type": "raw",
   "id": "12944403-7e78-4885-a73f-12d2706385bf",
   "metadata": {},
   "source": [
    "# from BrA; not applicable here\n",
    "ok = (mergetbl['sep_182_187'] < 0.05*u.arcsec) & (mergetbl['sep_182_187'] < (dist_from_center/1750*0.045 +0.08) *u.arcsec) & (mergetbl['sep_182_187'] > (dist_from_center/1750*0.035 - 0.08) *u.arcsec)"
   ]
  },
  {
   "cell_type": "code",
   "execution_count": null,
   "id": "89f00dd0-3bf9-4b11-b610-06236dd4f505",
   "metadata": {},
   "outputs": [],
   "source": [
    "ok = (mergetbl['sep_182_187'] < 0.05*u.arcsec)"
   ]
  },
  {
   "cell_type": "code",
   "execution_count": null,
   "id": "fff7434a-883d-484f-be70-3db2b73d4255",
   "metadata": {},
   "outputs": [],
   "source": [
    "radiff = (mergetbl['skycoord_187'].ra - mergetbl['skycoord_182'].ra).to(u.arcsec)\n",
    "decdiff = (mergetbl['skycoord_187'].dec - mergetbl['skycoord_182'].dec).to(u.arcsec)\n",
    "pl.scatter(radiff[ok], decdiff[ok], marker=',', s=1, alpha=0.8)"
   ]
  },
  {
   "cell_type": "code",
   "execution_count": null,
   "id": "e00cc051-ae75-40c8-829e-8e732dab0e92",
   "metadata": {},
   "outputs": [],
   "source": [
    "from astropy.wcs.utils import fit_wcs_from_points"
   ]
  },
  {
   "cell_type": "code",
   "execution_count": null,
   "id": "3a62d7f4-d80a-4868-a195-43c4c9cdac80",
   "metadata": {},
   "outputs": [],
   "source": [
    "ww_187_refit = fit_wcs_from_points([mergetbl['xcentroid_187'][ok], mergetbl['ycentroid_187'][ok]], mergetbl['skycoord_182'][ok], sip_degree=1)"
   ]
  },
  {
   "cell_type": "code",
   "execution_count": null,
   "id": "4aa1e184-8696-48c5-ab38-15bf0e9d0acf",
   "metadata": {},
   "outputs": [],
   "source": [
    "ww_182_refit = fit_wcs_from_points([mergetbl['xcentroid_182'][ok], mergetbl['ycentroid_182'][ok]], mergetbl['skycoord_187'][ok], sip_degree=3)"
   ]
  },
  {
   "cell_type": "code",
   "execution_count": null,
   "id": "09f8339b-f3c6-4cc5-8775-b9318e6f4742",
   "metadata": {},
   "outputs": [],
   "source": [
    "skycoord_182_refit = ww_182_refit.pixel_to_world(mergetbl['xcentroid_182'], mergetbl['ycentroid_182'])"
   ]
  },
  {
   "cell_type": "code",
   "execution_count": null,
   "id": "eb6a07dd-7403-48e1-bda6-28d96e0c435e",
   "metadata": {},
   "outputs": [],
   "source": [
    "pl.figure(figsize=(14,9))\n",
    "for sip_degree in (0,1,2,3):\n",
    "    pl.subplot(2,2,sip_degree+1)\n",
    "    \n",
    "    ww_182_refit = fit_wcs_from_points([mergetbl['xcentroid_182'][ok], mergetbl['ycentroid_182'][ok]], mergetbl['skycoord_187'][ok], sip_degree=sip_degree)\n",
    "    skycoord_182_refit = ww_182_refit.pixel_to_world(mergetbl['xcentroid_182'], mergetbl['ycentroid_182'])\n",
    "    radiff = (mergetbl['skycoord_187'].ra - skycoord_182_refit.ra).to(u.arcsec)\n",
    "    decdiff = (mergetbl['skycoord_187'].dec - skycoord_182_refit.dec).to(u.arcsec)\n",
    "    sep = (radiff**2 + decdiff**2)**0.5\n",
    "    ww_182_refit = fit_wcs_from_points([mergetbl['xcentroid_182'][ok & (sep < 0.01*u.arcsec)], mergetbl['ycentroid_182'][ok & (sep < 0.01*u.arcsec)]], mergetbl['skycoord_187'][ok & (sep < 0.01*u.arcsec)], sip_degree=sip_degree)\n",
    "    skycoord_182_refit = ww_182_refit.pixel_to_world(mergetbl['xcentroid_182'], mergetbl['ycentroid_182'])\n",
    "    radiff = (mergetbl['skycoord_187'].ra - skycoord_182_refit.ra).to(u.arcsec)\n",
    "    decdiff = (mergetbl['skycoord_187'].dec - skycoord_182_refit.dec).to(u.arcsec)\n",
    "    sep = (radiff**2 + decdiff**2)**0.5\n",
    "    \n",
    "    topleft = (mergetbl['xcentroid_187'] < 1424) & (mergetbl['ycentroid_187'] > 1024)\n",
    "    sc = pl.scatter(radiff[topleft], decdiff[topleft], marker=',', s=1, alpha=0.5)\n",
    "    pl.scatter(np.median(radiff[topleft]), np.median(decdiff[topleft]), marker='o', alpha=0.9, c=sc.get_facecolors(), zorder=15, edgecolors='k', s=60)\n",
    "    topright = (mergetbl['xcentroid_187'] > 1424) & (mergetbl['ycentroid_187'] > 1024)\n",
    "    sc = pl.scatter(radiff[topright], decdiff[topright], marker=',', s=1, alpha=0.5)\n",
    "    pl.scatter(np.median(radiff[topright]), np.median(decdiff[topright]), marker='p', alpha=0.9, c=sc.get_facecolors(), zorder=15, edgecolors='k', s=60)\n",
    "    bottomleft = (mergetbl['xcentroid_187'] < 1424) & (mergetbl['ycentroid_187'] < 1024)\n",
    "    sc = pl.scatter(radiff[bottomleft], decdiff[bottomleft], marker=',', s=1, alpha=0.5)\n",
    "    pl.scatter(np.median(radiff[bottomleft]), np.median(decdiff[bottomleft]), marker='d', alpha=0.9, c=sc.get_facecolors(), zorder=15, edgecolors='k', s=60)\n",
    "    bottomright = (mergetbl['xcentroid_187'] > 1424) & (mergetbl['ycentroid_187'] < 1024)\n",
    "    sc = pl.scatter(radiff[bottomright], decdiff[bottomright], marker=',', s=1, alpha=0.5)\n",
    "    pl.scatter(np.median(radiff[bottomright]), np.median(decdiff[bottomright]), marker='s', alpha=0.9, c=sc.get_facecolors(), zorder=25, edgecolors='k', s=60)\n",
    "    pl.axis([-0.01,0.01,-0.01,0.01])"
   ]
  },
  {
   "cell_type": "code",
   "execution_count": null,
   "id": "0b423cc1-64ba-474e-8875-e9a3be4eed3a",
   "metadata": {},
   "outputs": [],
   "source": [
    "pl.figure(figsize=(14,9))\n",
    "for sip_degree in (0,1,2,3):\n",
    "    pl.subplot(2,2,sip_degree+1)\n",
    "    \n",
    "    ww_187_refit = fit_wcs_from_points([mergetbl['xcentroid_187'][ok], mergetbl['ycentroid_187'][ok]], mergetbl['skycoord_182'][ok], sip_degree=sip_degree)\n",
    "    skycoord_187_refit = ww_187_refit.pixel_to_world(mergetbl['xcentroid_187'], mergetbl['ycentroid_187'])\n",
    "    radiff = (mergetbl['skycoord_182'].ra - skycoord_187_refit.ra).to(u.arcsec)\n",
    "    decdiff = (mergetbl['skycoord_182'].dec - skycoord_187_refit.dec).to(u.arcsec)\n",
    "    sep = (radiff**2 + decdiff**2)**0.5\n",
    "    ww_187_refit = fit_wcs_from_points([mergetbl['xcentroid_187'][ok & (sep < 0.01*u.arcsec)], mergetbl['ycentroid_187'][ok & (sep < 0.01*u.arcsec)]], mergetbl['skycoord_182'][ok & (sep < 0.01*u.arcsec)], sip_degree=sip_degree)\n",
    "    skycoord_187_refit = ww_187_refit.pixel_to_world(mergetbl['xcentroid_187'], mergetbl['ycentroid_187'])\n",
    "    radiff = (mergetbl['skycoord_182'].ra - skycoord_187_refit.ra).to(u.arcsec)\n",
    "    decdiff = (mergetbl['skycoord_182'].dec - skycoord_187_refit.dec).to(u.arcsec)\n",
    "    sep = (radiff**2 + decdiff**2)**0.5\n",
    "    \n",
    "    topleft = (mergetbl['xcentroid_187'] < 1424) & (mergetbl['ycentroid_187'] > 1024)\n",
    "    sc = pl.scatter(radiff[topleft], decdiff[topleft], marker=',', s=1, alpha=0.5)\n",
    "    pl.scatter(np.median(radiff[topleft]), np.median(decdiff[topleft]), marker='o', alpha=0.9, c=sc.get_facecolors(), zorder=15, edgecolors='k', s=60)\n",
    "    topright = (mergetbl['xcentroid_187'] > 1424) & (mergetbl['ycentroid_187'] > 1024)\n",
    "    sc = pl.scatter(radiff[topright], decdiff[topright], marker=',', s=1, alpha=0.5)\n",
    "    pl.scatter(np.median(radiff[topright]), np.median(decdiff[topright]), marker='p', alpha=0.9, c=sc.get_facecolors(), zorder=15, edgecolors='k', s=60)\n",
    "    bottomleft = (mergetbl['xcentroid_187'] < 1424) & (mergetbl['ycentroid_187'] < 1024)\n",
    "    sc = pl.scatter(radiff[bottomleft], decdiff[bottomleft], marker=',', s=1, alpha=0.5)\n",
    "    pl.scatter(np.median(radiff[bottomleft]), np.median(decdiff[bottomleft]), marker='d', alpha=0.9, c=sc.get_facecolors(), zorder=15, edgecolors='k', s=60)\n",
    "    bottomright = (mergetbl['xcentroid_187'] > 1424) & (mergetbl['ycentroid_187'] < 1024)\n",
    "    sc = pl.scatter(radiff[bottomright], decdiff[bottomright], marker=',', s=1, alpha=0.5)\n",
    "    pl.scatter(np.median(radiff[bottomright]), np.median(decdiff[bottomright]), marker='s', alpha=0.9, c=sc.get_facecolors(), zorder=25, edgecolors='k', s=60)\n",
    "    pl.axis([-0.01,0.01,-0.01,0.01])"
   ]
  },
  {
   "cell_type": "code",
   "execution_count": null,
   "id": "9ac2f4df-fafd-4b9a-a040-d60ff8190374",
   "metadata": {},
   "outputs": [],
   "source": []
  },
  {
   "cell_type": "code",
   "execution_count": null,
   "id": "163785fc-3545-4cfc-ad4e-482a1d1628bd",
   "metadata": {},
   "outputs": [],
   "source": [
    "sip_degree = 3\n",
    "ww_187_refit = fit_wcs_from_points([mergetbl['xcentroid_187'][ok], mergetbl['ycentroid_187'][ok]], mergetbl['skycoord_182'][ok], sip_degree=sip_degree)\n",
    "skycoord_187_refit = ww_187_refit.pixel_to_world(mergetbl['xcentroid_187'], mergetbl['ycentroid_187'])\n",
    "radiff = (mergetbl['skycoord_182'].ra - skycoord_187_refit.ra).to(u.arcsec)\n",
    "decdiff = (mergetbl['skycoord_182'].dec - skycoord_187_refit.dec).to(u.arcsec)\n",
    "sep = (radiff**2 + decdiff**2)**0.5\n",
    "ww_187_refit = fit_wcs_from_points([mergetbl['xcentroid_187'][ok & (sep < 0.01*u.arcsec)], mergetbl['ycentroid_187'][ok & (sep < 0.01*u.arcsec)]], mergetbl['skycoord_182'][ok & (sep < 0.01*u.arcsec)], sip_degree=sip_degree)\n",
    "skycoord_187_refit = ww_187_refit.pixel_to_world(mergetbl['xcentroid_187'], mergetbl['ycentroid_187'])\n",
    "radiff = (mergetbl['skycoord_182'].ra - skycoord_187_refit.ra).to(u.arcsec)\n",
    "decdiff = (mergetbl['skycoord_182'].dec - skycoord_187_refit.dec).to(u.arcsec)\n",
    "sep = (radiff**2 + decdiff**2)**0.5\n"
   ]
  },
  {
   "cell_type": "code",
   "execution_count": null,
   "id": "3bba22e1-fa7e-4229-8389-ef82183f9e08",
   "metadata": {},
   "outputs": [],
   "source": [
    "ww_187_refit.to_header(relax=True).totextfile(f'{basepath}/reduction/headers/f187n_merged-reproject_refitted_to_f182m.hdr', overwrite=True)"
   ]
  },
  {
   "cell_type": "code",
   "execution_count": null,
   "id": "7104915c-8a1b-46e7-b1f8-20705a427228",
   "metadata": {},
   "outputs": [],
   "source": [
    "data_187_proj_182_refit, overlap_refit = reproject.reproject_exact((fh_187['SCI'].data, ww_187_refit), fh_182['SCI'].header)"
   ]
  },
  {
   "cell_type": "code",
   "execution_count": null,
   "id": "eda75acf-4459-43fd-be66-ddc4fd20724d",
   "metadata": {},
   "outputs": [],
   "source": [
    "fits.PrimaryHDU(data=data_187_proj_182_refit, header=fh_182['SCI'].header).writeto(f'{basepath}/images/F187_refitted187wcsto182_merged-reproject.fits', overwrite=True)"
   ]
  },
  {
   "cell_type": "code",
   "execution_count": null,
   "id": "208bb6d8-2dfb-4acc-a672-bc7af0915ff1",
   "metadata": {},
   "outputs": [],
   "source": [
    "cont182_sub_paa = fh_182['SCI'].data - data_187_proj_182_refit*fractional_bandwidth_187\n",
    "fits.PrimaryHDU(data=cont182_sub_paa, header=fh_182['SCI'].header).writeto(f'{basepath}/images/F182_minus_F187_refitted187wcsto182_merged-reproject.fits', overwrite=True)"
   ]
  },
  {
   "cell_type": "code",
   "execution_count": null,
   "id": "19faa8eb-8e49-4c33-8fd5-eb0f57a9e995",
   "metadata": {},
   "outputs": [],
   "source": [
    "paa_minus_cont = data_187_proj_182_refit - cont182_sub_paa #* fractional_bandwidth_187\n",
    "fits.PrimaryHDU(data=paa_minus_cont, header=fh_182['SCI'].header).writeto(f'{basepath}/images/F187_minus_F182cont_refitted187wcsto182_merged-reproject.fits', overwrite=True)"
   ]
  },
  {
   "cell_type": "code",
   "execution_count": null,
   "id": "61bd33f2-0e44-4de5-bb6f-2d5c21e70fbd",
   "metadata": {},
   "outputs": [],
   "source": []
  },
  {
   "cell_type": "code",
   "execution_count": null,
   "id": "5f5fc537-6cd7-4ecd-bcaa-cbc6155e5f89",
   "metadata": {},
   "outputs": [],
   "source": [
    "pl.figure(figsize=(12,8))\n",
    "pl.imshow(cont182_sub_paa, norm=simple_norm(cont182_sub_paa, min_percent=1, max_percent=99, stretch='log'))\n",
    "pl.colorbar()"
   ]
  },
  {
   "cell_type": "code",
   "execution_count": null,
   "id": "c9bb89ce-9ec6-4a41-872c-c22677c2d0c1",
   "metadata": {},
   "outputs": [],
   "source": [
    "pl.figure(figsize=(12,8))\n",
    "pl.imshow(paa_minus_cont, norm=simple_norm(paa_minus_cont, min_percent=4, max_percent=99.5, stretch='log'))\n",
    "pl.colorbar()"
   ]
  },
  {
   "cell_type": "code",
   "execution_count": null,
   "id": "5f0b597d-e01d-4dff-8a42-9f668824b887",
   "metadata": {},
   "outputs": [],
   "source": [
    "pl.figure(figsize=(12,8))\n",
    "pl.imshow(fh_187['SCI'].data, norm=simple_norm(fh_187['SCI'].data, min_percent=4, max_percent=99.5, stretch='log'))\n",
    "pl.colorbar();"
   ]
  },
  {
   "cell_type": "code",
   "execution_count": null,
   "id": "46c57ec6-cd03-4e6d-9c91-6c5c3f92d95d",
   "metadata": {},
   "outputs": [],
   "source": [
    "latest_scalefactor = np.median(1/(mergetbl['flux_182'][ok]/mergetbl['flux_187'][ok]))\n",
    "latest_scalefactor"
   ]
  },
  {
   "cell_type": "markdown",
   "id": "2e03c317-2af8-435d-a751-4766c7cbc71d",
   "metadata": {},
   "source": [
    "# Goal is to remove stars as completely as possible\n",
    "we are not trying to measure H-alpha excess here but remove the stars entirely from the image to reveal the extended emission\n",
    "\n",
    "if we were trying instead to measure stellar halpha excess, we'd want to stick to theory and/or match on something else (maybe extended emission)"
   ]
  },
  {
   "cell_type": "code",
   "execution_count": null,
   "id": "c7459155-aa5a-42fa-8cd6-407e73e3d151",
   "metadata": {},
   "outputs": [],
   "source": [
    "xr = np.linspace(0,15)\n",
    "pl.scatter(mergetbl['flux_187'][ok], mergetbl['flux_182'][ok], s=1, alpha=0.2)\n",
    "pl.plot(xr, xr/fractional_bandwidth_187, color='red', label='Fractional Bandwidth')\n",
    "scalefactor = 0.16\n",
    "pl.plot(xr, xr/scalefactor, color='orange', label=f\"Original Scalefactor = {scalefactor}\")\n",
    "post_destreak_scalefactor = 0.196\n",
    "pl.plot(xr, xr/post_destreak_scalefactor, color='black', label=f\"post-destreak scale factor={post_destreak_scalefactor}\")\n",
    "pl.plot(xr, xr/latest_scalefactor, color='green', label=f\"'latest' scale factor={latest_scalefactor:0.3f}\")\n",
    "pl.legend(loc='best')\n",
    "pl.xlabel(\"F187N\")\n",
    "pl.ylabel(\"F182M\");\n",
    "pl.xlim(0,20);"
   ]
  },
  {
   "cell_type": "code",
   "execution_count": null,
   "id": "572dfbe5-47c3-45f1-9985-8f0aa32766b0",
   "metadata": {},
   "outputs": [],
   "source": [
    "pl.hist(1/(mergetbl['flux_182'][ok]/mergetbl['flux_187'][ok]), bins=np.linspace(0.05,0.25))\n",
    "pl.axvline(scalefactor, color='orange')\n",
    "pl.axvline(post_destreak_scalefactor, color='black')\n",
    "pl.axvline(fractional_bandwidth_187, color='red')\n",
    "pl.axvline(latest_scalefactor, color='green', linestyle=':')"
   ]
  },
  {
   "cell_type": "code",
   "execution_count": null,
   "id": "6182aa89-bf6b-4966-8e15-907acadc7358",
   "metadata": {},
   "outputs": [],
   "source": []
  },
  {
   "cell_type": "code",
   "execution_count": null,
   "id": "36725b53-1bf6-4647-a9bb-ccad1dc4f7e9",
   "metadata": {},
   "outputs": [],
   "source": [
    "cont182_sub_paa = (fh_182['SCI'].data - convolve_fft(data_187_proj_182_refit*fractional_bandwidth_187,\n",
    "                                                     Gaussian2DKernel(0.3))\n",
    "                  )/(1-fractional_bandwidth_187)\n",
    "#latest_scalefactor, \n",
    "fits.PrimaryHDU(data=cont182_sub_paa, header=fh_182['SCI'].header).writeto(f'{basepath}/images/F182_minus_F187_refitted187wcsto182_merged-reproject.fits', overwrite=True)"
   ]
  },
  {
   "cell_type": "code",
   "execution_count": null,
   "id": "d7c50eb7-a6c6-4e93-920b-f8646ced5dbf",
   "metadata": {},
   "outputs": [],
   "source": [
    "paa_minus_cont = data_187_proj_182_refit - cont182_sub_paa#convolve_fft(cont182_sub_paa, Gaussian2DKernel(0.5)) #* fractional_bandwidth_187\n",
    "fits.PrimaryHDU(data=paa_minus_cont, header=fh_182['SCI'].header).writeto(f'{basepath}/images/F187_minus_F182cont_refitted187wcsto182_merged-reproject.fits', overwrite=True)"
   ]
  },
  {
   "cell_type": "markdown",
   "id": "da307c25-17f7-4329-9c95-faab8bcd96f9",
   "metadata": {},
   "source": [
    "Re-examine the images afer the empirical subtraction"
   ]
  },
  {
   "cell_type": "code",
   "execution_count": null,
   "id": "be4c99fc-caa7-42bf-bf11-9aa52a934370",
   "metadata": {},
   "outputs": [],
   "source": [
    "bx = 3035\n",
    "by = 700\n",
    "slc = slcgt()[by:by+250,bx:bx+250]"
   ]
  },
  {
   "cell_type": "code",
   "execution_count": null,
   "id": "dea61ecb-66e0-4862-be8c-9caf246da4df",
   "metadata": {},
   "outputs": [],
   "source": [
    "pl.figure(figsize=(12,8))\n",
    "pl.imshow(data_187_proj_182_refit[slc],\n",
    "          norm=simple_norm(data_187_proj_182_refit[slc], min_percent=4, max_percent=99.5, stretch='log'))\n",
    "pl.colorbar()\n",
    "pl.title(\"Zoom on PaA refit\");"
   ]
  },
  {
   "cell_type": "code",
   "execution_count": null,
   "id": "6e57cd29-c84f-4fe8-a2a5-07fa8bb5b52e",
   "metadata": {},
   "outputs": [],
   "source": [
    "pl.figure(figsize=(12,8))\n",
    "pl.imshow(fh_187['SCI'].data[slc],\n",
    "          norm=simple_norm(fh_187['SCI'].data[slc], min_percent=4, max_percent=99.5, stretch='log'))\n",
    "pl.colorbar()\n",
    "pl.title(\"Zoom on PaA orig\");"
   ]
  },
  {
   "cell_type": "code",
   "execution_count": null,
   "id": "8109e062-9411-48e4-87ba-a2fa76e5e071",
   "metadata": {},
   "outputs": [],
   "source": [
    "pl.figure(figsize=(12,8))\n",
    "pl.imshow(paa_minus_cont[slc],\n",
    "          norm=simple_norm(paa_minus_cont[slc], min_percent=4, max_percent=99.5, stretch='log'))\n",
    "pl.colorbar()\n",
    "pl.title(\"Zoom on PaA-cont\");"
   ]
  },
  {
   "cell_type": "code",
   "execution_count": null,
   "id": "0f656623-1d1d-41a1-ade8-0ded2d15aeed",
   "metadata": {},
   "outputs": [],
   "source": [
    "pl.figure(figsize=(12,8))\n",
    "slc = slcgt()[1000:1250,1000:1250]\n",
    "pl.imshow(cont182_sub_paa[slc],\n",
    "          norm=simple_norm(cont182_sub_paa[slc], min_percent=4, max_percent=99.5, stretch='log'))\n",
    "pl.colorbar()\n",
    "pl.title(\"Zoom on 182-PaA\");"
   ]
  },
  {
   "cell_type": "code",
   "execution_count": null,
   "id": "9ed7b47d-309b-44a1-99ed-7ff5fbcf0400",
   "metadata": {},
   "outputs": [],
   "source": [
    "pl.figure(figsize=(12,8))\n",
    "pl.imshow(fh_182['SCI'].data [slc],\n",
    "          norm=simple_norm(fh_182['SCI'].data [slc], min_percent=4, max_percent=99.5, stretch='log'))\n",
    "pl.colorbar()\n",
    "pl.title(\"Zoom on 182\");"
   ]
  },
  {
   "cell_type": "code",
   "execution_count": null,
   "id": "72f13979-f172-4f18-949d-9d74fc7b0f04",
   "metadata": {},
   "outputs": [],
   "source": [
    "pl.figure(figsize=(12,8))\n",
    "pl.imshow(data_187_proj_182_refit[slc],\n",
    "          norm=simple_norm(data_187_proj_182_refit[slc], min_percent=4, max_percent=99.5, stretch='log'))\n",
    "pl.colorbar()\n",
    "pl.title(\"Zoom on 187\");"
   ]
  },
  {
   "cell_type": "markdown",
   "id": "7fe2e83e-f70e-44fb-9891-22bd44961eb9",
   "metadata": {},
   "source": [
    "# Try to find the right scaling factor for the stars\n",
    "\n",
    "The above scaling factor assumed that the stellar flux in the PaA band matches that in the F182M band, which is only true if most stars do not have PaA absorption."
   ]
  },
  {
   "cell_type": "code",
   "execution_count": null,
   "id": "a25ca004-14cb-4ad6-86dc-e7769302610b",
   "metadata": {},
   "outputs": [],
   "source": [
    "pl.scatter(fh_182['SCI'].data, data_187_proj_182_refit, s=1, alpha=0.005)\n",
    "pl.plot([0,1000], [0,1000], color='k')\n",
    "pl.plot([0,1000], [0,1000*fractional_bandwidth_187], color='r')\n",
    "pl.axis([0,200,0,200]);\n",
    "pl.title(\"If the data lay on the 1:1 line, then 100% of emission is PaA\");"
   ]
  },
  {
   "cell_type": "code",
   "execution_count": null,
   "id": "f19a1216-9faf-412c-aba1-4eb018d4cb0f",
   "metadata": {},
   "outputs": [],
   "source": [
    "pl.hist((data_187_proj_182_refit / fh_182['SCI'].data)[(fh_182['SCI'].data < 200) & (data_187_proj_182_refit < 100)],\n",
    "        bins=np.linspace(0.1,4));\n",
    "pl.title(\"The peak at 1.5x indicates that a large fraction of pixels are starry\")"
   ]
  },
  {
   "cell_type": "code",
   "execution_count": null,
   "id": "80cb1bb1-e444-4ee2-90e2-47277639edf4",
   "metadata": {},
   "outputs": [],
   "source": []
  }
 ],
 "metadata": {
  "kernelspec": {
   "display_name": "py312",
   "language": "python",
   "name": "py312"
  },
  "language_info": {
   "codemirror_mode": {
    "name": "ipython",
    "version": 3
   },
   "file_extension": ".py",
   "mimetype": "text/x-python",
   "name": "python",
   "nbconvert_exporter": "python",
   "pygments_lexer": "ipython3",
   "version": "3.12.4"
  }
 },
 "nbformat": 4,
 "nbformat_minor": 5
}
