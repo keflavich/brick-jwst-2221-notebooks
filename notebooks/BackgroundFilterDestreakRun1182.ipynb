{
 "cells": [
  {
   "cell_type": "code",
   "execution_count": 1,
   "id": "7b94fc6b-cace-4c98-8b5b-b2cdc7664fbd",
   "metadata": {},
   "outputs": [],
   "source": [
    "import sys\n",
    "basepath='/orange/adamginsburg/jwst/brick/'\n",
    "sys.path.append(f'{basepath}/reduction')\n",
    "import destreak"
   ]
  },
  {
   "cell_type": "code",
   "execution_count": 2,
   "id": "1b01c37e-490c-47f8-b91a-7ad4a99526ce",
   "metadata": {},
   "outputs": [
    {
     "name": "stderr",
     "output_type": "stream",
     "text": [
      "WARNING: FITSFixedWarning: 'obsfix' made the change 'Set OBSGEO-L to   -32.566817 from OBSGEO-[XYZ].\n",
      "Set OBSGEO-B to    -4.389952 from OBSGEO-[XYZ].\n",
      "Set OBSGEO-H to 1356250248.071 from OBSGEO-[XYZ]'. [astropy.wcs.wcs]\n",
      "/blue/adamginsburg/adamginsburg/miniconda3/envs/python310/lib/python3.10/site-packages/numpy/lib/nanfunctions.py:1559: RuntimeWarning: All-NaN slice encountered\n",
      "  r, k = function_base._ureduce(a,\n",
      "/blue/adamginsburg/adamginsburg/miniconda3/envs/python310/lib/python3.10/site-packages/numpy/lib/nanfunctions.py:1558: RuntimeWarning: Mean of empty slice\n",
      "  return np.nanmean(a, axis, out=out, keepdims=keepdims)\n"
     ]
    },
    {
     "ename": "OSError",
     "evalue": "File /orange/adamginsburg/jwst/brick//F444W/pipeline/jw01182-o004_t001_nircam_clear-f444w-merged_nodestreak_realigned-to-refcat_background.fits already exists. If you mean to replace it then use the argument \"overwrite=True\".",
     "output_type": "error",
     "traceback": [
      "\u001b[0;31m---------------------------------------------------------------------------\u001b[0m",
      "\u001b[0;31mOSError\u001b[0m                                   Traceback (most recent call last)",
      "Cell \u001b[0;32mIn[2], line 3\u001b[0m\n\u001b[1;32m      1\u001b[0m \u001b[38;5;28;01mfor\u001b[39;00m filtername \u001b[38;5;129;01min\u001b[39;00m (\u001b[38;5;124m'\u001b[39m\u001b[38;5;124mF444W\u001b[39m\u001b[38;5;124m'\u001b[39m, \u001b[38;5;124m'\u001b[39m\u001b[38;5;124mF356W\u001b[39m\u001b[38;5;124m'\u001b[39m, \u001b[38;5;124m'\u001b[39m\u001b[38;5;124mF200W\u001b[39m\u001b[38;5;124m'\u001b[39m, \u001b[38;5;124m'\u001b[39m\u001b[38;5;124mF115W\u001b[39m\u001b[38;5;124m'\u001b[39m):\n\u001b[1;32m      2\u001b[0m     rslt \u001b[38;5;241m=\u001b[39m destreak\u001b[38;5;241m.\u001b[39mcompute_zero_spacing_approximation(\u001b[38;5;124mf\u001b[39m\u001b[38;5;124m'\u001b[39m\u001b[38;5;132;01m{\u001b[39;00mbasepath\u001b[38;5;132;01m}\u001b[39;00m\u001b[38;5;124m/\u001b[39m\u001b[38;5;132;01m{\u001b[39;00mfiltername\u001b[38;5;132;01m}\u001b[39;00m\u001b[38;5;124m/pipeline/jw01182-o004_t001_nircam_clear-\u001b[39m\u001b[38;5;132;01m{\u001b[39;00mfiltername\u001b[38;5;241m.\u001b[39mlower()\u001b[38;5;132;01m}\u001b[39;00m\u001b[38;5;124m-merged_nodestreak_realigned-to-refcat.fits\u001b[39m\u001b[38;5;124m'\u001b[39m)\n\u001b[0;32m----> 3\u001b[0m     \u001b[43mrslt\u001b[49m\u001b[38;5;241;43m.\u001b[39;49m\u001b[43mwriteto\u001b[49m\u001b[43m(\u001b[49m\u001b[38;5;124;43mf\u001b[39;49m\u001b[38;5;124;43m'\u001b[39;49m\u001b[38;5;132;43;01m{\u001b[39;49;00m\u001b[43mbasepath\u001b[49m\u001b[38;5;132;43;01m}\u001b[39;49;00m\u001b[38;5;124;43m/\u001b[39;49m\u001b[38;5;132;43;01m{\u001b[39;49;00m\u001b[43mfiltername\u001b[49m\u001b[38;5;132;43;01m}\u001b[39;49;00m\u001b[38;5;124;43m/pipeline/jw01182-o004_t001_nircam_clear-\u001b[39;49m\u001b[38;5;132;43;01m{\u001b[39;49;00m\u001b[43mfiltername\u001b[49m\u001b[38;5;241;43m.\u001b[39;49m\u001b[43mlower\u001b[49m\u001b[43m(\u001b[49m\u001b[43m)\u001b[49m\u001b[38;5;132;43;01m}\u001b[39;49;00m\u001b[38;5;124;43m-merged_nodestreak_realigned-to-refcat_background.fits\u001b[39;49m\u001b[38;5;124;43m'\u001b[39;49m\u001b[43m)\u001b[49m\n",
      "File \u001b[0;32m/blue/adamginsburg/adamginsburg/repos/astropy/astropy/io/fits/hdu/base.py:405\u001b[0m, in \u001b[0;36m_BaseHDU.writeto\u001b[0;34m(self, name, output_verify, overwrite, checksum)\u001b[0m\n\u001b[1;32m    402\u001b[0m \u001b[38;5;28;01mfrom\u001b[39;00m \u001b[38;5;21;01m.\u001b[39;00m\u001b[38;5;21;01mhdulist\u001b[39;00m \u001b[38;5;28;01mimport\u001b[39;00m HDUList\n\u001b[1;32m    404\u001b[0m hdulist \u001b[38;5;241m=\u001b[39m HDUList([\u001b[38;5;28mself\u001b[39m])\n\u001b[0;32m--> 405\u001b[0m \u001b[43mhdulist\u001b[49m\u001b[38;5;241;43m.\u001b[39;49m\u001b[43mwriteto\u001b[49m\u001b[43m(\u001b[49m\u001b[43mname\u001b[49m\u001b[43m,\u001b[49m\u001b[43m \u001b[49m\u001b[43moutput_verify\u001b[49m\u001b[43m,\u001b[49m\u001b[43m \u001b[49m\u001b[43moverwrite\u001b[49m\u001b[38;5;241;43m=\u001b[39;49m\u001b[43moverwrite\u001b[49m\u001b[43m,\u001b[49m\u001b[43m \u001b[49m\u001b[43mchecksum\u001b[49m\u001b[38;5;241;43m=\u001b[39;49m\u001b[43mchecksum\u001b[49m\u001b[43m)\u001b[49m\n",
      "File \u001b[0;32m/blue/adamginsburg/adamginsburg/repos/astropy/astropy/io/fits/hdu/hdulist.py:1020\u001b[0m, in \u001b[0;36mHDUList.writeto\u001b[0;34m(self, fileobj, output_verify, overwrite, checksum)\u001b[0m\n\u001b[1;32m   1016\u001b[0m mode \u001b[38;5;241m=\u001b[39m FILE_MODES[fileobj_mode(fileobj)] \u001b[38;5;28;01mif\u001b[39;00m isfile(fileobj) \u001b[38;5;28;01melse\u001b[39;00m \u001b[38;5;124m\"\u001b[39m\u001b[38;5;124mostream\u001b[39m\u001b[38;5;124m\"\u001b[39m\n\u001b[1;32m   1018\u001b[0m \u001b[38;5;66;03m# This can accept an open file object that's open to write only, or in\u001b[39;00m\n\u001b[1;32m   1019\u001b[0m \u001b[38;5;66;03m# append/update modes but only if the file doesn't exist.\u001b[39;00m\n\u001b[0;32m-> 1020\u001b[0m fileobj \u001b[38;5;241m=\u001b[39m \u001b[43m_File\u001b[49m\u001b[43m(\u001b[49m\u001b[43mfileobj\u001b[49m\u001b[43m,\u001b[49m\u001b[43m \u001b[49m\u001b[43mmode\u001b[49m\u001b[38;5;241;43m=\u001b[39;49m\u001b[43mmode\u001b[49m\u001b[43m,\u001b[49m\u001b[43m \u001b[49m\u001b[43moverwrite\u001b[49m\u001b[38;5;241;43m=\u001b[39;49m\u001b[43moverwrite\u001b[49m\u001b[43m)\u001b[49m\n\u001b[1;32m   1021\u001b[0m hdulist \u001b[38;5;241m=\u001b[39m \u001b[38;5;28mself\u001b[39m\u001b[38;5;241m.\u001b[39mfromfile(fileobj)\n\u001b[1;32m   1022\u001b[0m \u001b[38;5;28;01mtry\u001b[39;00m:\n",
      "File \u001b[0;32m/blue/adamginsburg/adamginsburg/repos/astropy/astropy/io/fits/file.py:218\u001b[0m, in \u001b[0;36m_File.__init__\u001b[0;34m(self, fileobj, mode, memmap, overwrite, cache, use_fsspec, fsspec_kwargs, decompress_in_memory)\u001b[0m\n\u001b[1;32m    216\u001b[0m     \u001b[38;5;28mself\u001b[39m\u001b[38;5;241m.\u001b[39m_open_fileobj(fileobj, mode, overwrite)\n\u001b[1;32m    217\u001b[0m \u001b[38;5;28;01melif\u001b[39;00m \u001b[38;5;28misinstance\u001b[39m(fileobj, (\u001b[38;5;28mstr\u001b[39m, \u001b[38;5;28mbytes\u001b[39m)):\n\u001b[0;32m--> 218\u001b[0m     \u001b[38;5;28;43mself\u001b[39;49m\u001b[38;5;241;43m.\u001b[39;49m\u001b[43m_open_filename\u001b[49m\u001b[43m(\u001b[49m\u001b[43mfileobj\u001b[49m\u001b[43m,\u001b[49m\u001b[43m \u001b[49m\u001b[43mmode\u001b[49m\u001b[43m,\u001b[49m\u001b[43m \u001b[49m\u001b[43moverwrite\u001b[49m\u001b[43m)\u001b[49m\n\u001b[1;32m    219\u001b[0m \u001b[38;5;28;01melse\u001b[39;00m:\n\u001b[1;32m    220\u001b[0m     \u001b[38;5;28mself\u001b[39m\u001b[38;5;241m.\u001b[39m_open_filelike(fileobj, mode, overwrite)\n",
      "File \u001b[0;32m/blue/adamginsburg/adamginsburg/repos/astropy/astropy/io/fits/file.py:630\u001b[0m, in \u001b[0;36m_File._open_filename\u001b[0;34m(self, filename, mode, overwrite)\u001b[0m\n\u001b[1;32m    628\u001b[0m \u001b[38;5;250m\u001b[39m\u001b[38;5;124;03m\"\"\"Open a FITS file from a filename string.\"\"\"\u001b[39;00m\n\u001b[1;32m    629\u001b[0m \u001b[38;5;28;01mif\u001b[39;00m mode \u001b[38;5;241m==\u001b[39m \u001b[38;5;124m\"\u001b[39m\u001b[38;5;124mostream\u001b[39m\u001b[38;5;124m\"\u001b[39m:\n\u001b[0;32m--> 630\u001b[0m     \u001b[38;5;28;43mself\u001b[39;49m\u001b[38;5;241;43m.\u001b[39;49m\u001b[43m_overwrite_existing\u001b[49m\u001b[43m(\u001b[49m\u001b[43moverwrite\u001b[49m\u001b[43m,\u001b[49m\u001b[43m \u001b[49m\u001b[38;5;28;43;01mNone\u001b[39;49;00m\u001b[43m,\u001b[49m\u001b[43m \u001b[49m\u001b[38;5;28;43;01mTrue\u001b[39;49;00m\u001b[43m)\u001b[49m\n\u001b[1;32m    632\u001b[0m \u001b[38;5;28;01mif\u001b[39;00m os\u001b[38;5;241m.\u001b[39mpath\u001b[38;5;241m.\u001b[39mexists(\u001b[38;5;28mself\u001b[39m\u001b[38;5;241m.\u001b[39mname):\n\u001b[1;32m    633\u001b[0m     \u001b[38;5;28;01mwith\u001b[39;00m \u001b[38;5;28mopen\u001b[39m(\u001b[38;5;28mself\u001b[39m\u001b[38;5;241m.\u001b[39mname, \u001b[38;5;124m\"\u001b[39m\u001b[38;5;124mrb\u001b[39m\u001b[38;5;124m\"\u001b[39m) \u001b[38;5;28;01mas\u001b[39;00m f:\n",
      "File \u001b[0;32m/blue/adamginsburg/adamginsburg/repos/astropy/astropy/io/fits/file.py:513\u001b[0m, in \u001b[0;36m_File._overwrite_existing\u001b[0;34m(self, overwrite, fileobj, closed)\u001b[0m\n\u001b[1;32m    511\u001b[0m         os\u001b[38;5;241m.\u001b[39mremove(\u001b[38;5;28mself\u001b[39m\u001b[38;5;241m.\u001b[39mname)\n\u001b[1;32m    512\u001b[0m \u001b[38;5;28;01melse\u001b[39;00m:\n\u001b[0;32m--> 513\u001b[0m     \u001b[38;5;28;01mraise\u001b[39;00m \u001b[38;5;167;01mOSError\u001b[39;00m(NOT_OVERWRITING_MSG\u001b[38;5;241m.\u001b[39mformat(\u001b[38;5;28mself\u001b[39m\u001b[38;5;241m.\u001b[39mname))\n",
      "\u001b[0;31mOSError\u001b[0m: File /orange/adamginsburg/jwst/brick//F444W/pipeline/jw01182-o004_t001_nircam_clear-f444w-merged_nodestreak_realigned-to-refcat_background.fits already exists. If you mean to replace it then use the argument \"overwrite=True\"."
     ]
    }
   ],
   "source": [
    "for filtername in ('F444W', 'F356W', 'F200W', 'F115W'):\n",
    "    rslt = destreak.compute_zero_spacing_approximation(f'{basepath}/{filtername}/pipeline/jw01182-o004_t001_nircam_clear-{filtername.lower()}-merged_nodestreak_realigned-to-refcat.fits')\n",
    "    rslt.writeto(f'{basepath}/{filtername}/pipeline/jw01182-o004_t001_nircam_clear-{filtername.lower()}-merged_nodestreak_realigned-to-refcat_background.fits')"
   ]
  },
  {
   "cell_type": "code",
   "execution_count": null,
   "id": "6d690f50-e510-4e45-bef4-d4e73322f484",
   "metadata": {},
   "outputs": [],
   "source": [
    "ls /orange/adamginsburg/jwst/brick//F115W/pipeline/jw01182-o004_t001_nircam_clear-f115w-merged_nodestreak_realigned-to-refcat.fits"
   ]
  },
  {
   "cell_type": "code",
   "execution_count": null,
   "id": "ce87152e-6745-4e37-a371-ba4e89a73a97",
   "metadata": {},
   "outputs": [],
   "source": [
    "filtername = 'F115W'\n",
    "rslt = destreak.compute_zero_spacing_approximation(f'{basepath}/{filtername}/pipeline/jw01182-o004_t001_nircam_clear-{filtername.lower()}-merged_nodestreak_realigned-to-refcat.fits')\n",
    "rslt.writeto(f'{basepath}/{filtername}/pipeline/jw01182-o004_t001_nircam_clear-{filtername.lower()}-merged_nodestreak_realigned-to-refcat_background.fits')"
   ]
  },
  {
   "cell_type": "code",
   "execution_count": null,
   "id": "c069a227-643b-4adf-ac7b-9dd7098af262",
   "metadata": {},
   "outputs": [],
   "source": []
  }
 ],
 "metadata": {
  "kernelspec": {
   "display_name": "py310",
   "language": "python",
   "name": "py310"
  },
  "language_info": {
   "codemirror_mode": {
    "name": "ipython",
    "version": 3
   },
   "file_extension": ".py",
   "mimetype": "text/x-python",
   "name": "python",
   "nbconvert_exporter": "python",
   "pygments_lexer": "ipython3",
   "version": "3.10.8"
  }
 },
 "nbformat": 4,
 "nbformat_minor": 5
}
