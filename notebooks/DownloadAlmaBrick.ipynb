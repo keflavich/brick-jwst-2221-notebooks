{
 "cells": [
  {
   "cell_type": "code",
   "execution_count": 1,
   "id": "78634982-c59d-4204-8516-4930b3c30de9",
   "metadata": {},
   "outputs": [
    {
     "name": "stdout",
     "output_type": "stream",
     "text": [
      "/orange/adamginsburg/jwst/brick/alma\n"
     ]
    }
   ],
   "source": [
    "cd /orange/adamginsburg/jwst/brick/alma"
   ]
  },
  {
   "cell_type": "code",
   "execution_count": 14,
   "id": "800da559-01ba-403e-852d-d0d8d5fc54f3",
   "metadata": {},
   "outputs": [],
   "source": [
    "from astroquery.alma import Alma\n",
    "Alma.cache_location = '.'"
   ]
  },
  {
   "cell_type": "code",
   "execution_count": 16,
   "id": "f854ba93-78b3-4d04-9cde-5cc183809fed",
   "metadata": {
    "tags": []
   },
   "outputs": [
    {
     "data": {
      "text/html": [
       "<div><i>Table length=16</i>\n",
       "<table id=\"table47444036898528\" class=\"table-striped table-bordered table-condensed\">\n",
       "<thead><tr><th>ID</th><th>access_url</th><th>service_def</th><th>error_message</th><th>semantics</th><th>description</th><th>content_type</th><th>content_length</th><th>readable</th></tr></thead>\n",
       "<thead><tr><th></th><th></th><th></th><th></th><th></th><th></th><th></th><th>byte</th><th></th></tr></thead>\n",
       "<thead><tr><th>object</th><th>object</th><th>object</th><th>object</th><th>object</th><th>object</th><th>object</th><th>int64</th><th>bool</th></tr></thead>\n",
       "<tr><td>uid://A002/X5eed86/X4c</td><td>https://almascience.nrao.edu/dataPortal/member.uid___A002_X5eed86_X4c.README.txt</td><td></td><td></td><td>#documentation</td><td>Download documentation for ./uid://A002/X5eed86/X4c|README.</td><td>text/plain</td><td>6611</td><td>True</td></tr>\n",
       "<tr><td>uid://A002/X5eed86/X4c</td><td>https://almascience.nrao.edu/dataPortal/2012.1.00932.S_uid___A002_X5eed86_X4c_001_of_001.tar</td><td></td><td></td><td>#this</td><td>Download dataset of type: null, and class: N/A.</td><td>application/x-tar</td><td>12886791168</td><td>True</td></tr>\n",
       "<tr><td>uid://A002/X5eed86/X4c</td><td>https://almascience.nrao.edu/dataPortal/member.uid___A002_X5eed86_X4c.README.txt</td><td></td><td></td><td>#documentation</td><td>Download documentation for ./uid://A002/X5eed86/X4c|README.</td><td>text/plain</td><td>6611</td><td>True</td></tr>\n",
       "<tr><td>uid://A002/X5eed86/X4c</td><td>https://almascience.nrao.edu/dataPortal/2012.1.00932.S_uid___A002_X5eed86_X4c_001_of_001.tar</td><td></td><td></td><td>#this</td><td>Download dataset of type: null, and class: N/A.</td><td>application/x-tar</td><td>12886791168</td><td>True</td></tr>\n",
       "<tr><td>uid://A002/X5eed86/X4c</td><td>https://almascience.nrao.edu/dataPortal/member.uid___A002_X5eed86_X4c.README.txt</td><td></td><td></td><td>#documentation</td><td>Download documentation for ./uid://A002/X5eed86/X4c|README.</td><td>text/plain</td><td>6611</td><td>True</td></tr>\n",
       "<tr><td>uid://A002/X5eed86/X4c</td><td>https://almascience.nrao.edu/dataPortal/2012.1.00932.S_uid___A002_X5eed86_X4c_001_of_001.tar</td><td></td><td></td><td>#this</td><td>Download dataset of type: null, and class: N/A.</td><td>application/x-tar</td><td>12886791168</td><td>True</td></tr>\n",
       "<tr><td>uid://A002/X5eed86/X4c</td><td>https://almascience.nrao.edu/dataPortal/member.uid___A002_X5eed86_X4c.README.txt</td><td></td><td></td><td>#documentation</td><td>Download documentation for ./uid://A002/X5eed86/X4c|README.</td><td>text/plain</td><td>6611</td><td>True</td></tr>\n",
       "<tr><td>uid://A002/X5eed86/X4c</td><td>https://almascience.nrao.edu/dataPortal/2012.1.00932.S_uid___A002_X5eed86_X4c_001_of_001.tar</td><td></td><td></td><td>#this</td><td>Download dataset of type: null, and class: N/A.</td><td>application/x-tar</td><td>12886791168</td><td>True</td></tr>\n",
       "<tr><td>2012.1.00932.S_uid___A002_X5eed86_X4c_001_of_001.tar</td><td>https://almascience.nrao.edu/dataPortal/member.uid___A002_X5eed86_X4c.H2CO.flux.fits.gz</td><td></td><td></td><td>#this</td><td>Download dataset of type: product, and class: SCIENCE.</td><td>application/octet-stream</td><td>3086699284</td><td>True</td></tr>\n",
       "<tr><td>2012.1.00932.S_uid___A002_X5eed86_X4c_001_of_001.tar</td><td>https://almascience.nrao.edu/dataPortal/member.uid___A002_X5eed86_X4c.H2CO.map.fits</td><td></td><td></td><td>#this</td><td>Download dataset of type: product, and class: SCIENCE.</td><td>application/octet-stream</td><td>9800087040</td><td>True</td></tr>\n",
       "<tr><td>2012.1.00932.S_uid___A002_X5eed86_X4c_001_of_001.tar</td><td>https://almascience.nrao.edu/dataPortal/member.uid___A002_X5eed86_X4c.H2CO.flux.fits.gz</td><td></td><td></td><td>#this</td><td>Download dataset of type: product, and class: SCIENCE.</td><td>application/octet-stream</td><td>3086699284</td><td>True</td></tr>\n",
       "<tr><td>2012.1.00932.S_uid___A002_X5eed86_X4c_001_of_001.tar</td><td>https://almascience.nrao.edu/dataPortal/member.uid___A002_X5eed86_X4c.H2CO.map.fits</td><td></td><td></td><td>#this</td><td>Download dataset of type: product, and class: SCIENCE.</td><td>application/octet-stream</td><td>9800087040</td><td>True</td></tr>\n",
       "<tr><td>2012.1.00932.S_uid___A002_X5eed86_X4c_001_of_001.tar</td><td>https://almascience.nrao.edu/dataPortal/member.uid___A002_X5eed86_X4c.H2CO.flux.fits.gz</td><td></td><td></td><td>#this</td><td>Download dataset of type: product, and class: SCIENCE.</td><td>application/octet-stream</td><td>3086699284</td><td>True</td></tr>\n",
       "<tr><td>2012.1.00932.S_uid___A002_X5eed86_X4c_001_of_001.tar</td><td>https://almascience.nrao.edu/dataPortal/member.uid___A002_X5eed86_X4c.H2CO.map.fits</td><td></td><td></td><td>#this</td><td>Download dataset of type: product, and class: SCIENCE.</td><td>application/octet-stream</td><td>9800087040</td><td>True</td></tr>\n",
       "<tr><td>2012.1.00932.S_uid___A002_X5eed86_X4c_001_of_001.tar</td><td>https://almascience.nrao.edu/dataPortal/member.uid___A002_X5eed86_X4c.H2CO.flux.fits.gz</td><td></td><td></td><td>#this</td><td>Download dataset of type: product, and class: SCIENCE.</td><td>application/octet-stream</td><td>3086699284</td><td>True</td></tr>\n",
       "<tr><td>2012.1.00932.S_uid___A002_X5eed86_X4c_001_of_001.tar</td><td>https://almascience.nrao.edu/dataPortal/member.uid___A002_X5eed86_X4c.H2CO.map.fits</td><td></td><td></td><td>#this</td><td>Download dataset of type: product, and class: SCIENCE.</td><td>application/octet-stream</td><td>9800087040</td><td>True</td></tr>\n",
       "</table></div>"
      ],
      "text/plain": [
       "<Table length=16>\n",
       "                         ID                                                                   access_url                                          service_def error_message   semantics                            description                               content_type       content_length readable\n",
       "                                                                                                                                                                                                                                                                                     byte              \n",
       "                       object                                                                   object                                               object       object        object                                object                                    object              int64        bool  \n",
       "---------------------------------------------------- -------------------------------------------------------------------------------------------- ----------- ------------- -------------- ----------------------------------------------------------- ------------------------ -------------- --------\n",
       "                              uid://A002/X5eed86/X4c             https://almascience.nrao.edu/dataPortal/member.uid___A002_X5eed86_X4c.README.txt                           #documentation Download documentation for ./uid://A002/X5eed86/X4c|README.               text/plain           6611     True\n",
       "                              uid://A002/X5eed86/X4c https://almascience.nrao.edu/dataPortal/2012.1.00932.S_uid___A002_X5eed86_X4c_001_of_001.tar                                    #this             Download dataset of type: null, and class: N/A.        application/x-tar    12886791168     True\n",
       "                              uid://A002/X5eed86/X4c             https://almascience.nrao.edu/dataPortal/member.uid___A002_X5eed86_X4c.README.txt                           #documentation Download documentation for ./uid://A002/X5eed86/X4c|README.               text/plain           6611     True\n",
       "                              uid://A002/X5eed86/X4c https://almascience.nrao.edu/dataPortal/2012.1.00932.S_uid___A002_X5eed86_X4c_001_of_001.tar                                    #this             Download dataset of type: null, and class: N/A.        application/x-tar    12886791168     True\n",
       "                              uid://A002/X5eed86/X4c             https://almascience.nrao.edu/dataPortal/member.uid___A002_X5eed86_X4c.README.txt                           #documentation Download documentation for ./uid://A002/X5eed86/X4c|README.               text/plain           6611     True\n",
       "                              uid://A002/X5eed86/X4c https://almascience.nrao.edu/dataPortal/2012.1.00932.S_uid___A002_X5eed86_X4c_001_of_001.tar                                    #this             Download dataset of type: null, and class: N/A.        application/x-tar    12886791168     True\n",
       "                              uid://A002/X5eed86/X4c             https://almascience.nrao.edu/dataPortal/member.uid___A002_X5eed86_X4c.README.txt                           #documentation Download documentation for ./uid://A002/X5eed86/X4c|README.               text/plain           6611     True\n",
       "                              uid://A002/X5eed86/X4c https://almascience.nrao.edu/dataPortal/2012.1.00932.S_uid___A002_X5eed86_X4c_001_of_001.tar                                    #this             Download dataset of type: null, and class: N/A.        application/x-tar    12886791168     True\n",
       "2012.1.00932.S_uid___A002_X5eed86_X4c_001_of_001.tar      https://almascience.nrao.edu/dataPortal/member.uid___A002_X5eed86_X4c.H2CO.flux.fits.gz                                    #this      Download dataset of type: product, and class: SCIENCE. application/octet-stream     3086699284     True\n",
       "2012.1.00932.S_uid___A002_X5eed86_X4c_001_of_001.tar          https://almascience.nrao.edu/dataPortal/member.uid___A002_X5eed86_X4c.H2CO.map.fits                                    #this      Download dataset of type: product, and class: SCIENCE. application/octet-stream     9800087040     True\n",
       "2012.1.00932.S_uid___A002_X5eed86_X4c_001_of_001.tar      https://almascience.nrao.edu/dataPortal/member.uid___A002_X5eed86_X4c.H2CO.flux.fits.gz                                    #this      Download dataset of type: product, and class: SCIENCE. application/octet-stream     3086699284     True\n",
       "2012.1.00932.S_uid___A002_X5eed86_X4c_001_of_001.tar          https://almascience.nrao.edu/dataPortal/member.uid___A002_X5eed86_X4c.H2CO.map.fits                                    #this      Download dataset of type: product, and class: SCIENCE. application/octet-stream     9800087040     True\n",
       "2012.1.00932.S_uid___A002_X5eed86_X4c_001_of_001.tar      https://almascience.nrao.edu/dataPortal/member.uid___A002_X5eed86_X4c.H2CO.flux.fits.gz                                    #this      Download dataset of type: product, and class: SCIENCE. application/octet-stream     3086699284     True\n",
       "2012.1.00932.S_uid___A002_X5eed86_X4c_001_of_001.tar          https://almascience.nrao.edu/dataPortal/member.uid___A002_X5eed86_X4c.H2CO.map.fits                                    #this      Download dataset of type: product, and class: SCIENCE. application/octet-stream     9800087040     True\n",
       "2012.1.00932.S_uid___A002_X5eed86_X4c_001_of_001.tar      https://almascience.nrao.edu/dataPortal/member.uid___A002_X5eed86_X4c.H2CO.flux.fits.gz                                    #this      Download dataset of type: product, and class: SCIENCE. application/octet-stream     3086699284     True\n",
       "2012.1.00932.S_uid___A002_X5eed86_X4c_001_of_001.tar          https://almascience.nrao.edu/dataPortal/member.uid___A002_X5eed86_X4c.H2CO.map.fits                                    #this      Download dataset of type: product, and class: SCIENCE. application/octet-stream     9800087040     True"
      ]
     },
     "execution_count": 16,
     "metadata": {},
     "output_type": "execute_result"
    }
   ],
   "source": [
    "brick_jens = Alma.query({'project_code': '2012.1.00932.S', 'source_name_alma': 'G0.253+0.016'})\n",
    "brick_jens_files = Alma.get_data_info(brick_jens['member_ous_uid'], expand_tarfiles=True, with_auxiliary=False, with_rawdata=False)\n",
    "#Alma.download_files([x for x in brick_jens_files['access_url'] if '001.tar' in x])\n",
    "brick_jens_files"
   ]
  },
  {
   "cell_type": "code",
   "execution_count": 17,
   "id": "8e1405a9-e4c1-4cd8-8439-d21d46c77aa6",
   "metadata": {},
   "outputs": [
    {
     "data": {
      "text/plain": [
       "[]"
      ]
     },
     "execution_count": 17,
     "metadata": {},
     "output_type": "execute_result"
    }
   ],
   "source": [
    "Alma.download_files([x for x in brick_jens_files['access_url'] if 'G0.25' in x and x.endswith('fits')])"
   ]
  },
  {
   "cell_type": "code",
   "execution_count": 6,
   "id": "ae2204f4-22c5-4386-9e50-6f23eba949e6",
   "metadata": {
    "collapsed": true,
    "jupyter": {
     "outputs_hidden": true
    },
    "tags": []
   },
   "outputs": [
    {
     "data": {
      "text/html": [
       "<div><i>Table length=352</i>\n",
       "<table id=\"table47444056327552\" class=\"table-striped table-bordered table-condensed\">\n",
       "<thead><tr><th>ID</th><th>access_url</th><th>service_def</th><th>error_message</th><th>semantics</th><th>description</th><th>content_type</th><th>content_length</th><th>readable</th></tr></thead>\n",
       "<thead><tr><th></th><th></th><th></th><th></th><th></th><th></th><th></th><th>byte</th><th></th></tr></thead>\n",
       "<thead><tr><th>object</th><th>object</th><th>object</th><th>object</th><th>object</th><th>object</th><th>object</th><th>int64</th><th>bool</th></tr></thead>\n",
       "<tr><td>uid://A002/X996c88/X5d</td><td>https://almascience.nrao.edu/dataPortal/member.uid___A002_X996c88_X5d.README.txt</td><td></td><td></td><td>#documentation</td><td>Download documentation for ./uid://A002/X996c88/X5d|README.</td><td>text/plain</td><td>11578</td><td>True</td></tr>\n",
       "<tr><td>uid://A002/X996c88/X5d</td><td>https://almascience.nrao.edu/dataPortal/2012.1.00133.S_uid___A002_X996c88_X5d_001_of_001.tar</td><td></td><td></td><td>#this</td><td>Download dataset of type: null, and class: N/A.</td><td>application/x-tar</td><td>2718434304</td><td>True</td></tr>\n",
       "<tr><td>uid://A002/X996c88/X5d</td><td>https://almascience.nrao.edu/dataPortal/member.uid___A002_X996c88_X5d.README.txt</td><td></td><td></td><td>#documentation</td><td>Download documentation for ./uid://A002/X996c88/X5d|README.</td><td>text/plain</td><td>11578</td><td>True</td></tr>\n",
       "<tr><td>uid://A002/X996c88/X5d</td><td>https://almascience.nrao.edu/dataPortal/2012.1.00133.S_uid___A002_X996c88_X5d_001_of_001.tar</td><td></td><td></td><td>#this</td><td>Download dataset of type: null, and class: N/A.</td><td>application/x-tar</td><td>2718434304</td><td>True</td></tr>\n",
       "<tr><td>uid://A002/X996c88/X5d</td><td>https://almascience.nrao.edu/dataPortal/member.uid___A002_X996c88_X5d.README.txt</td><td></td><td></td><td>#documentation</td><td>Download documentation for ./uid://A002/X996c88/X5d|README.</td><td>text/plain</td><td>11578</td><td>True</td></tr>\n",
       "<tr><td>uid://A002/X996c88/X5d</td><td>https://almascience.nrao.edu/dataPortal/2012.1.00133.S_uid___A002_X996c88_X5d_001_of_001.tar</td><td></td><td></td><td>#this</td><td>Download dataset of type: null, and class: N/A.</td><td>application/x-tar</td><td>2718434304</td><td>True</td></tr>\n",
       "<tr><td>uid://A002/X996c88/X5d</td><td>https://almascience.nrao.edu/dataPortal/member.uid___A002_X996c88_X5d.README.txt</td><td></td><td></td><td>#documentation</td><td>Download documentation for ./uid://A002/X996c88/X5d|README.</td><td>text/plain</td><td>11578</td><td>True</td></tr>\n",
       "<tr><td>uid://A002/X996c88/X5d</td><td>https://almascience.nrao.edu/dataPortal/2012.1.00133.S_uid___A002_X996c88_X5d_001_of_001.tar</td><td></td><td></td><td>#this</td><td>Download dataset of type: null, and class: N/A.</td><td>application/x-tar</td><td>2718434304</td><td>True</td></tr>\n",
       "<tr><td>uid://A002/X758152/X8</td><td>https://almascience.nrao.edu/dataPortal/member.uid___A002_X758152_X8.README.txt</td><td></td><td></td><td>#documentation</td><td>Download documentation for ./uid://A002/X758152/X8|README.</td><td>text/plain</td><td>6851</td><td>True</td></tr>\n",
       "<tr><td>uid://A002/X758152/X8</td><td>https://almascience.nrao.edu/dataPortal/2012.1.00133.S_uid___A002_X758152_X8_001_of_001.tar</td><td></td><td></td><td>#this</td><td>Download dataset of type: null, and class: N/A.</td><td>application/x-tar</td><td>226553856</td><td>True</td></tr>\n",
       "<tr><td>uid://A002/X758152/X8</td><td>https://almascience.nrao.edu/dataPortal/uid___A002_X7d6d46_X823</td><td></td><td></td><td>#this</td><td>Download dataset of type: , and class: N/A.</td><td>application/octet-stream</td><td>12571346944</td><td>True</td></tr>\n",
       "<tr><td>uid://A002/X758152/X8</td><td>https://almascience.nrao.edu/dataPortal/member.uid___A002_X758152_X8.README.txt</td><td></td><td></td><td>#documentation</td><td>Download documentation for ./uid://A002/X758152/X8|README.</td><td>text/plain</td><td>6851</td><td>True</td></tr>\n",
       "<tr><td>uid://A002/X758152/X8</td><td>https://almascience.nrao.edu/dataPortal/2012.1.00133.S_uid___A002_X758152_X8_001_of_001.tar</td><td></td><td></td><td>#this</td><td>Download dataset of type: null, and class: N/A.</td><td>application/x-tar</td><td>226553856</td><td>True</td></tr>\n",
       "<tr><td>uid://A002/X758152/X8</td><td>https://almascience.nrao.edu/dataPortal/uid___A002_X7d6d46_X823</td><td></td><td></td><td>#this</td><td>Download dataset of type: , and class: N/A.</td><td>application/octet-stream</td><td>12571346944</td><td>True</td></tr>\n",
       "<tr><td>uid://A002/X758152/X8</td><td>https://almascience.nrao.edu/dataPortal/member.uid___A002_X758152_X8.README.txt</td><td></td><td></td><td>#documentation</td><td>Download documentation for ./uid://A002/X758152/X8|README.</td><td>text/plain</td><td>6851</td><td>True</td></tr>\n",
       "<tr><td>uid://A002/X758152/X8</td><td>https://almascience.nrao.edu/dataPortal/2012.1.00133.S_uid___A002_X758152_X8_001_of_001.tar</td><td></td><td></td><td>#this</td><td>Download dataset of type: null, and class: N/A.</td><td>application/x-tar</td><td>226553856</td><td>True</td></tr>\n",
       "<tr><td>uid://A002/X758152/X8</td><td>https://almascience.nrao.edu/dataPortal/uid___A002_X7d6d46_X823</td><td></td><td></td><td>#this</td><td>Download dataset of type: , and class: N/A.</td><td>application/octet-stream</td><td>12571346944</td><td>True</td></tr>\n",
       "<tr><td>uid://A002/X758152/X8</td><td>https://almascience.nrao.edu/dataPortal/member.uid___A002_X758152_X8.README.txt</td><td></td><td></td><td>#documentation</td><td>Download documentation for ./uid://A002/X758152/X8|README.</td><td>text/plain</td><td>6851</td><td>True</td></tr>\n",
       "<tr><td>uid://A002/X758152/X8</td><td>https://almascience.nrao.edu/dataPortal/2012.1.00133.S_uid___A002_X758152_X8_001_of_001.tar</td><td></td><td></td><td>#this</td><td>Download dataset of type: null, and class: N/A.</td><td>application/x-tar</td><td>226553856</td><td>True</td></tr>\n",
       "<tr><td>uid://A002/X758152/X8</td><td>https://almascience.nrao.edu/dataPortal/uid___A002_X7d6d46_X823</td><td></td><td></td><td>#this</td><td>Download dataset of type: , and class: N/A.</td><td>application/octet-stream</td><td>12571346944</td><td>True</td></tr>\n",
       "<tr><td>uid://A002/X758152/Xa</td><td>https://almascience.nrao.edu/dataPortal/member.uid___A002_X758152_Xa.README.txt</td><td></td><td></td><td>#documentation</td><td>Download documentation for ./uid://A002/X758152/Xa|README.</td><td>text/plain</td><td>3524</td><td>True</td></tr>\n",
       "<tr><td>uid://A002/X758152/Xa</td><td>https://almascience.nrao.edu/dataPortal/2012.1.00133.S_uid___A002_X758152_Xa_001_of_001.tar</td><td></td><td></td><td>#this</td><td>Download dataset of type: null, and class: N/A.</td><td>application/x-tar</td><td>7427165184</td><td>True</td></tr>\n",
       "<tr><td>uid://A002/X758152/Xa</td><td>https://almascience.nrao.edu/dataPortal/uid___A002_X7c5411_X1b12</td><td></td><td></td><td>#this</td><td>Download dataset of type: , and class: N/A.</td><td>application/octet-stream</td><td>2213208064</td><td>True</td></tr>\n",
       "<tr><td>uid://A002/X758152/Xa</td><td>https://almascience.nrao.edu/dataPortal/uid___A002_X7fc9da_X182d</td><td></td><td></td><td>#this</td><td>Download dataset of type: , and class: N/A.</td><td>application/octet-stream</td><td>3100882944</td><td>True</td></tr>\n",
       "<tr><td>uid://A002/X758152/Xa</td><td>https://almascience.nrao.edu/dataPortal/member.uid___A002_X758152_Xa.README.txt</td><td></td><td></td><td>#documentation</td><td>Download documentation for ./uid://A002/X758152/Xa|README.</td><td>text/plain</td><td>3524</td><td>True</td></tr>\n",
       "<tr><td>uid://A002/X758152/Xa</td><td>https://almascience.nrao.edu/dataPortal/2012.1.00133.S_uid___A002_X758152_Xa_001_of_001.tar</td><td></td><td></td><td>#this</td><td>Download dataset of type: null, and class: N/A.</td><td>application/x-tar</td><td>7427165184</td><td>True</td></tr>\n",
       "<tr><td>uid://A002/X758152/Xa</td><td>https://almascience.nrao.edu/dataPortal/uid___A002_X7c5411_X1b12</td><td></td><td></td><td>#this</td><td>Download dataset of type: , and class: N/A.</td><td>application/octet-stream</td><td>2213208064</td><td>True</td></tr>\n",
       "<tr><td>uid://A002/X758152/Xa</td><td>https://almascience.nrao.edu/dataPortal/uid___A002_X7fc9da_X182d</td><td></td><td></td><td>#this</td><td>Download dataset of type: , and class: N/A.</td><td>application/octet-stream</td><td>3100882944</td><td>True</td></tr>\n",
       "<tr><td>uid://A002/X758152/Xa</td><td>https://almascience.nrao.edu/dataPortal/member.uid___A002_X758152_Xa.README.txt</td><td></td><td></td><td>#documentation</td><td>Download documentation for ./uid://A002/X758152/Xa|README.</td><td>text/plain</td><td>3524</td><td>True</td></tr>\n",
       "<tr><td>uid://A002/X758152/Xa</td><td>https://almascience.nrao.edu/dataPortal/2012.1.00133.S_uid___A002_X758152_Xa_001_of_001.tar</td><td></td><td></td><td>#this</td><td>Download dataset of type: null, and class: N/A.</td><td>application/x-tar</td><td>7427165184</td><td>True</td></tr>\n",
       "<tr><td>uid://A002/X758152/Xa</td><td>https://almascience.nrao.edu/dataPortal/uid___A002_X7c5411_X1b12</td><td></td><td></td><td>#this</td><td>Download dataset of type: , and class: N/A.</td><td>application/octet-stream</td><td>2213208064</td><td>True</td></tr>\n",
       "<tr><td>uid://A002/X758152/Xa</td><td>https://almascience.nrao.edu/dataPortal/uid___A002_X7fc9da_X182d</td><td></td><td></td><td>#this</td><td>Download dataset of type: , and class: N/A.</td><td>application/octet-stream</td><td>3100882944</td><td>True</td></tr>\n",
       "<tr><td>...</td><td>...</td><td>...</td><td>...</td><td>...</td><td>...</td><td>...</td><td>...</td><td>...</td></tr>\n",
       "<tr><td>2012.1.00133.S_uid___A002_X758152_Xa_001_of_001.tar</td><td>https://almascience.nrao.edu/dataPortal/member.uid___A002_X758152_Xa.J1924-2914_bp.spw18_253503MHz.mos.7m.mfs.I.pb.fits.gz</td><td></td><td></td><td>#this</td><td>Download dataset of type: product, and class: SCIENCE.</td><td>application/octet-stream</td><td>9787</td><td>True</td></tr>\n",
       "<tr><td>2012.1.00133.S_uid___A002_X758152_Xa_001_of_001.tar</td><td>https://almascience.nrao.edu/dataPortal/member.uid___A002_X758152_Xa.J1924-2914_bp.spw18_253503MHz.mos.7m.mfs.I.pbcor.fits</td><td></td><td></td><td>#this</td><td>Download dataset of type: product, and class: SCIENCE.</td><td>application/octet-stream</td><td>48960</td><td>True</td></tr>\n",
       "<tr><td>2012.1.00133.S_uid___A002_X758152_Xa_001_of_001.tar</td><td>https://almascience.nrao.edu/dataPortal/member.uid___A002_X758152_Xa.J1924-2914_bp.spw20_265787MHz.mos.7m.mfs.I.pb.fits.gz</td><td></td><td></td><td>#this</td><td>Download dataset of type: product, and class: SCIENCE.</td><td>application/octet-stream</td><td>9279</td><td>True</td></tr>\n",
       "<tr><td>2012.1.00133.S_uid___A002_X758152_Xa_001_of_001.tar</td><td>https://almascience.nrao.edu/dataPortal/member.uid___A002_X758152_Xa.J1924-2914_bp.spw20_265787MHz.mos.7m.mfs.I.pbcor.fits</td><td></td><td></td><td>#this</td><td>Download dataset of type: product, and class: SCIENCE.</td><td>application/octet-stream</td><td>48960</td><td>True</td></tr>\n",
       "<tr><td>2012.1.00133.S_uid___A002_X758152_Xa_001_of_001.tar</td><td>https://almascience.nrao.edu/dataPortal/member.uid___A002_X758152_Xa.J1924-2914_bp.spw22_267563MHz.mos.7m.mfs.I.pb.fits.gz</td><td></td><td></td><td>#this</td><td>Download dataset of type: product, and class: SCIENCE.</td><td>application/octet-stream</td><td>9145</td><td>True</td></tr>\n",
       "<tr><td>2012.1.00133.S_uid___A002_X758152_Xa_001_of_001.tar</td><td>https://almascience.nrao.edu/dataPortal/member.uid___A002_X758152_Xa.J1924-2914_bp.spw22_267563MHz.mos.7m.mfs.I.pbcor.fits</td><td></td><td></td><td>#this</td><td>Download dataset of type: product, and class: SCIENCE.</td><td>application/octet-stream</td><td>48960</td><td>True</td></tr>\n",
       "<tr><td>2012.1.00133.S_uid___A002_X758152_Xa_001_of_001.tar</td><td>https://almascience.nrao.edu/dataPortal/member.uid___A002_X758152_Xa._G0.25p0.02__sci.spw16_18_20_22_259640MHz.mos.7m.cont.I.mask.fits.gz</td><td></td><td></td><td>#this</td><td>Download dataset of type: product, and class: MASK.</td><td>application/octet-stream</td><td>2159</td><td>True</td></tr>\n",
       "<tr><td>2012.1.00133.S_uid___A002_X758152_Xa_001_of_001.tar</td><td>https://almascience.nrao.edu/dataPortal/member.uid___A002_X758152_Xa._G0.25p0.02__sci.spw16_18_20_22_259640MHz.mos.7m.cont.I.pb.fits.gz</td><td></td><td></td><td>#this</td><td>Download dataset of type: product, and class: SCIENCE.</td><td>application/octet-stream</td><td>187085</td><td>True</td></tr>\n",
       "<tr><td>2012.1.00133.S_uid___A002_X758152_Xa_001_of_001.tar</td><td>https://almascience.nrao.edu/dataPortal/member.uid___A002_X758152_Xa._G0.25p0.02__sci.spw16_18_20_22_259640MHz.mos.7m.cont.I.pbcor.fits</td><td></td><td></td><td>#this</td><td>Download dataset of type: product, and class: SCIENCE.</td><td>application/octet-stream</td><td>282240</td><td>True</td></tr>\n",
       "<tr><td>2012.1.00133.S_uid___A002_X758152_Xa_001_of_001.tar</td><td>https://almascience.nrao.edu/dataPortal/member.uid___A002_X758152_Xa._G0.25p0.02__sci.spw16_251500MHz.mos.7m.cube.I.mask.fits.gz</td><td></td><td></td><td>#this</td><td>Download dataset of type: product, and class: MASK.</td><td>application/octet-stream</td><td>1066353</td><td>True</td></tr>\n",
       "<tr><td>2012.1.00133.S_uid___A002_X758152_Xa_001_of_001.tar</td><td>https://almascience.nrao.edu/dataPortal/member.uid___A002_X758152_Xa._G0.25p0.02__sci.spw16_251500MHz.mos.7m.cube.I.pb.fits.gz</td><td></td><td></td><td>#this</td><td>Download dataset of type: product, and class: SCIENCE.</td><td>application/octet-stream</td><td>770500782</td><td>True</td></tr>\n",
       "<tr><td>2012.1.00133.S_uid___A002_X758152_Xa_001_of_001.tar</td><td>https://almascience.nrao.edu/dataPortal/member.uid___A002_X758152_Xa._G0.25p0.02__sci.spw16_251500MHz.mos.7m.cube.I.pbcor.fits</td><td></td><td></td><td>#this</td><td>Download dataset of type: product, and class: SCIENCE.</td><td>application/octet-stream</td><td>1095373440</td><td>True</td></tr>\n",
       "<tr><td>2012.1.00133.S_uid___A002_X758152_Xa_001_of_001.tar</td><td>https://almascience.nrao.edu/dataPortal/member.uid___A002_X758152_Xa._G0.25p0.02__sci.spw16_251611MHz.mos.7m.mfs.I.mask.fits.gz</td><td></td><td></td><td>#this</td><td>Download dataset of type: product, and class: MASK.</td><td>application/octet-stream</td><td>2005</td><td>True</td></tr>\n",
       "<tr><td>2012.1.00133.S_uid___A002_X758152_Xa_001_of_001.tar</td><td>https://almascience.nrao.edu/dataPortal/member.uid___A002_X758152_Xa._G0.25p0.02__sci.spw16_251611MHz.mos.7m.mfs.I.pb.fits.gz</td><td></td><td></td><td>#this</td><td>Download dataset of type: product, and class: SCIENCE.</td><td>application/octet-stream</td><td>190373</td><td>True</td></tr>\n",
       "<tr><td>2012.1.00133.S_uid___A002_X758152_Xa_001_of_001.tar</td><td>https://almascience.nrao.edu/dataPortal/member.uid___A002_X758152_Xa._G0.25p0.02__sci.spw16_251611MHz.mos.7m.mfs.I.pbcor.fits</td><td></td><td></td><td>#this</td><td>Download dataset of type: product, and class: SCIENCE.</td><td>application/octet-stream</td><td>282240</td><td>True</td></tr>\n",
       "<tr><td>2012.1.00133.S_uid___A002_X758152_Xa_001_of_001.tar</td><td>https://almascience.nrao.edu/dataPortal/member.uid___A002_X758152_Xa._G0.25p0.02__sci.spw18_253500MHz.mos.7m.cube.I.mask.fits.gz</td><td></td><td></td><td>#this</td><td>Download dataset of type: product, and class: MASK.</td><td>application/octet-stream</td><td>1066873</td><td>True</td></tr>\n",
       "<tr><td>2012.1.00133.S_uid___A002_X758152_Xa_001_of_001.tar</td><td>https://almascience.nrao.edu/dataPortal/member.uid___A002_X758152_Xa._G0.25p0.02__sci.spw18_253500MHz.mos.7m.cube.I.pb.fits.gz</td><td></td><td></td><td>#this</td><td>Download dataset of type: product, and class: SCIENCE.</td><td>application/octet-stream</td><td>767935311</td><td>True</td></tr>\n",
       "<tr><td>2012.1.00133.S_uid___A002_X758152_Xa_001_of_001.tar</td><td>https://almascience.nrao.edu/dataPortal/member.uid___A002_X758152_Xa._G0.25p0.02__sci.spw18_253500MHz.mos.7m.cube.I.pbcor.fits</td><td></td><td></td><td>#this</td><td>Download dataset of type: product, and class: SCIENCE.</td><td>application/octet-stream</td><td>1095373440</td><td>True</td></tr>\n",
       "<tr><td>2012.1.00133.S_uid___A002_X758152_Xa_001_of_001.tar</td><td>https://almascience.nrao.edu/dataPortal/member.uid___A002_X758152_Xa._G0.25p0.02__sci.spw18_253504MHz.mos.7m.mfs.I.mask.fits.gz</td><td></td><td></td><td>#this</td><td>Download dataset of type: product, and class: MASK.</td><td>application/octet-stream</td><td>2111</td><td>True</td></tr>\n",
       "<tr><td>2012.1.00133.S_uid___A002_X758152_Xa_001_of_001.tar</td><td>https://almascience.nrao.edu/dataPortal/member.uid___A002_X758152_Xa._G0.25p0.02__sci.spw18_253504MHz.mos.7m.mfs.I.pb.fits.gz</td><td></td><td></td><td>#this</td><td>Download dataset of type: product, and class: SCIENCE.</td><td>application/octet-stream</td><td>189007</td><td>True</td></tr>\n",
       "<tr><td>2012.1.00133.S_uid___A002_X758152_Xa_001_of_001.tar</td><td>https://almascience.nrao.edu/dataPortal/member.uid___A002_X758152_Xa._G0.25p0.02__sci.spw18_253504MHz.mos.7m.mfs.I.pbcor.fits</td><td></td><td></td><td>#this</td><td>Download dataset of type: product, and class: SCIENCE.</td><td>application/octet-stream</td><td>282240</td><td>True</td></tr>\n",
       "<tr><td>2012.1.00133.S_uid___A002_X758152_Xa_001_of_001.tar</td><td>https://almascience.nrao.edu/dataPortal/member.uid___A002_X758152_Xa._G0.25p0.02__sci.spw20_265500MHz.mos.7m.cube.I.mask.fits.gz</td><td></td><td></td><td>#this</td><td>Download dataset of type: product, and class: MASK.</td><td>application/octet-stream</td><td>1114586</td><td>True</td></tr>\n",
       "<tr><td>2012.1.00133.S_uid___A002_X758152_Xa_001_of_001.tar</td><td>https://almascience.nrao.edu/dataPortal/member.uid___A002_X758152_Xa._G0.25p0.02__sci.spw20_265500MHz.mos.7m.cube.I.pb.fits.gz</td><td></td><td></td><td>#this</td><td>Download dataset of type: product, and class: SCIENCE.</td><td>application/octet-stream</td><td>749556385</td><td>True</td></tr>\n",
       "<tr><td>2012.1.00133.S_uid___A002_X758152_Xa_001_of_001.tar</td><td>https://almascience.nrao.edu/dataPortal/member.uid___A002_X758152_Xa._G0.25p0.02__sci.spw20_265500MHz.mos.7m.cube.I.pbcor.fits</td><td></td><td></td><td>#this</td><td>Download dataset of type: product, and class: SCIENCE.</td><td>application/octet-stream</td><td>1095373440</td><td>True</td></tr>\n",
       "<tr><td>2012.1.00133.S_uid___A002_X758152_Xa_001_of_001.tar</td><td>https://almascience.nrao.edu/dataPortal/member.uid___A002_X758152_Xa._G0.25p0.02__sci.spw20_265517MHz.mos.7m.mfs.I.mask.fits.gz</td><td></td><td></td><td>#this</td><td>Download dataset of type: product, and class: MASK.</td><td>application/octet-stream</td><td>2114</td><td>True</td></tr>\n",
       "<tr><td>2012.1.00133.S_uid___A002_X758152_Xa_001_of_001.tar</td><td>https://almascience.nrao.edu/dataPortal/member.uid___A002_X758152_Xa._G0.25p0.02__sci.spw20_265517MHz.mos.7m.mfs.I.pb.fits.gz</td><td></td><td></td><td>#this</td><td>Download dataset of type: product, and class: SCIENCE.</td><td>application/octet-stream</td><td>184954</td><td>True</td></tr>\n",
       "<tr><td>2012.1.00133.S_uid___A002_X758152_Xa_001_of_001.tar</td><td>https://almascience.nrao.edu/dataPortal/member.uid___A002_X758152_Xa._G0.25p0.02__sci.spw20_265517MHz.mos.7m.mfs.I.pbcor.fits</td><td></td><td></td><td>#this</td><td>Download dataset of type: product, and class: SCIENCE.</td><td>application/octet-stream</td><td>282240</td><td>True</td></tr>\n",
       "<tr><td>2012.1.00133.S_uid___A002_X758152_Xa_001_of_001.tar</td><td>https://almascience.nrao.edu/dataPortal/member.uid___A002_X758152_Xa._G0.25p0.02__sci.spw22_267558MHz.mos.7m.cube.I.mask.fits.gz</td><td></td><td></td><td>#this</td><td>Download dataset of type: product, and class: MASK.</td><td>application/octet-stream</td><td>1080772</td><td>True</td></tr>\n",
       "<tr><td>2012.1.00133.S_uid___A002_X758152_Xa_001_of_001.tar</td><td>https://almascience.nrao.edu/dataPortal/member.uid___A002_X758152_Xa._G0.25p0.02__sci.spw22_267558MHz.mos.7m.cube.I.pb.fits.gz</td><td></td><td></td><td>#this</td><td>Download dataset of type: product, and class: SCIENCE.</td><td>application/octet-stream</td><td>749905891</td><td>True</td></tr>\n",
       "<tr><td>2012.1.00133.S_uid___A002_X758152_Xa_001_of_001.tar</td><td>https://almascience.nrao.edu/dataPortal/member.uid___A002_X758152_Xa._G0.25p0.02__sci.spw22_267558MHz.mos.7m.cube.I.pbcor.fits</td><td></td><td></td><td>#this</td><td>Download dataset of type: product, and class: SCIENCE.</td><td>application/octet-stream</td><td>1095373440</td><td>True</td></tr>\n",
       "<tr><td>2012.1.00133.S_uid___A002_X758152_Xa_001_of_001.tar</td><td>https://almascience.nrao.edu/dataPortal/member.uid___A002_X758152_Xa._G0.25p0.02__sci.spw22_267559MHz.mos.7m.mfs.I.mask.fits.gz</td><td></td><td></td><td>#this</td><td>Download dataset of type: product, and class: MASK.</td><td>application/octet-stream</td><td>2059</td><td>True</td></tr>\n",
       "<tr><td>2012.1.00133.S_uid___A002_X758152_Xa_001_of_001.tar</td><td>https://almascience.nrao.edu/dataPortal/member.uid___A002_X758152_Xa._G0.25p0.02__sci.spw22_267559MHz.mos.7m.mfs.I.pb.fits.gz</td><td></td><td></td><td>#this</td><td>Download dataset of type: product, and class: SCIENCE.</td><td>application/octet-stream</td><td>185301</td><td>True</td></tr>\n",
       "<tr><td>2012.1.00133.S_uid___A002_X758152_Xa_001_of_001.tar</td><td>https://almascience.nrao.edu/dataPortal/member.uid___A002_X758152_Xa._G0.25p0.02__sci.spw22_267559MHz.mos.7m.mfs.I.pbcor.fits</td><td></td><td></td><td>#this</td><td>Download dataset of type: product, and class: SCIENCE.</td><td>application/octet-stream</td><td>282240</td><td>True</td></tr>\n",
       "</table></div>"
      ],
      "text/plain": [
       "<Table length=352>\n",
       "                         ID                                                                                         access_url                                                                service_def error_message ...       content_type       content_length readable\n",
       "                                                                                                                                                                                                                        ...                               byte              \n",
       "                       object                                                                                         object                                                                     object       object    ...          object              int64        bool  \n",
       "--------------------------------------------------- ----------------------------------------------------------------------------------------------------------------------------------------- ----------- ------------- ... ------------------------ -------------- --------\n",
       "                             uid://A002/X996c88/X5d                                                          https://almascience.nrao.edu/dataPortal/member.uid___A002_X996c88_X5d.README.txt                           ...               text/plain          11578     True\n",
       "                             uid://A002/X996c88/X5d                                              https://almascience.nrao.edu/dataPortal/2012.1.00133.S_uid___A002_X996c88_X5d_001_of_001.tar                           ...        application/x-tar     2718434304     True\n",
       "                             uid://A002/X996c88/X5d                                                          https://almascience.nrao.edu/dataPortal/member.uid___A002_X996c88_X5d.README.txt                           ...               text/plain          11578     True\n",
       "                             uid://A002/X996c88/X5d                                              https://almascience.nrao.edu/dataPortal/2012.1.00133.S_uid___A002_X996c88_X5d_001_of_001.tar                           ...        application/x-tar     2718434304     True\n",
       "                             uid://A002/X996c88/X5d                                                          https://almascience.nrao.edu/dataPortal/member.uid___A002_X996c88_X5d.README.txt                           ...               text/plain          11578     True\n",
       "                             uid://A002/X996c88/X5d                                              https://almascience.nrao.edu/dataPortal/2012.1.00133.S_uid___A002_X996c88_X5d_001_of_001.tar                           ...        application/x-tar     2718434304     True\n",
       "                             uid://A002/X996c88/X5d                                                          https://almascience.nrao.edu/dataPortal/member.uid___A002_X996c88_X5d.README.txt                           ...               text/plain          11578     True\n",
       "                             uid://A002/X996c88/X5d                                              https://almascience.nrao.edu/dataPortal/2012.1.00133.S_uid___A002_X996c88_X5d_001_of_001.tar                           ...        application/x-tar     2718434304     True\n",
       "                              uid://A002/X758152/X8                                                           https://almascience.nrao.edu/dataPortal/member.uid___A002_X758152_X8.README.txt                           ...               text/plain           6851     True\n",
       "                              uid://A002/X758152/X8                                               https://almascience.nrao.edu/dataPortal/2012.1.00133.S_uid___A002_X758152_X8_001_of_001.tar                           ...        application/x-tar      226553856     True\n",
       "                              uid://A002/X758152/X8                                                                           https://almascience.nrao.edu/dataPortal/uid___A002_X7d6d46_X823                           ... application/octet-stream    12571346944     True\n",
       "                              uid://A002/X758152/X8                                                           https://almascience.nrao.edu/dataPortal/member.uid___A002_X758152_X8.README.txt                           ...               text/plain           6851     True\n",
       "                              uid://A002/X758152/X8                                               https://almascience.nrao.edu/dataPortal/2012.1.00133.S_uid___A002_X758152_X8_001_of_001.tar                           ...        application/x-tar      226553856     True\n",
       "                              uid://A002/X758152/X8                                                                           https://almascience.nrao.edu/dataPortal/uid___A002_X7d6d46_X823                           ... application/octet-stream    12571346944     True\n",
       "                              uid://A002/X758152/X8                                                           https://almascience.nrao.edu/dataPortal/member.uid___A002_X758152_X8.README.txt                           ...               text/plain           6851     True\n",
       "                              uid://A002/X758152/X8                                               https://almascience.nrao.edu/dataPortal/2012.1.00133.S_uid___A002_X758152_X8_001_of_001.tar                           ...        application/x-tar      226553856     True\n",
       "                              uid://A002/X758152/X8                                                                           https://almascience.nrao.edu/dataPortal/uid___A002_X7d6d46_X823                           ... application/octet-stream    12571346944     True\n",
       "                              uid://A002/X758152/X8                                                           https://almascience.nrao.edu/dataPortal/member.uid___A002_X758152_X8.README.txt                           ...               text/plain           6851     True\n",
       "                              uid://A002/X758152/X8                                               https://almascience.nrao.edu/dataPortal/2012.1.00133.S_uid___A002_X758152_X8_001_of_001.tar                           ...        application/x-tar      226553856     True\n",
       "                              uid://A002/X758152/X8                                                                           https://almascience.nrao.edu/dataPortal/uid___A002_X7d6d46_X823                           ... application/octet-stream    12571346944     True\n",
       "                              uid://A002/X758152/Xa                                                           https://almascience.nrao.edu/dataPortal/member.uid___A002_X758152_Xa.README.txt                           ...               text/plain           3524     True\n",
       "                              uid://A002/X758152/Xa                                               https://almascience.nrao.edu/dataPortal/2012.1.00133.S_uid___A002_X758152_Xa_001_of_001.tar                           ...        application/x-tar     7427165184     True\n",
       "                              uid://A002/X758152/Xa                                                                          https://almascience.nrao.edu/dataPortal/uid___A002_X7c5411_X1b12                           ... application/octet-stream     2213208064     True\n",
       "                              uid://A002/X758152/Xa                                                                          https://almascience.nrao.edu/dataPortal/uid___A002_X7fc9da_X182d                           ... application/octet-stream     3100882944     True\n",
       "                              uid://A002/X758152/Xa                                                           https://almascience.nrao.edu/dataPortal/member.uid___A002_X758152_Xa.README.txt                           ...               text/plain           3524     True\n",
       "                              uid://A002/X758152/Xa                                               https://almascience.nrao.edu/dataPortal/2012.1.00133.S_uid___A002_X758152_Xa_001_of_001.tar                           ...        application/x-tar     7427165184     True\n",
       "                              uid://A002/X758152/Xa                                                                          https://almascience.nrao.edu/dataPortal/uid___A002_X7c5411_X1b12                           ... application/octet-stream     2213208064     True\n",
       "                              uid://A002/X758152/Xa                                                                          https://almascience.nrao.edu/dataPortal/uid___A002_X7fc9da_X182d                           ... application/octet-stream     3100882944     True\n",
       "                              uid://A002/X758152/Xa                                                           https://almascience.nrao.edu/dataPortal/member.uid___A002_X758152_Xa.README.txt                           ...               text/plain           3524     True\n",
       "                              uid://A002/X758152/Xa                                               https://almascience.nrao.edu/dataPortal/2012.1.00133.S_uid___A002_X758152_Xa_001_of_001.tar                           ...        application/x-tar     7427165184     True\n",
       "                              uid://A002/X758152/Xa                                                                          https://almascience.nrao.edu/dataPortal/uid___A002_X7c5411_X1b12                           ... application/octet-stream     2213208064     True\n",
       "                              uid://A002/X758152/Xa                                                                          https://almascience.nrao.edu/dataPortal/uid___A002_X7fc9da_X182d                           ... application/octet-stream     3100882944     True\n",
       "                                                ...                                                                                                                                       ...         ...           ... ...                      ...            ...      ...\n",
       "2012.1.00133.S_uid___A002_X758152_Xa_001_of_001.tar                https://almascience.nrao.edu/dataPortal/member.uid___A002_X758152_Xa.J1924-2914_bp.spw18_253503MHz.mos.7m.mfs.I.pb.fits.gz                           ... application/octet-stream           9787     True\n",
       "2012.1.00133.S_uid___A002_X758152_Xa_001_of_001.tar                https://almascience.nrao.edu/dataPortal/member.uid___A002_X758152_Xa.J1924-2914_bp.spw18_253503MHz.mos.7m.mfs.I.pbcor.fits                           ... application/octet-stream          48960     True\n",
       "2012.1.00133.S_uid___A002_X758152_Xa_001_of_001.tar                https://almascience.nrao.edu/dataPortal/member.uid___A002_X758152_Xa.J1924-2914_bp.spw20_265787MHz.mos.7m.mfs.I.pb.fits.gz                           ... application/octet-stream           9279     True\n",
       "2012.1.00133.S_uid___A002_X758152_Xa_001_of_001.tar                https://almascience.nrao.edu/dataPortal/member.uid___A002_X758152_Xa.J1924-2914_bp.spw20_265787MHz.mos.7m.mfs.I.pbcor.fits                           ... application/octet-stream          48960     True\n",
       "2012.1.00133.S_uid___A002_X758152_Xa_001_of_001.tar                https://almascience.nrao.edu/dataPortal/member.uid___A002_X758152_Xa.J1924-2914_bp.spw22_267563MHz.mos.7m.mfs.I.pb.fits.gz                           ... application/octet-stream           9145     True\n",
       "2012.1.00133.S_uid___A002_X758152_Xa_001_of_001.tar                https://almascience.nrao.edu/dataPortal/member.uid___A002_X758152_Xa.J1924-2914_bp.spw22_267563MHz.mos.7m.mfs.I.pbcor.fits                           ... application/octet-stream          48960     True\n",
       "2012.1.00133.S_uid___A002_X758152_Xa_001_of_001.tar https://almascience.nrao.edu/dataPortal/member.uid___A002_X758152_Xa._G0.25p0.02__sci.spw16_18_20_22_259640MHz.mos.7m.cont.I.mask.fits.gz                           ... application/octet-stream           2159     True\n",
       "2012.1.00133.S_uid___A002_X758152_Xa_001_of_001.tar   https://almascience.nrao.edu/dataPortal/member.uid___A002_X758152_Xa._G0.25p0.02__sci.spw16_18_20_22_259640MHz.mos.7m.cont.I.pb.fits.gz                           ... application/octet-stream         187085     True\n",
       "2012.1.00133.S_uid___A002_X758152_Xa_001_of_001.tar   https://almascience.nrao.edu/dataPortal/member.uid___A002_X758152_Xa._G0.25p0.02__sci.spw16_18_20_22_259640MHz.mos.7m.cont.I.pbcor.fits                           ... application/octet-stream         282240     True\n",
       "2012.1.00133.S_uid___A002_X758152_Xa_001_of_001.tar          https://almascience.nrao.edu/dataPortal/member.uid___A002_X758152_Xa._G0.25p0.02__sci.spw16_251500MHz.mos.7m.cube.I.mask.fits.gz                           ... application/octet-stream        1066353     True\n",
       "2012.1.00133.S_uid___A002_X758152_Xa_001_of_001.tar            https://almascience.nrao.edu/dataPortal/member.uid___A002_X758152_Xa._G0.25p0.02__sci.spw16_251500MHz.mos.7m.cube.I.pb.fits.gz                           ... application/octet-stream      770500782     True\n",
       "2012.1.00133.S_uid___A002_X758152_Xa_001_of_001.tar            https://almascience.nrao.edu/dataPortal/member.uid___A002_X758152_Xa._G0.25p0.02__sci.spw16_251500MHz.mos.7m.cube.I.pbcor.fits                           ... application/octet-stream     1095373440     True\n",
       "2012.1.00133.S_uid___A002_X758152_Xa_001_of_001.tar           https://almascience.nrao.edu/dataPortal/member.uid___A002_X758152_Xa._G0.25p0.02__sci.spw16_251611MHz.mos.7m.mfs.I.mask.fits.gz                           ... application/octet-stream           2005     True\n",
       "2012.1.00133.S_uid___A002_X758152_Xa_001_of_001.tar             https://almascience.nrao.edu/dataPortal/member.uid___A002_X758152_Xa._G0.25p0.02__sci.spw16_251611MHz.mos.7m.mfs.I.pb.fits.gz                           ... application/octet-stream         190373     True\n",
       "2012.1.00133.S_uid___A002_X758152_Xa_001_of_001.tar             https://almascience.nrao.edu/dataPortal/member.uid___A002_X758152_Xa._G0.25p0.02__sci.spw16_251611MHz.mos.7m.mfs.I.pbcor.fits                           ... application/octet-stream         282240     True\n",
       "2012.1.00133.S_uid___A002_X758152_Xa_001_of_001.tar          https://almascience.nrao.edu/dataPortal/member.uid___A002_X758152_Xa._G0.25p0.02__sci.spw18_253500MHz.mos.7m.cube.I.mask.fits.gz                           ... application/octet-stream        1066873     True\n",
       "2012.1.00133.S_uid___A002_X758152_Xa_001_of_001.tar            https://almascience.nrao.edu/dataPortal/member.uid___A002_X758152_Xa._G0.25p0.02__sci.spw18_253500MHz.mos.7m.cube.I.pb.fits.gz                           ... application/octet-stream      767935311     True\n",
       "2012.1.00133.S_uid___A002_X758152_Xa_001_of_001.tar            https://almascience.nrao.edu/dataPortal/member.uid___A002_X758152_Xa._G0.25p0.02__sci.spw18_253500MHz.mos.7m.cube.I.pbcor.fits                           ... application/octet-stream     1095373440     True\n",
       "2012.1.00133.S_uid___A002_X758152_Xa_001_of_001.tar           https://almascience.nrao.edu/dataPortal/member.uid___A002_X758152_Xa._G0.25p0.02__sci.spw18_253504MHz.mos.7m.mfs.I.mask.fits.gz                           ... application/octet-stream           2111     True\n",
       "2012.1.00133.S_uid___A002_X758152_Xa_001_of_001.tar             https://almascience.nrao.edu/dataPortal/member.uid___A002_X758152_Xa._G0.25p0.02__sci.spw18_253504MHz.mos.7m.mfs.I.pb.fits.gz                           ... application/octet-stream         189007     True\n",
       "2012.1.00133.S_uid___A002_X758152_Xa_001_of_001.tar             https://almascience.nrao.edu/dataPortal/member.uid___A002_X758152_Xa._G0.25p0.02__sci.spw18_253504MHz.mos.7m.mfs.I.pbcor.fits                           ... application/octet-stream         282240     True\n",
       "2012.1.00133.S_uid___A002_X758152_Xa_001_of_001.tar          https://almascience.nrao.edu/dataPortal/member.uid___A002_X758152_Xa._G0.25p0.02__sci.spw20_265500MHz.mos.7m.cube.I.mask.fits.gz                           ... application/octet-stream        1114586     True\n",
       "2012.1.00133.S_uid___A002_X758152_Xa_001_of_001.tar            https://almascience.nrao.edu/dataPortal/member.uid___A002_X758152_Xa._G0.25p0.02__sci.spw20_265500MHz.mos.7m.cube.I.pb.fits.gz                           ... application/octet-stream      749556385     True\n",
       "2012.1.00133.S_uid___A002_X758152_Xa_001_of_001.tar            https://almascience.nrao.edu/dataPortal/member.uid___A002_X758152_Xa._G0.25p0.02__sci.spw20_265500MHz.mos.7m.cube.I.pbcor.fits                           ... application/octet-stream     1095373440     True\n",
       "2012.1.00133.S_uid___A002_X758152_Xa_001_of_001.tar           https://almascience.nrao.edu/dataPortal/member.uid___A002_X758152_Xa._G0.25p0.02__sci.spw20_265517MHz.mos.7m.mfs.I.mask.fits.gz                           ... application/octet-stream           2114     True\n",
       "2012.1.00133.S_uid___A002_X758152_Xa_001_of_001.tar             https://almascience.nrao.edu/dataPortal/member.uid___A002_X758152_Xa._G0.25p0.02__sci.spw20_265517MHz.mos.7m.mfs.I.pb.fits.gz                           ... application/octet-stream         184954     True\n",
       "2012.1.00133.S_uid___A002_X758152_Xa_001_of_001.tar             https://almascience.nrao.edu/dataPortal/member.uid___A002_X758152_Xa._G0.25p0.02__sci.spw20_265517MHz.mos.7m.mfs.I.pbcor.fits                           ... application/octet-stream         282240     True\n",
       "2012.1.00133.S_uid___A002_X758152_Xa_001_of_001.tar          https://almascience.nrao.edu/dataPortal/member.uid___A002_X758152_Xa._G0.25p0.02__sci.spw22_267558MHz.mos.7m.cube.I.mask.fits.gz                           ... application/octet-stream        1080772     True\n",
       "2012.1.00133.S_uid___A002_X758152_Xa_001_of_001.tar            https://almascience.nrao.edu/dataPortal/member.uid___A002_X758152_Xa._G0.25p0.02__sci.spw22_267558MHz.mos.7m.cube.I.pb.fits.gz                           ... application/octet-stream      749905891     True\n",
       "2012.1.00133.S_uid___A002_X758152_Xa_001_of_001.tar            https://almascience.nrao.edu/dataPortal/member.uid___A002_X758152_Xa._G0.25p0.02__sci.spw22_267558MHz.mos.7m.cube.I.pbcor.fits                           ... application/octet-stream     1095373440     True\n",
       "2012.1.00133.S_uid___A002_X758152_Xa_001_of_001.tar           https://almascience.nrao.edu/dataPortal/member.uid___A002_X758152_Xa._G0.25p0.02__sci.spw22_267559MHz.mos.7m.mfs.I.mask.fits.gz                           ... application/octet-stream           2059     True\n",
       "2012.1.00133.S_uid___A002_X758152_Xa_001_of_001.tar             https://almascience.nrao.edu/dataPortal/member.uid___A002_X758152_Xa._G0.25p0.02__sci.spw22_267559MHz.mos.7m.mfs.I.pb.fits.gz                           ... application/octet-stream         185301     True\n",
       "2012.1.00133.S_uid___A002_X758152_Xa_001_of_001.tar             https://almascience.nrao.edu/dataPortal/member.uid___A002_X758152_Xa._G0.25p0.02__sci.spw22_267559MHz.mos.7m.mfs.I.pbcor.fits                           ... application/octet-stream         282240     True"
      ]
     },
     "execution_count": 6,
     "metadata": {},
     "output_type": "execute_result"
    }
   ],
   "source": [
    "brick_guido = Alma.query({'project_code': '2012.1.00133.S', 'source_name_alma': 'G0.25+0.02'})\n",
    "brick_guido_files = Alma.get_data_info(brick_guido['member_ous_uid'], expand_tarfiles=True, with_auxiliary=False, with_rawdata=False)\n",
    "brick_guido_files\n",
    "#Alma.download_and_extract_files([x for x in brick_guido_files['access_url'] if '001.tar' in x])"
   ]
  },
  {
   "cell_type": "code",
   "execution_count": 15,
   "id": "1858e126-ac75-472b-8bb8-f9244715c16f",
   "metadata": {},
   "outputs": [
    {
     "name": "stdout",
     "output_type": "stream",
     "text": [
      "INFO: Found cached file ./member.uid___A002_X758152_X8.G0.25p0.02_cont.fits with expected size 2232000. [astroquery.query]\n",
      "INFO: Found cached file ./member.uid___A002_X758152_X8.G0.25p0.02_cont.pbcorr.fits with expected size 2168640. [astroquery.query]\n",
      "INFO: Found cached file ./member.uid___A002_X758152_X8.G0.25p0.02_freq251.5GHz.image.fits with expected size 192939840. [astroquery.query]\n",
      "Downloading URL https://almascience.nrao.edu/dataPortal/member.uid___A002_X758152_Xa._G0.25p0.02__sci.spw16_18_20_22_259640MHz.mos.7m.cont.I.pbcor.fits to ./member.uid___A002_X758152_Xa._G0.25p0.02__sci.spw16_18_20_22_259640MHz.mos.7m.cont.I.pbcor.fits ... [Done]\n",
      "Downloading URL https://almascience.nrao.edu/dataPortal/member.uid___A002_X758152_Xa._G0.25p0.02__sci.spw16_251500MHz.mos.7m.cube.I.pbcor.fits to ./member.uid___A002_X758152_Xa._G0.25p0.02__sci.spw16_251500MHz.mos.7m.cube.I.pbcor.fits ... [Done]\n",
      "Downloading URL https://almascience.nrao.edu/dataPortal/member.uid___A002_X758152_Xa._G0.25p0.02__sci.spw16_251611MHz.mos.7m.mfs.I.pbcor.fits to ./member.uid___A002_X758152_Xa._G0.25p0.02__sci.spw16_251611MHz.mos.7m.mfs.I.pbcor.fits ... [Done]\n",
      "Downloading URL https://almascience.nrao.edu/dataPortal/member.uid___A002_X758152_Xa._G0.25p0.02__sci.spw18_253500MHz.mos.7m.cube.I.pbcor.fits to ./member.uid___A002_X758152_Xa._G0.25p0.02__sci.spw18_253500MHz.mos.7m.cube.I.pbcor.fits ... [Done]\n",
      "Downloading URL https://almascience.nrao.edu/dataPortal/member.uid___A002_X758152_Xa._G0.25p0.02__sci.spw18_253504MHz.mos.7m.mfs.I.pbcor.fits to ./member.uid___A002_X758152_Xa._G0.25p0.02__sci.spw18_253504MHz.mos.7m.mfs.I.pbcor.fits ... [Done]\n",
      "Downloading URL https://almascience.nrao.edu/dataPortal/member.uid___A002_X758152_Xa._G0.25p0.02__sci.spw20_265500MHz.mos.7m.cube.I.pbcor.fits to ./member.uid___A002_X758152_Xa._G0.25p0.02__sci.spw20_265500MHz.mos.7m.cube.I.pbcor.fits ... [Done]\n",
      "Downloading URL https://almascience.nrao.edu/dataPortal/member.uid___A002_X758152_Xa._G0.25p0.02__sci.spw20_265517MHz.mos.7m.mfs.I.pbcor.fits to ./member.uid___A002_X758152_Xa._G0.25p0.02__sci.spw20_265517MHz.mos.7m.mfs.I.pbcor.fits ... [Done]\n",
      "Downloading URL https://almascience.nrao.edu/dataPortal/member.uid___A002_X758152_Xa._G0.25p0.02__sci.spw22_267558MHz.mos.7m.cube.I.pbcor.fits to ./member.uid___A002_X758152_Xa._G0.25p0.02__sci.spw22_267558MHz.mos.7m.cube.I.pbcor.fits ... [Done]\n",
      "Downloading URL https://almascience.nrao.edu/dataPortal/member.uid___A002_X758152_Xa._G0.25p0.02__sci.spw22_267559MHz.mos.7m.mfs.I.pbcor.fits to ./member.uid___A002_X758152_Xa._G0.25p0.02__sci.spw22_267559MHz.mos.7m.mfs.I.pbcor.fits ... [Done]\n"
     ]
    },
    {
     "data": {
      "text/plain": [
       "['./member.uid___A002_X758152_X8.G0.25p0.02_cont.fits',\n",
       " './member.uid___A002_X758152_X8.G0.25p0.02_cont.pbcorr.fits',\n",
       " './member.uid___A002_X758152_X8.G0.25p0.02_freq251.5GHz.image.fits',\n",
       " './member.uid___A002_X758152_Xa._G0.25p0.02__sci.spw16_18_20_22_259640MHz.mos.7m.cont.I.pbcor.fits',\n",
       " './member.uid___A002_X758152_Xa._G0.25p0.02__sci.spw16_251500MHz.mos.7m.cube.I.pbcor.fits',\n",
       " './member.uid___A002_X758152_Xa._G0.25p0.02__sci.spw16_251611MHz.mos.7m.mfs.I.pbcor.fits',\n",
       " './member.uid___A002_X758152_Xa._G0.25p0.02__sci.spw18_253500MHz.mos.7m.cube.I.pbcor.fits',\n",
       " './member.uid___A002_X758152_Xa._G0.25p0.02__sci.spw18_253504MHz.mos.7m.mfs.I.pbcor.fits',\n",
       " './member.uid___A002_X758152_Xa._G0.25p0.02__sci.spw20_265500MHz.mos.7m.cube.I.pbcor.fits',\n",
       " './member.uid___A002_X758152_Xa._G0.25p0.02__sci.spw20_265517MHz.mos.7m.mfs.I.pbcor.fits',\n",
       " './member.uid___A002_X758152_Xa._G0.25p0.02__sci.spw22_267558MHz.mos.7m.cube.I.pbcor.fits',\n",
       " './member.uid___A002_X758152_Xa._G0.25p0.02__sci.spw22_267559MHz.mos.7m.mfs.I.pbcor.fits']"
      ]
     },
     "execution_count": 15,
     "metadata": {},
     "output_type": "execute_result"
    }
   ],
   "source": [
    "Alma.download_files([x for x in brick_guido_files['access_url'] if 'G0.25' in x and x.endswith('fits')])"
   ]
  },
  {
   "cell_type": "code",
   "execution_count": null,
   "id": "a609858d-3cec-4df0-8721-45bd8d54a128",
   "metadata": {},
   "outputs": [],
   "source": []
  }
 ],
 "metadata": {
  "kernelspec": {
   "display_name": "python39",
   "language": "python",
   "name": "python39"
  },
  "language_info": {
   "codemirror_mode": {
    "name": "ipython",
    "version": 3
   },
   "file_extension": ".py",
   "mimetype": "text/x-python",
   "name": "python",
   "nbconvert_exporter": "python",
   "pygments_lexer": "ipython3",
   "version": "3.9.13"
  }
 },
 "nbformat": 4,
 "nbformat_minor": 5
}
