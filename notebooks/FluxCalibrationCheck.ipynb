{
 "cells": [
  {
   "cell_type": "markdown",
   "id": "16110c01-fe4a-4f40-bd2e-c949f1580abb",
   "metadata": {},
   "source": [
    "# See VVVGaiaAstrometry instead"
   ]
  },
  {
   "cell_type": "markdown",
   "id": "c50f9b1a-7ef7-491c-b782-233b461c9885",
   "metadata": {},
   "source": [
    "# Flux Calibration check\n",
    "\n",
    "Goal: check calibration against VVV (should be OK for the short wavelength bands).\n",
    "\n",
    "Try to check against Spitzer too, but that might not work very well.\n",
    "\n",
    "Check difference between NRCA and NRCB"
   ]
  },
  {
   "cell_type": "code",
   "execution_count": null,
   "id": "d86faf9f-0a93-43bb-8a5e-fba8bb040337",
   "metadata": {},
   "outputs": [],
   "source": []
  },
  {
   "cell_type": "code",
   "execution_count": 1,
   "id": "67c4ed9f-afc8-4ff6-9fa6-cc03bfae2886",
   "metadata": {},
   "outputs": [],
   "source": [
    "import numpy as np"
   ]
  },
  {
   "cell_type": "code",
   "execution_count": 2,
   "id": "2c2ed3b4-5101-43bc-bb7f-d81c68b51c58",
   "metadata": {},
   "outputs": [],
   "source": [
    "import astropy.units as u\n",
    "from astropy.coordinates import SkyCoord\n",
    "from astroquery.gaia import Gaia\n",
    "from astropy.table import Table\n",
    "from astropy.io import fits\n",
    "from astropy import wcs\n",
    "from astropy.wcs import WCS\n",
    "import regions\n",
    "from astroquery.vizier import Vizier"
   ]
  },
  {
   "cell_type": "code",
   "execution_count": 3,
   "id": "a18a76d1-bd18-4d2f-9079-6155a8acb09f",
   "metadata": {},
   "outputs": [],
   "source": [
    "from astropy.visualization import quantity_support"
   ]
  },
  {
   "cell_type": "code",
   "execution_count": 4,
   "id": "25316880-6a16-4d8d-aab0-16057a6f9e18",
   "metadata": {},
   "outputs": [],
   "source": [
    "%matplotlib inline\n",
    "import pylab as pl"
   ]
  },
  {
   "cell_type": "code",
   "execution_count": 5,
   "id": "b51216c2-2f92-42fa-98fe-9d00ee06b193",
   "metadata": {},
   "outputs": [],
   "source": [
    "basepath = '/orange/adamginsburg/jwst/brick/'"
   ]
  },
  {
   "cell_type": "code",
   "execution_count": 6,
   "id": "57eebb55-3d4b-4d69-8b83-ea30f1017b8f",
   "metadata": {},
   "outputs": [],
   "source": [
    "fov = regions.Regions.read(f'{basepath}/regions_/nircam_brick_fov.reg')"
   ]
  },
  {
   "cell_type": "code",
   "execution_count": 7,
   "id": "0becccbd-3966-4594-9fb0-b353b76fe840",
   "metadata": {
    "tags": []
   },
   "outputs": [
    {
     "data": {
      "text/plain": [
       "(<SkyCoord (ICRS): (ra, dec) in deg\n",
       "     (266.53496367, -28.71007499)>,\n",
       " <Quantity 161.9038 arcsec>,\n",
       " <Quantity 391.024 arcsec>)"
      ]
     },
     "execution_count": 7,
     "metadata": {},
     "output_type": "execute_result"
    }
   ],
   "source": [
    "coord = fov[0].center\n",
    "height = fov[0].height\n",
    "width = fov[0].width\n",
    "height, width = width, height # CARTA wrote it wrong\n",
    "coord, width, height"
   ]
  },
  {
   "cell_type": "code",
   "execution_count": 8,
   "id": "869be592-5aca-41d5-9a97-71098182090c",
   "metadata": {},
   "outputs": [
    {
     "data": {
      "text/plain": [
       "50"
      ]
     },
     "execution_count": 8,
     "metadata": {},
     "output_type": "execute_result"
    }
   ],
   "source": [
    "vvvdr2 = Vizier.query_region(coordinates=coord, width=width, height=height, catalog=['II/348/vvv2'])[0]\n",
    "vvvdr2[:3]\n",
    "len(vvvdr2)"
   ]
  }
 ],
 "metadata": {
  "kernelspec": {
   "display_name": "python39",
   "language": "python",
   "name": "python39"
  },
  "language_info": {
   "codemirror_mode": {
    "name": "ipython",
    "version": 3
   },
   "file_extension": ".py",
   "mimetype": "text/x-python",
   "name": "python",
   "nbconvert_exporter": "python",
   "pygments_lexer": "ipython3",
   "version": "3.9.13"
  }
 },
 "nbformat": 4,
 "nbformat_minor": 5
}
