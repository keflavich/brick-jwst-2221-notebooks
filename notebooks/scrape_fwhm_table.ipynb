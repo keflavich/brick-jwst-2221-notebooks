{
 "cells": [
  {
   "cell_type": "code",
   "execution_count": 1,
   "id": "016b4515-e215-490a-a836-b18ac3fd5a82",
   "metadata": {},
   "outputs": [],
   "source": [
    "import requests"
   ]
  },
  {
   "cell_type": "code",
   "execution_count": 2,
   "id": "a2c7e73b-9e68-4639-bb0d-10341d0bc84a",
   "metadata": {},
   "outputs": [],
   "source": [
    "page = requests.get('https://jwst-docs.stsci.edu/jwst-near-infrared-camera/nircam-performance/nircam-point-spread-functions#NIRCamPointSpreadFunctions-PSFFWHM')"
   ]
  },
  {
   "cell_type": "code",
   "execution_count": 3,
   "id": "353b443d-0630-460f-b5ad-3bb4dfd01188",
   "metadata": {},
   "outputs": [],
   "source": [
    "from astropy.table import Table"
   ]
  },
  {
   "cell_type": "code",
   "execution_count": 5,
   "id": "acb252fb-4549-42f2-aec6-d7c62234c8d5",
   "metadata": {},
   "outputs": [
    {
     "data": {
      "text/html": [
       "<div><i>Table length=29</i>\n",
       "<table id=\"table47738797950144\" class=\"table-striped table-bordered table-condensed\">\n",
       "<thead><tr><th>Filter</th><th>Wavelength(µm)</th><th>PSF FWHM (arcsec)</th><th>PSF FWHM (pixel)</th></tr></thead>\n",
       "<thead><tr><th>str6[1]</th><th>float64[1]</th><th>float64[1]</th><th>float64[1]</th></tr></thead>\n",
       "<tr><td>F070W</td><td>0.704</td><td>0.03</td><td>0.987</td></tr>\n",
       "<tr><td>F090W</td><td>0.902</td><td>0.034</td><td>1.103</td></tr>\n",
       "<tr><td>F115W</td><td>1.154</td><td>0.04</td><td>1.298</td></tr>\n",
       "<tr><td>F140M</td><td>1.405</td><td>0.048</td><td>1.553</td></tr>\n",
       "<tr><td>F150W</td><td>1.501</td><td>0.05</td><td>1.628</td></tr>\n",
       "<tr><td>F162M</td><td>1.627</td><td>0.055</td><td>1.77</td></tr>\n",
       "<tr><td>F164N</td><td>1.645</td><td>0.056</td><td>1.801</td></tr>\n",
       "<tr><td>F150W2</td><td>1.659</td><td>0.046</td><td>1.494</td></tr>\n",
       "<tr><td>F182M</td><td>1.845</td><td>0.062</td><td>1.99</td></tr>\n",
       "<tr><td>F187N</td><td>1.874</td><td>0.064</td><td>2.06</td></tr>\n",
       "<tr><td>F200W</td><td>1.989</td><td>0.066</td><td>2.141</td></tr>\n",
       "<tr><td>F210M</td><td>2.095</td><td>0.071</td><td>2.304</td></tr>\n",
       "<tr><td>F212N</td><td>2.121</td><td>0.072</td><td>2.341</td></tr>\n",
       "<tr><td>F250M</td><td>2.503</td><td>0.084</td><td>1.34</td></tr>\n",
       "<tr><td>F277W</td><td>2.762</td><td>0.091</td><td>1.444</td></tr>\n",
       "<tr><td>F300M</td><td>2.989</td><td>0.1</td><td>1.585</td></tr>\n",
       "<tr><td>F322W2</td><td>3.232</td><td>0.097</td><td>1.547</td></tr>\n",
       "<tr><td>F323N</td><td>3.237</td><td>0.108</td><td>1.711</td></tr>\n",
       "<tr><td>F335M</td><td>3.362</td><td>0.111</td><td>1.76</td></tr>\n",
       "<tr><td>F356W</td><td>3.568</td><td>0.115</td><td>1.83</td></tr>\n",
       "<tr><td>F360M</td><td>3.624</td><td>0.12</td><td>1.901</td></tr>\n",
       "<tr><td>F405N</td><td>4.052</td><td>0.136</td><td>2.165</td></tr>\n",
       "<tr><td>F410M</td><td>4.082</td><td>0.137</td><td>2.179</td></tr>\n",
       "<tr><td>F430M</td><td>4.281</td><td>0.145</td><td>2.3</td></tr>\n",
       "<tr><td>F444W</td><td>4.408</td><td>0.145</td><td>2.302</td></tr>\n",
       "<tr><td>F460M</td><td>4.63</td><td>0.155</td><td>2.459</td></tr>\n",
       "<tr><td>F466N</td><td>4.654</td><td>0.158</td><td>2.507</td></tr>\n",
       "<tr><td>F470N</td><td>4.708</td><td>0.16</td><td>2.535</td></tr>\n",
       "<tr><td>F480M</td><td>4.874</td><td>0.162</td><td>2.574</td></tr>\n",
       "</table></div>"
      ],
      "text/plain": [
       "<Table length=29>\n",
       " Filter Wavelength(µm) PSF FWHM (arcsec) PSF FWHM (pixel)\n",
       "str6[1]   float64[1]       float64[1]       float64[1]   \n",
       "------- -------------- ----------------- ----------------\n",
       "  F070W          0.704              0.03            0.987\n",
       "  F090W          0.902             0.034            1.103\n",
       "  F115W          1.154              0.04            1.298\n",
       "  F140M          1.405             0.048            1.553\n",
       "  F150W          1.501              0.05            1.628\n",
       "  F162M          1.627             0.055             1.77\n",
       "  F164N          1.645             0.056            1.801\n",
       " F150W2          1.659             0.046            1.494\n",
       "  F182M          1.845             0.062             1.99\n",
       "  F187N          1.874             0.064             2.06\n",
       "  F200W          1.989             0.066            2.141\n",
       "  F210M          2.095             0.071            2.304\n",
       "  F212N          2.121             0.072            2.341\n",
       "  F250M          2.503             0.084             1.34\n",
       "  F277W          2.762             0.091            1.444\n",
       "  F300M          2.989               0.1            1.585\n",
       " F322W2          3.232             0.097            1.547\n",
       "  F323N          3.237             0.108            1.711\n",
       "  F335M          3.362             0.111             1.76\n",
       "  F356W          3.568             0.115             1.83\n",
       "  F360M          3.624              0.12            1.901\n",
       "  F405N          4.052             0.136            2.165\n",
       "  F410M          4.082             0.137            2.179\n",
       "  F430M          4.281             0.145              2.3\n",
       "  F444W          4.408             0.145            2.302\n",
       "  F460M           4.63             0.155            2.459\n",
       "  F466N          4.654             0.158            2.507\n",
       "  F470N          4.708              0.16            2.535\n",
       "  F480M          4.874             0.162            2.574"
      ]
     },
     "execution_count": 5,
     "metadata": {},
     "output_type": "execute_result"
    }
   ],
   "source": [
    "tbl = Table.read(page.text, format='html')\n",
    "tbl"
   ]
  },
  {
   "cell_type": "code",
   "execution_count": 7,
   "id": "d7f8f958-6b12-4ad1-9ff8-163163704613",
   "metadata": {},
   "outputs": [],
   "source": [
    "tbl.write('../reduction/fwhm_table.ecsv', overwrite=True, format='ascii.ecsv')"
   ]
  },
  {
   "cell_type": "code",
   "execution_count": 12,
   "id": "b0ce222a-e30c-4473-8194-22682cb73826",
   "metadata": {},
   "outputs": [],
   "source": [
    "tbl.add_index('Filter')"
   ]
  },
  {
   "cell_type": "code",
   "execution_count": 22,
   "id": "aa4d6f7d-76da-4299-94f5-c7700f682303",
   "metadata": {},
   "outputs": [
    {
     "data": {
      "text/html": [
       "<div><i>Table length=1</i>\n",
       "<table id=\"table47738832970752\" class=\"table-striped table-bordered table-condensed\">\n",
       "<thead><tr><th>Filter</th><th>Wavelength(µm)</th><th>PSF FWHM (arcsec)</th><th>PSF FWHM (pixel)</th></tr></thead>\n",
       "<thead><tr><th>str6</th><th>float64</th><th>float64</th><th>float64</th></tr></thead>\n",
       "<tr><td>F470N</td><td>4.708</td><td>0.16</td><td>2.535</td></tr>\n",
       "</table></div>"
      ],
      "text/plain": [
       "<Table length=1>\n",
       "Filter Wavelength(µm) PSF FWHM (arcsec) PSF FWHM (pixel)\n",
       " str6     float64          float64          float64     \n",
       "------ -------------- ----------------- ----------------\n",
       " F470N          4.708              0.16            2.535"
      ]
     },
     "execution_count": 22,
     "metadata": {},
     "output_type": "execute_result"
    }
   ],
   "source": [
    "tbl[tbl['Filter'] == 'F470N']"
   ]
  },
  {
   "cell_type": "code",
   "execution_count": 28,
   "id": "6297def9-9b04-41ad-a29d-0c56273108c1",
   "metadata": {},
   "outputs": [
    {
     "data": {
      "text/plain": [
       "(0.158, 2.507)"
      ]
     },
     "execution_count": 28,
     "metadata": {},
     "output_type": "execute_result"
    }
   ],
   "source": [
    "basepath = '/orange/adamginsburg/jwst/brick/'\n",
    "filtername = 'F466N'\n",
    "fwhm_tbl = Table.read(f'{basepath}/reduction/fwhm_table.ecsv')\n",
    "row = fwhm_tbl[fwhm_tbl['Filter'] == filtername]\n",
    "fwhm = fwhm_arcsec = row['PSF FWHM (arcsec)'][0]\n",
    "fwhm_pix = row['PSF FWHM (pixel)'][0]\n",
    "fwhm, fwhm_pix"
   ]
  },
  {
   "cell_type": "code",
   "execution_count": null,
   "id": "fc958862-3c40-426e-8c1c-ed8b1a86091d",
   "metadata": {},
   "outputs": [],
   "source": []
  }
 ],
 "metadata": {
  "kernelspec": {
   "display_name": "python39",
   "language": "python",
   "name": "python39"
  },
  "language_info": {
   "codemirror_mode": {
    "name": "ipython",
    "version": 3
   },
   "file_extension": ".py",
   "mimetype": "text/x-python",
   "name": "python",
   "nbconvert_exporter": "python",
   "pygments_lexer": "ipython3",
   "version": "3.9.13"
  }
 },
 "nbformat": 4,
 "nbformat_minor": 5
}
