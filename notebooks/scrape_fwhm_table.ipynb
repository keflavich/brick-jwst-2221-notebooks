{
 "cells": [
  {
   "cell_type": "code",
   "execution_count": 1,
   "id": "016b4515-e215-490a-a836-b18ac3fd5a82",
   "metadata": {},
   "outputs": [],
   "source": [
    "import requests"
   ]
  },
  {
   "cell_type": "code",
   "execution_count": 2,
   "id": "a2c7e73b-9e68-4639-bb0d-10341d0bc84a",
   "metadata": {},
   "outputs": [],
   "source": [
    "page = requests.get('https://jwst-docs.stsci.edu/jwst-near-infrared-camera/nircam-performance/nircam-point-spread-functions#NIRCamPointSpreadFunctions-PSFFWHM')"
   ]
  },
  {
   "cell_type": "code",
   "execution_count": 3,
   "id": "353b443d-0630-460f-b5ad-3bb4dfd01188",
   "metadata": {},
   "outputs": [],
   "source": [
    "from astropy.table import Table"
   ]
  },
  {
   "cell_type": "code",
   "execution_count": 7,
   "id": "acb252fb-4549-42f2-aec6-d7c62234c8d5",
   "metadata": {},
   "outputs": [
    {
     "data": {
      "text/html": [
       "<div><i>Table length=29</i>\n",
       "<table id=\"table22361176982048\" class=\"table-striped table-bordered table-condensed\">\n",
       "<thead><tr><th>Filter</th><th>Wavelength</th><th>Simulated FWHM</th><th>Empirical FWHM</th></tr></thead>\n",
       "<thead><tr><th>str6</th><th>float64</th><th>float64[2]</th><th>float64[2]</th></tr></thead>\n",
       "<tr><td>F070W</td><td>0.704</td><td>0.023 .. 0.742</td><td>0.029 .. 0.935</td></tr>\n",
       "<tr><td>F090W</td><td>0.901</td><td>0.03 .. 0.968</td><td>0.033 .. 1.065</td></tr>\n",
       "<tr><td>F115W</td><td>1.154</td><td>0.037 .. 1.194</td><td>0.04 .. 1.29</td></tr>\n",
       "<tr><td>F140M</td><td>1.404</td><td>0.046 .. 1.484</td><td>0.048 .. 1.548</td></tr>\n",
       "<tr><td>F150W</td><td>1.501</td><td>0.049 .. 1.581</td><td>0.05 .. 1.613</td></tr>\n",
       "<tr><td>F162M</td><td>1.626</td><td>0.053 .. 1.71</td><td>0.055 .. 1.774</td></tr>\n",
       "<tr><td>F164N</td><td>1.644</td><td>0.054 .. 1.742</td><td>0.056 .. 1.806</td></tr>\n",
       "<tr><td>F150W2</td><td>1.671</td><td>0.045 .. 1.452</td><td>0.0 .. 0.0</td></tr>\n",
       "<tr><td>F182M</td><td>1.845</td><td>0.06 .. 1.935</td><td>0.062 .. 2.0</td></tr>\n",
       "<tr><td>F187N</td><td>1.874</td><td>0.061 .. 1.968</td><td>0.064 .. 2.065</td></tr>\n",
       "<tr><td>F200W</td><td>1.99</td><td>0.064 .. 2.065</td><td>0.066 .. 2.129</td></tr>\n",
       "<tr><td>F210M</td><td>2.093</td><td>0.068 .. 2.194</td><td>0.071 .. 2.29</td></tr>\n",
       "<tr><td>F212N</td><td>2.12</td><td>0.069 .. 2.226</td><td>0.072 .. 2.323</td></tr>\n",
       "<tr><td>F250M</td><td>2.503</td><td>0.082 .. 1.302</td><td>0.085 .. 1.349</td></tr>\n",
       "<tr><td>F277W</td><td>2.786</td><td>0.088 .. 1.397</td><td>0.092 .. 1.46</td></tr>\n",
       "<tr><td>F300M</td><td>2.996</td><td>0.097 .. 1.54</td><td>0.1 .. 1.587</td></tr>\n",
       "<tr><td>F322W2</td><td>3.247</td><td>0.096 .. 1.524</td><td>0.0 .. 0.0</td></tr>\n",
       "<tr><td>F323N</td><td>3.237</td><td>0.106 .. 1.683</td><td>0.108 .. 1.714</td></tr>\n",
       "<tr><td>F335M</td><td>3.365</td><td>0.109 .. 1.73</td><td>0.111 .. 1.762</td></tr>\n",
       "<tr><td>F356W</td><td>3.563</td><td>0.114 .. 1.81</td><td>0.116 .. 1.841</td></tr>\n",
       "<tr><td>F360M</td><td>3.621</td><td>0.118 .. 1.873</td><td>0.12 .. 1.905</td></tr>\n",
       "<tr><td>F405N</td><td>4.055</td><td>0.132 .. 2.095</td><td>0.136 .. 2.159</td></tr>\n",
       "<tr><td>F410M</td><td>4.092</td><td>0.133 .. 2.111</td><td>0.137 .. 2.175</td></tr>\n",
       "<tr><td>F430M</td><td>4.28</td><td>0.139 .. 2.206</td><td>0.144 .. 2.286</td></tr>\n",
       "<tr><td>F444W</td><td>4.421</td><td>0.14 .. 2.222</td><td>0.145 .. 2.302</td></tr>\n",
       "<tr><td>F460M</td><td>4.624</td><td>0.151 .. 2.397</td><td>0.157 .. 2.492</td></tr>\n",
       "<tr><td>F466N</td><td>4.654</td><td>0.152 .. 2.413</td><td>0.158 .. 2.508</td></tr>\n",
       "<tr><td>F470N</td><td>4.707</td><td>0.154 .. 2.444</td><td>0.16 .. 2.54</td></tr>\n",
       "<tr><td>F480M</td><td>4.834</td><td>0.157 .. 2.492</td><td>0.164 .. 2.603</td></tr>\n",
       "</table></div>"
      ],
      "text/plain": [
       "<Table length=29>\n",
       "Filter Wavelength Simulated FWHM Empirical FWHM\n",
       " str6   float64     float64[2]     float64[2]  \n",
       "------ ---------- -------------- --------------\n",
       " F070W      0.704 0.023 .. 0.742 0.029 .. 0.935\n",
       " F090W      0.901  0.03 .. 0.968 0.033 .. 1.065\n",
       " F115W      1.154 0.037 .. 1.194   0.04 .. 1.29\n",
       " F140M      1.404 0.046 .. 1.484 0.048 .. 1.548\n",
       " F150W      1.501 0.049 .. 1.581  0.05 .. 1.613\n",
       " F162M      1.626  0.053 .. 1.71 0.055 .. 1.774\n",
       " F164N      1.644 0.054 .. 1.742 0.056 .. 1.806\n",
       "F150W2      1.671 0.045 .. 1.452     0.0 .. 0.0\n",
       " F182M      1.845  0.06 .. 1.935   0.062 .. 2.0\n",
       " F187N      1.874 0.061 .. 1.968 0.064 .. 2.065\n",
       " F200W       1.99 0.064 .. 2.065 0.066 .. 2.129\n",
       " F210M      2.093 0.068 .. 2.194  0.071 .. 2.29\n",
       " F212N       2.12 0.069 .. 2.226 0.072 .. 2.323\n",
       " F250M      2.503 0.082 .. 1.302 0.085 .. 1.349\n",
       " F277W      2.786 0.088 .. 1.397  0.092 .. 1.46\n",
       " F300M      2.996  0.097 .. 1.54   0.1 .. 1.587\n",
       "F322W2      3.247 0.096 .. 1.524     0.0 .. 0.0\n",
       " F323N      3.237 0.106 .. 1.683 0.108 .. 1.714\n",
       " F335M      3.365  0.109 .. 1.73 0.111 .. 1.762\n",
       " F356W      3.563  0.114 .. 1.81 0.116 .. 1.841\n",
       " F360M      3.621 0.118 .. 1.873  0.12 .. 1.905\n",
       " F405N      4.055 0.132 .. 2.095 0.136 .. 2.159\n",
       " F410M      4.092 0.133 .. 2.111 0.137 .. 2.175\n",
       " F430M       4.28 0.139 .. 2.206 0.144 .. 2.286\n",
       " F444W      4.421  0.14 .. 2.222 0.145 .. 2.302\n",
       " F460M      4.624 0.151 .. 2.397 0.157 .. 2.492\n",
       " F466N      4.654 0.152 .. 2.413 0.158 .. 2.508\n",
       " F470N      4.707 0.154 .. 2.444   0.16 .. 2.54\n",
       " F480M      4.834 0.157 .. 2.492 0.164 .. 2.603"
      ]
     },
     "execution_count": 7,
     "metadata": {},
     "output_type": "execute_result"
    }
   ],
   "source": [
    "tbl = Table.read(page.text, format='html')\n",
    "tbl.rename_column('col0', 'Filter')\n",
    "tbl.rename_column('_1', 'Wavelength')\n",
    "tbl"
   ]
  },
  {
   "cell_type": "code",
   "execution_count": 8,
   "id": "d7f8f958-6b12-4ad1-9ff8-163163704613",
   "metadata": {},
   "outputs": [],
   "source": [
    "tbl.write('../reduction/fwhm_table_nircam.ecsv', overwrite=True, format='ascii.ecsv')"
   ]
  },
  {
   "cell_type": "code",
   "execution_count": 9,
   "id": "b0ce222a-e30c-4473-8194-22682cb73826",
   "metadata": {},
   "outputs": [],
   "source": [
    "tbl.add_index('Filter')"
   ]
  },
  {
   "cell_type": "code",
   "execution_count": 10,
   "id": "aa4d6f7d-76da-4299-94f5-c7700f682303",
   "metadata": {},
   "outputs": [
    {
     "data": {
      "text/html": [
       "<div><i>Table length=1</i>\n",
       "<table id=\"table22361185955952\" class=\"table-striped table-bordered table-condensed\">\n",
       "<thead><tr><th>Filter</th><th>Wavelength</th><th>Simulated FWHM</th><th>Empirical FWHM</th></tr></thead>\n",
       "<thead><tr><th>str6</th><th>float64</th><th>float64[2]</th><th>float64[2]</th></tr></thead>\n",
       "<tr><td>F470N</td><td>4.707</td><td>0.154 .. 2.444</td><td>0.16 .. 2.54</td></tr>\n",
       "</table></div>"
      ],
      "text/plain": [
       "<Table length=1>\n",
       "Filter Wavelength Simulated FWHM Empirical FWHM\n",
       " str6   float64     float64[2]     float64[2]  \n",
       "------ ---------- -------------- --------------\n",
       " F470N      4.707 0.154 .. 2.444   0.16 .. 2.54"
      ]
     },
     "execution_count": 10,
     "metadata": {},
     "output_type": "execute_result"
    }
   ],
   "source": [
    "tbl[tbl['Filter'] == 'F470N']"
   ]
  },
  {
   "cell_type": "code",
   "execution_count": 53,
   "id": "6297def9-9b04-41ad-a29d-0c56273108c1",
   "metadata": {},
   "outputs": [
    {
     "data": {
      "text/plain": [
       "(0.158, 2.507)"
      ]
     },
     "execution_count": 53,
     "metadata": {},
     "output_type": "execute_result"
    }
   ],
   "source": [
    "basepath = '/orange/adamginsburg/jwst/brick/'\n",
    "filtername = 'F466N'\n",
    "fwhm_tbl = Table.read(f'{basepath}/reduction/fwhm_table.ecsv')\n",
    "row = fwhm_tbl[fwhm_tbl['Filter'] == filtername]\n",
    "fwhm = fwhm_arcsec = row['PSF FWHM (arcsec)'][0]\n",
    "fwhm_pix = row['PSF FWHM (pixel)'][0]\n",
    "fwhm, fwhm_pix"
   ]
  },
  {
   "cell_type": "code",
   "execution_count": 54,
   "id": "76764051-50c0-4a98-9ead-c3444dc635bb",
   "metadata": {},
   "outputs": [
    {
     "data": {
      "text/html": [
       "<div><i>Table length=29</i>\n",
       "<table id=\"table22361185270176\" class=\"table-striped table-bordered table-condensed\">\n",
       "<thead><tr><th>Filter</th><th>Wavelength(µm)</th><th>PSF FWHM (arcsec)</th><th>PSF FWHM (pixel)</th></tr></thead>\n",
       "<thead><tr><th>str6[1]</th><th>float64[1]</th><th>float64[1]</th><th>float64[1]</th></tr></thead>\n",
       "<tr><td>F070W</td><td>0.704</td><td>0.03</td><td>0.987</td></tr>\n",
       "<tr><td>F090W</td><td>0.902</td><td>0.034</td><td>1.103</td></tr>\n",
       "<tr><td>F115W</td><td>1.154</td><td>0.04</td><td>1.298</td></tr>\n",
       "<tr><td>F140M</td><td>1.405</td><td>0.048</td><td>1.553</td></tr>\n",
       "<tr><td>F150W</td><td>1.501</td><td>0.05</td><td>1.628</td></tr>\n",
       "<tr><td>F162M</td><td>1.627</td><td>0.055</td><td>1.77</td></tr>\n",
       "<tr><td>F164N</td><td>1.645</td><td>0.056</td><td>1.801</td></tr>\n",
       "<tr><td>F150W2</td><td>1.659</td><td>0.046</td><td>1.494</td></tr>\n",
       "<tr><td>F182M</td><td>1.845</td><td>0.062</td><td>1.99</td></tr>\n",
       "<tr><td>F187N</td><td>1.874</td><td>0.064</td><td>2.06</td></tr>\n",
       "<tr><td>F200W</td><td>1.989</td><td>0.066</td><td>2.141</td></tr>\n",
       "<tr><td>F210M</td><td>2.095</td><td>0.071</td><td>2.304</td></tr>\n",
       "<tr><td>F212N</td><td>2.121</td><td>0.072</td><td>2.341</td></tr>\n",
       "<tr><td>F250M</td><td>2.503</td><td>0.084</td><td>1.34</td></tr>\n",
       "<tr><td>F277W</td><td>2.762</td><td>0.091</td><td>1.444</td></tr>\n",
       "<tr><td>F300M</td><td>2.989</td><td>0.1</td><td>1.585</td></tr>\n",
       "<tr><td>F322W2</td><td>3.232</td><td>0.097</td><td>1.547</td></tr>\n",
       "<tr><td>F323N</td><td>3.237</td><td>0.108</td><td>1.711</td></tr>\n",
       "<tr><td>F335M</td><td>3.362</td><td>0.111</td><td>1.76</td></tr>\n",
       "<tr><td>F356W</td><td>3.568</td><td>0.115</td><td>1.83</td></tr>\n",
       "<tr><td>F360M</td><td>3.624</td><td>0.12</td><td>1.901</td></tr>\n",
       "<tr><td>F405N</td><td>4.052</td><td>0.136</td><td>2.165</td></tr>\n",
       "<tr><td>F410M</td><td>4.082</td><td>0.137</td><td>2.179</td></tr>\n",
       "<tr><td>F430M</td><td>4.281</td><td>0.145</td><td>2.3</td></tr>\n",
       "<tr><td>F444W</td><td>4.408</td><td>0.145</td><td>2.302</td></tr>\n",
       "<tr><td>F460M</td><td>4.63</td><td>0.155</td><td>2.459</td></tr>\n",
       "<tr><td>F466N</td><td>4.654</td><td>0.158</td><td>2.507</td></tr>\n",
       "<tr><td>F470N</td><td>4.708</td><td>0.16</td><td>2.535</td></tr>\n",
       "<tr><td>F480M</td><td>4.874</td><td>0.162</td><td>2.574</td></tr>\n",
       "</table></div>"
      ],
      "text/plain": [
       "<Table length=29>\n",
       " Filter Wavelength(µm) PSF FWHM (arcsec) PSF FWHM (pixel)\n",
       "str6[1]   float64[1]       float64[1]       float64[1]   \n",
       "------- -------------- ----------------- ----------------\n",
       "  F070W          0.704              0.03            0.987\n",
       "  F090W          0.902             0.034            1.103\n",
       "  F115W          1.154              0.04            1.298\n",
       "  F140M          1.405             0.048            1.553\n",
       "  F150W          1.501              0.05            1.628\n",
       "  F162M          1.627             0.055             1.77\n",
       "  F164N          1.645             0.056            1.801\n",
       " F150W2          1.659             0.046            1.494\n",
       "  F182M          1.845             0.062             1.99\n",
       "  F187N          1.874             0.064             2.06\n",
       "  F200W          1.989             0.066            2.141\n",
       "  F210M          2.095             0.071            2.304\n",
       "  F212N          2.121             0.072            2.341\n",
       "  F250M          2.503             0.084             1.34\n",
       "  F277W          2.762             0.091            1.444\n",
       "  F300M          2.989               0.1            1.585\n",
       " F322W2          3.232             0.097            1.547\n",
       "  F323N          3.237             0.108            1.711\n",
       "  F335M          3.362             0.111             1.76\n",
       "  F356W          3.568             0.115             1.83\n",
       "  F360M          3.624              0.12            1.901\n",
       "  F405N          4.052             0.136            2.165\n",
       "  F410M          4.082             0.137            2.179\n",
       "  F430M          4.281             0.145              2.3\n",
       "  F444W          4.408             0.145            2.302\n",
       "  F460M           4.63             0.155            2.459\n",
       "  F466N          4.654             0.158            2.507\n",
       "  F470N          4.708              0.16            2.535\n",
       "  F480M          4.874             0.162            2.574"
      ]
     },
     "execution_count": 54,
     "metadata": {},
     "output_type": "execute_result"
    }
   ],
   "source": [
    "fwhm_tbl"
   ]
  },
  {
   "cell_type": "markdown",
   "id": "6665cfea-444d-4fd9-897b-576c20dc93b7",
   "metadata": {},
   "source": []
  },
  {
   "cell_type": "markdown",
   "id": "4068d11a-da23-46a9-8cba-c0f02cd87ae1",
   "metadata": {},
   "source": [
    "# MIRI\n"
   ]
  },
  {
   "cell_type": "code",
   "execution_count": 55,
   "id": "b64528ef-a339-4ed6-b07c-0d7f59f11bfc",
   "metadata": {},
   "outputs": [],
   "source": [
    "page = requests.get('https://jwst-docs.stsci.edu/jwst-mid-infrared-instrument/miri-performance/miri-point-spread-functions')"
   ]
  },
  {
   "cell_type": "code",
   "execution_count": 56,
   "id": "da62e7b7-76f5-45da-8b17-ca7ac4300c10",
   "metadata": {},
   "outputs": [],
   "source": [
    "from astropy.table import Table"
   ]
  },
  {
   "cell_type": "code",
   "execution_count": 57,
   "id": "76a85380-0ba4-4700-aa75-8e4f928321e5",
   "metadata": {},
   "outputs": [
    {
     "data": {
      "text/html": [
       "<div><i>Table length=9</i>\n",
       "<table id=\"table22361173127808\" class=\"table-striped table-bordered table-condensed\">\n",
       "<thead><tr><th>Filter</th><th>Wavelength (μm)</th><th>PSF FWHM (arcsec)</th><th>PSF FWHM (pixel)</th></tr></thead>\n",
       "<thead><tr><th>str6</th><th>float64</th><th>float64</th><th>float64</th></tr></thead>\n",
       "<tr><td>F560W</td><td>5.589</td><td>0.207</td><td>1.882</td></tr>\n",
       "<tr><td>F770W</td><td>7.528</td><td>0.269</td><td>2.445</td></tr>\n",
       "<tr><td>F1000W</td><td>9.883</td><td>0.328</td><td>2.982</td></tr>\n",
       "<tr><td>F1130W</td><td>11.298</td><td>0.375</td><td>3.409</td></tr>\n",
       "<tr><td>F1280W</td><td>12.712</td><td>0.42</td><td>3.818</td></tr>\n",
       "<tr><td>F1500W</td><td>14.932</td><td>0.488</td><td>4.436</td></tr>\n",
       "<tr><td>F1800W</td><td>17.875</td><td>0.591</td><td>5.373</td></tr>\n",
       "<tr><td>F2100W</td><td>20.563</td><td>0.674</td><td>6.127</td></tr>\n",
       "<tr><td>F2550W</td><td>25.147</td><td>0.803</td><td>7.3</td></tr>\n",
       "</table></div>"
      ],
      "text/plain": [
       "<Table length=9>\n",
       "Filter Wavelength (μm) PSF FWHM (arcsec) PSF FWHM (pixel)\n",
       " str6      float64          float64          float64     \n",
       "------ --------------- ----------------- ----------------\n",
       " F560W           5.589             0.207            1.882\n",
       " F770W           7.528             0.269            2.445\n",
       "F1000W           9.883             0.328            2.982\n",
       "F1130W          11.298             0.375            3.409\n",
       "F1280W          12.712              0.42            3.818\n",
       "F1500W          14.932             0.488            4.436\n",
       "F1800W          17.875             0.591            5.373\n",
       "F2100W          20.563             0.674            6.127\n",
       "F2550W          25.147             0.803              7.3"
      ]
     },
     "execution_count": 57,
     "metadata": {},
     "output_type": "execute_result"
    }
   ],
   "source": [
    "tbl_miri = Table.read(page.text, format='html')\n",
    "tbl_miri"
   ]
  },
  {
   "cell_type": "code",
   "execution_count": 58,
   "id": "b7f95fab-c9b0-4ac3-88a2-27663051725e",
   "metadata": {},
   "outputs": [],
   "source": [
    "from astropy import table"
   ]
  },
  {
   "cell_type": "code",
   "execution_count": 59,
   "id": "bf534108-34bc-4af0-baf4-7f32c7e3360d",
   "metadata": {},
   "outputs": [
    {
     "data": {
      "text/plain": [
       "['Filter', 'Wavelength(µm)', 'PSF FWHM (arcsec)', 'PSF FWHM (pixel)']"
      ]
     },
     "execution_count": 59,
     "metadata": {},
     "output_type": "execute_result"
    }
   ],
   "source": [
    "fwhm_tbl.colnames"
   ]
  },
  {
   "cell_type": "code",
   "execution_count": 60,
   "id": "7a3a3c49-e6a7-48e4-830c-f854e1b2d3fd",
   "metadata": {},
   "outputs": [],
   "source": [
    "for colname in fwhm_tbl.colnames:\n",
    "    fwhm_tbl[colname] = fwhm_tbl[colname][:,0]\n",
    "fwhm_tbl.rename_column('Wavelength(µm)', 'Wavelength')"
   ]
  },
  {
   "cell_type": "code",
   "execution_count": 61,
   "id": "40a9ebc2-5b9b-46af-a1c4-7369f55e3a92",
   "metadata": {},
   "outputs": [],
   "source": [
    "tbl_miri.rename_column('Wavelength (μm)', 'Wavelength')\n",
    "tbl_both = table.vstack([fwhm_tbl, tbl_miri])\n",
    "tbl_both.write('../reduction/fwhm_table_both.ecsv', overwrite=True, format='ascii.ecsv')"
   ]
  },
  {
   "cell_type": "code",
   "execution_count": 62,
   "id": "d6a1caf0-76db-493f-a550-eef3fd955be4",
   "metadata": {},
   "outputs": [
    {
     "data": {
      "text/html": [
       "<div><i>Table length=38</i>\n",
       "<table id=\"table22361173129200\" class=\"table-striped table-bordered table-condensed\">\n",
       "<thead><tr><th>Filter</th><th>Wavelength</th><th>PSF FWHM (arcsec)</th><th>PSF FWHM (pixel)</th></tr></thead>\n",
       "<thead><tr><th>str6</th><th>float64</th><th>float64</th><th>float64</th></tr></thead>\n",
       "<tr><td>F070W</td><td>0.704</td><td>0.03</td><td>0.987</td></tr>\n",
       "<tr><td>F090W</td><td>0.902</td><td>0.034</td><td>1.103</td></tr>\n",
       "<tr><td>F115W</td><td>1.154</td><td>0.04</td><td>1.298</td></tr>\n",
       "<tr><td>F140M</td><td>1.405</td><td>0.048</td><td>1.553</td></tr>\n",
       "<tr><td>F150W</td><td>1.501</td><td>0.05</td><td>1.628</td></tr>\n",
       "<tr><td>F162M</td><td>1.627</td><td>0.055</td><td>1.77</td></tr>\n",
       "<tr><td>F164N</td><td>1.645</td><td>0.056</td><td>1.801</td></tr>\n",
       "<tr><td>F150W2</td><td>1.659</td><td>0.046</td><td>1.494</td></tr>\n",
       "<tr><td>F182M</td><td>1.845</td><td>0.062</td><td>1.99</td></tr>\n",
       "<tr><td>F187N</td><td>1.874</td><td>0.064</td><td>2.06</td></tr>\n",
       "<tr><td>F200W</td><td>1.989</td><td>0.066</td><td>2.141</td></tr>\n",
       "<tr><td>F210M</td><td>2.095</td><td>0.071</td><td>2.304</td></tr>\n",
       "<tr><td>F212N</td><td>2.121</td><td>0.072</td><td>2.341</td></tr>\n",
       "<tr><td>F250M</td><td>2.503</td><td>0.084</td><td>1.34</td></tr>\n",
       "<tr><td>F277W</td><td>2.762</td><td>0.091</td><td>1.444</td></tr>\n",
       "<tr><td>F300M</td><td>2.989</td><td>0.1</td><td>1.585</td></tr>\n",
       "<tr><td>F322W2</td><td>3.232</td><td>0.097</td><td>1.547</td></tr>\n",
       "<tr><td>F323N</td><td>3.237</td><td>0.108</td><td>1.711</td></tr>\n",
       "<tr><td>F335M</td><td>3.362</td><td>0.111</td><td>1.76</td></tr>\n",
       "<tr><td>F356W</td><td>3.568</td><td>0.115</td><td>1.83</td></tr>\n",
       "<tr><td>F360M</td><td>3.624</td><td>0.12</td><td>1.901</td></tr>\n",
       "<tr><td>F405N</td><td>4.052</td><td>0.136</td><td>2.165</td></tr>\n",
       "<tr><td>F410M</td><td>4.082</td><td>0.137</td><td>2.179</td></tr>\n",
       "<tr><td>F430M</td><td>4.281</td><td>0.145</td><td>2.3</td></tr>\n",
       "<tr><td>F444W</td><td>4.408</td><td>0.145</td><td>2.302</td></tr>\n",
       "<tr><td>F460M</td><td>4.63</td><td>0.155</td><td>2.459</td></tr>\n",
       "<tr><td>F466N</td><td>4.654</td><td>0.158</td><td>2.507</td></tr>\n",
       "<tr><td>F470N</td><td>4.708</td><td>0.16</td><td>2.535</td></tr>\n",
       "<tr><td>F480M</td><td>4.874</td><td>0.162</td><td>2.574</td></tr>\n",
       "<tr><td>F560W</td><td>5.589</td><td>0.207</td><td>1.882</td></tr>\n",
       "<tr><td>F770W</td><td>7.528</td><td>0.269</td><td>2.445</td></tr>\n",
       "<tr><td>F1000W</td><td>9.883</td><td>0.328</td><td>2.982</td></tr>\n",
       "<tr><td>F1130W</td><td>11.298</td><td>0.375</td><td>3.409</td></tr>\n",
       "<tr><td>F1280W</td><td>12.712</td><td>0.42</td><td>3.818</td></tr>\n",
       "<tr><td>F1500W</td><td>14.932</td><td>0.488</td><td>4.436</td></tr>\n",
       "<tr><td>F1800W</td><td>17.875</td><td>0.591</td><td>5.373</td></tr>\n",
       "<tr><td>F2100W</td><td>20.563</td><td>0.674</td><td>6.127</td></tr>\n",
       "<tr><td>F2550W</td><td>25.147</td><td>0.803</td><td>7.3</td></tr>\n",
       "</table></div>"
      ],
      "text/plain": [
       "<Table length=38>\n",
       "Filter Wavelength PSF FWHM (arcsec) PSF FWHM (pixel)\n",
       " str6   float64        float64          float64     \n",
       "------ ---------- ----------------- ----------------\n",
       " F070W      0.704              0.03            0.987\n",
       " F090W      0.902             0.034            1.103\n",
       " F115W      1.154              0.04            1.298\n",
       " F140M      1.405             0.048            1.553\n",
       " F150W      1.501              0.05            1.628\n",
       " F162M      1.627             0.055             1.77\n",
       " F164N      1.645             0.056            1.801\n",
       "F150W2      1.659             0.046            1.494\n",
       " F182M      1.845             0.062             1.99\n",
       " F187N      1.874             0.064             2.06\n",
       " F200W      1.989             0.066            2.141\n",
       " F210M      2.095             0.071            2.304\n",
       " F212N      2.121             0.072            2.341\n",
       " F250M      2.503             0.084             1.34\n",
       " F277W      2.762             0.091            1.444\n",
       " F300M      2.989               0.1            1.585\n",
       "F322W2      3.232             0.097            1.547\n",
       " F323N      3.237             0.108            1.711\n",
       " F335M      3.362             0.111             1.76\n",
       " F356W      3.568             0.115             1.83\n",
       " F360M      3.624              0.12            1.901\n",
       " F405N      4.052             0.136            2.165\n",
       " F410M      4.082             0.137            2.179\n",
       " F430M      4.281             0.145              2.3\n",
       " F444W      4.408             0.145            2.302\n",
       " F460M       4.63             0.155            2.459\n",
       " F466N      4.654             0.158            2.507\n",
       " F470N      4.708              0.16            2.535\n",
       " F480M      4.874             0.162            2.574\n",
       " F560W      5.589             0.207            1.882\n",
       " F770W      7.528             0.269            2.445\n",
       "F1000W      9.883             0.328            2.982\n",
       "F1130W     11.298             0.375            3.409\n",
       "F1280W     12.712              0.42            3.818\n",
       "F1500W     14.932             0.488            4.436\n",
       "F1800W     17.875             0.591            5.373\n",
       "F2100W     20.563             0.674            6.127\n",
       "F2550W     25.147             0.803              7.3"
      ]
     },
     "execution_count": 62,
     "metadata": {},
     "output_type": "execute_result"
    }
   ],
   "source": [
    "tbl_both"
   ]
  },
  {
   "cell_type": "code",
   "execution_count": null,
   "id": "d3160c4d-6b8d-4076-97b2-27fcc5ee389f",
   "metadata": {},
   "outputs": [],
   "source": []
  }
 ],
 "metadata": {
  "kernelspec": {
   "display_name": "python39",
   "language": "python",
   "name": "python39"
  },
  "language_info": {
   "codemirror_mode": {
    "name": "ipython",
    "version": 3
   },
   "file_extension": ".py",
   "mimetype": "text/x-python",
   "name": "python",
   "nbconvert_exporter": "python",
   "pygments_lexer": "ipython3",
   "version": "3.9.13"
  }
 },
 "nbformat": 4,
 "nbformat_minor": 5
}
