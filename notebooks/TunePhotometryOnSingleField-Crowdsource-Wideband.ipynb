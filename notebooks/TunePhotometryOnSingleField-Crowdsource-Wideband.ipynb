{
 "cells": [
  {
   "cell_type": "code",
   "execution_count": 261,
   "id": "3565135c-402f-41ba-888b-137bce3962b8",
   "metadata": {},
   "outputs": [
    {
     "name": "stdout",
     "output_type": "stream",
     "text": [
      "Importing webbpsf\n"
     ]
    }
   ],
   "source": [
    "import glob\n",
    "import time\n",
    "import numpy\n",
    "import crowdsource\n",
    "import regions\n",
    "import numpy as np\n",
    "from functools import cache\n",
    "from astropy.convolution import convolve, Gaussian2DKernel\n",
    "from astropy.table import Table\n",
    "from astropy.coordinates import SkyCoord\n",
    "from astropy.visualization import simple_norm\n",
    "from astropy.modeling.fitting import LevMarLSQFitter\n",
    "from astropy import wcs\n",
    "from astropy import table\n",
    "from astropy import stats\n",
    "from astropy import units as u\n",
    "from astropy.nddata import NDData\n",
    "from astropy.io import fits\n",
    "from scipy import ndimage\n",
    "import requests\n",
    "import requests.exceptions\n",
    "import urllib3\n",
    "import urllib3.exceptions\n",
    "from photutils.detection import DAOStarFinder, IRAFStarFinder\n",
    "from photutils.psf import IntegratedGaussianPRF, extract_stars, EPSFStars, EPSFModel\n",
    "try:\n",
    "    # version >=1.7.0, doesn't work: the PSF is broken\n",
    "    from photutils.psf import PSFPhotometry, IterativePSFPhotometry, SourceGrouper\n",
    "except:\n",
    "    # version 1.6.0, which works\n",
    "    from photutils.psf import BasicPSFPhotometry as PSFPhotometry, IterativelySubtractedPSFPhotometry as IterativePSFPhotometry, DAOGroup as SourceGrouper\n",
    "try:\n",
    "    from photutils.background import MMMBackground, MADStdBackgroundRMS, MedianBackground, Background2D, LocalBackground\n",
    "except:\n",
    "    from photutils.background import MMMBackground, MADStdBackgroundRMS, MedianBackground, Background2D\n",
    "    from photutils.background import MMMBackground as LocalBackground\n",
    "\n",
    "from photutils.psf import EPSFBuilder\n",
    "from photutils.psf import extract_stars\n",
    "\n",
    "import warnings\n",
    "from astropy.utils.exceptions import AstropyWarning, AstropyDeprecationWarning\n",
    "warnings.simplefilter('ignore', category=AstropyWarning)\n",
    "warnings.simplefilter('ignore', category=AstropyDeprecationWarning)\n",
    "\n",
    "from crowdsource import crowdsource_base\n",
    "from crowdsource.crowdsource_base import fit_im, psfmod\n",
    "\n",
    "from astroquery.svo_fps import SvoFps\n",
    "\n",
    "import pylab as pl\n",
    "pl.rcParams['figure.facecolor'] = 'w'\n",
    "pl.rcParams['image.origin'] = 'lower'\n",
    "\n",
    "import os\n",
    "print(\"Importing webbpsf\", flush=True)\n",
    "import webbpsf\n",
    "from webbpsf.utils import to_griddedpsfmodel\n",
    "import datetime\n",
    "\n",
    "import scipy\n",
    "import scipy.ndimage\n",
    "import scipy.spatial\n",
    "from scipy.spatial import KDTree\n"
   ]
  },
  {
   "cell_type": "code",
   "execution_count": 262,
   "id": "eea78e80-a091-4074-b4cc-fdf848855623",
   "metadata": {},
   "outputs": [],
   "source": [
    "import importlib as imp\n",
    "imp.reload(crowdsource)\n",
    "from crowdsource import crowdsource_base\n",
    "imp.reload(crowdsource.crowdsource_base)\n",
    "from crowdsource.crowdsource_base import fit_im, psfmod\n",
    "from webbpsf.utils import to_griddedpsfmodel"
   ]
  },
  {
   "cell_type": "code",
   "execution_count": 263,
   "id": "b19a2a5d-4cd4-47c6-98df-44bf4c63b3dc",
   "metadata": {},
   "outputs": [],
   "source": [
    "#filt = filtername = 'f410m'\n",
    "filt = filtername = 'f444w'\n",
    "im1 = fits.open(f'{basepath}/F444W/pipeline/jw01182004001_04101_00010_nrcblong_destreak_o004_crf.fits')\n",
    "obsdate = im1[0].header['DATE-OBS']"
   ]
  },
  {
   "cell_type": "code",
   "execution_count": null,
   "id": "4985f629-1492-4099-a6ab-f50d6b30d352",
   "metadata": {
    "scrolled": true
   },
   "outputs": [],
   "source": [
    "has_downloaded = False\n",
    "ntries = 0\n",
    "while not has_downloaded:\n",
    "    try:\n",
    "        nrc = webbpsf.NIRCam()\n",
    "        nrc.load_wss_opd_by_date(f'{obsdate}T00:00:00')\n",
    "        nrc.filter = filt\n",
    "        if module in ('nrca', 'nrcb'):\n",
    "            if 'F4' in filt.upper():\n",
    "                nrc.detector = f'{module.upper()}5' # I think NRCA5 must be the \"long\" detector?\n",
    "            else:\n",
    "                nrc.detector = f'{module.upper()}1' #TODO: figure out a way to use all 4?\n",
    "            grid = nrc.psf_grid(num_psfs=16, all_detectors=False, verbose=True, save=True)\n",
    "        else:\n",
    "            grid = nrc.psf_grid(num_psfs=16, all_detectors=True, verbose=True, save=True)\n",
    "        has_downloaded = True\n",
    "    except (urllib3.exceptions.ReadTimeoutError, requests.exceptions.ReadTimeout, requests.HTTPError) as ex:\n",
    "        print(f\"Failed to build PSF: {ex}\", flush=True)\n",
    "    except Exception as ex:\n",
    "        print(ex, flush=True)\n",
    "        if ntries > 10:\n",
    "            # avoid infinite loops\n",
    "            raise ValueError(\"Failed to download PSF, probably because of an error listed above\")\n",
    "        else:\n",
    "            continue"
   ]
  },
  {
   "cell_type": "code",
   "execution_count": null,
   "id": "c48b6116-2391-4b31-8800-429fd50bc69d",
   "metadata": {},
   "outputs": [],
   "source": [
    "basepath = '/blue/adamginsburg/adamginsburg/jwst/brick/'"
   ]
  },
  {
   "cell_type": "code",
   "execution_count": null,
   "id": "0f4cb51e-3979-4e12-800e-d2bd8df17be0",
   "metadata": {},
   "outputs": [],
   "source": [
    "ww = wcs.WCS(im1[1].header)\n",
    "\n",
    "module = 'nrcb'\n",
    "data = im1['SCI'].data[:400,:400]\n",
    "err = im1['ERR'].data[:400,:400]\n",
    "if 'WHT' in im1:\n",
    "    wht = im1['WHT'].data[:400,:400]\n",
    "else:\n",
    "    wht = 1\n",
    "dq = im1['DQ'].data[:400, :400]"
   ]
  },
  {
   "cell_type": "code",
   "execution_count": null,
   "id": "b8f96edf-3f7c-478c-a42c-49396dfff1e1",
   "metadata": {},
   "outputs": [],
   "source": [
    "im1.info()"
   ]
  },
  {
   "cell_type": "code",
   "execution_count": null,
   "id": "1acfc02a-5a2d-40fe-bb38-ae3774c67dc0",
   "metadata": {},
   "outputs": [],
   "source": [
    "import sys\n",
    "sys.path.append(f'{basepath}/analysis')\n",
    "import crowdsource_catalogs_long\n",
    "import importlib\n",
    "importlib.reload(crowdsource_catalogs_long)\n",
    "from crowdsource_catalogs_long import WrappedPSFModel, get_uncertainty"
   ]
  },
  {
   "cell_type": "code",
   "execution_count": null,
   "id": "760d5f06-7722-46ee-a685-f68cc3927e79",
   "metadata": {},
   "outputs": [],
   "source": [
    "psf_model = WrappedPSFModel(grid)"
   ]
  },
  {
   "cell_type": "code",
   "execution_count": null,
   "id": "150da3d4-8efc-40b3-83f0-8cc782aad263",
   "metadata": {},
   "outputs": [],
   "source": [
    "pl.imshow(im1['DQ'].data[5:400,5:400], cmap='jet');\n",
    "pl.colorbar();"
   ]
  },
  {
   "cell_type": "markdown",
   "id": "722b254d-5152-4559-869b-93e85eb013ab",
   "metadata": {},
   "source": [
    "# Start tests"
   ]
  },
  {
   "cell_type": "raw",
   "id": "83faebfa-a677-4f85-950c-e591bdb1b411",
   "metadata": {},
   "source": [
    "crowdsource uses inverse-sigma, not inverse-variance\n",
    "weight = err**-1\n",
    "#maxweight = np.percentile(weight[np.isfinite(weight)], 95)\n",
    "#minweight = np.percentile(weight[np.isfinite(weight)], 5)\n",
    "#badweight =  np.percentile(weight[np.isfinite(weight)], 1)\n",
    "#weight[err < 1e-5] = 0\n",
    "#weight[(err == 0) | (wht == 0)] = np.nanmedian(weight)\n",
    "weight[np.isnan(weight)] = 0\n",
    "bad = np.isnan(weight) | (data == 0) | np.isnan(data) | (weight == 0) | (err == 0) | (data < 1e-5) | (dq != 0)\n",
    "\n",
    "\n",
    "#weight[weight > maxweight] = maxweight\n",
    "#weight[weight < minweight] = minweight\n",
    "# it seems that crowdsource doesn't like zero weights\n",
    "# may have caused broked f466n? weight[bad] = badweight\n",
    "#weight[bad] = minweight\n",
    "# crowdsource explicitly handles weight=0, so this _should_ work.\n",
    "weight[bad] = 0\n",
    "\n",
    "# Expand bad pixel zones for dq\n",
    "#bad_for_dq = ndimage.binary_dilation(bad, iterations=2)\n",
    "#print(f\"Total bad pixels = {bad.sum()}, total bad for dq={bad_for_dq.sum()}\")\n",
    "#\n",
    "#dq = np.zeros(data.shape, dtype='int')\n",
    "#bad_for_dq = ndimage.binary_dilation(bad, iterations=2)\n",
    "#dq[bad_for_dq] = 2 | 2**30 | 2**31\n",
    "\n",
    "mask = bad\n",
    "\n",
    "#mask = scipy.ndimage.binary_dilation(scipy.ndimage.binary_erosion(mask, iterations=1), iterations=1)\n",
    "#mask = scipy.ndimage.binary_erosion(scipy.ndimage.binary_dilation(mask, iterations=1), iterations=1)"
   ]
  },
  {
   "cell_type": "code",
   "execution_count": null,
   "id": "a0c3afa5-2bef-4f8e-8faf-0d74f3bc1807",
   "metadata": {},
   "outputs": [],
   "source": [
    "dq, weight, bad = get_uncertainty(err, data, wht=wht, dq=dq)"
   ]
  },
  {
   "cell_type": "code",
   "execution_count": null,
   "id": "6b1f3e7e-72f4-454c-8248-83aaa7c4d981",
   "metadata": {},
   "outputs": [],
   "source": [
    "data.shape, data.size, mask.sum(), bad.sum()"
   ]
  },
  {
   "cell_type": "code",
   "execution_count": null,
   "id": "5a2dce8f-f1fd-495f-aec0-89f2428024b8",
   "metadata": {},
   "outputs": [],
   "source": [
    "from scipy.spatial import KDTree"
   ]
  },
  {
   "cell_type": "markdown",
   "id": "2f8ab9b4-1b4c-4e22-9693-2868bc4d0749",
   "metadata": {},
   "source": [
    "# crowdsource"
   ]
  },
  {
   "cell_type": "code",
   "execution_count": null,
   "id": "f1261c31-8165-44c7-9f34-d3156fd49e56",
   "metadata": {
    "scrolled": true
   },
   "outputs": [],
   "source": [
    "results  = fit_im(np.nan_to_num(data), psf_model, weight=weight,\n",
    "                  dq=dq,\n",
    "                  nskyx=0, nskyy=0, refit_psf=False, verbose=True)\n",
    "stars, modsky, skymsky, psf = results\n",
    "residual = data - modsky\n",
    "model = modsky\n",
    "result = stars = Table(stars)\n",
    "stars['x'], stars['y'] = stars['y'], stars['x']"
   ]
  },
  {
   "cell_type": "code",
   "execution_count": null,
   "id": "4860cc43-f93e-4022-aa93-496785bfed2a",
   "metadata": {},
   "outputs": [],
   "source": [
    "len(stars)"
   ]
  },
  {
   "cell_type": "code",
   "execution_count": null,
   "id": "783d4cc3-4f4a-4083-ad67-2fd092810052",
   "metadata": {},
   "outputs": [],
   "source": [
    "Table(stars[:3])"
   ]
  },
  {
   "cell_type": "code",
   "execution_count": null,
   "id": "70afbec0-5b19-47a6-b080-31a5bcbefe15",
   "metadata": {},
   "outputs": [],
   "source": [
    "pl.scatter(result['x'], result['y'], s=1)"
   ]
  },
  {
   "cell_type": "code",
   "execution_count": null,
   "id": "e4002767-3c37-4ffd-b70a-17fe35f47f14",
   "metadata": {},
   "outputs": [],
   "source": [
    "dist, ind = KDTree(np.array([result['x'], result['y']]).T).query(np.array([result['x'], result['y']]).T, 2) \n",
    "close_neighbor = ind[:,1][dist[:,1] < 1]\n",
    "\n",
    "len(close_neighbor), len(stars)"
   ]
  },
  {
   "cell_type": "markdown",
   "id": "17d61d0e-cce5-46fe-998a-90920291adbf",
   "metadata": {},
   "source": [
    "### Default"
   ]
  },
  {
   "cell_type": "markdown",
   "id": "37e5918a-1c1d-4016-9ec9-62110abf92e7",
   "metadata": {},
   "source": [
    "### Histograms"
   ]
  },
  {
   "cell_type": "code",
   "execution_count": null,
   "id": "75b38f2b-af29-46f0-8dd7-6fd7ba2ef861",
   "metadata": {},
   "outputs": [],
   "source": [
    "pl.hist(result['flux'], bins=np.logspace(0,5), histtype='step')\n",
    "#pl.hist(result_g['flux_init'], bins=np.logspace(0,5), histtype='step')\n",
    "pl.xscale('log');"
   ]
  },
  {
   "cell_type": "code",
   "execution_count": null,
   "id": "964b343a-12f8-4138-a620-eb31c888c550",
   "metadata": {},
   "outputs": [],
   "source": [
    "pl.hist(result['flux'][close_neighbor], bins=np.logspace(0,5), histtype='step', label='default')\n",
    "pl.xscale('log');\n",
    "pl.legend(loc='best');"
   ]
  },
  {
   "cell_type": "code",
   "execution_count": null,
   "id": "778b85da-271a-4844-b3fb-c1a59cd4c2d0",
   "metadata": {},
   "outputs": [],
   "source": [
    "    np.unique(dq)"
   ]
  },
  {
   "cell_type": "code",
   "execution_count": null,
   "id": "c9e3cc62-e5d7-4d29-af12-13ad9fc2a316",
   "metadata": {},
   "outputs": [],
   "source": [
    "good = (stars['qf'] > 0.9) & (stars['fracflux'] > 0.75)"
   ]
  },
  {
   "cell_type": "code",
   "execution_count": null,
   "id": "014b35a7-c185-4898-9d59-05acda9f3b7d",
   "metadata": {},
   "outputs": [],
   "source": [
    "pl.figure(figsize=(16,10))\n",
    "pl.subplot(2,3,1).imshow(data[:128,:128], norm=simple_norm(data[:256,:256], stretch='log', max_percent=99.95, min_percent=0.5), cmap='gray')\n",
    "pl.xticks([]); pl.yticks([]); pl.title(\"Data\")\n",
    "pl.subplot(2,3,2).imshow(modsky[:128,:128], norm=simple_norm(modsky[:256,:256], stretch='log', max_percent=99.95, min_percent=0.5), cmap='gray')\n",
    "pl.xticks([]); pl.yticks([]); pl.title(\"fit_im model+sky\")\n",
    "pl.subplot(2,3,4).imshow((data-modsky)[:128,:128], norm=simple_norm((data-modsky)[:256,:256], stretch='asinh',\n",
    "                                                                    max_percent=99.5, min_percent=0.5), cmap='gray')\n",
    "pl.xticks([]); pl.yticks([]); pl.title(\"data-modsky\")\n",
    "pl.subplot(2,3,5).imshow(data[:128,:128], norm=simple_norm(data[:256,:256], stretch='log', max_percent=99.95, min_percent=0.5), cmap='gray')\n",
    "pl.subplot(2,3,5).scatter(stars['x'], stars['y'], marker='x', color='b', s=8, linewidth=0.5)\n",
    "pl.subplot(2,3,5).scatter(stars['x'][good], stars['y'][good], marker='x', color='r', s=6, linewidth=0.5)\n",
    "pl.xticks([]); pl.yticks([]); pl.title(\"Data with stars\");\n",
    "pl.axis([0,128,0,128])\n",
    "pl.subplot(2,3,3).imshow((dq)[:128,:128], norm=simple_norm((dq), stretch='log', min_cut=0, max_cut=5310465), cmap='jet')\n",
    "pl.subplot(2,3,3).scatter(stars['x'], stars['y'], marker='x', color='w', s=4, linewidth=0.5)\n",
    "pl.axis([0,128,0,128])\n",
    "pl.xticks([]); pl.yticks([]); pl.title(\"DQ\");\n",
    "pl.subplot(2,3,6).imshow(weight[:128,:128], norm=simple_norm(weight[:128,:128], stretch='asinh', min_percent=5, max_percent=99.95), cmap='gray')\n",
    "#pl.subplot(2,3,6).scatter(stars['x'], stars['y'], marker='x', color='r', s=4, linewidth=0.5)\n",
    "pl.axis([0,128,0,128])\n",
    "pl.xticks([]); pl.yticks([]); pl.title(\"weight\");\n",
    "pl.suptitle(\"\");\n",
    "pl.tight_layout();"
   ]
  },
  {
   "cell_type": "code",
   "execution_count": null,
   "id": "685305da-895b-4332-8450-9d85b9c06010",
   "metadata": {},
   "outputs": [],
   "source": [
    "pl.figure(figsize=(16,10))\n",
    "pl.subplot(2,3,1).imshow(data[:128,-128:], norm=simple_norm(data[:256,:256], stretch='log', max_percent=99.95, min_percent=0.5), cmap='gray')\n",
    "pl.xticks([]); pl.yticks([]); pl.title(\"Data\")\n",
    "pl.subplot(2,3,2).imshow(modsky[:128,-128:], norm=simple_norm(modsky[:256,:256], stretch='log', max_percent=99.95, min_percent=0.5), cmap='gray')\n",
    "pl.xticks([]); pl.yticks([]); pl.title(\"fit_im model+sky\")\n",
    "pl.subplot(2,3,4).imshow((data-modsky)[:128,-128:], norm=simple_norm((data-modsky)[:256,:256], stretch='asinh', max_percent=99.5, min_percent=0.5), cmap='gray')\n",
    "pl.xticks([]); pl.yticks([]); pl.title(\"data-modsky\")\n",
    "pl.subplot(2,3,5).imshow(data[:128,-128:], norm=simple_norm(data[:256,:256], stretch='log', max_percent=99.95, min_percent=0.5), cmap='gray')\n",
    "pl.subplot(2,3,5).scatter(stars['x']-(400-128), stars['y'], marker='x', color='b', s=8, linewidth=0.5)\n",
    "pl.subplot(2,3,5).scatter(stars['x'][good]-(400-128), stars['y'][good], marker='x', color='r', s=6, linewidth=0.5)\n",
    "pl.xticks([]); pl.yticks([]); pl.title(\"Data with stars\");\n",
    "pl.axis([0,128,0,128])\n",
    "pl.subplot(2,3,3).imshow((dq)[:128,-128:], norm=simple_norm((dq), stretch='log', min_cut=0, max_cut=5310465), cmap='jet')\n",
    "pl.subplot(2,3,3).scatter(stars['x']-(400-128), stars['y'], marker='x', color='w', s=4, linewidth=0.5)\n",
    "pl.axis([0,128,0,128])\n",
    "pl.xticks([]); pl.yticks([]); pl.title(\"DQ\");\n",
    "pl.subplot(2,3,6).imshow(weight[:128,-128:], norm=simple_norm(weight[:128,-128:], stretch='asinh', min_percent=5, max_percent=99.95), cmap='gray')\n",
    "#pl.subplot(2,3,6).scatter(stars['x'], stars['y'], marker='x', color='r', s=4, linewidth=0.5)\n",
    "pl.axis([0,128,0,128])\n",
    "pl.xticks([]); pl.yticks([]); pl.title(\"weight\");\n",
    "pl.suptitle(\"\");\n",
    "pl.tight_layout();"
   ]
  },
  {
   "cell_type": "code",
   "execution_count": null,
   "id": "78ddd9ac-b061-40b6-8a64-1c33892cd9fe",
   "metadata": {},
   "outputs": [],
   "source": [
    "pl.figure(figsize=(16,10))\n",
    "pl.subplot(2,3,1).imshow(data[:128,:128], norm=simple_norm(data[:256,:256], stretch='log', max_percent=99.95, min_percent=0.5), cmap='gray')\n",
    "pl.xticks([]); pl.yticks([]); pl.title(\"Data\")\n",
    "pl.subplot(2,3,2).imshow(modsky[:128,:128], norm=simple_norm(modsky[:256,:256], stretch='log', max_percent=99.95, min_percent=0.5), cmap='gray')\n",
    "pl.xticks([]); pl.yticks([]); pl.title(\"fit_im model+sky\")\n",
    "pl.subplot(2,3,4).imshow((data-modsky)[:128,:128], norm=simple_norm((data-modsky)[:256,:256], stretch='asinh', max_percent=99.5, min_percent=0.5), cmap='gray')\n",
    "pl.xticks([]); pl.yticks([]); pl.title(\"data-modsky\")\n",
    "pl.subplot(2,3,5).imshow(data[:128,:128], norm=simple_norm(data[:256,:256], stretch='log', max_percent=99.95, min_percent=0.5), cmap='gray')\n",
    "pl.subplot(2,3,5).scatter(stars['x'], stars['y'], marker='x', color='b', s=8, linewidth=0.5)\n",
    "pl.subplot(2,3,5).scatter(stars['x'][good], stars['y'][good], marker='x', color='r', s=4, linewidth=0.5)\n",
    "pl.xticks([]); pl.yticks([]); pl.title(\"Data with stars\");\n",
    "pl.axis([0,128,0,128])\n",
    "pl.subplot(2,3,3).imshow((dq)[:128,:128], norm=simple_norm((dq), stretch='log', min_cut=0, max_cut=5310465), cmap='jet')\n",
    "pl.subplot(2,3,3).scatter(stars['x'], stars['y'], marker='x', color='w', s=4, linewidth=0.5)\n",
    "pl.axis([0,128,0,128])\n",
    "pl.xticks([]); pl.yticks([]); pl.title(\"DQ\");\n",
    "pl.subplot(2,3,6).imshow(weight[:128,:128], norm=simple_norm(weight[:128,:128], stretch='asinh', min_percent=5, max_percent=99.95), cmap='gray')\n",
    "#pl.subplot(2,3,6).scatter(stars['x'], stars['y'], marker='x', color='r', s=4, linewidth=0.5)\n",
    "pl.axis([0,128,0,128])\n",
    "pl.xticks([]); pl.yticks([]); pl.title(\"weight\");\n",
    "pl.suptitle(\"\");\n",
    "pl.tight_layout();"
   ]
  },
  {
   "cell_type": "code",
   "execution_count": null,
   "id": "a06e055b-3249-4f83-9de3-4546b7329a9e",
   "metadata": {},
   "outputs": [],
   "source": [
    "pl.figure(dpi=200)\n",
    "pl.imshow(data, norm=simple_norm(data, min_cut=0, max_cut=20, stretch='asinh'))\n",
    "pl.colorbar();"
   ]
  },
  {
   "cell_type": "code",
   "execution_count": null,
   "id": "aa50d28e-f08b-4c3a-8c16-693277d3221d",
   "metadata": {},
   "outputs": [],
   "source": [
    "pl.figure(dpi=200)\n",
    "pl.imshow(residual, norm=simple_norm(residual, min_cut=-2, max_cut=20, stretch='log'), cmap='gray')\n",
    "pl.colorbar();"
   ]
  },
  {
   "cell_type": "code",
   "execution_count": null,
   "id": "b4f32eaa-f02b-4e5f-82a6-9b841995997d",
   "metadata": {},
   "outputs": [],
   "source": [
    "pl.figure(dpi=200)\n",
    "pl.imshow(model, norm=simple_norm(model, min_percent=1, max_percent=99, stretch='log'))\n",
    "pl.colorbar();"
   ]
  },
  {
   "cell_type": "raw",
   "id": "ace1d4f2-39de-461f-b1dc-66876fdc7467",
   "metadata": {},
   "source": [
    "pl.figure(dpi=200)\n",
    "pl.imshow(model_g, norm=simple_norm(model_g, min_percent=1, max_percent=99, stretch='log'))\n",
    "pl.colorbar();"
   ]
  },
  {
   "cell_type": "code",
   "execution_count": null,
   "id": "ff53807f-019a-4727-8bc3-8e661d642466",
   "metadata": {},
   "outputs": [],
   "source": [
    "xl,xu,yl,yu = 100,300,200,400\n",
    "slc = slice(yl,yu), slice(xl,xu)"
   ]
  },
  {
   "cell_type": "code",
   "execution_count": null,
   "id": "07e49573-d013-4c04-9c21-c1a97224a9cf",
   "metadata": {},
   "outputs": [],
   "source": [
    "pl.figure(dpi=200)\n",
    "pl.imshow(model[slc], norm=simple_norm(model, min_percent=1, max_percent=99, stretch='log'))\n",
    "pl.colorbar();\n",
    "pl.scatter(result['x']-xl, result['y']-yl, marker='x', color='r', linewidths=0.5, s=8)\n",
    "pl.axis([0,200,0,200])"
   ]
  },
  {
   "cell_type": "code",
   "execution_count": null,
   "id": "428ecd9f-ab2b-45a5-a082-c406ba384237",
   "metadata": {},
   "outputs": [],
   "source": [
    "pl.figure(dpi=200)\n",
    "pl.imshow(data[slc], norm=simple_norm(data, min_percent=1, max_percent=99, stretch='log'))\n",
    "pl.colorbar();\n",
    "pl.scatter(result['x']-xl, result['y']-yl, marker='x', color='r', linewidths=0.5, s=8)\n",
    "pl.axis([0,200,0,200]);"
   ]
  },
  {
   "cell_type": "code",
   "execution_count": null,
   "id": "21d1615b-e3e6-4b9e-a26c-467c11682706",
   "metadata": {},
   "outputs": [],
   "source": [
    "pl.figure(dpi=200)\n",
    "pl.imshow(residual[slc], norm=simple_norm(residual, min_cut=-1, max_cut=25, stretch='asinh'))\n",
    "pl.colorbar();\n",
    "pl.scatter(result['x']-xl, result['y']-yl, marker='x', color='r', linewidths=0.5, s=8)\n",
    "pl.axis([0,200,0,200]);"
   ]
  },
  {
   "cell_type": "code",
   "execution_count": null,
   "id": "a5c3fd77-b14c-4126-b5e7-616abb0d30dd",
   "metadata": {},
   "outputs": [],
   "source": []
  },
  {
   "cell_type": "markdown",
   "id": "96e04cd5-e821-4d01-a690-a0af8a154d4a",
   "metadata": {},
   "source": [
    "# Residual zoom"
   ]
  },
  {
   "cell_type": "code",
   "execution_count": null,
   "id": "7f7b8bb6-af1e-4b96-862b-c8efc10d4539",
   "metadata": {},
   "outputs": [],
   "source": [
    "import sys\n",
    "sys.path.append(f'{basepath}/analysis')\n",
    "import plot_tools\n",
    "import importlib as imp\n",
    "imp.reload(plot_tools)\n",
    "from plot_tools import diagnostic_stamps_by_mag_crowdsource\n",
    "def diagnostic_stamps_by_mag(*args, **kwargs):\n",
    "    return diagnostic_stamps_by_mag_crowdsource(*args,\n",
    "                                                filtername=filtername,\n",
    "                                                pixel_area=ww.celestial.proj_plane_pixel_area(), data=data, **kwargs)"
   ]
  },
  {
   "cell_type": "code",
   "execution_count": null,
   "id": "144f4fb8-abed-4565-a138-428bf89214db",
   "metadata": {},
   "outputs": [],
   "source": [
    "diagnostic_stamps_by_mag(result, residual, min_qf=0.95, min_fracflux=0.75, max_mag=20, min_mag=16)"
   ]
  },
  {
   "cell_type": "code",
   "execution_count": null,
   "id": "57971a8c-e49a-4aa8-ae34-b12229e22250",
   "metadata": {},
   "outputs": [],
   "source": [
    "diagnostic_stamps_by_mag(result, residual, min_qf=0.95, min_fracflux=0.75, max_mag=16, min_mag=12)"
   ]
  },
  {
   "cell_type": "code",
   "execution_count": null,
   "id": "357f7778-f522-4cee-a939-a2b05d3ac5cb",
   "metadata": {},
   "outputs": [],
   "source": [
    "diagnostic_stamps_by_mag(result, residual, min_qf=0.95, min_fracflux=0.75, ind_offset=1, max_mag=16, min_mag=12)"
   ]
  },
  {
   "cell_type": "code",
   "execution_count": null,
   "id": "922b3314-d411-4c53-816e-0b2304e39c31",
   "metadata": {},
   "outputs": [],
   "source": [
    "diagnostic_stamps_by_mag(result, residual, min_qf=0.95, min_fracflux=0.75, ind_offset=1, max_mag=20, min_mag=16)"
   ]
  },
  {
   "cell_type": "code",
   "execution_count": null,
   "id": "a8810209-9638-4772-ab5c-a3c3f158b56d",
   "metadata": {},
   "outputs": [],
   "source": [
    "diagnostic_stamps_by_mag(result, residual, min_qf=0.95, min_fracflux=0.75, ind_offset=2)"
   ]
  },
  {
   "cell_type": "code",
   "execution_count": null,
   "id": "de519d5a-9f13-41f5-9061-96075f38cf7c",
   "metadata": {},
   "outputs": [],
   "source": [
    "diagnostic_stamps_by_mag(result, residual)"
   ]
  },
  {
   "cell_type": "code",
   "execution_count": null,
   "id": "7a708198-6017-4782-a656-e1ad36dec1e2",
   "metadata": {},
   "outputs": [],
   "source": [
    "diagnostic_stamps_by_mag(result, residual, ind_offset=1)"
   ]
  },
  {
   "cell_type": "code",
   "execution_count": null,
   "id": "54f0136d-b5fa-4c54-a05b-a721d09e320e",
   "metadata": {},
   "outputs": [],
   "source": [
    "diagnostic_stamps_by_mag(result, residual, ind_offset=2)"
   ]
  },
  {
   "cell_type": "code",
   "execution_count": null,
   "id": "d0d62b47-6fae-41f2-9914-9a7d58520866",
   "metadata": {},
   "outputs": [],
   "source": [
    "diagnostic_stamps_by_mag(result, residual, ind_offset=3)"
   ]
  },
  {
   "cell_type": "code",
   "execution_count": null,
   "id": "f431c484-d20c-4489-beb9-de8332e0c066",
   "metadata": {},
   "outputs": [],
   "source": []
  },
  {
   "cell_type": "code",
   "execution_count": null,
   "id": "c21f62fb-6347-4b59-a009-f2adc7870fbd",
   "metadata": {},
   "outputs": [],
   "source": []
  }
 ],
 "metadata": {
  "kernelspec": {
   "display_name": "py310",
   "language": "python",
   "name": "py310"
  },
  "language_info": {
   "codemirror_mode": {
    "name": "ipython",
    "version": 3
   },
   "file_extension": ".py",
   "mimetype": "text/x-python",
   "name": "python",
   "nbconvert_exporter": "python",
   "pygments_lexer": "ipython3",
   "version": "3.10.8"
  }
 },
 "nbformat": 4,
 "nbformat_minor": 5
}
