{
 "cells": [
  {
   "cell_type": "code",
   "execution_count": 1,
   "id": "b7f51e72-904a-4835-8be3-6df57c7ae864",
   "metadata": {},
   "outputs": [
    {
     "name": "stderr",
     "output_type": "stream",
     "text": [
      "/scratch/local/4075455/ipykernel_33227/2258313207.py:1: DeprecationWarning: `photutils.CircularAperture` is a deprecated alias for `photutils.aperture.CircularAperture` and will be removed in the future. Instead, please use `from photutils.aperture import CircularAperture` to silence this warning.\n",
      "  from photutils import CircularAperture, EPSFBuilder, find_peaks, CircularAnnulus\n",
      "/scratch/local/4075455/ipykernel_33227/2258313207.py:1: DeprecationWarning: `photutils.EPSFBuilder` is a deprecated alias for `photutils.psf.EPSFBuilder` and will be removed in the future. Instead, please use `from photutils.psf import EPSFBuilder` to silence this warning.\n",
      "  from photutils import CircularAperture, EPSFBuilder, find_peaks, CircularAnnulus\n",
      "/scratch/local/4075455/ipykernel_33227/2258313207.py:1: DeprecationWarning: `photutils.find_peaks` is a deprecated alias for `photutils.detection.find_peaks` and will be removed in the future. Instead, please use `from photutils.detection import find_peaks` to silence this warning.\n",
      "  from photutils import CircularAperture, EPSFBuilder, find_peaks, CircularAnnulus\n",
      "/scratch/local/4075455/ipykernel_33227/2258313207.py:1: DeprecationWarning: `photutils.CircularAnnulus` is a deprecated alias for `photutils.aperture.CircularAnnulus` and will be removed in the future. Instead, please use `from photutils.aperture import CircularAnnulus` to silence this warning.\n",
      "  from photutils import CircularAperture, EPSFBuilder, find_peaks, CircularAnnulus\n"
     ]
    }
   ],
   "source": [
    "from photutils import CircularAperture, EPSFBuilder, find_peaks, CircularAnnulus\n",
    "from photutils.detection import DAOStarFinder, IRAFStarFinder\n",
    "from photutils.psf import DAOGroup, IntegratedGaussianPRF, extract_stars, IterativelySubtractedPSFPhotometry, BasicPSFPhotometry"
   ]
  },
  {
   "cell_type": "code",
   "execution_count": 2,
   "id": "3ddb567c-eb53-4df3-848a-971c357b3048",
   "metadata": {},
   "outputs": [],
   "source": [
    "from photutils.background import MMMBackground, MADStdBackgroundRMS\n",
    "from astropy.modeling.fitting import LevMarLSQFitter"
   ]
  },
  {
   "cell_type": "code",
   "execution_count": 3,
   "id": "07f47ae9-7ac8-4917-bfae-16033d4d8b07",
   "metadata": {},
   "outputs": [],
   "source": [
    "from astropy import stats\n",
    "from astropy.table import Table\n",
    "from astropy.wcs import WCS"
   ]
  },
  {
   "cell_type": "code",
   "execution_count": 4,
   "id": "495fbb34-1d8c-4d32-a376-baee197e72d9",
   "metadata": {},
   "outputs": [],
   "source": [
    "from astropy.io import fits"
   ]
  },
  {
   "cell_type": "code",
   "execution_count": 5,
   "id": "06a449ca-6797-4d43-b1f3-db00afdcd729",
   "metadata": {},
   "outputs": [],
   "source": [
    "from astropy.table import Table\n",
    "from astropy.coordinates import SkyCoord\n",
    "from astropy.visualization import simple_norm\n",
    "from astropy import wcs\n",
    "from astropy import table\n",
    "from astropy import units as u\n",
    "import pylab as pl\n",
    "pl.rcParams['figure.facecolor'] = 'w'\n",
    "pl.rcParams['image.origin'] = 'lower'"
   ]
  },
  {
   "cell_type": "code",
   "execution_count": 6,
   "id": "eafbaa4d-b5fc-4f1a-9af3-59659ca8bd1b",
   "metadata": {},
   "outputs": [],
   "source": [
    "from astroquery.svo_fps import SvoFps"
   ]
  },
  {
   "cell_type": "code",
   "execution_count": 7,
   "id": "cf2c1a82-e457-411e-ba6f-84ffd3db515d",
   "metadata": {},
   "outputs": [],
   "source": [
    "import numpy as np"
   ]
  },
  {
   "cell_type": "code",
   "execution_count": 8,
   "id": "735e1861-9831-4a77-82f5-f6e22da3df69",
   "metadata": {},
   "outputs": [],
   "source": [
    "import reproject"
   ]
  },
  {
   "cell_type": "code",
   "execution_count": 9,
   "id": "16cee3bd-1bf0-4c43-bf5a-1c1612d993ec",
   "metadata": {},
   "outputs": [],
   "source": [
    "from astropy import units as u"
   ]
  },
  {
   "cell_type": "code",
   "execution_count": 10,
   "id": "15b950af-838a-45b7-a4df-e2da4b1ad206",
   "metadata": {},
   "outputs": [],
   "source": [
    "basepath = '/orange/adamginsburg/jwst/brick/'"
   ]
  },
  {
   "cell_type": "code",
   "execution_count": 11,
   "id": "fb43faa6-548d-4b57-a3bf-8163cf4d8e9d",
   "metadata": {},
   "outputs": [],
   "source": [
    "fh_187 = fits.open(f'{basepath}/F187N/pipeline/jw02221-o001_t001_nircam_clear-f187n-nrcb_i2d.fits')\n",
    "fh_182 = fits.open(f'{basepath}/F182M/pipeline/jw02221-o001_t001_nircam_clear-f182m-nrcb_i2d.fits')"
   ]
  },
  {
   "cell_type": "markdown",
   "id": "3ae602f4-3e8b-4b66-8b24-d473768bd1ee",
   "metadata": {},
   "source": [
    "# June 30, 2023: switched to realigned-to-refcat version"
   ]
  },
  {
   "cell_type": "code",
   "execution_count": 12,
   "id": "fe39b711-9030-45b7-879c-f3b55cd2b32c",
   "metadata": {},
   "outputs": [],
   "source": [
    "fh_187 = fits.open(f'{basepath}/F187N/pipeline/jw02221-o001_t001_nircam_clear-f187n-nrcb_realigned-to-refcat_unsatstar.fits')\n",
    "fh_182 = fits.open(f'{basepath}/F182M/pipeline/jw02221-o001_t001_nircam_clear-f182m-nrcb_realigned-to-refcat_unsatstar.fits')"
   ]
  },
  {
   "cell_type": "code",
   "execution_count": 13,
   "id": "08a3bcc8-a5ce-4a3f-ae6e-2b4295240ef1",
   "metadata": {},
   "outputs": [
    {
     "name": "stderr",
     "output_type": "stream",
     "text": [
      "WARNING: FITSFixedWarning: 'obsfix' made the change 'Set OBSGEO-L to   -51.565267 from OBSGEO-[XYZ].\n",
      "Set OBSGEO-B to   -20.698259 from OBSGEO-[XYZ].\n",
      "Set OBSGEO-H to 1526844940.057 from OBSGEO-[XYZ]'. [astropy.wcs.wcs]\n",
      "WARNING: FITSFixedWarning: 'obsfix' made the change 'Set OBSGEO-L to   -51.511136 from OBSGEO-[XYZ].\n",
      "Set OBSGEO-B to   -20.648906 from OBSGEO-[XYZ].\n",
      "Set OBSGEO-H to 1526264739.299 from OBSGEO-[XYZ]'. [astropy.wcs.wcs]\n"
     ]
    }
   ],
   "source": [
    "ww187 = wcs.WCS(fh_187['SCI'].header)\n",
    "ww182 = wcs.WCS(fh_182['SCI'].header)"
   ]
  },
  {
   "cell_type": "code",
   "execution_count": 14,
   "id": "88d118bc-0e8b-45d5-b9ad-0e3313564783",
   "metadata": {},
   "outputs": [
    {
     "data": {
      "text/plain": [
       "('NIRCAM', 'JWST', 'F187N', 'F182M')"
      ]
     },
     "execution_count": 14,
     "metadata": {},
     "output_type": "execute_result"
    }
   ],
   "source": [
    "instrument = fh_187[0].header['INSTRUME']\n",
    "telescope = fh_187[0].header['TELESCOP']\n",
    "filt187 = fh_187[0].header['FILTER']\n",
    "filt182 = fh_182[0].header['FILTER']\n",
    "instrument, telescope, filt187, filt182"
   ]
  },
  {
   "cell_type": "code",
   "execution_count": 15,
   "id": "249d8222-44cc-42e8-bcef-553f83703416",
   "metadata": {},
   "outputs": [],
   "source": [
    "wavelength_table_187 = SvoFps.get_transmission_data(f'{telescope}/{instrument}.{filt187}')\n",
    "wavelength_table_182 = SvoFps.get_transmission_data(f'{telescope}/{instrument}.{filt182}')"
   ]
  },
  {
   "cell_type": "code",
   "execution_count": 16,
   "id": "79e070bf-5ab3-440a-a3df-af267b24ebaa",
   "metadata": {},
   "outputs": [
    {
     "data": {
      "text/plain": [
       "('F187N', 'F182M')"
      ]
     },
     "execution_count": 16,
     "metadata": {},
     "output_type": "execute_result"
    }
   ],
   "source": [
    "filt187, filt182"
   ]
  },
  {
   "cell_type": "code",
   "execution_count": 17,
   "id": "1ec1a62e-65b7-4782-8378-07b0e9b001a9",
   "metadata": {},
   "outputs": [],
   "source": [
    "waves_182 = wavelength_table_182['Wavelength']\n",
    "trans_187 = np.interp(waves_182, wavelength_table_187['Wavelength'], wavelength_table_187['Transmission'])\n",
    "trans_182 = wavelength_table_182['Transmission']"
   ]
  },
  {
   "cell_type": "code",
   "execution_count": 18,
   "id": "22c241fd-9619-41ae-9ab6-04ef84358678",
   "metadata": {},
   "outputs": [
    {
     "data": {
      "text/plain": [
       "Text(0.5, 0, 'Wavelength [Angstroms]')"
      ]
     },
     "execution_count": 18,
     "metadata": {},
     "output_type": "execute_result"
    },
    {
     "data": {
      "image/png": "[encoded data removed]",
      "text/plain": [
       "<Figure size 432x288 with 1 Axes>"
      ]
     },
     "metadata": {
      "needs_background": "light"
     },
     "output_type": "display_data"
    }
   ],
   "source": [
    "pl.plot(waves_182, trans_182)\n",
    "pl.plot(waves_182, trans_187)\n",
    "pl.xlabel(\"Wavelength [Angstroms]\")"
   ]
  },
  {
   "cell_type": "code",
   "execution_count": 19,
   "id": "19e739da-9c37-480f-b569-54db4a83512f",
   "metadata": {},
   "outputs": [],
   "source": [
    "fractional_bandwidth_187 = ( (trans_182/trans_182.max()) * (trans_187/trans_187.max()) ).sum() / (trans_182/trans_182.max()).sum()"
   ]
  },
  {
   "cell_type": "code",
   "execution_count": null,
   "id": "79011688-0ce3-4deb-b70e-a6ff94d48043",
   "metadata": {},
   "outputs": [
    {
     "name": "stderr",
     "output_type": "stream",
     "text": [
      "/blue/adamginsburg/adamginsburg/repos/reproject/reproject/spherical_intersect/core.py:47: UserWarning: The reproject_exact function currently has precision issues with images that have resolutions below ~0.05 arcsec, so the results may not be accurate.\n",
      "  warnings.warn(\n"
     ]
    }
   ],
   "source": [
    "data_187_proj_182 = reproject.reproject_exact(fh_187['SCI'], fh_182['SCI'].header)"
   ]
  },
  {
   "cell_type": "code",
   "execution_count": null,
   "id": "b86400d4-0cc3-4d91-ba5e-dab2063be33d",
   "metadata": {},
   "outputs": [],
   "source": [
    "cont182_sub_paa = fh_182['SCI'].data - data_187_proj_182[0]*fractional_bandwidth_187\n",
    "fits.PrimaryHDU(data=cont182_sub_paa, header=fh_182['SCI'].header).writeto(f'{basepath}/images/F182_minus_F187_nrcb.fits', overwrite=True)"
   ]
  },
  {
   "cell_type": "code",
   "execution_count": null,
   "id": "8c279e61-455d-455a-9d42-cc28991da381",
   "metadata": {},
   "outputs": [],
   "source": [
    "paa_minus_cont = data_187_proj_182[0] - cont182_sub_paa #* fractional_bandwidth_187\n",
    "fits.PrimaryHDU(data=paa_minus_cont, header=fh_182['SCI'].header).writeto(f'{basepath}/images/F187_minus_F182cont_nrcb.fits', overwrite=True)"
   ]
  },
  {
   "cell_type": "code",
   "execution_count": null,
   "id": "2cd7aabc-f3e4-4154-b3ce-bbabecf08857",
   "metadata": {},
   "outputs": [],
   "source": [
    "pl.figure(figsize=(12,8))\n",
    "pl.imshow(fh_182['SCI'].data, norm=simple_norm(cont182_sub_paa, min_percent=1, max_percent=99, stretch='log'))\n",
    "pl.colorbar()"
   ]
  },
  {
   "cell_type": "code",
   "execution_count": null,
   "id": "ffd38589-281e-46b6-83a8-e287a090ebad",
   "metadata": {},
   "outputs": [],
   "source": [
    "pl.figure(figsize=(12,8))\n",
    "pl.imshow(cont182_sub_paa, norm=simple_norm(cont182_sub_paa, min_percent=1, max_percent=99, stretch='log'))\n",
    "pl.colorbar()"
   ]
  },
  {
   "cell_type": "code",
   "execution_count": null,
   "id": "d658320a-f727-4d2b-8475-3a9cd69eba38",
   "metadata": {},
   "outputs": [],
   "source": [
    "pl.figure(figsize=(12,8))\n",
    "pl.imshow(fh_187['SCI'].data, norm=simple_norm(cont182_sub_paa, min_percent=1, max_percent=99, stretch='log'))\n",
    "pl.colorbar()"
   ]
  },
  {
   "cell_type": "code",
   "execution_count": null,
   "id": "f57f51ba-6a3a-44e4-aae8-09489c89bdfd",
   "metadata": {},
   "outputs": [],
   "source": [
    "pl.figure(figsize=(12,8))\n",
    "pl.imshow(paa_minus_cont, norm=simple_norm(paa_minus_cont, min_percent=4, max_percent=99.5, stretch='log'))\n",
    "pl.colorbar()"
   ]
  },
  {
   "cell_type": "code",
   "execution_count": null,
   "id": "53ffa6e9-1b3d-45b0-b6bb-0ceddf922299",
   "metadata": {},
   "outputs": [],
   "source": [
    "stars_paa = DAOStarFinder(threshold=60, fwhm=2.302, peakmax=1e4)(fh_187['SCI'].data)\n",
    "stars_paa['skycoord'] = ww187.pixel_to_world(stars_paa['xcentroid'], stars_paa['ycentroid'])\n",
    "len(stars_paa)"
   ]
  },
  {
   "cell_type": "code",
   "execution_count": null,
   "id": "0ab3b81e-0e53-41a2-918c-f2b9e3d310a1",
   "metadata": {},
   "outputs": [],
   "source": [
    "stars_182 = DAOStarFinder(threshold=10, fwhm=2.302, peakmax=900)(fh_182['SCI'].data)\n",
    "stars_182['skycoord'] = ww182.pixel_to_world(stars_182['xcentroid'], stars_182['ycentroid'])\n",
    "len(stars_182)"
   ]
  },
  {
   "cell_type": "code",
   "execution_count": null,
   "id": "76a9bcbc-375c-4f93-8e2a-6c4e4a8e2810",
   "metadata": {},
   "outputs": [],
   "source": [
    "matches, sep, _ = stars_paa['skycoord'].match_to_catalog_sky(stars_182['skycoord'], nthneighbor=1)\n",
    "\n",
    "for cn in stars_paa.colnames:\n",
    "    stars_paa.rename_column(cn, f\"{cn}_187\")\n",
    "for cn in stars_182.colnames:\n",
    "    stars_182.rename_column(cn, f\"{cn}_182\")\n",
    "                         \n",
    "stars_paa.add_column(name=\"sep_182_187\", col=sep)\n",
    "stars_paa.add_column(name=\"id_182_187\", col=matches)\n",
    "mergetbl = table.hstack([stars_paa, stars_182[matches]], join_type='exact')"
   ]
  },
  {
   "cell_type": "code",
   "execution_count": null,
   "id": "9a41ed4d-15ba-4a0b-9617-a6d5146a3e2a",
   "metadata": {},
   "outputs": [],
   "source": [
    "pl.hist(mergetbl['sep_182_187'].to(u.arcsec).value)"
   ]
  },
  {
   "cell_type": "code",
   "execution_count": null,
   "id": "11d50c0d-3961-4caf-900e-dbd1ba1123b9",
   "metadata": {},
   "outputs": [],
   "source": [
    "radiff = (mergetbl['skycoord_187'].ra - mergetbl['skycoord_182'].ra).to(u.arcsec)\n",
    "decdiff = (mergetbl['skycoord_187'].dec - mergetbl['skycoord_182'].dec).to(u.arcsec)\n",
    "pl.scatter(radiff, decdiff, marker=',', s=1, alpha=0.8)\n",
    "pl.axis([-0.5,0.5,-0.5,0.5])"
   ]
  },
  {
   "cell_type": "markdown",
   "id": "1801ebbf-8614-4cda-a295-74e0c32ab995",
   "metadata": {},
   "source": [
    "# Jan 13, 2023: YIKES:  0.04 x 0.02\" major offset!"
   ]
  },
  {
   "cell_type": "code",
   "execution_count": null,
   "id": "58fe86a8-9bb9-41c4-a00c-3b1c24828c5f",
   "metadata": {},
   "outputs": [],
   "source": [
    "pl.figure(figsize=(10,8))\n",
    "radiff = (mergetbl['skycoord_187'].ra - mergetbl['skycoord_182'].ra).to(u.arcsec)\n",
    "decdiff = (mergetbl['skycoord_187'].dec - mergetbl['skycoord_182'].dec).to(u.arcsec)\n",
    "topleft = (mergetbl['xcentroid_187'] < 1424) & (mergetbl['ycentroid_187'] > 1024)\n",
    "pl.scatter(radiff[topleft], decdiff[topleft], marker=',', s=1, alpha=0.8)\n",
    "topright = (mergetbl['xcentroid_187'] > 1424) & (mergetbl['ycentroid_187'] > 1024)\n",
    "pl.scatter(radiff[topright], decdiff[topright], marker=',', s=1, alpha=0.8)\n",
    "bottomleft = (mergetbl['xcentroid_187'] < 1424) & (mergetbl['ycentroid_187'] < 1024)\n",
    "pl.scatter(radiff[bottomleft], decdiff[bottomleft], marker=',', s=1, alpha=0.8)\n",
    "bottomright = (mergetbl['xcentroid_187'] > 1424) & (mergetbl['ycentroid_187'] < 1024)\n",
    "pl.scatter(radiff[bottomright], decdiff[bottomright], marker=',', s=1, alpha=0.8)\n",
    "pl.axis([-0.05,0.05,-0.05,0.05])"
   ]
  },
  {
   "cell_type": "code",
   "execution_count": null,
   "id": "16a5f37d-ab02-4036-9d85-cdf4e1fe7e52",
   "metadata": {},
   "outputs": [],
   "source": [
    "mergetbl['xcentroid_187'].max(), mergetbl['ycentroid_187'].max()"
   ]
  },
  {
   "cell_type": "code",
   "execution_count": null,
   "id": "20c3b9da-186e-411f-b26c-d578636c5b80",
   "metadata": {
    "tags": []
   },
   "outputs": [],
   "source": [
    "dist_from_center = ((mergetbl['xcentroid_187'] - 2950)**2 + (mergetbl['ycentroid_187'] - 2350)**2)**0.5"
   ]
  },
  {
   "cell_type": "code",
   "execution_count": null,
   "id": "d7f944e5-7820-47ef-a870-4bbafab527b4",
   "metadata": {
    "tags": []
   },
   "outputs": [],
   "source": [
    "pl.plot(dist_from_center, mergetbl['sep_182_187'].to(u.arcsec).value, ',')\n",
    "#pl.plot(dist_from_center, dist_from_center/1750 * 0.045 + 0.008)\n",
    "#pl.plot(dist_from_center, dist_from_center/1750 * 0.035 - 0.004)\n",
    "pl.ylim(0,0.06)\n",
    "pl.xlabel(\"Distance from center of image (pixels)\")\n",
    "pl.ylabel(\"Offset from F182 (arcseconds)\")"
   ]
  },
  {
   "cell_type": "markdown",
   "id": "82ecd607-844c-4338-bcad-ad4512a9b8d2",
   "metadata": {
    "tags": []
   },
   "source": [
    "# TODO: replace hand-picked numbers here, which are for F405, not F187\n",
    "\n",
    "In principle, this should be handled by the pipeline tweakwcs steps, but it's not obvious that that has happened"
   ]
  },
  {
   "cell_type": "code",
   "execution_count": null,
   "id": "f9e72ece-f7ac-437d-9f07-4710f451ed7e",
   "metadata": {
    "tags": []
   },
   "outputs": [],
   "source": [
    "# selecting 'well-matched' zone (the central blob)\n",
    "# OLD from other notebook ok = (mergetbl['sep_182_187'] < 0.07*u.arcsec) & (mergetbl['sep_182_187'] < (dist_from_center/1750*0.045 +0.08) *u.arcsec) & (mergetbl['sep_182_187'] > (dist_from_center/1750*0.035 - 0.08) *u.arcsec)\n",
    "ok = (mergetbl['sep_182_187'] < 0.07*u.arcsec) & (mergetbl['sep_182_187'] > 0.02*u.arcsec) # good fits do not include zero-offset!"
   ]
  },
  {
   "cell_type": "code",
   "execution_count": null,
   "id": "fff7434a-883d-484f-be70-3db2b73d4255",
   "metadata": {
    "tags": []
   },
   "outputs": [],
   "source": [
    "radiff = (mergetbl['skycoord_187'].ra - mergetbl['skycoord_182'].ra).to(u.arcsec)\n",
    "decdiff = (mergetbl['skycoord_187'].dec - mergetbl['skycoord_182'].dec).to(u.arcsec)\n",
    "ok = (radiff >0.02*u.arcsec) & (radiff < 0.06*u.arcsec) & (decdiff > 0.01*u.arcsec) & (decdiff < 0.04*u.arcsec)\n",
    "pl.scatter(radiff[ok], decdiff[ok], marker=',', s=1, alpha=0.1)"
   ]
  },
  {
   "cell_type": "code",
   "execution_count": null,
   "id": "e00cc051-ae75-40c8-829e-8e732dab0e92",
   "metadata": {},
   "outputs": [],
   "source": [
    "from astropy.wcs.utils import fit_wcs_from_points"
   ]
  },
  {
   "cell_type": "markdown",
   "id": "8e1897e2-c340-435a-b9a3-ead07710d4e8",
   "metadata": {},
   "source": [
    "Not sure how I chose the SIP degree here.  Investigations of SIP degree are in subsequent cells"
   ]
  },
  {
   "cell_type": "code",
   "execution_count": null,
   "id": "3a62d7f4-d80a-4868-a195-43c4c9cdac80",
   "metadata": {},
   "outputs": [],
   "source": [
    "ww_187_refit = fit_wcs_from_points([mergetbl['xcentroid_187'][ok], mergetbl['ycentroid_187'][ok]], mergetbl['skycoord_182'][ok], sip_degree=1)"
   ]
  },
  {
   "cell_type": "code",
   "execution_count": null,
   "id": "4aa1e184-8696-48c5-ab38-15bf0e9d0acf",
   "metadata": {},
   "outputs": [],
   "source": [
    "ww_182_refit = fit_wcs_from_points([mergetbl['xcentroid_182'][ok], mergetbl['ycentroid_182'][ok]], mergetbl['skycoord_187'][ok], sip_degree=3)"
   ]
  },
  {
   "cell_type": "code",
   "execution_count": null,
   "id": "09f8339b-f3c6-4cc5-8775-b9318e6f4742",
   "metadata": {},
   "outputs": [],
   "source": [
    "skycoord_182_refit = ww_182_refit.pixel_to_world(mergetbl['xcentroid_182'], mergetbl['ycentroid_182'])"
   ]
  },
  {
   "cell_type": "code",
   "execution_count": null,
   "id": "eb6a07dd-7403-48e1-bda6-28d96e0c435e",
   "metadata": {},
   "outputs": [],
   "source": [
    "pl.figure(figsize=(14,9))\n",
    "for sip_degree in (0,1,2,3):\n",
    "    pl.subplot(2,2,sip_degree+1)\n",
    "    pl.title(f\"SIP degree = {sip_degree}\")\n",
    "    \n",
    "    ww_182_refit = fit_wcs_from_points([mergetbl['xcentroid_182'][ok], mergetbl['ycentroid_182'][ok]], mergetbl['skycoord_187'][ok], sip_degree=sip_degree)\n",
    "    skycoord_182_refit = ww_182_refit.pixel_to_world(mergetbl['xcentroid_182'], mergetbl['ycentroid_182'])\n",
    "    radiff = (mergetbl['skycoord_187'].ra - skycoord_182_refit.ra).to(u.arcsec)\n",
    "    decdiff = (mergetbl['skycoord_187'].dec - skycoord_182_refit.dec).to(u.arcsec)\n",
    "    sep = (radiff**2 + decdiff**2)**0.5\n",
    "    ww_182_refit = fit_wcs_from_points([mergetbl['xcentroid_182'][ok & (sep < 0.01*u.arcsec)], mergetbl['ycentroid_182'][ok & (sep < 0.01*u.arcsec)]], mergetbl['skycoord_187'][ok & (sep < 0.01*u.arcsec)], sip_degree=sip_degree)\n",
    "    skycoord_182_refit = ww_182_refit.pixel_to_world(mergetbl['xcentroid_182'], mergetbl['ycentroid_182'])\n",
    "    radiff = (mergetbl['skycoord_187'].ra - skycoord_182_refit.ra).to(u.arcsec)\n",
    "    decdiff = (mergetbl['skycoord_187'].dec - skycoord_182_refit.dec).to(u.arcsec)\n",
    "    sep = (radiff**2 + decdiff**2)**0.5\n",
    "    \n",
    "    topleft = (mergetbl['xcentroid_187'] < 1424) & (mergetbl['ycentroid_187'] > 1024)\n",
    "    sc = pl.scatter(radiff[topleft], decdiff[topleft], marker=',', s=1, alpha=0.5)\n",
    "    pl.scatter(np.median(radiff[topleft]), np.median(decdiff[topleft]), marker='o', alpha=0.9, c=sc.get_facecolors(), zorder=15, edgecolors='k', s=60)\n",
    "    topright = (mergetbl['xcentroid_187'] > 1424) & (mergetbl['ycentroid_187'] > 1024)\n",
    "    sc = pl.scatter(radiff[topright], decdiff[topright], marker=',', s=1, alpha=0.5)\n",
    "    pl.scatter(np.median(radiff[topright]), np.median(decdiff[topright]), marker='p', alpha=0.9, c=sc.get_facecolors(), zorder=15, edgecolors='k', s=60)\n",
    "    bottomleft = (mergetbl['xcentroid_187'] < 1424) & (mergetbl['ycentroid_187'] < 1024)\n",
    "    sc = pl.scatter(radiff[bottomleft], decdiff[bottomleft], marker=',', s=1, alpha=0.5)\n",
    "    pl.scatter(np.median(radiff[bottomleft]), np.median(decdiff[bottomleft]), marker='d', alpha=0.9, c=sc.get_facecolors(), zorder=15, edgecolors='k', s=60)\n",
    "    bottomright = (mergetbl['xcentroid_187'] > 1424) & (mergetbl['ycentroid_187'] < 1024)\n",
    "    sc = pl.scatter(radiff[bottomright], decdiff[bottomright], marker=',', s=1, alpha=0.5)\n",
    "    pl.scatter(np.median(radiff[bottomright]), np.median(decdiff[bottomright]), marker='s', alpha=0.9, c=sc.get_facecolors(), zorder=25, edgecolors='k', s=60)\n",
    "    pl.axis([-0.01,0.01,-0.01,0.01])"
   ]
  },
  {
   "cell_type": "code",
   "execution_count": null,
   "id": "0b423cc1-64ba-474e-8875-e9a3be4eed3a",
   "metadata": {},
   "outputs": [],
   "source": [
    "pl.figure(figsize=(14,9))\n",
    "for sip_degree in (0,1,2,3):\n",
    "    pl.subplot(2,2,sip_degree+1)\n",
    "    pl.title(f\"SIP degree = {sip_degree}\")\n",
    "    \n",
    "    ww_187_refit = fit_wcs_from_points([mergetbl['xcentroid_187'][ok], mergetbl['ycentroid_187'][ok]], mergetbl['skycoord_182'][ok], sip_degree=sip_degree)\n",
    "    skycoord_187_refit = ww_187_refit.pixel_to_world(mergetbl['xcentroid_187'], mergetbl['ycentroid_187'])\n",
    "    radiff = (mergetbl['skycoord_182'].ra - skycoord_187_refit.ra).to(u.arcsec)\n",
    "    decdiff = (mergetbl['skycoord_182'].dec - skycoord_187_refit.dec).to(u.arcsec)\n",
    "    sep = (radiff**2 + decdiff**2)**0.5\n",
    "    ww_187_refit = fit_wcs_from_points([mergetbl['xcentroid_187'][ok & (sep < 0.01*u.arcsec)], mergetbl['ycentroid_187'][ok & (sep < 0.01*u.arcsec)]], mergetbl['skycoord_182'][ok & (sep < 0.01*u.arcsec)], sip_degree=sip_degree)\n",
    "    skycoord_187_refit = ww_187_refit.pixel_to_world(mergetbl['xcentroid_187'], mergetbl['ycentroid_187'])\n",
    "    radiff = (mergetbl['skycoord_182'].ra - skycoord_187_refit.ra).to(u.arcsec)\n",
    "    decdiff = (mergetbl['skycoord_182'].dec - skycoord_187_refit.dec).to(u.arcsec)\n",
    "    sep = (radiff**2 + decdiff**2)**0.5\n",
    "    \n",
    "    topleft = (mergetbl['xcentroid_187'] < 1424) & (mergetbl['ycentroid_187'] > 1024)\n",
    "    sc = pl.scatter(radiff[topleft], decdiff[topleft], marker=',', s=1, alpha=0.5)\n",
    "    pl.scatter(np.median(radiff[topleft]), np.median(decdiff[topleft]), marker='o', alpha=0.9, c=sc.get_facecolors(), zorder=15, edgecolors='k', s=60)\n",
    "    topright = (mergetbl['xcentroid_187'] > 1424) & (mergetbl['ycentroid_187'] > 1024)\n",
    "    sc = pl.scatter(radiff[topright], decdiff[topright], marker=',', s=1, alpha=0.5)\n",
    "    pl.scatter(np.median(radiff[topright]), np.median(decdiff[topright]), marker='p', alpha=0.9, c=sc.get_facecolors(), zorder=15, edgecolors='k', s=60)\n",
    "    bottomleft = (mergetbl['xcentroid_187'] < 1424) & (mergetbl['ycentroid_187'] < 1024)\n",
    "    sc = pl.scatter(radiff[bottomleft], decdiff[bottomleft], marker=',', s=1, alpha=0.5)\n",
    "    pl.scatter(np.median(radiff[bottomleft]), np.median(decdiff[bottomleft]), marker='d', alpha=0.9, c=sc.get_facecolors(), zorder=15, edgecolors='k', s=60)\n",
    "    bottomright = (mergetbl['xcentroid_187'] > 1424) & (mergetbl['ycentroid_187'] < 1024)\n",
    "    sc = pl.scatter(radiff[bottomright], decdiff[bottomright], marker=',', s=1, alpha=0.5)\n",
    "    pl.scatter(np.median(radiff[bottomright]), np.median(decdiff[bottomright]), marker='s', alpha=0.9, c=sc.get_facecolors(), zorder=25, edgecolors='k', s=60)\n",
    "    pl.axis([-0.01,0.01,-0.01,0.01])"
   ]
  },
  {
   "cell_type": "code",
   "execution_count": null,
   "id": "9ac2f4df-fafd-4b9a-a040-d60ff8190374",
   "metadata": {},
   "outputs": [],
   "source": []
  },
  {
   "cell_type": "code",
   "execution_count": null,
   "id": "163785fc-3545-4cfc-ad4e-482a1d1628bd",
   "metadata": {},
   "outputs": [],
   "source": [
    "sip_degree = 3\n",
    "ww_187_refit = fit_wcs_from_points([mergetbl['xcentroid_187'][ok], mergetbl['ycentroid_187'][ok]], mergetbl['skycoord_182'][ok], sip_degree=sip_degree)\n",
    "skycoord_187_refit = ww_187_refit.pixel_to_world(mergetbl['xcentroid_187'], mergetbl['ycentroid_187'])\n",
    "radiff = (mergetbl['skycoord_182'].ra - skycoord_187_refit.ra).to(u.arcsec)\n",
    "decdiff = (mergetbl['skycoord_182'].dec - skycoord_187_refit.dec).to(u.arcsec)\n",
    "sep = (radiff**2 + decdiff**2)**0.5\n",
    "ww_187_refit = fit_wcs_from_points([mergetbl['xcentroid_187'][ok & (sep < 0.01*u.arcsec)], mergetbl['ycentroid_187'][ok & (sep < 0.01*u.arcsec)]], mergetbl['skycoord_182'][ok & (sep < 0.01*u.arcsec)], sip_degree=sip_degree)\n",
    "skycoord_187_refit = ww_187_refit.pixel_to_world(mergetbl['xcentroid_187'], mergetbl['ycentroid_187'])\n",
    "radiff = (mergetbl['skycoord_182'].ra - skycoord_187_refit.ra).to(u.arcsec)\n",
    "decdiff = (mergetbl['skycoord_182'].dec - skycoord_187_refit.dec).to(u.arcsec)\n",
    "sep = (radiff**2 + decdiff**2)**0.5\n"
   ]
  },
  {
   "cell_type": "code",
   "execution_count": null,
   "id": "3bba22e1-fa7e-4229-8389-ef82183f9e08",
   "metadata": {},
   "outputs": [],
   "source": [
    "ww_187_refit.to_header(relax=True).totextfile(f'{basepath}/reduction/headers/f187n_nrcb_refitted_to_f182m.hdr', overwrite=True)"
   ]
  },
  {
   "cell_type": "code",
   "execution_count": null,
   "id": "7104915c-8a1b-46e7-b1f8-20705a427228",
   "metadata": {},
   "outputs": [],
   "source": [
    "data_187_proj_182_refit, overlap_refit = reproject.reproject_exact((fh_187['SCI'].data, ww_187_refit), fh_182['SCI'].header)"
   ]
  },
  {
   "cell_type": "code",
   "execution_count": null,
   "id": "eda75acf-4459-43fd-be66-ddc4fd20724d",
   "metadata": {},
   "outputs": [],
   "source": [
    "fits.PrimaryHDU(data=data_187_proj_182_refit, header=fh_182['SCI'].header).writeto(f'{basepath}/images/F187_refitted187wcsto182_nrcb.fits', overwrite=True)"
   ]
  },
  {
   "cell_type": "code",
   "execution_count": null,
   "id": "208bb6d8-2dfb-4acc-a672-bc7af0915ff1",
   "metadata": {},
   "outputs": [],
   "source": [
    "cont182_sub_paa = fh_182['SCI'].data - data_187_proj_182_refit*fractional_bandwidth_187\n",
    "fits.PrimaryHDU(data=cont182_sub_paa, header=fh_182['SCI'].header).writeto(f'{basepath}/images/F182_minus_F187_refitted187wcsto182_nrcb.fits', overwrite=True)"
   ]
  },
  {
   "cell_type": "code",
   "execution_count": null,
   "id": "19faa8eb-8e49-4c33-8fd5-eb0f57a9e995",
   "metadata": {},
   "outputs": [],
   "source": [
    "paa_minus_cont = data_187_proj_182_refit - cont182_sub_paa #* fractional_bandwidth_187\n",
    "fits.PrimaryHDU(data=paa_minus_cont, header=fh_182['SCI'].header).writeto(f'{basepath}/images/F187_minus_F182cont_refitted187wcsto182_nrcb.fits', overwrite=True)"
   ]
  },
  {
   "cell_type": "code",
   "execution_count": null,
   "id": "61bd33f2-0e44-4de5-bb6f-2d5c21e70fbd",
   "metadata": {},
   "outputs": [],
   "source": []
  },
  {
   "cell_type": "code",
   "execution_count": null,
   "id": "5f5fc537-6cd7-4ecd-bcaa-cbc6155e5f89",
   "metadata": {},
   "outputs": [],
   "source": [
    "pl.figure(figsize=(12,8))\n",
    "pl.imshow(cont182_sub_paa, norm=simple_norm(cont182_sub_paa, min_percent=1, max_percent=99, stretch='log'))\n",
    "pl.colorbar()"
   ]
  },
  {
   "cell_type": "code",
   "execution_count": null,
   "id": "c9bb89ce-9ec6-4a41-872c-c22677c2d0c1",
   "metadata": {},
   "outputs": [],
   "source": [
    "pl.figure(figsize=(12,8))\n",
    "pl.imshow(paa_minus_cont, norm=simple_norm(paa_minus_cont, min_percent=4, max_percent=99.5, stretch='log'))\n",
    "pl.colorbar()"
   ]
  },
  {
   "cell_type": "code",
   "execution_count": null,
   "id": "c7459155-aa5a-42fa-8cd6-407e73e3d151",
   "metadata": {},
   "outputs": [],
   "source": [
    "xr = np.linspace(0,15)\n",
    "pl.scatter(mergetbl['flux_187'][ok], mergetbl['flux_182'][ok], s=1)\n",
    "pl.plot(xr, xr/fractional_bandwidth_187, color='red')\n",
    "scalefactor = 0.16\n",
    "pl.plot(xr, xr/scalefactor, color='orange')\n",
    "post_destreak_scalefactor = 0.196\n",
    "pl.plot(xr, xr/post_destreak_scalefactor, color='black')\n",
    "pl.axis((0,20,0,100))"
   ]
  },
  {
   "cell_type": "code",
   "execution_count": null,
   "id": "46c57ec6-cd03-4e6d-9c91-6c5c3f92d95d",
   "metadata": {},
   "outputs": [],
   "source": [
    "latest_scalefactor = np.median(1/(mergetbl['flux_182'][ok]/mergetbl['flux_187'][ok]))\n",
    "latest_scalefactor"
   ]
  },
  {
   "cell_type": "code",
   "execution_count": null,
   "id": "572dfbe5-47c3-45f1-9985-8f0aa32766b0",
   "metadata": {},
   "outputs": [],
   "source": [
    "pl.hist(1/(mergetbl['flux_182'][ok]/mergetbl['flux_187'][ok]), bins=np.linspace(0.05,0.25))\n",
    "pl.axvline(scalefactor, color='orange')\n",
    "pl.axvline(post_destreak_scalefactor, color='black')\n",
    "pl.axvline(fractional_bandwidth_187, color='red')\n",
    "pl.axvline(latest_scalefactor, color='green', linestyle=':')"
   ]
  },
  {
   "cell_type": "code",
   "execution_count": null,
   "id": "6182aa89-bf6b-4966-8e15-907acadc7358",
   "metadata": {},
   "outputs": [],
   "source": []
  },
  {
   "cell_type": "code",
   "execution_count": null,
   "id": "36725b53-1bf6-4647-a9bb-ccad1dc4f7e9",
   "metadata": {},
   "outputs": [],
   "source": [
    "cont182_sub_paa = fh_182['SCI'].data - data_187_proj_182_refit*latest_scalefactor\n",
    "fits.PrimaryHDU(data=cont182_sub_paa, header=fh_182['SCI'].header).writeto(f'{basepath}/images/F182_minus_F187_refitted187wcsto182_nrcb.fits', overwrite=True)"
   ]
  },
  {
   "cell_type": "code",
   "execution_count": null,
   "id": "d7c50eb7-a6c6-4e93-920b-f8646ced5dbf",
   "metadata": {},
   "outputs": [],
   "source": [
    "paa_minus_cont = data_187_proj_182_refit - cont182_sub_paa #* fractional_bandwidth_187\n",
    "fits.PrimaryHDU(data=paa_minus_cont, header=fh_182['SCI'].header).writeto(f'{basepath}/images/F187_minus_F182cont_refitted187wcsto182_nrcb.fits', overwrite=True)"
   ]
  },
  {
   "cell_type": "code",
   "execution_count": null,
   "id": "bb54a4b9-1495-4ac7-96b3-8551e4728509",
   "metadata": {},
   "outputs": [],
   "source": []
  }
 ],
 "metadata": {
  "kernelspec": {
   "display_name": "python39",
   "language": "python",
   "name": "python39"
  },
  "language_info": {
   "codemirror_mode": {
    "name": "ipython",
    "version": 3
   },
   "file_extension": ".py",
   "mimetype": "text/x-python",
   "name": "python",
   "nbconvert_exporter": "python",
   "pygments_lexer": "ipython3",
   "version": "3.9.13"
  }
 },
 "nbformat": 4,
 "nbformat_minor": 5
}
