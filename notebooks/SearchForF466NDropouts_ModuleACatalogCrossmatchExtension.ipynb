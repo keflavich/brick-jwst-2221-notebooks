{
 "cells": [
  {
   "cell_type": "code",
   "execution_count": null,
   "id": "9a0ecacb-e568-461c-939d-6cbe7cc90691",
   "metadata": {},
   "outputs": [],
   "source": []
  },
  {
   "cell_type": "markdown",
   "id": "d96c3af3-45cc-4951-aac0-618342e7dd6c",
   "metadata": {},
   "source": [
    "# Where are the F466N dropouts?\n",
    "\n",
    "There _are_ F466N dropouts, I can see them by blinking F410M with F466N.\n",
    "\n",
    "I thought I tried to find them above but where are they?"
   ]
  },
  {
   "cell_type": "code",
   "execution_count": null,
   "id": "e0c7a35e-3c19-4bab-865f-48a9e16b339b",
   "metadata": {},
   "outputs": [],
   "source": [
    "basetable['mag_F410M']"
   ]
  },
  {
   "cell_type": "raw",
   "id": "f74b509a-36b2-4d0a-9c3f-f9a78b16a71e",
   "metadata": {},
   "source": [
    "s1 = basetable['mag\n",
    "xx = np.linspace(crds.ra.min(), crds.ra.max(), 25).value\n",
    "yy = np.linspace(crds.dec.min(), crds.dec.max(), 25).value\n",
    "zz, xe, ye = np.histogram2d(crds[s1].ra.value, crds[s1].dec.value, bins=[xx, yy])\n",
    "cx = (xx[1:]+xx[:-1])/2\n",
    "cy = (yy[1:]+yy[:-1])/2\n",
    "pl.scatter(crds[s1].ra.deg, crds[s1].dec.deg)\n",
    "#pl.contour(cx, cy, zz);\n",
    "#pl.colorbar();"
   ]
  },
  {
   "cell_type": "code",
   "execution_count": null,
   "id": "de301a36-cd27-41a2-a47a-0a5d126cc502",
   "metadata": {},
   "outputs": [],
   "source": [
    "print(\"TEST\")"
   ]
  }
 ],
 "metadata": {
  "kernelspec": {
   "display_name": "python39",
   "language": "python",
   "name": "python39"
  },
  "language_info": {
   "codemirror_mode": {
    "name": "ipython",
    "version": 3
   },
   "file_extension": ".py",
   "mimetype": "text/x-python",
   "name": "python",
   "nbconvert_exporter": "python",
   "pygments_lexer": "ipython3",
   "version": "3.9.13"
  }
 },
 "nbformat": 4,
 "nbformat_minor": 5
}
