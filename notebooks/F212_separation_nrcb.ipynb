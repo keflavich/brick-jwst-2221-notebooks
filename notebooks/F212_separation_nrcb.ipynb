{
 "cells": [
  {
   "cell_type": "markdown",
   "id": "6ae33585-ba06-43cc-a490-0fe66f1c6f8d",
   "metadata": {},
   "source": [
    "# Copied and converted with s/466/212/ and s/410/182/ on Feb 12, 2023\n",
    "\n",
    "Then nrcb->nrcb on June 30, 2023"
   ]
  },
  {
   "cell_type": "code",
   "execution_count": 1,
   "id": "b7f51e72-904a-4835-8be3-6df57c7ae864",
   "metadata": {
    "tags": []
   },
   "outputs": [],
   "source": [
    "from photutils import CircularAperture, EPSFBuilder, find_peaks, CircularAnnulus\n",
    "from photutils.detection import DAOStarFinder, IRAFStarFinder\n",
    "from photutils.psf import DAOGroup, IntegratedGaussianPRF, extract_stars, IterativelySubtractedPSFPhotometry, BasicPSFPhotometry"
   ]
  },
  {
   "cell_type": "code",
   "execution_count": 2,
   "id": "3ddb567c-eb53-4df3-848a-971c357b3048",
   "metadata": {},
   "outputs": [],
   "source": [
    "from photutils.background import MMMBackground, MADStdBackgroundRMS\n",
    "from astropy.modeling.fitting import LevMarLSQFitter"
   ]
  },
  {
   "cell_type": "code",
   "execution_count": 3,
   "id": "07f47ae9-7ac8-4917-bfae-16033d4d8b07",
   "metadata": {},
   "outputs": [],
   "source": [
    "from astropy import stats\n",
    "from astropy.table import Table\n",
    "from astropy.wcs import WCS"
   ]
  },
  {
   "cell_type": "code",
   "execution_count": 4,
   "id": "495fbb34-1d8c-4d32-a376-baee197e72d9",
   "metadata": {},
   "outputs": [],
   "source": [
    "from astropy.io import fits"
   ]
  },
  {
   "cell_type": "code",
   "execution_count": 5,
   "id": "06a449ca-6797-4d43-b1f3-db00afdcd729",
   "metadata": {},
   "outputs": [],
   "source": [
    "from astropy.table import Table\n",
    "from astropy.coordinates import SkyCoord\n",
    "from astropy.visualization import simple_norm\n",
    "from astropy import wcs\n",
    "from astropy import table\n",
    "from astropy import units as u\n",
    "import pylab as pl\n",
    "pl.rcParams['figure.facecolor'] = 'w'\n",
    "pl.rcParams['image.origin'] = 'lower'"
   ]
  },
  {
   "cell_type": "code",
   "execution_count": 6,
   "id": "eafbaa4d-b5fc-4f1a-9af3-59659ca8bd1b",
   "metadata": {},
   "outputs": [],
   "source": [
    "from astroquery.svo_fps import SvoFps"
   ]
  },
  {
   "cell_type": "code",
   "execution_count": 7,
   "id": "cf2c1a82-e457-411e-ba6f-84ffd3db515d",
   "metadata": {},
   "outputs": [],
   "source": [
    "import numpy as np"
   ]
  },
  {
   "cell_type": "code",
   "execution_count": 8,
   "id": "735e1861-9831-4a77-82f5-f6e22da3df69",
   "metadata": {},
   "outputs": [],
   "source": [
    "import reproject"
   ]
  },
  {
   "cell_type": "code",
   "execution_count": 9,
   "id": "16cee3bd-1bf0-4c43-bf5a-1c1612d993ec",
   "metadata": {},
   "outputs": [],
   "source": [
    "from astropy import units as u"
   ]
  },
  {
   "cell_type": "code",
   "execution_count": 10,
   "id": "15b950af-838a-45b7-a4df-e2da4b1ad206",
   "metadata": {},
   "outputs": [],
   "source": [
    "basepath = '/orange/adamginsburg/jwst/brick/'"
   ]
  },
  {
   "cell_type": "code",
   "execution_count": 11,
   "id": "fb43faa6-548d-4b57-a3bf-8163cf4d8e9d",
   "metadata": {},
   "outputs": [],
   "source": [
    "fh_212 = fits.open(f'{basepath}/F212N/pipeline/jw02221-o001_t001_nircam_clear-f212n-nrcb_realigned-to-refcat.fits')\n",
    "fh_182 = fits.open(f'{basepath}/F182M/pipeline/jw02221-o001_t001_nircam_clear-f182m-nrcb_realigned-to-refcat.fits')"
   ]
  },
  {
   "cell_type": "code",
   "execution_count": 12,
   "id": "08a3bcc8-a5ce-4a3f-ae6e-2b4295240ef1",
   "metadata": {},
   "outputs": [
    {
     "name": "stderr",
     "output_type": "stream",
     "text": [
      "WARNING: FITSFixedWarning: 'obsfix' made the change 'Set OBSGEO-L to   -51.531241 from OBSGEO-[XYZ].\n",
      "Set OBSGEO-B to   -20.667233 from OBSGEO-[XYZ].\n",
      "Set OBSGEO-H to 1526480076.188 from OBSGEO-[XYZ]'. [astropy.wcs.wcs]\n",
      "WARNING: FITSFixedWarning: 'obsfix' made the change 'Set OBSGEO-L to   -51.511136 from OBSGEO-[XYZ].\n",
      "Set OBSGEO-B to   -20.648906 from OBSGEO-[XYZ].\n",
      "Set OBSGEO-H to 1526264739.299 from OBSGEO-[XYZ]'. [astropy.wcs.wcs]\n"
     ]
    }
   ],
   "source": [
    "ww212 = wcs.WCS(fh_212['SCI'].header)\n",
    "ww182 = wcs.WCS(fh_182['SCI'].header)"
   ]
  },
  {
   "cell_type": "code",
   "execution_count": 13,
   "id": "88d118bc-0e8b-45d5-b9ad-0e3313564783",
   "metadata": {},
   "outputs": [
    {
     "name": "stdout",
     "output_type": "stream",
     "text": [
      "F212N\n",
      "F182M\n"
     ]
    }
   ],
   "source": [
    "instrument = fh_212[0].header['INSTRUME']\n",
    "telescope = fh_212[0].header['TELESCOP']\n",
    "filt212 = fh_212[0].header['FILTER']\n",
    "print(filt212)\n",
    "wavelength_table_212 = SvoFps.get_transmission_data(f'{telescope}/{instrument}.{filt212}')\n",
    "filt182 = fh_182[0].header['FILTER']\n",
    "print(filt182)\n",
    "wavelength_table_182 = SvoFps.get_transmission_data(f'{telescope}/{instrument}.{filt182}')"
   ]
  },
  {
   "cell_type": "code",
   "execution_count": 14,
   "id": "276bc9c5-3e67-4052-8a00-7bc63482c14e",
   "metadata": {},
   "outputs": [],
   "source": [
    "filterlist = SvoFps.get_filter_list('JWST', instrument='NIRCam')\n",
    "filterlist.add_index('filterID')"
   ]
  },
  {
   "cell_type": "code",
   "execution_count": 15,
   "id": "79e070bf-5ab3-440a-a3df-af267b24ebaa",
   "metadata": {},
   "outputs": [
    {
     "data": {
      "text/plain": [
       "274.27440340689"
      ]
     },
     "execution_count": 15,
     "metadata": {},
     "output_type": "execute_result"
    }
   ],
   "source": [
    "filterlist.loc['JWST/NIRCam.F212N']['WidthEff']"
   ]
  },
  {
   "cell_type": "code",
   "execution_count": 16,
   "id": "1481fc83-4543-4c60-9f0c-71883bcd9f98",
   "metadata": {},
   "outputs": [
    {
     "data": {
      "text/plain": [
       "2250.8124936959"
      ]
     },
     "execution_count": 16,
     "metadata": {},
     "output_type": "execute_result"
    }
   ],
   "source": [
    "filterlist.loc['JWST/NIRCam.F182M']['WidthEff']"
   ]
  },
  {
   "cell_type": "code",
   "execution_count": 17,
   "id": "ea7d732a-cbfa-483d-916a-82e1744ca18d",
   "metadata": {},
   "outputs": [],
   "source": [
    "fractional_bandwidth_212 = filterlist.loc['JWST/NIRCam.F212N']['WidthEff'] / filterlist.loc['JWST/NIRCam.F182M']['WidthEff']"
   ]
  },
  {
   "cell_type": "code",
   "execution_count": null,
   "id": "79011688-0ce3-4deb-b70e-a6ff94d48043",
   "metadata": {},
   "outputs": [
    {
     "name": "stderr",
     "output_type": "stream",
     "text": [
      "/blue/adamginsburg/adamginsburg/repos/reproject/reproject/spherical_intersect/core.py:47: UserWarning: The reproject_exact function currently has precision issues with images that have resolutions below ~0.05 arcsec, so the results may not be accurate.\n",
      "  warnings.warn(\n"
     ]
    }
   ],
   "source": [
    "data_212_proj_182,_ = reproject.reproject_exact(fh_212['SCI'], fh_182['SCI'].header)"
   ]
  },
  {
   "cell_type": "code",
   "execution_count": null,
   "id": "b86400d4-0cc3-4d91-ba5e-dab2063be33d",
   "metadata": {},
   "outputs": [],
   "source": [
    "cont182_sub_paa = fits.getdata(f'{basepath}/images/F182_minus_F187_nrcb.fits')"
   ]
  },
  {
   "cell_type": "code",
   "execution_count": null,
   "id": "8c279e61-455d-455a-9d42-cc28991da381",
   "metadata": {},
   "outputs": [],
   "source": [
    "f212_minus_cont = data_212_proj_182 - cont182_sub_paa #* fractional_bandwidth_212\n",
    "fits.PrimaryHDU(data=f212_minus_cont, header=fh_182['SCI'].header).writeto(f'{basepath}/images/F212_minus_F182cont_nrcb.fits', overwrite=True)"
   ]
  },
  {
   "cell_type": "code",
   "execution_count": null,
   "id": "ffd38589-281e-46b6-83a8-e287a090ebad",
   "metadata": {},
   "outputs": [],
   "source": [
    "pl.figure(figsize=(12,8))\n",
    "pl.imshow(cont182_sub_paa, norm=simple_norm(cont182_sub_paa, min_percent=1, max_percent=99, stretch='log'))\n",
    "pl.colorbar()"
   ]
  },
  {
   "cell_type": "code",
   "execution_count": null,
   "id": "f57f51ba-6a3a-44e4-aae8-09489c89bdfd",
   "metadata": {},
   "outputs": [],
   "source": [
    "pl.figure(figsize=(12,8))\n",
    "pl.imshow(f212_minus_cont, norm=simple_norm(f212_minus_cont, min_percent=4, max_percent=99.5, stretch='log'))\n",
    "pl.colorbar()"
   ]
  },
  {
   "cell_type": "code",
   "execution_count": null,
   "id": "53ffa6e9-1b3d-45b0-b6bb-0ceddf922299",
   "metadata": {},
   "outputs": [],
   "source": [
    "stars_f212 = DAOStarFinder(threshold=60, fwhm=2.302, peakmax=1e4)(fh_212['SCI'].data)\n",
    "stars_f212['skycoord'] = ww212.pixel_to_world(stars_f212['xcentroid'], stars_f212['ycentroid'])\n",
    "len(stars_f212)"
   ]
  },
  {
   "cell_type": "code",
   "execution_count": null,
   "id": "0ab3b81e-0e53-41a2-918c-f2b9e3d310a1",
   "metadata": {},
   "outputs": [],
   "source": [
    "stars_182 = DAOStarFinder(threshold=10, fwhm=2.302, peakmax=900)(fh_182['SCI'].data)\n",
    "stars_182['skycoord'] = ww182.pixel_to_world(stars_182['xcentroid'], stars_182['ycentroid'])\n",
    "len(stars_182)"
   ]
  },
  {
   "cell_type": "code",
   "execution_count": null,
   "id": "76a9bcbc-375c-4f93-8e2a-6c4e4a8e2810",
   "metadata": {},
   "outputs": [],
   "source": [
    "matches, sep, _ = stars_f212['skycoord'].match_to_catalog_sky(stars_182['skycoord'], nthneighbor=1)\n",
    "\n",
    "for cn in stars_f212.colnames:\n",
    "    stars_f212.rename_column(cn, f\"{cn}_212\")\n",
    "for cn in stars_182.colnames:\n",
    "    stars_182.rename_column(cn, f\"{cn}_182\")\n",
    "                         \n",
    "stars_f212.add_column(name=\"sep_182_212\", col=sep)\n",
    "stars_f212.add_column(name=\"id_182_212\", col=matches)\n",
    "mergetbl = table.hstack([stars_f212, stars_182[matches]], join_type='exact')"
   ]
  },
  {
   "cell_type": "code",
   "execution_count": null,
   "id": "9a41ed4d-15ba-4a0b-9617-a6d5146a3e2a",
   "metadata": {},
   "outputs": [],
   "source": [
    "pl.hist(mergetbl['sep_182_212'].to(u.arcsec).value)"
   ]
  },
  {
   "cell_type": "code",
   "execution_count": null,
   "id": "11d50c0d-3961-4caf-900e-dbd1ba1123b9",
   "metadata": {},
   "outputs": [],
   "source": [
    "radiff = (mergetbl['skycoord_212'].ra - mergetbl['skycoord_182'].ra).to(u.arcsec)\n",
    "decdiff = (mergetbl['skycoord_212'].dec - mergetbl['skycoord_182'].dec).to(u.arcsec)\n",
    "pl.scatter(radiff, decdiff, marker=',', s=1, alpha=0.8)\n",
    "pl.axis([-0.5,0.5,-0.5,0.5])"
   ]
  },
  {
   "cell_type": "code",
   "execution_count": null,
   "id": "58fe86a8-9bb9-41c4-a00c-3b1c24828c5f",
   "metadata": {},
   "outputs": [],
   "source": [
    "pl.figure(figsize=(10,8))\n",
    "radiff = (mergetbl['skycoord_212'].ra - mergetbl['skycoord_182'].ra).to(u.arcsec)\n",
    "decdiff = (mergetbl['skycoord_212'].dec - mergetbl['skycoord_182'].dec).to(u.arcsec)\n",
    "topleft = (mergetbl['xcentroid_212'] < 1424) & (mergetbl['ycentroid_212'] > 1024)\n",
    "pl.scatter(radiff[topleft], decdiff[topleft], marker=',', s=1, alpha=0.8)\n",
    "topright = (mergetbl['xcentroid_212'] > 1424) & (mergetbl['ycentroid_212'] > 1024)\n",
    "pl.scatter(radiff[topright], decdiff[topright], marker=',', s=1, alpha=0.8)\n",
    "bottomleft = (mergetbl['xcentroid_212'] < 1424) & (mergetbl['ycentroid_212'] < 1024)\n",
    "pl.scatter(radiff[bottomleft], decdiff[bottomleft], marker=',', s=1, alpha=0.8)\n",
    "bottomright = (mergetbl['xcentroid_212'] > 1424) & (mergetbl['ycentroid_212'] < 1024)\n",
    "pl.scatter(radiff[bottomright], decdiff[bottomright], marker=',', s=1, alpha=0.8)\n",
    "pl.axis([-0.05,0.05,-0.05,0.05])"
   ]
  },
  {
   "cell_type": "code",
   "execution_count": null,
   "id": "16a5f37d-ab02-4036-9d85-cdf4e1fe7e52",
   "metadata": {},
   "outputs": [],
   "source": [
    "mergetbl['xcentroid_212'].max(), mergetbl['ycentroid_212'].max()"
   ]
  },
  {
   "cell_type": "code",
   "execution_count": null,
   "id": "20c3b9da-186e-411f-b26c-d578636c5b80",
   "metadata": {},
   "outputs": [],
   "source": [
    "dist_from_center = ((mergetbl['xcentroid_212'] - 1450)**2 + (mergetbl['ycentroid_212'] - 1145)**2)**0.5"
   ]
  },
  {
   "cell_type": "code",
   "execution_count": null,
   "id": "d7f944e5-7820-47ef-a870-4bbafab527b4",
   "metadata": {},
   "outputs": [],
   "source": [
    "pl.plot(dist_from_center, mergetbl['sep_182_212'].to(u.arcsec).value, ',')\n",
    "pl.plot(dist_from_center, dist_from_center/1750 * 0.050 + 0.008)\n",
    "pl.plot(dist_from_center, dist_from_center/1750 * 0.035 - 0.004)\n",
    "pl.ylim(0,0.07)"
   ]
  },
  {
   "cell_type": "code",
   "execution_count": null,
   "id": "f9e72ece-f7ac-437d-9f07-4710f451ed7e",
   "metadata": {},
   "outputs": [],
   "source": [
    "ok = (mergetbl['sep_182_212'] < 0.05*u.arcsec) & (mergetbl['sep_182_212'] < (dist_from_center/1750*0.05 +0.08) *u.arcsec) & (mergetbl['sep_182_212'] > (dist_from_center/1750*0.035 - 0.08) *u.arcsec)"
   ]
  },
  {
   "cell_type": "code",
   "execution_count": null,
   "id": "fff7434a-883d-484f-be70-3db2b73d4255",
   "metadata": {},
   "outputs": [],
   "source": [
    "radiff = (mergetbl['skycoord_212'].ra - mergetbl['skycoord_182'].ra).to(u.arcsec)\n",
    "decdiff = (mergetbl['skycoord_212'].dec - mergetbl['skycoord_182'].dec).to(u.arcsec)\n",
    "pl.scatter(radiff[ok], decdiff[ok], marker=',', s=1, alpha=0.8)"
   ]
  },
  {
   "cell_type": "code",
   "execution_count": null,
   "id": "e00cc051-ae75-40c8-829e-8e732dab0e92",
   "metadata": {},
   "outputs": [],
   "source": [
    "from astropy.wcs.utils import fit_wcs_from_points"
   ]
  },
  {
   "cell_type": "code",
   "execution_count": null,
   "id": "3a62d7f4-d80a-4868-a195-43c4c9cdac80",
   "metadata": {},
   "outputs": [],
   "source": [
    "ww_212_refit = fit_wcs_from_points([mergetbl['xcentroid_212'][ok], mergetbl['ycentroid_212'][ok]], mergetbl['skycoord_182'][ok], sip_degree=1)"
   ]
  },
  {
   "cell_type": "code",
   "execution_count": null,
   "id": "4aa1e184-8696-48c5-ab38-15bf0e9d0acf",
   "metadata": {},
   "outputs": [],
   "source": [
    "ww_182_refit = fit_wcs_from_points([mergetbl['xcentroid_182'][ok], mergetbl['ycentroid_182'][ok]], mergetbl['skycoord_212'][ok], sip_degree=3)"
   ]
  },
  {
   "cell_type": "code",
   "execution_count": null,
   "id": "09f8339b-f3c6-4cc5-8775-b9318e6f4742",
   "metadata": {},
   "outputs": [],
   "source": [
    "skycoord_182_refit = ww_182_refit.pixel_to_world(mergetbl['xcentroid_182'], mergetbl['ycentroid_182'])"
   ]
  },
  {
   "cell_type": "code",
   "execution_count": null,
   "id": "eb6a07dd-7403-48e1-bda6-28d96e0c435e",
   "metadata": {},
   "outputs": [],
   "source": [
    "pl.figure(figsize=(14,9))\n",
    "for sip_degree in (0,1,2,3):\n",
    "    pl.subplot(2,2,sip_degree+1)\n",
    "    \n",
    "    ww_182_refit = fit_wcs_from_points([mergetbl['xcentroid_182'][ok], mergetbl['ycentroid_182'][ok]], mergetbl['skycoord_212'][ok], sip_degree=sip_degree)\n",
    "    skycoord_182_refit = ww_182_refit.pixel_to_world(mergetbl['xcentroid_182'], mergetbl['ycentroid_182'])\n",
    "    radiff = (mergetbl['skycoord_212'].ra - skycoord_182_refit.ra).to(u.arcsec)\n",
    "    decdiff = (mergetbl['skycoord_212'].dec - skycoord_182_refit.dec).to(u.arcsec)\n",
    "    sep = (radiff**2 + decdiff**2)**0.5\n",
    "    ww_182_refit = fit_wcs_from_points([mergetbl['xcentroid_182'][ok & (sep < 0.01*u.arcsec)], mergetbl['ycentroid_182'][ok & (sep < 0.01*u.arcsec)]], mergetbl['skycoord_212'][ok & (sep < 0.01*u.arcsec)], sip_degree=sip_degree)\n",
    "    skycoord_182_refit = ww_182_refit.pixel_to_world(mergetbl['xcentroid_182'], mergetbl['ycentroid_182'])\n",
    "    radiff = (mergetbl['skycoord_212'].ra - skycoord_182_refit.ra).to(u.arcsec)\n",
    "    decdiff = (mergetbl['skycoord_212'].dec - skycoord_182_refit.dec).to(u.arcsec)\n",
    "    sep = (radiff**2 + decdiff**2)**0.5\n",
    "    \n",
    "    topleft = (mergetbl['xcentroid_212'] < 1424) & (mergetbl['ycentroid_212'] > 1024)\n",
    "    sc = pl.scatter(radiff[topleft], decdiff[topleft], marker=',', s=1, alpha=0.5)\n",
    "    pl.scatter(np.median(radiff[topleft]), np.median(decdiff[topleft]), marker='o', alpha=0.9, c=sc.get_facecolors(), zorder=15, edgecolors='k', s=60)\n",
    "    topright = (mergetbl['xcentroid_212'] > 1424) & (mergetbl['ycentroid_212'] > 1024)\n",
    "    sc = pl.scatter(radiff[topright], decdiff[topright], marker=',', s=1, alpha=0.5)\n",
    "    pl.scatter(np.median(radiff[topright]), np.median(decdiff[topright]), marker='p', alpha=0.9, c=sc.get_facecolors(), zorder=15, edgecolors='k', s=60)\n",
    "    bottomleft = (mergetbl['xcentroid_212'] < 1424) & (mergetbl['ycentroid_212'] < 1024)\n",
    "    sc = pl.scatter(radiff[bottomleft], decdiff[bottomleft], marker=',', s=1, alpha=0.5)\n",
    "    pl.scatter(np.median(radiff[bottomleft]), np.median(decdiff[bottomleft]), marker='d', alpha=0.9, c=sc.get_facecolors(), zorder=15, edgecolors='k', s=60)\n",
    "    bottomright = (mergetbl['xcentroid_212'] > 1424) & (mergetbl['ycentroid_212'] < 1024)\n",
    "    sc = pl.scatter(radiff[bottomright], decdiff[bottomright], marker=',', s=1, alpha=0.5)\n",
    "    pl.scatter(np.median(radiff[bottomright]), np.median(decdiff[bottomright]), marker='s', alpha=0.9, c=sc.get_facecolors(), zorder=25, edgecolors='k', s=60)\n",
    "    pl.axis([-0.01,0.01,-0.01,0.01])"
   ]
  },
  {
   "cell_type": "code",
   "execution_count": null,
   "id": "0b423cc1-64ba-474e-8875-e9a3be4eed3a",
   "metadata": {},
   "outputs": [],
   "source": [
    "pl.figure(figsize=(14,9))\n",
    "for sip_degree in (0,1,2,3):\n",
    "    pl.subplot(2,2,sip_degree+1)\n",
    "    \n",
    "    ww_212_refit = fit_wcs_from_points([mergetbl['xcentroid_212'][ok], mergetbl['ycentroid_212'][ok]], mergetbl['skycoord_182'][ok], sip_degree=sip_degree)\n",
    "    skycoord_212_refit = ww_212_refit.pixel_to_world(mergetbl['xcentroid_212'], mergetbl['ycentroid_212'])\n",
    "    radiff = (mergetbl['skycoord_182'].ra - skycoord_212_refit.ra).to(u.arcsec)\n",
    "    decdiff = (mergetbl['skycoord_182'].dec - skycoord_212_refit.dec).to(u.arcsec)\n",
    "    sep = (radiff**2 + decdiff**2)**0.5\n",
    "    ww_212_refit = fit_wcs_from_points([mergetbl['xcentroid_212'][ok & (sep < 0.01*u.arcsec)], mergetbl['ycentroid_212'][ok & (sep < 0.01*u.arcsec)]], mergetbl['skycoord_182'][ok & (sep < 0.01*u.arcsec)], sip_degree=sip_degree)\n",
    "    skycoord_212_refit = ww_212_refit.pixel_to_world(mergetbl['xcentroid_212'], mergetbl['ycentroid_212'])\n",
    "    radiff = (mergetbl['skycoord_182'].ra - skycoord_212_refit.ra).to(u.arcsec)\n",
    "    decdiff = (mergetbl['skycoord_182'].dec - skycoord_212_refit.dec).to(u.arcsec)\n",
    "    sep = (radiff**2 + decdiff**2)**0.5\n",
    "    \n",
    "    topleft = (mergetbl['xcentroid_212'] < 1424) & (mergetbl['ycentroid_212'] > 1024)\n",
    "    sc = pl.scatter(radiff[topleft], decdiff[topleft], marker=',', s=1, alpha=0.5)\n",
    "    pl.scatter(np.median(radiff[topleft]), np.median(decdiff[topleft]), marker='o', alpha=0.9, c=sc.get_facecolors(), zorder=15, edgecolors='k', s=60)\n",
    "    topright = (mergetbl['xcentroid_212'] > 1424) & (mergetbl['ycentroid_212'] > 1024)\n",
    "    sc = pl.scatter(radiff[topright], decdiff[topright], marker=',', s=1, alpha=0.5)\n",
    "    pl.scatter(np.median(radiff[topright]), np.median(decdiff[topright]), marker='p', alpha=0.9, c=sc.get_facecolors(), zorder=15, edgecolors='k', s=60)\n",
    "    bottomleft = (mergetbl['xcentroid_212'] < 1424) & (mergetbl['ycentroid_212'] < 1024)\n",
    "    sc = pl.scatter(radiff[bottomleft], decdiff[bottomleft], marker=',', s=1, alpha=0.5)\n",
    "    pl.scatter(np.median(radiff[bottomleft]), np.median(decdiff[bottomleft]), marker='d', alpha=0.9, c=sc.get_facecolors(), zorder=15, edgecolors='k', s=60)\n",
    "    bottomright = (mergetbl['xcentroid_212'] > 1424) & (mergetbl['ycentroid_212'] < 1024)\n",
    "    sc = pl.scatter(radiff[bottomright], decdiff[bottomright], marker=',', s=1, alpha=0.5)\n",
    "    pl.scatter(np.median(radiff[bottomright]), np.median(decdiff[bottomright]), marker='s', alpha=0.9, c=sc.get_facecolors(), zorder=25, edgecolors='k', s=60)\n",
    "    pl.axis([-0.01,0.01,-0.01,0.01])"
   ]
  },
  {
   "cell_type": "code",
   "execution_count": null,
   "id": "9ac2f4df-fafd-4b9a-a040-d60ff8190374",
   "metadata": {},
   "outputs": [],
   "source": []
  },
  {
   "cell_type": "code",
   "execution_count": null,
   "id": "163785fc-3545-4cfc-ad4e-482a1d1628bd",
   "metadata": {},
   "outputs": [],
   "source": [
    "sip_degree = 3\n",
    "ww_212_refit = fit_wcs_from_points([mergetbl['xcentroid_212'][ok], mergetbl['ycentroid_212'][ok]], mergetbl['skycoord_182'][ok], sip_degree=sip_degree)\n",
    "skycoord_212_refit = ww_212_refit.pixel_to_world(mergetbl['xcentroid_212'], mergetbl['ycentroid_212'])\n",
    "radiff = (mergetbl['skycoord_182'].ra - skycoord_212_refit.ra).to(u.arcsec)\n",
    "decdiff = (mergetbl['skycoord_182'].dec - skycoord_212_refit.dec).to(u.arcsec)\n",
    "sep = (radiff**2 + decdiff**2)**0.5\n",
    "ww_212_refit = fit_wcs_from_points([mergetbl['xcentroid_212'][ok & (sep < 0.01*u.arcsec)], mergetbl['ycentroid_212'][ok & (sep < 0.01*u.arcsec)]], mergetbl['skycoord_182'][ok & (sep < 0.01*u.arcsec)], sip_degree=sip_degree)\n",
    "skycoord_212_refit = ww_212_refit.pixel_to_world(mergetbl['xcentroid_212'], mergetbl['ycentroid_212'])\n",
    "radiff = (mergetbl['skycoord_182'].ra - skycoord_212_refit.ra).to(u.arcsec)\n",
    "decdiff = (mergetbl['skycoord_182'].dec - skycoord_212_refit.dec).to(u.arcsec)\n",
    "sep = (radiff**2 + decdiff**2)**0.5"
   ]
  },
  {
   "cell_type": "code",
   "execution_count": null,
   "id": "17f20060-bb21-4a83-b752-983eaa308c71",
   "metadata": {},
   "outputs": [],
   "source": [
    "ww_212_refit.to_header(relax=True).totextfile(f'{basepath}/reduction/headers/f212n_nrcb_refitted_to_f182m.hdr', overwrite=True)"
   ]
  },
  {
   "cell_type": "code",
   "execution_count": null,
   "id": "7104915c-8a1b-46e7-b1f8-20705a427228",
   "metadata": {},
   "outputs": [],
   "source": [
    "data_212_proj_182_refit, overlap_refit = reproject.reproject_exact((fh_212['SCI'].data, ww_212_refit), fh_182['SCI'].header)"
   ]
  },
  {
   "cell_type": "code",
   "execution_count": null,
   "id": "eda75acf-4459-43fd-be66-ddc4fd20724d",
   "metadata": {},
   "outputs": [],
   "source": [
    "fits.PrimaryHDU(data=data_212_proj_182_refit, header=fh_182['SCI'].header).writeto(f'{basepath}/images/F212_refitted212wcsto182_nrcb.fits', overwrite=True)"
   ]
  },
  {
   "cell_type": "code",
   "execution_count": null,
   "id": "19faa8eb-8e49-4c33-8fd5-eb0f57a9e995",
   "metadata": {},
   "outputs": [],
   "source": [
    "f212_minus_cont = data_212_proj_182_refit - cont182_sub_paa #* fractional_bandwidth_212\n",
    "fits.PrimaryHDU(data=f212_minus_cont, header=fh_182['SCI'].header).writeto(f'{basepath}/images/F212_minus_F182cont_refitted212wcsto182_nrcb.fits', overwrite=True)"
   ]
  },
  {
   "cell_type": "code",
   "execution_count": null,
   "id": "61bd33f2-0e44-4de5-bb6f-2d5c21e70fbd",
   "metadata": {},
   "outputs": [],
   "source": []
  },
  {
   "cell_type": "code",
   "execution_count": null,
   "id": "5f5fc537-6cd7-4ecd-bcaa-cbc6155e5f89",
   "metadata": {},
   "outputs": [],
   "source": [
    "pl.figure(figsize=(12,8))\n",
    "pl.imshow(cont182_sub_paa, norm=simple_norm(cont182_sub_paa, min_percent=1, max_percent=99, stretch='log'))\n",
    "pl.colorbar()"
   ]
  },
  {
   "cell_type": "code",
   "execution_count": null,
   "id": "c9bb89ce-9ec6-4a41-872c-c22677c2d0c1",
   "metadata": {},
   "outputs": [],
   "source": [
    "pl.figure(figsize=(12,8))\n",
    "pl.imshow(f212_minus_cont, norm=simple_norm(f212_minus_cont, min_percent=4, max_percent=99.5, stretch='log'))\n",
    "pl.colorbar()"
   ]
  },
  {
   "cell_type": "code",
   "execution_count": null,
   "id": "c7459155-aa5a-42fa-8cd6-407e73e3d151",
   "metadata": {},
   "outputs": [],
   "source": [
    "xr = np.linspace(0,15)\n",
    "pl.scatter(mergetbl['flux_212'][ok], mergetbl['flux_182'][ok], s=1)\n",
    "pl.plot(xr, xr/fractional_bandwidth_212, color='red')\n",
    "scalefactor = 0.0867\n",
    "pl.plot(xr, xr/scalefactor, color='orange')"
   ]
  },
  {
   "cell_type": "code",
   "execution_count": null,
   "id": "46c57ec6-cd03-4e6d-9c91-6c5c3f92d95d",
   "metadata": {},
   "outputs": [],
   "source": [
    "np.median(1/(mergetbl['flux_182'][ok]/mergetbl['flux_212'][ok]))"
   ]
  },
  {
   "cell_type": "code",
   "execution_count": null,
   "id": "572dfbe5-47c3-45f1-9985-8f0aa32766b0",
   "metadata": {},
   "outputs": [],
   "source": [
    "pl.hist(1/(mergetbl['flux_182'][ok]/mergetbl['flux_212'][ok]), bins=np.linspace(0.05,0.25))\n",
    "pl.axvline(scalefactor, color='orange')\n",
    "pl.axvline(fractional_bandwidth_212, color='red')"
   ]
  },
  {
   "cell_type": "code",
   "execution_count": null,
   "id": "6182aa89-bf6b-4966-8e15-907acadc7358",
   "metadata": {},
   "outputs": [],
   "source": []
  },
  {
   "cell_type": "code",
   "execution_count": null,
   "id": "d7c50eb7-a6c6-4e93-920b-f8646ced5dbf",
   "metadata": {},
   "outputs": [],
   "source": [
    "f212_minus_cont = data_212_proj_182_refit - 0.8*cont182_sub_paa #* fractional_bandwidth_212\n",
    "fits.PrimaryHDU(data=f212_minus_cont, header=fh_182['SCI'].header).writeto(f'{basepath}/images/F212_minus_F182cont_refitted212wcsto182_nrcb.fits', overwrite=True)"
   ]
  },
  {
   "cell_type": "code",
   "execution_count": null,
   "id": "bb54a4b9-1495-4ac7-96b3-8551e4728509",
   "metadata": {},
   "outputs": [],
   "source": []
  },
  {
   "cell_type": "code",
   "execution_count": null,
   "id": "ce16140c-3b93-4aa0-83e0-745386aeb184",
   "metadata": {},
   "outputs": [],
   "source": [
    "pl.figure(figsize=(12,8))\n",
    "pl.imshow(f212_minus_cont, norm=simple_norm(f212_minus_cont, min_percent=4, max_percent=99.5, stretch='log'))\n",
    "pl.colorbar()"
   ]
  },
  {
   "cell_type": "code",
   "execution_count": null,
   "id": "b2d36e2e-19e6-4f5e-8be3-0394e378c10c",
   "metadata": {},
   "outputs": [],
   "source": []
  }
 ],
 "metadata": {
  "kernelspec": {
   "display_name": "python39",
   "language": "python",
   "name": "python39"
  },
  "language_info": {
   "codemirror_mode": {
    "name": "ipython",
    "version": 3
   },
   "file_extension": ".py",
   "mimetype": "text/x-python",
   "name": "python",
   "nbconvert_exporter": "python",
   "pygments_lexer": "ipython3",
   "version": "3.9.13"
  }
 },
 "nbformat": 4,
 "nbformat_minor": 5
}
