{
 "cells": [
  {
   "cell_type": "code",
   "execution_count": null,
   "id": "d05ac05e-7db6-49b2-9b2e-79e7f5a48f27",
   "metadata": {},
   "outputs": [],
   "source": [
    "import crowdsource"
   ]
  },
  {
   "cell_type": "code",
   "execution_count": null,
   "id": "0a805d86-296f-4327-9504-2dfbeb1c97b6",
   "metadata": {},
   "outputs": [],
   "source": [
    "from astropy.convolution import convolve, Gaussian2DKernel"
   ]
  },
  {
   "cell_type": "code",
   "execution_count": null,
   "id": "02333d4c-c7ae-4747-b76b-df36783c6e17",
   "metadata": {},
   "outputs": [],
   "source": [
    "from astropy.table import Table\n",
    "from astropy.coordinates import SkyCoord\n",
    "from astropy.visualization import simple_norm\n",
    "from astropy import wcs\n",
    "from astropy import table\n",
    "from astropy import units as u\n",
    "import pylab as pl\n",
    "pl.rcParams['figure.facecolor'] = 'w'\n",
    "pl.rcParams['image.origin'] = 'lower'"
   ]
  },
  {
   "cell_type": "code",
   "execution_count": null,
   "id": "0ccbe4f8-575b-4efc-b576-3b3573778ed5",
   "metadata": {},
   "outputs": [],
   "source": [
    "from astropy.io import fits"
   ]
  },
  {
   "cell_type": "code",
   "execution_count": null,
   "id": "6dd760a2-0cae-45c9-b0ec-914a1c87dbd7",
   "metadata": {},
   "outputs": [],
   "source": [
    "from crowdsource import crowdsource_base\n",
    "from crowdsource.crowdsource_base import fit_im, psfmod"
   ]
  },
  {
   "cell_type": "code",
   "execution_count": null,
   "id": "8a4aced5-6f0c-4dc0-8960-8aa79826f1e4",
   "metadata": {},
   "outputs": [],
   "source": [
    "from astroquery.svo_fps import SvoFps"
   ]
  },
  {
   "cell_type": "code",
   "execution_count": null,
   "id": "bcadc8e5-a0e3-4544-ba67-dd19c20487fb",
   "metadata": {},
   "outputs": [],
   "source": [
    "basepath = '/orange/adamginsburg/jwst/brick/'"
   ]
  },
  {
   "cell_type": "code",
   "execution_count": null,
   "id": "addea572-bac1-42d6-8163-bad389dc1d36",
   "metadata": {},
   "outputs": [],
   "source": [
    "fh = fits.open(f'{basepath}F405N/pipeline/jw02221-o001_t001_nircam_clear-f405n-nrca_i2d.fits')\n",
    "im1 = fh\n",
    "instrument = im1[0].header['INSTRUME']\n",
    "telescope = im1[0].header['TELESCOP']\n",
    "filt = im1[0].header['FILTER']\n",
    "\n",
    "wavelength_table = SvoFps.get_transmission_data(f'{telescope}/{instrument}.{filt}')\n",
    "obsdate = im1[0].header['DATE-OBS']"
   ]
  },
  {
   "cell_type": "code",
   "execution_count": null,
   "id": "4b91f86f-bce6-4dbb-91e3-d2adccbb8785",
   "metadata": {},
   "outputs": [],
   "source": [
    "import os\n",
    "os.environ['WEBBPSF_PATH'] = '/orange/adamginsburg/jwst/webbpsf-data/'\n",
    "with open(os.path.expanduser('~/.mast_api_token'), 'r') as fh:\n",
    "    os.environ['MAST_API_TOKEN'] = fh.read().strip()\n",
    "import webbpsf"
   ]
  },
  {
   "cell_type": "code",
   "execution_count": null,
   "id": "b5cb8093-b14d-4c00-b993-5cb5fc85c0ee",
   "metadata": {},
   "outputs": [],
   "source": [
    "import numpy as np"
   ]
  },
  {
   "cell_type": "code",
   "execution_count": null,
   "id": "11769411-5163-4658-a28f-9819252b6164",
   "metadata": {},
   "outputs": [],
   "source": [
    "nrc = webbpsf.NIRCam()\n",
    "nrc.load_wss_opd_by_date(f'{obsdate}T00:00:00')\n",
    "nrc.filter = filt\n",
    "nrc.detector = 'NRCA5' # I think NRCA5 must be the \"long\" detector?\n",
    "grid = nrc.psf_grid(num_psfs=16, all_detectors=False)"
   ]
  },
  {
   "cell_type": "code",
   "execution_count": null,
   "id": "2047f295-b3fd-4313-b066-042594fbcb0f",
   "metadata": {},
   "outputs": [],
   "source": [
    "yy, xx = np.indices([31,31], dtype=float)\n",
    "grid.x_0 = grid.y_0 = 15.5\n",
    "psf_model = crowdsource.psf.SimplePSF(stamp=grid(xx,yy))"
   ]
  },
  {
   "cell_type": "code",
   "execution_count": null,
   "id": "aed397b6-0368-4a7a-9a68-c0f37a8ba0ba",
   "metadata": {},
   "outputs": [],
   "source": [
    "data = im1[1].data"
   ]
  },
  {
   "cell_type": "code",
   "execution_count": null,
   "id": "f1261c31-8165-44c7-9f34-d3156fd49e56",
   "metadata": {},
   "outputs": [],
   "source": [
    "results_unweighted  = fit_im(data, psf_model, weight=np.ones_like(data)*5,\n",
    "                                #psfderiv=np.gradient(-psf_initial[0].data),\n",
    "                                nskyx=1, nskyy=1, refit_psf=False, verbose=True)\n",
    "stars, modsky, skymsky, psf = results_unweighted"
   ]
  },
  {
   "cell_type": "code",
   "execution_count": null,
   "id": "29de579d-6285-4f7e-94e8-e2ab16c8f550",
   "metadata": {},
   "outputs": [],
   "source": [
    "pl.figure(figsize=(12,12))\n",
    "pl.subplot(2,2,1).imshow(data, norm=simple_norm(data, stretch='log', max_percent=99.95), cmap='gray')\n",
    "pl.xticks([]); pl.yticks([]); pl.title(\"Data\")\n",
    "pl.subplot(2,2,2).imshow(modsky, norm=simple_norm(modsky, stretch='log', max_percent=99.95), cmap='gray')\n",
    "pl.xticks([]); pl.yticks([]); pl.title(\"fit_im model+sky\")\n",
    "pl.subplot(2,2,3).imshow(skymsky, norm=simple_norm(skymsky, stretch='asinh'), cmap='gray')\n",
    "pl.xticks([]); pl.yticks([]); pl.title(\"fit_im sky+skym\")\n",
    "pl.subplot(2,2,4).imshow(data, norm=simple_norm(data, stretch='log', max_percent=99.95), cmap='gray')\n",
    "pl.subplot(2,2,4).scatter(stars['y'], stars['x'], marker='x', color='r', s=5, linewidth=0.5)\n",
    "pl.xticks([]); pl.yticks([]); pl.title(\"Data with stars\");"
   ]
  },
  {
   "cell_type": "code",
   "execution_count": null,
   "id": "1f8f3f73-1748-4a96-bc1a-d158fb233516",
   "metadata": {},
   "outputs": [],
   "source": [
    "pl.figure(figsize=(12,12))\n",
    "pl.subplot(2,2,1).imshow(data, norm=simple_norm(data, stretch='log', max_percent=99.95), cmap='gray')\n",
    "pl.xticks([]); pl.yticks([]); pl.title(\"Data\")\n",
    "pl.subplot(2,2,2).imshow(modsky, norm=simple_norm(modsky, stretch='log', max_percent=99.95), cmap='gray')\n",
    "pl.xticks([]); pl.yticks([]); pl.title(\"fit_im model+sky\")\n",
    "pl.subplot(2,2,3).imshow(skymsky, norm=simple_norm(skymsky, stretch='asinh'), cmap='gray')\n",
    "pl.xticks([]); pl.yticks([]); pl.title(\"fit_im sky+skym\")\n",
    "pl.subplot(2,2,4).imshow(data, norm=simple_norm(data, stretch='log', max_percent=99.95), cmap='gray')\n",
    "pl.subplot(2,2,4).scatter(stars['y'], stars['x'], marker='x', color='r', s=5, linewidth=0.5)\n",
    "pl.xticks([]); pl.yticks([]); pl.title(\"Data with stars\");"
   ]
  },
  {
   "cell_type": "code",
   "execution_count": null,
   "id": "85112b03-9483-481c-86ad-48904e602340",
   "metadata": {},
   "outputs": [],
   "source": [
    "pl.figure(figsize=(12,12))\n",
    "pl.subplot(2,2,1).imshow(data[:128,:128], norm=simple_norm(data[:256,:256], stretch='log', max_percent=99.95), cmap='gray')\n",
    "pl.xticks([]); pl.yticks([]); pl.title(\"Data\")\n",
    "pl.subplot(2,2,2).imshow(modsky[:128,:128], norm=simple_norm(modsky[:256,:256], stretch='log', max_percent=99.95), cmap='gray')\n",
    "pl.xticks([]); pl.yticks([]); pl.title(\"fit_im model+sky\")\n",
    "pl.subplot(2,2,3).imshow(skymsky[:128,:128], norm=simple_norm(skymsky[:256,:256], stretch='asinh'), cmap='gray')\n",
    "pl.xticks([]); pl.yticks([]); pl.title(\"fit_im sky+skym\")\n",
    "pl.subplot(2,2,4).imshow(data[:128,:128], norm=simple_norm(data[:256,:256], stretch='log', max_percent=99.95), cmap='gray')\n",
    "pl.subplot(2,2,4).scatter(stars['y'], stars['x'], marker='x', color='r', s=8, linewidth=0.5)\n",
    "pl.axis([0,128,0,128])\n",
    "pl.xticks([]); pl.yticks([]); pl.title(\"Data with stars\");"
   ]
  },
  {
   "cell_type": "code",
   "execution_count": null,
   "id": "0e22683a-e88b-4e4c-bad9-8631ac241494",
   "metadata": {},
   "outputs": [],
   "source": [
    "pl.figure(figsize=(10,5))\n",
    "pl.subplot(1,2,1).imshow(psf_model(30,30), norm=simple_norm(psf_model(30,30), stretch='log'), cmap='cividis')\n",
    "pl.title(\"Input model\")\n",
    "pl.subplot(1,2,2).imshow(psf(30,30), norm=simple_norm(psf(30,30), stretch='log'), cmap='cividis')\n",
    "pl.title(\"Fitted model\")"
   ]
  },
  {
   "cell_type": "code",
   "execution_count": null,
   "id": "35a475a3-8db4-4e2d-8f50-190e0d2e4485",
   "metadata": {},
   "outputs": [],
   "source": [
    "pl.figure(figsize=(12,12))\n",
    "pl.subplot(2,2,1).imshow(data[:128,:128], norm=simple_norm(data[:256,:256], stretch='log', max_percent=99.95), cmap='gray')\n",
    "pl.xticks([]); pl.yticks([]); pl.title(\"Data\")\n",
    "pl.subplot(2,2,2).imshow(modsky[:128,:128], norm=simple_norm(modsky[:256,:256], stretch='log', max_percent=99.95), cmap='gray')\n",
    "pl.xticks([]); pl.yticks([]); pl.title(\"fit_im model+sky\")\n",
    "pl.subplot(2,2,3).imshow((data-modsky)[:128,:128], norm=simple_norm((data-modsky)[:256,:256], stretch='asinh', max_percent=99.5, min_percent=0.5), cmap='gray')\n",
    "pl.xticks([]); pl.yticks([]); pl.title(\"data-modsky\")\n",
    "pl.subplot(2,2,4).imshow(data[:128,:128], norm=simple_norm(data[:256,:256], stretch='log', max_percent=99.95), cmap='gray')\n",
    "pl.subplot(2,2,4).scatter(stars['y'], stars['x'], marker='x', color='r', s=8, linewidth=0.5)\n",
    "pl.axis([0,128,0,128])\n",
    "pl.xticks([]); pl.yticks([]); pl.title(\"Data with stars\");"
   ]
  },
  {
   "cell_type": "code",
   "execution_count": null,
   "id": "c54bff5e-fe7d-450e-91c7-a7361004194e",
   "metadata": {},
   "outputs": [],
   "source": [
    "import regions"
   ]
  },
  {
   "cell_type": "code",
   "execution_count": null,
   "id": "3cc4b747-3dbb-458c-9a09-322ce3cc61d0",
   "metadata": {},
   "outputs": [],
   "source": [
    "ww = wcs.WCS(im1[1].header)\n",
    "cen = ww.pixel_to_world(im1[1].shape[1]/2, im1[1].shape[0]/2) \n",
    "reg = regions.RectangleSkyRegion(center=cen, width=1.5*u.arcmin, height=1.5*u.arcmin)\n",
    "preg = reg.to_pixel(ww)\n",
    "mask = preg.to_mask()\n",
    "cutout = mask.cutout(im1[1].data)\n",
    "errcutout = mask.cutout(im1[2].data)\n",
    "weight = errcutout**-1\n",
    "weight[errcutout < 1e-5] = 0\n",
    "weight[errcutout == 0] = np.nanmedian(weight)\n",
    "weight.max()\n",
    "weight[weight > 10] = 10\n",
    "weight[weight < 1] = 1"
   ]
  },
  {
   "cell_type": "code",
   "execution_count": null,
   "id": "525b07a4-beb5-49cb-b657-acd4eb511b84",
   "metadata": {},
   "outputs": [],
   "source": [
    "yy, xx = np.indices([61,61], dtype=float)\n",
    "grid.x_0 = preg.center.x+30\n",
    "grid.y_0 = preg.center.y+30\n",
    "gpsf2 = grid(xx+preg.center.x, yy+preg.center.y)\n",
    "psf_model = crowdsource.psf.SimplePSF(stamp=gpsf2)\n",
    "gpsf3 = convolve(gpsf2, Gaussian2DKernel(0.55))\n",
    "psf_model_blur = crowdsource.psf.SimplePSF(stamp=gpsf3)"
   ]
  },
  {
   "cell_type": "code",
   "execution_count": null,
   "id": "a5a5f9a5-af48-4825-a965-098c8026f348",
   "metadata": {},
   "outputs": [],
   "source": [
    "pl.imshow(weight, norm=simple_norm(weight, stretch='log')); pl.colorbar();"
   ]
  },
  {
   "cell_type": "code",
   "execution_count": null,
   "id": "24aae745-fa90-4278-b6a8-12baa5486bdd",
   "metadata": {},
   "outputs": [],
   "source": [
    "results_blur  = fit_im(cutout, psf_model_blur, weight=weight,\n",
    "                       nskyx=1, nskyy=1, refit_psf=False, verbose=True)\n",
    "stars, modsky, skymsky, psf = results_blur\n",
    "fits.BinTableHDU(data=stars).writeto(f\"{basepath}/F405N/f405_nrca_crowdsource.fits\", overwrite=True)"
   ]
  },
  {
   "cell_type": "code",
   "execution_count": null,
   "id": "49b82999-a9e5-4853-a443-7e2250a60e91",
   "metadata": {},
   "outputs": [],
   "source": [
    "fits.PrimaryHDU(data=skymsky, header=im1[1].header).writeto(f\"{basepath}/F405N/f405_nrca_crowdsource_skymodel.fits\", overwrite=True)"
   ]
  },
  {
   "cell_type": "code",
   "execution_count": null,
   "id": "a69aa817-2a19-40ab-a1fe-5e8dedd9de52",
   "metadata": {},
   "outputs": [],
   "source": [
    "stars, modsky, skymsky, psf = results_blur\n",
    "pl.figure(figsize=(12,12))\n",
    "pl.subplot(2,2,1).imshow(cutout[:128,:128], norm=simple_norm(cutout[:256,:256], stretch='log', max_percent=99.95), cmap='gray')\n",
    "pl.xticks([]); pl.yticks([]); pl.title(\"Data\")\n",
    "pl.subplot(2,2,2).imshow(modsky[:128,:128], norm=simple_norm(modsky[:256,:256], stretch='log', max_percent=99.95), cmap='gray')\n",
    "pl.xticks([]); pl.yticks([]); pl.title(\"fit_im model+sky\")\n",
    "pl.subplot(2,2,3).imshow((cutout-modsky)[:128,:128], norm=simple_norm((cutout-modsky)[:256,:256], stretch='asinh', max_percent=99.5, min_percent=0.5), cmap='gray')\n",
    "pl.xticks([]); pl.yticks([]); pl.title(\"data-modsky\")\n",
    "pl.subplot(2,2,4).imshow(cutout[:128,:128], norm=simple_norm(cutout[:256,:256], stretch='log', max_percent=99.95), cmap='gray')\n",
    "pl.subplot(2,2,4).scatter(stars['y'], stars['x'], marker='x', color='r', s=8, linewidth=0.5)\n",
    "pl.axis([0,128,0,128])\n",
    "pl.xticks([]); pl.yticks([]); pl.title(\"Data with stars\");\n",
    "pl.suptitle(\"Using WebbPSF model blurred a little\")\n",
    "pl.tight_layout()"
   ]
  },
  {
   "cell_type": "code",
   "execution_count": null,
   "id": "3123b677-641f-42e3-bde3-39b503fef915",
   "metadata": {},
   "outputs": [],
   "source": [
    "pl.figure(figsize=(12,12))\n",
    "pl.imshow(skymsky, cmap='gray', norm=simple_norm(skymsky, stretch='linear'))"
   ]
  },
  {
   "cell_type": "code",
   "execution_count": null,
   "id": "e51cefaa-eb73-4511-9635-0f1f57ca3b7c",
   "metadata": {},
   "outputs": [],
   "source": [
    "pl.hist(Table(stars)['flux'], bins=np.logspace(1,5))\n",
    "pl.semilogx()"
   ]
  }
 ],
 "metadata": {
  "kernelspec": {
   "display_name": "python39",
   "language": "python",
   "name": "python39"
  },
  "language_info": {
   "codemirror_mode": {
    "name": "ipython",
    "version": 3
   },
   "file_extension": ".py",
   "mimetype": "text/x-python",
   "name": "python",
   "nbconvert_exporter": "python",
   "pygments_lexer": "ipython3",
   "version": "3.9.13"
  }
 },
 "nbformat": 4,
 "nbformat_minor": 5
}
