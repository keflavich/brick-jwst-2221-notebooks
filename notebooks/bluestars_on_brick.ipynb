{
 "cells": [
  {
   "cell_type": "markdown",
   "id": "f9088e4b-742d-432d-b61f-dc45c3c3c343",
   "metadata": {},
   "source": [
    "# Make Figure 3: Blue f410-f466  stars on the brick "
   ]
  },
  {
   "cell_type": "code",
   "execution_count": 1,
   "id": "102d9c48-5fae-4ddc-addb-b7066dec7e2e",
   "metadata": {},
   "outputs": [
    {
     "name": "stdout",
     "output_type": "stream",
     "text": [
      "/blue/adamginsburg/adamginsburg/jwst/brick\n"
     ]
    }
   ],
   "source": [
    "cd /orange/adamginsburg/jwst/brick/"
   ]
  },
  {
   "cell_type": "markdown",
   "id": "9d27935a-64b6-41a5-93de-772d057d9f99",
   "metadata": {},
   "source": [
    "Based on files in catalogs/"
   ]
  },
  {
   "cell_type": "code",
   "execution_count": 2,
   "id": "1c8c99f0-4557-479f-a27d-ad8055f36f55",
   "metadata": {},
   "outputs": [
    {
     "name": "stdout",
     "output_type": "stream",
     "text": [
      "-rw-r--r-- 1 adamginsburg adamginsburg 468M Oct  3 22:02 catalogs/crowdsource_nsky0_merged-reproject_photometry_tables_merged.fits\n"
     ]
    }
   ],
   "source": [
    "ls -lh catalogs/crowdsource_nsky0_merged-reproject_photometry_tables_merged.fits"
   ]
  },
  {
   "cell_type": "markdown",
   "id": "24dcad28-3abb-4697-bbd7-672a4a15c020",
   "metadata": {},
   "source": [
    "which comes from"
   ]
  },
  {
   "cell_type": "code",
   "execution_count": 3,
   "id": "f7fc2a41-50ab-432d-970e-9be0ba236d75",
   "metadata": {},
   "outputs": [
    {
     "name": "stdout",
     "output_type": "stream",
     "text": [
      "-rw-r--r-- 1 adamginsburg adamginsburg 57M Jul  5 17:10 F182M/f182m_merged-reproject_crowdsource_nsky0.fits\n",
      "-rw-r--r-- 1 adamginsburg adamginsburg 33M Jul  5 16:53 F187N/f187n_merged-reproject_crowdsource_nsky0.fits\n",
      "-rw-r--r-- 1 adamginsburg adamginsburg 39M Jul  9 16:06 F212N/f212n_merged-reproject_crowdsource_nsky0.fits\n",
      "-rw-r--r-- 1 adamginsburg adamginsburg 15M Jul  3 14:31 F405N/f405n_merged-reproject_crowdsource_nsky0.fits\n",
      "-rw-r--r-- 1 adamginsburg adamginsburg 16M Jul  3 14:28 F410M/f410m_merged-reproject_crowdsource_nsky0.fits\n",
      "-rw-r--r-- 1 adamginsburg adamginsburg 12M Jul  3 14:26 F466N/f466n_merged-reproject_crowdsource_nsky0.fits\n"
     ]
    }
   ],
   "source": [
    "ls -lh */*_merged-reproject_crowdsource_nsky0.fits"
   ]
  },
  {
   "cell_type": "code",
   "execution_count": 4,
   "id": "6bc4e969-b3e3-4b08-907d-e6425924fbdf",
   "metadata": {},
   "outputs": [],
   "source": [
    "%matplotlib inline"
   ]
  },
  {
   "cell_type": "code",
   "execution_count": 5,
   "id": "d2e39e3f-16e3-48d5-8c45-3f38d61b98d4",
   "metadata": {},
   "outputs": [],
   "source": [
    "import pylab as pl\n",
    "pl.rcParams['figure.dpi'] = 150"
   ]
  },
  {
   "cell_type": "code",
   "execution_count": 6,
   "id": "b7448b42-acf7-44bd-9e4c-98d0f90b411e",
   "metadata": {},
   "outputs": [],
   "source": [
    "basepath = '/orange/adamginsburg/jwst/brick/'"
   ]
  },
  {
   "cell_type": "code",
   "execution_count": 7,
   "id": "f97245b3-b74b-4615-b406-708873cadd3f",
   "metadata": {},
   "outputs": [],
   "source": [
    "import sys\n",
    "if '' in sys.path:\n",
    "    sys.path.remove('')"
   ]
  },
  {
   "cell_type": "code",
   "execution_count": 8,
   "id": "4ab21b5d-353d-472b-8f10-09ce74498fba",
   "metadata": {},
   "outputs": [
    {
     "name": "stderr",
     "output_type": "stream",
     "text": [
      "/orange/adamginsburg/jwst/brick/analysis/analysis_setup.py:4: DeprecationWarning: the imp module is deprecated in favour of importlib; see the module's documentation for alternative uses\n",
      "  import sys, imp\n",
      "/orange/adamginsburg/jwst/brick/analysis/analysis_setup.py:19: DeprecationWarning: `photutils.CircularAperture` is a deprecated alias for `photutils.aperture.CircularAperture` and will be removed in the future. Instead, please use `from photutils.aperture import CircularAperture` to silence this warning.\n",
      "  from photutils import CircularAperture, EPSFBuilder, find_peaks, CircularAnnulus\n",
      "/orange/adamginsburg/jwst/brick/analysis/analysis_setup.py:19: DeprecationWarning: `photutils.EPSFBuilder` is a deprecated alias for `photutils.psf.EPSFBuilder` and will be removed in the future. Instead, please use `from photutils.psf import EPSFBuilder` to silence this warning.\n",
      "  from photutils import CircularAperture, EPSFBuilder, find_peaks, CircularAnnulus\n",
      "/orange/adamginsburg/jwst/brick/analysis/analysis_setup.py:19: DeprecationWarning: `photutils.find_peaks` is a deprecated alias for `photutils.detection.find_peaks` and will be removed in the future. Instead, please use `from photutils.detection import find_peaks` to silence this warning.\n",
      "  from photutils import CircularAperture, EPSFBuilder, find_peaks, CircularAnnulus\n",
      "/orange/adamginsburg/jwst/brick/analysis/analysis_setup.py:19: DeprecationWarning: `photutils.CircularAnnulus` is a deprecated alias for `photutils.aperture.CircularAnnulus` and will be removed in the future. Instead, please use `from photutils.aperture import CircularAnnulus` to silence this warning.\n",
      "  from photutils import CircularAperture, EPSFBuilder, find_peaks, CircularAnnulus\n",
      "/orange/adamginsburg/jwst/brick//reduction/filtering.py:20: TqdmExperimentalWarning: Using `tqdm.autonotebook.tqdm` in notebook mode. Use `tqdm.tqdm` instead to force console mode (e.g. in jupyter console)\n",
      "  from tqdm.autonotebook import tqdm\n",
      "**WARNING**: LOCAL JWST PRD VERSION PRDOPSSOC-059 CANNOT BE CHECKED AGAINST ONLINE VERSION\n",
      "WARNING: FITSFixedWarning: 'datfix' made the change 'Set DATE-BEG to '2022-08-28T02:38:56.564' from MJD-BEG.\n",
      "Set DATE-AVG to '2022-08-28T03:05:31.909' from MJD-AVG.\n",
      "Set DATE-END to '2022-08-28T03:34:03.557' from MJD-END'. [astropy.wcs.wcs]\n",
      "WARNING: FITSFixedWarning: 'obsfix' made the change 'Set OBSGEO-L to   -51.494369 from OBSGEO-[XYZ].\n",
      "Set OBSGEO-B to   -20.633624 from OBSGEO-[XYZ].\n",
      "Set OBSGEO-H to 1526085287.516 from OBSGEO-[XYZ]'. [astropy.wcs.wcs]\n",
      "WARNING: FITSFixedWarning: 'datfix' made the change 'Set DATE-BEG to '2022-08-28T02:38:56.308' from MJD-BEG.\n",
      "Set DATE-AVG to '2022-08-28T03:05:33.037' from MJD-AVG.\n",
      "Set DATE-END to '2022-08-28T03:34:03.365' from MJD-END'. [astropy.wcs.wcs]\n",
      "WARNING: FITSFixedWarning: 'obsfix' made the change 'Set OBSGEO-L to   -51.501077 from OBSGEO-[XYZ].\n",
      "Set OBSGEO-B to   -20.639738 from OBSGEO-[XYZ].\n",
      "Set OBSGEO-H to 1526157068.715 from OBSGEO-[XYZ]'. [astropy.wcs.wcs]\n",
      "WARNING: FITSFixedWarning: 'datfix' made the change 'Set DATE-BEG to '2022-08-28T02:38:56.308' from MJD-BEG.\n",
      "Set DATE-AVG to '2022-08-28T03:05:32.473' from MJD-AVG.\n",
      "Set DATE-END to '2022-08-28T03:34:03.557' from MJD-END'. [astropy.wcs.wcs]\n",
      "WARNING: FITSFixedWarning: 'obsfix' made the change 'Set OBSGEO-L to   -51.514501 from OBSGEO-[XYZ].\n",
      "Set OBSGEO-B to   -20.651775 from OBSGEO-[XYZ].\n",
      "Set OBSGEO-H to 1526292809.682 from OBSGEO-[XYZ]'. [astropy.wcs.wcs]\n",
      "WARNING: FITSFixedWarning: 'obsfix' made the change 'Set OBSGEO-L to   -51.492693 from OBSGEO-[XYZ].\n",
      "Set OBSGEO-B to   -20.631897 from OBSGEO-[XYZ].\n",
      "Set OBSGEO-H to 1526059356.900 from OBSGEO-[XYZ]'. [astropy.wcs.wcs]\n"
     ]
    },
    {
     "name": "stdout",
     "output_type": "stream",
     "text": [
      "For module nrca catalog crowdsource_nsky0_nrca_photometry_tables_merged.fits, mod date is 2023-10-04 02:28:35\n",
      "For module nrcb catalog crowdsource_nsky0_nrcb_photometry_tables_merged.fits, mod date is 2023-10-04 04:16:32\n",
      "For module merged catalog crowdsource_nsky0_merged_photometry_tables_merged.fits, mod date is 2023-10-04 00:42:49\n",
      "For module merged-reproject catalog crowdsource_nsky0_merged-reproject_photometry_tables_merged.fits, mod date is 2023-10-03 22:02:09\n"
     ]
    }
   ],
   "source": [
    "%run $basepath/analysis/analysis_setup.py\n",
    "basetable = basetable_merged_reproject"
   ]
  },
  {
   "cell_type": "code",
   "execution_count": null,
   "id": "5eda1621-9be1-4630-9b24-6bdf5f59a45f",
   "metadata": {},
   "outputs": [
    {
     "name": "stderr",
     "output_type": "stream",
     "text": [
      "/orange/adamginsburg/jwst/brick/analysis/selections.py:17: DeprecationWarning: `photutils.CircularAperture` is a deprecated alias for `photutils.aperture.CircularAperture` and will be removed in the future. Instead, please use `from photutils.aperture import CircularAperture` to silence this warning.\n",
      "  from photutils import CircularAperture, EPSFBuilder, find_peaks, CircularAnnulus\n",
      "/orange/adamginsburg/jwst/brick/analysis/selections.py:17: DeprecationWarning: `photutils.EPSFBuilder` is a deprecated alias for `photutils.psf.EPSFBuilder` and will be removed in the future. Instead, please use `from photutils.psf import EPSFBuilder` to silence this warning.\n",
      "  from photutils import CircularAperture, EPSFBuilder, find_peaks, CircularAnnulus\n",
      "/orange/adamginsburg/jwst/brick/analysis/selections.py:17: DeprecationWarning: `photutils.find_peaks` is a deprecated alias for `photutils.detection.find_peaks` and will be removed in the future. Instead, please use `from photutils.detection import find_peaks` to silence this warning.\n",
      "  from photutils import CircularAperture, EPSFBuilder, find_peaks, CircularAnnulus\n",
      "/orange/adamginsburg/jwst/brick/analysis/selections.py:17: DeprecationWarning: `photutils.CircularAnnulus` is a deprecated alias for `photutils.aperture.CircularAnnulus` and will be removed in the future. Instead, please use `from photutils.aperture import CircularAnnulus` to silence this warning.\n",
      "  from photutils import CircularAperture, EPSFBuilder, find_peaks, CircularAnnulus\n"
     ]
    }
   ],
   "source": [
    "%run $basepath/analysis/selections.py --module=merged-reproject\n",
    "assert len(basetable) == len(basetable_merged_reproject)\n",
    "assert 'blue_410m405_466' in locals()"
   ]
  },
  {
   "cell_type": "markdown",
   "id": "72d05dd8-532f-48b6-9d58-81cfeae0617f",
   "metadata": {},
   "source": [
    "### Blue F410-F466 stars: w/o 410m405"
   ]
  },
  {
   "cell_type": "code",
   "execution_count": null,
   "id": "8c83d38d-3429-4cc2-8c43-b5b9f469938d",
   "metadata": {},
   "outputs": [],
   "source": [
    "avm = pyavm.AVM.from_image(f'{basepath}/images/BrickJWST_merged_longwave_narrowband_lighter.png')\n",
    "img_narrow = np.array(PIL.Image.open(f'{basepath}/images/BrickJWST_merged_longwave_narrowband_lighter.png'))\n",
    "wwi_narrow = wcs.WCS(fits.Header.fromstring(avm.Spatial.FITSheader))\n",
    "\n",
    "wwi_narrow = wwi_narrow.sub([2,1])\n",
    "\n",
    "fig = pl.figure(figsize=(12,12))\n",
    "ax = pl.subplot(projection=wwi_narrow)\n",
    "ax.imshow(img_narrow)\n",
    "\n",
    "\n",
    "#ax.scatter(crds.ra[blue_410_405], crds.dec[blue_410_405], edgecolors='orange', facecolors='none', transform=ax.get_transform('world'))\n",
    "ax.coords['ra'].set_axislabel('Right Ascension')\n",
    "ax.coords['dec'].set_axislabel('Declination')\n",
    "\n",
    "ax.set_ylim(ax.get_ylim()[::-1])\n",
    "\n",
    "ra = lon = ax.coords['ra']\n",
    "dec = lat = ax.coords['dec']\n",
    "ra.set_major_formatter('hh:mm:ss.ss')\n",
    "dec.set_major_formatter('dd:mm:ss.ss')\n",
    "#lon.set_ticks(spacing=30. * u.arcsec, color='red')\n",
    "#lat.set_ticks(spacing=30. * u.arcsec, color='blue')\n",
    "#lon.set_ticklabel(color='red')\n",
    "#lat.set_ticklabel(color='blue')\n",
    "#lon.grid(color='red')\n",
    "#lat.grid(color='blue')\n",
    "\n",
    "ra.set_ticks_position('l')\n",
    "ra.set_ticklabel_position('l')\n",
    "ra.set_axislabel_position('l')\n",
    "dec.set_ticks_position('b')\n",
    "dec.set_ticklabel_position('b')\n",
    "dec.set_axislabel_position('b')\n",
    "\n",
    "fig.savefig(f\"{basepath}/paper_figures/BrickJWST_merged_longwave_narrowband_lighter_labeledaxes.png\", dpi=200, bbox_inches='tight')\n",
    "fig.savefig(f\"{basepath}/paper_figures/BrickJWST_merged_longwave_narrowband_lighter_labeledaxes.pdf\", dpi=200, bbox_inches='tight')\n",
    "\n",
    "crds = basetable['skycoord_f410m']\n",
    "ax.scatter(\n",
    "    crds.dec[blue_410_466 & ~badblue],\n",
    "    crds.ra[blue_410_466 & ~badblue],\n",
    "    transform=ax.get_transform('world'),\n",
    "    marker='x', facecolors=(0.2, 1, 0.6),\n",
    "    linewidths=0.5,\n",
    "    s=5,\n",
    ");\n",
    "\n",
    "ax.scatter(\n",
    "    crds.dec[veryblue_410_466 & ~badblue],\n",
    "    crds.ra[veryblue_410_466 & ~badblue],\n",
    "    transform=ax.get_transform('world'),\n",
    "    marker='x', facecolors=(0.2, 0.4, 1.0),\n",
    "    linewidths=0.8,\n",
    "    s=5,\n",
    ");\n",
    "fig.savefig(f\"{basepath}/paper_figures/BlueStars_on_RGB_merged_410-466.png\", dpi=200, bbox_inches='tight')"
   ]
  },
  {
   "cell_type": "code",
   "execution_count": null,
   "id": "38f0d39f-7f5f-4f26-b2d2-ebba4ec521d7",
   "metadata": {},
   "outputs": [],
   "source": [
    "# This image shows only H-alpha stars\n",
    "#avm = pyavm.AVM.from_image(f'{basepath}/images/BrickJWST_merged_longwave_narrowbandplusstars.png')\n",
    "#img_narrow = np.array(PIL.Image.open(f'{basepath}/images/BrickJWST_merged_longwave_narrowbandplusstars.png')).swapaxes(0,1)\n",
    "avm = pyavm.AVM.from_image(f'{basepath}/images/BrickJWST_merged_longwave_narrowband_withstars.png')\n",
    "img_narrow = np.array(PIL.Image.open(f'{basepath}/images/BrickJWST_merged_longwave_narrowband_withstars.png'))\n",
    "#wwi_bra_410 = avm.to_wcs(use_full_header=True)\n",
    "wwi_narrow = wcs.WCS(fits.Header.fromstring(avm.Spatial.FITSheader))\n",
    "\n",
    "img_narrow = img_narrow\n",
    "wwi_narrow = wwi_narrow.sub([2,1])\n",
    "\n",
    "fig = pl.figure(figsize=(12,12))\n",
    "ax = pl.subplot(projection=wwi_narrow)\n",
    "ax.imshow(img_narrow)\n",
    "\n",
    "crds = basetable['skycoord_f410m']\n",
    "ax.scatter(\n",
    "    crds.dec[blue_410_466 & ~badblue],\n",
    "    crds.ra[blue_410_466 & ~badblue],\n",
    "    transform=ax.get_transform('world'),\n",
    "    marker='x', facecolors=(0.2, 1, 0.6),\n",
    "    linewidths=0.5,\n",
    "    s=5,\n",
    ");\n",
    "ax.scatter(\n",
    "    crds.dec[veryblue_410_466 & ~badblue],\n",
    "    crds.ra[veryblue_410_466 & ~badblue],\n",
    "    transform=ax.get_transform('world'),\n",
    "    marker='x', facecolors=(0.2, 0.4, 1.0),\n",
    "    linewidths=0.8,\n",
    "    s=5,\n",
    ");\n",
    "#ax.scatter(crds.ra[blue_410_405], crds.dec[blue_410_405], edgecolors='orange', facecolors='none', transform=ax.get_transform('world'))\n",
    "ax.coords['ra'].set_axislabel('Right Ascension')\n",
    "ax.coords['dec'].set_axislabel('Declination')\n",
    "\n",
    "ax.set_ylim(ax.get_ylim()[::-1])\n",
    "\n",
    "ra = lon = ax.coords['ra']\n",
    "dec = lat = ax.coords['dec']\n",
    "ra.set_major_formatter('hh:mm:ss.ss')\n",
    "dec.set_major_formatter('dd:mm:ss.ss')\n",
    "#lon.set_ticks(spacing=30. * u.arcsec, color='red')\n",
    "#lat.set_ticks(spacing=30. * u.arcsec, color='blue')\n",
    "#lon.set_ticklabel(color='red')\n",
    "#lat.set_ticklabel(color='blue')\n",
    "#lon.grid(color='red')\n",
    "#lat.grid(color='blue')\n",
    "\n",
    "ra.set_ticks_position('l')\n",
    "ra.set_ticklabel_position('l')\n",
    "ra.set_axislabel_position('l')\n",
    "dec.set_ticks_position('b')\n",
    "dec.set_ticklabel_position('b')\n",
    "dec.set_axislabel_position('b')\n",
    "fig.savefig(f\"{basepath}/paper_figures/BlueStars_on_RGB_stars_merged_410-466.png\", dpi=200, bbox_inches='tight')"
   ]
  },
  {
   "cell_type": "code",
   "execution_count": null,
   "id": "42ffa9b1-02e2-47c9-bb8b-55eb7528561f",
   "metadata": {},
   "outputs": [],
   "source": []
  },
  {
   "cell_type": "code",
   "execution_count": null,
   "id": "d4bf548e-22ac-4d3b-b03f-275e63028a94",
   "metadata": {},
   "outputs": [],
   "source": []
  },
  {
   "cell_type": "markdown",
   "id": "a2efcfb9-74f7-4ad0-bf96-2eb11465d085",
   "metadata": {},
   "source": [
    "### Blue F410m405-F466 stars"
   ]
  },
  {
   "cell_type": "code",
   "execution_count": null,
   "id": "9055ccf3-bfbc-4290-870a-31176fbacab4",
   "metadata": {},
   "outputs": [],
   "source": [
    "avm = pyavm.AVM.from_image(f'{basepath}/images/BrickJWST_merged_longwave_narrowband_lighter.png')\n",
    "img_narrow = np.array(PIL.Image.open(f'{basepath}/images/BrickJWST_merged_longwave_narrowband_lighter.png'))\n",
    "wwi_narrow = wcs.WCS(fits.Header.fromstring(avm.Spatial.FITSheader))\n",
    "\n",
    "wwi_narrow = wwi_narrow.sub([2,1])\n",
    "\n",
    "fig = pl.figure(figsize=(12,12))\n",
    "ax = pl.subplot(projection=wwi_narrow)\n",
    "ax.imshow(img_narrow)\n",
    "\n",
    "crds = basetable['skycoord_f410m']\n",
    "assert any(blue_410m405_466 & ~badblue)\n",
    "ax.scatter(\n",
    "    crds.dec[blue_410m405_466 & ~badblue],\n",
    "    crds.ra[blue_410m405_466 & ~badblue],\n",
    "    transform=ax.get_transform('world'),\n",
    "    marker='x', facecolors=(0.2, 1, 0.6),\n",
    "    linewidths=0.5,\n",
    "    s=5,\n",
    ");\n",
    "assert any(veryblue_410m405_466 & ~badblue)\n",
    "ax.scatter(\n",
    "    crds.dec[veryblue_410m405_466 & ~badblue],\n",
    "    crds.ra[veryblue_410m405_466 & ~badblue],\n",
    "    transform=ax.get_transform('world'),\n",
    "    marker='x', facecolors=(0.0, 1, 0.9),\n",
    "    linewidths=0.5,\n",
    "    s=5,\n",
    ");\n",
    "#ax.scatter(crds.ra[blue_410m405_405], crds.dec[blue_410m405_405], edgecolors='orange', facecolors='none', transform=ax.get_transform('world'))\n",
    "ax.coords['ra'].set_axislabel('Right Ascension')\n",
    "ax.coords['dec'].set_axislabel('Declination')\n",
    "\n",
    "ax.set_ylim(ax.get_ylim()[::-1])\n",
    "\n",
    "ra = lon = ax.coords['ra']\n",
    "dec = lat = ax.coords['dec']\n",
    "ra.set_major_formatter('hh:mm:ss.ss')\n",
    "dec.set_major_formatter('dd:mm:ss.ss')\n",
    "#lon.set_ticks(spacing=30. * u.arcsec, color='red')\n",
    "#lat.set_ticks(spacing=30. * u.arcsec, color='blue')\n",
    "#lon.set_ticklabel(color='red')\n",
    "#lat.set_ticklabel(color='blue')\n",
    "#lon.grid(color='red')\n",
    "#lat.grid(color='blue')\n",
    "\n",
    "ra.set_ticks_position('l')\n",
    "ra.set_ticklabel_position('l')\n",
    "ra.set_axislabel_position('l')\n",
    "dec.set_ticks_position('b')\n",
    "dec.set_ticklabel_position('b')\n",
    "dec.set_axislabel_position('b')\n",
    "fig.savefig(f\"{basepath}/paper_figures/BlueStars_on_RGB_merged.png\", dpi=200, bbox_inches='tight')"
   ]
  },
  {
   "cell_type": "code",
   "execution_count": null,
   "id": "d68c10a2-894b-4fca-8b87-e634761ec8eb",
   "metadata": {},
   "outputs": [],
   "source": [
    "# This image shows only H-alpha stars\n",
    "#avm = pyavm.AVM.from_image(f'{basepath}/images/BrickJWST_merged_longwave_narrowbandplusstars.png')\n",
    "#img_narrow = np.array(PIL.Image.open(f'{basepath}/images/BrickJWST_merged_longwave_narrowbandplusstars.png')).swapaxes(0,1)\n",
    "avm = pyavm.AVM.from_image(f'{basepath}/images/BrickJWST_merged_longwave_narrowband_withstars.png')\n",
    "img_narrow = np.array(PIL.Image.open(f'{basepath}/images/BrickJWST_merged_longwave_narrowband_withstars.png'))\n",
    "#wwi_bra_410 = avm.to_wcs(use_full_header=True)\n",
    "wwi_narrow = wcs.WCS(fits.Header.fromstring(avm.Spatial.FITSheader))\n",
    "\n",
    "img_narrow = img_narrow\n",
    "wwi_narrow = wwi_narrow.sub([2,1])\n",
    "\n",
    "fig = pl.figure(figsize=(12,12))\n",
    "ax = pl.subplot(projection=wwi_narrow)\n",
    "ax.imshow(img_narrow)\n",
    "\n",
    "crds = basetable['skycoord_f410m']\n",
    "ax.scatter(\n",
    "    crds.dec[blue_410m405_466 & ~badblue],\n",
    "    crds.ra[blue_410m405_466 & ~badblue],\n",
    "    transform=ax.get_transform('world'),\n",
    "    marker='x', facecolors=(0.2, 1, 0.6),\n",
    "    linewidths=0.5,\n",
    "    s=5,\n",
    ");\n",
    "ax.scatter(\n",
    "    crds.dec[veryblue_410m405_466 & ~badblue],\n",
    "    crds.ra[veryblue_410m405_466 & ~badblue],\n",
    "    transform=ax.get_transform('world'),\n",
    "    marker='x', facecolors=(0.2, 1, 0.9),\n",
    "    linewidths=0.5,\n",
    "    s=5,\n",
    ");\n",
    "#ax.scatter(crds.ra[blue_410m405_405], crds.dec[blue_410m405_405], edgecolors='orange', facecolors='none', transform=ax.get_transform('world'))\n",
    "ax.coords['ra'].set_axislabel('Right Ascension')\n",
    "ax.coords['dec'].set_axislabel('Declination')\n",
    "\n",
    "ax.set_ylim(ax.get_ylim()[::-1])\n",
    "\n",
    "ra = lon = ax.coords['ra']\n",
    "dec = lat = ax.coords['dec']\n",
    "ra.set_major_formatter('hh:mm:ss.ss')\n",
    "dec.set_major_formatter('dd:mm:ss.ss')\n",
    "#lon.set_ticks(spacing=30. * u.arcsec, color='red')\n",
    "#lat.set_ticks(spacing=30. * u.arcsec, color='blue')\n",
    "#lon.set_ticklabel(color='red')\n",
    "#lat.set_ticklabel(color='blue')\n",
    "#lon.grid(color='red')\n",
    "#lat.grid(color='blue')\n",
    "\n",
    "ra.set_ticks_position('l')\n",
    "ra.set_ticklabel_position('l')\n",
    "ra.set_axislabel_position('l')\n",
    "dec.set_ticks_position('b')\n",
    "dec.set_ticklabel_position('b')\n",
    "dec.set_axislabel_position('b')\n",
    "fig.savefig(f\"{basepath}/paper_figures/BlueStars_on_RGB_stars_merged.png\", dpi=200, bbox_inches='tight')"
   ]
  }
 ],
 "metadata": {
  "kernelspec": {
   "display_name": "python39",
   "language": "python",
   "name": "python39"
  },
  "language_info": {
   "codemirror_mode": {
    "name": "ipython",
    "version": 3
   },
   "file_extension": ".py",
   "mimetype": "text/x-python",
   "name": "python",
   "nbconvert_exporter": "python",
   "pygments_lexer": "ipython3",
   "version": "3.9.13"
  }
 },
 "nbformat": 4,
 "nbformat_minor": 5
}
