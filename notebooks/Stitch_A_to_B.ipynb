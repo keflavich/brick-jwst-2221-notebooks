{
 "cells": [
  {
   "cell_type": "code",
   "execution_count": 1,
   "id": "27c88f7d-3b70-430b-8894-6de35ba04a48",
   "metadata": {
    "tags": []
   },
   "outputs": [],
   "source": [
    "from astropy.io import fits\n",
    "import reproject"
   ]
  },
  {
   "cell_type": "code",
   "execution_count": 2,
   "id": "7a85a664-7d8e-4a08-832b-0369eb4bedfb",
   "metadata": {
    "tags": []
   },
   "outputs": [],
   "source": [
    "basepath = '/orange/adamginsburg/jwst/brick/'"
   ]
  },
  {
   "cell_type": "code",
   "execution_count": 3,
   "id": "5172354e-98dc-494f-983f-669a53caa2b8",
   "metadata": {
    "tags": []
   },
   "outputs": [],
   "source": [
    "files_466 = [\n",
    "fits.open(f'{basepath}/images/F466_minus_F410cont_refitted466wcsto410_nrca_destarred6.fits'),\n",
    "fits.open(f'{basepath}/images/F466_minus_F410cont_refitted466wcsto410_nrcb_destarred6.fits'),\n",
    "]\n",
    "files_405 = [\n",
    "fits.open(f'{basepath}/images/F405_minus_F410cont_refitted405wcsto410_nrca_destarred6.fits'),\n",
    "fits.open(f'{basepath}/images/F405_minus_F410cont_refitted405wcsto410_nrcb_destarred6.fits'),\n",
    "]\n",
    "files_187 = [\n",
    "fits.open(f'{basepath}/images/F187_minus_F182cont_refitted187wcsto182_nrca_destarred6.fits'),\n",
    "fits.open(f'{basepath}/images/F187_minus_F182cont_refitted187wcsto182_nrcb_destarred6.fits'),\n",
    "]"
   ]
  },
  {
   "cell_type": "code",
   "execution_count": 4,
   "id": "97487f54-91ae-4365-b3b6-4f5feb4cdf81",
   "metadata": {},
   "outputs": [],
   "source": [
    "weights_466 = [\n",
    "    fits.open(f'{basepath}F466N/pipeline/jw02221-o001_t001_nircam_clear-f466n-nrca_i2d.fits')[('WHT', 1)],\n",
    "    fits.open(f'{basepath}F466N/pipeline/jw02221-o001_t001_nircam_clear-f466n-nrcb_i2d.fits')[('WHT', 1)],\n",
    "]\n",
    "weights_405 = [\n",
    "    fits.open(f'{basepath}F405N/pipeline/jw02221-o001_t001_nircam_clear-f405n-nrca_i2d.fits')[('WHT', 1)],\n",
    "    fits.open(f'{basepath}F405N/pipeline/jw02221-o001_t001_nircam_clear-f405n-nrcb_i2d.fits')[('WHT', 1)],\n",
    "]\n",
    "weights_187 = [\n",
    "    fits.open(f'{basepath}F187N/pipeline/jw02221-o001_t001_nircam_clear-f187n-nrca_i2d.fits')[('WHT', 1)],\n",
    "    fits.open(f'{basepath}F187N/pipeline/jw02221-o001_t001_nircam_clear-f187n-nrcb_i2d.fits')[('WHT', 1)],\n",
    "]"
   ]
  },
  {
   "cell_type": "code",
   "execution_count": 5,
   "id": "c45d1a8b-c2e4-4550-836f-884e64ff54e6",
   "metadata": {},
   "outputs": [],
   "source": [
    "from reproject.mosaicking import find_optimal_celestial_wcs, reproject_and_coadd"
   ]
  },
  {
   "cell_type": "raw",
   "id": "4c80612f-6345-4d53-8916-34053d8fde82",
   "metadata": {
    "execution": {
     "iopub.execute_input": "2022-10-03T22:26:25.881163Z",
     "iopub.status.busy": "2022-10-03T22:26:25.880584Z",
     "iopub.status.idle": "2022-10-03T22:26:39.431419Z",
     "shell.execute_reply": "2022-10-03T22:26:39.431110Z"
    }
   },
   "source": [
    "# done below\n",
    "target_wcs, target_shape = find_optimal_celestial_wcs(files_405)\n",
    "merged_405, weights = reproject_and_coadd(files_405, output_projection=target_wcs,\n",
    "                                          input_weights=weights_405,\n",
    "                                          shape_out=target_shape, reproject_function=reproject.reproject_interp)"
   ]
  },
  {
   "cell_type": "code",
   "execution_count": 6,
   "id": "991165a7-e486-4dc2-98cd-cc8bd8d85ee0",
   "metadata": {},
   "outputs": [
    {
     "name": "stderr",
     "output_type": "stream",
     "text": [
      "WARNING: FITSFixedWarning: 'obsfix' made the change 'Set OBSGEO-L to   -51.492693 from OBSGEO-[XYZ].\n",
      "Set OBSGEO-B to   -20.631897 from OBSGEO-[XYZ].\n",
      "Set OBSGEO-H to 1526059356.900 from OBSGEO-[XYZ]'. [astropy.wcs.wcs]\n",
      "WARNING: FITSFixedWarning: 'obsfix' made the change 'Set OBSGEO-L to   -51.492693 from OBSGEO-[XYZ].\n",
      "Set OBSGEO-B to   -20.631897 from OBSGEO-[XYZ].\n",
      "Set OBSGEO-H to 1526059356.900 from OBSGEO-[XYZ]'. [astropy.wcs.wcs]\n",
      "WARNING: FITSFixedWarning: 'obsfix' made the change 'Set OBSGEO-L to   -51.492693 from OBSGEO-[XYZ].\n",
      "Set OBSGEO-B to   -20.631897 from OBSGEO-[XYZ].\n",
      "Set OBSGEO-H to 1526059356.900 from OBSGEO-[XYZ]'. [astropy.wcs.wcs]\n"
     ]
    }
   ],
   "source": [
    "\n",
    "target_wcs, target_shape = find_optimal_celestial_wcs(files_466)\n",
    "merged_466, weights = reproject_and_coadd(files_466, output_projection=target_wcs,\n",
    "                                          input_weights=weights_466,\n",
    "                                          shape_out=target_shape, reproject_function=reproject.reproject_interp)\n",
    "(fits.PrimaryHDU(data=merged_466,\n",
    "                 header=target_wcs.to_header())\n",
    " .writeto(f'{basepath}/images/F466_minus_F410cont_refitted466wcsto410_merged_destarred6.fits', overwrite=True)\n",
    ")"
   ]
  },
  {
   "cell_type": "code",
   "execution_count": 7,
   "id": "08745154",
   "metadata": {},
   "outputs": [
    {
     "name": "stderr",
     "output_type": "stream",
     "text": [
      "WARNING: FITSFixedWarning: 'obsfix' made the change 'Set OBSGEO-L to   -51.492693 from OBSGEO-[XYZ].\n",
      "Set OBSGEO-B to   -20.631897 from OBSGEO-[XYZ].\n",
      "Set OBSGEO-H to 1526059356.900 from OBSGEO-[XYZ]'. [astropy.wcs.wcs]\n",
      "WARNING: FITSFixedWarning: 'obsfix' made the change 'Set OBSGEO-L to   -51.492693 from OBSGEO-[XYZ].\n",
      "Set OBSGEO-B to   -20.631897 from OBSGEO-[XYZ].\n",
      "Set OBSGEO-H to 1526059356.900 from OBSGEO-[XYZ]'. [astropy.wcs.wcs]\n",
      "WARNING: FITSFixedWarning: 'obsfix' made the change 'Set OBSGEO-L to   -51.492693 from OBSGEO-[XYZ].\n",
      "Set OBSGEO-B to   -20.631897 from OBSGEO-[XYZ].\n",
      "Set OBSGEO-H to 1526059356.900 from OBSGEO-[XYZ]'. [astropy.wcs.wcs]\n"
     ]
    }
   ],
   "source": [
    "\n",
    "target_wcs, target_shape = find_optimal_celestial_wcs(files_405)\n",
    "merged_405, weights = reproject_and_coadd(files_405, output_projection=target_wcs,\n",
    "                                          input_weights=weights_405,\n",
    "                                          shape_out=target_shape, reproject_function=reproject.reproject_interp)\n",
    "(fits.PrimaryHDU(data=merged_405,\n",
    "                 header=target_wcs.to_header())\n",
    " .writeto(f'{basepath}/images/F405_minus_F410cont_refitted405wcsto410_merged_destarred6.fits', overwrite=True)\n",
    ")"
   ]
  },
  {
   "cell_type": "code",
   "execution_count": 8,
   "id": "5722873d-6a7b-4909-bd3f-3bc1a0bc2d9d",
   "metadata": {},
   "outputs": [
    {
     "name": "stderr",
     "output_type": "stream",
     "text": [
      "WARNING: FITSFixedWarning: 'datfix' made the change 'Set DATE-BEG to '2022-08-28T02:38:56.564' from MJD-BEG.\n",
      "Set DATE-AVG to '2022-08-28T03:05:31.928' from MJD-AVG.\n",
      "Set DATE-END to '2022-08-28T03:34:03.621' from MJD-END'. [astropy.wcs.wcs]\n",
      "WARNING: FITSFixedWarning: 'obsfix' made the change 'Set OBSGEO-L to   -51.492693 from OBSGEO-[XYZ].\n",
      "Set OBSGEO-B to   -20.631897 from OBSGEO-[XYZ].\n",
      "Set OBSGEO-H to 1526059356.900 from OBSGEO-[XYZ]'. [astropy.wcs.wcs]\n",
      "WARNING: FITSFixedWarning: 'datfix' made the change 'Set DATE-BEG to '2022-08-28T02:38:56.372' from MJD-BEG.\n",
      "Set DATE-AVG to '2022-08-28T03:05:33.047' from MJD-AVG.\n",
      "Set DATE-END to '2022-08-28T03:34:03.365' from MJD-END'. [astropy.wcs.wcs]\n",
      "WARNING: FITSFixedWarning: 'datfix' made the change 'Set DATE-BEG to '2022-08-28T02:38:56.564' from MJD-BEG.\n",
      "Set DATE-AVG to '2022-08-28T03:05:31.928' from MJD-AVG.\n",
      "Set DATE-END to '2022-08-28T03:34:03.621' from MJD-END'. [astropy.wcs.wcs]\n",
      "WARNING: FITSFixedWarning: 'obsfix' made the change 'Set OBSGEO-L to   -51.492693 from OBSGEO-[XYZ].\n",
      "Set OBSGEO-B to   -20.631897 from OBSGEO-[XYZ].\n",
      "Set OBSGEO-H to 1526059356.900 from OBSGEO-[XYZ]'. [astropy.wcs.wcs]\n",
      "WARNING: FITSFixedWarning: 'datfix' made the change 'Set DATE-BEG to '2022-08-28T02:38:56.372' from MJD-BEG.\n",
      "Set DATE-AVG to '2022-08-28T03:05:33.047' from MJD-AVG.\n",
      "Set DATE-END to '2022-08-28T03:34:03.365' from MJD-END'. [astropy.wcs.wcs]\n",
      "WARNING: FITSFixedWarning: 'obsfix' made the change 'Set OBSGEO-L to   -51.492693 from OBSGEO-[XYZ].\n",
      "Set OBSGEO-B to   -20.631897 from OBSGEO-[XYZ].\n",
      "Set OBSGEO-H to 1526059356.900 from OBSGEO-[XYZ]'. [astropy.wcs.wcs]\n"
     ]
    }
   ],
   "source": [
    "\n",
    "target_wcs, target_shape = find_optimal_celestial_wcs(files_187)\n",
    "merged_187, weights = reproject_and_coadd(files_187, output_projection=target_wcs,\n",
    "                                          input_weights=weights_187,\n",
    "                                          shape_out=target_shape, reproject_function=reproject.reproject_interp)\n",
    "(fits.PrimaryHDU(data=merged_187,\n",
    "                 header=target_wcs.to_header())\n",
    " .writeto(f'{basepath}/images/F187_minus_F182cont_refitted187wcsto182_merged_destarred6.fits', overwrite=True)\n",
    ")"
   ]
  },
  {
   "cell_type": "code",
   "execution_count": null,
   "id": "a7c52e99-f249-495b-9c9e-e314e513e02c",
   "metadata": {},
   "outputs": [],
   "source": []
  },
  {
   "cell_type": "code",
   "execution_count": 9,
   "id": "5c910722-2744-46dc-a2ef-00d5ab8649e6",
   "metadata": {},
   "outputs": [],
   "source": [
    "import pyavm\n",
    "import numpy as np\n",
    "import PIL\n",
    "from matplotlib.colors import rgb_to_hsv, hsv_to_rgb\n",
    "import pylab as pl\n",
    "from astropy.visualization import simple_norm"
   ]
  },
  {
   "cell_type": "code",
   "execution_count": 10,
   "id": "4227d768-a251-44b8-81f0-32721ce26be9",
   "metadata": {},
   "outputs": [
    {
     "name": "stderr",
     "output_type": "stream",
     "text": [
      "/scratch/local/56668455/ipykernel_24097/454078467.py:10: VisibleDeprecationWarning: Creating an ndarray from ragged nested sequences (which is a list-or-tuple of lists-or-tuples-or ndarrays with different lengths or shapes) is deprecated. If you meant to do this, you must specify 'dtype=object' when creating the ndarray.\n",
      "  rgb2 = np.array( #TODO: need to reproject the 187-182 to 410\n"
     ]
    },
    {
     "ename": "AxisError",
     "evalue": "axis2: axis 2 is out of bounds for array of dimension 1",
     "output_type": "error",
     "traceback": [
      "\u001b[0;31m---------------------------------------------------------------------------\u001b[0m",
      "\u001b[0;31mAxisError\u001b[0m                                 Traceback (most recent call last)",
      "\u001b[0;32m/scratch/local/56668455/ipykernel_24097/454078467.py\u001b[0m in \u001b[0;36m<module>\u001b[0;34m\u001b[0m\n\u001b[1;32m      8\u001b[0m       ]\n\u001b[1;32m      9\u001b[0m ).swapaxes(0,2).swapaxes(0,1)\n\u001b[0;32m---> 10\u001b[0;31m rgb2 = np.array( #TODO: need to reproject the 187-182 to 410\n\u001b[0m\u001b[1;32m     11\u001b[0m       [\n\u001b[1;32m     12\u001b[0m        \u001b[0;31m#fits.getdata(f'{basepath}/images/F466_minus_F410cont_refitted466wcsto410_nrcb.fits'),\u001b[0m\u001b[0;34m\u001b[0m\u001b[0;34m\u001b[0m\u001b[0m\n",
      "\u001b[0;31mAxisError\u001b[0m: axis2: axis 2 is out of bounds for array of dimension 1"
     ]
    }
   ],
   "source": [
    "rgb = np.array(\n",
    "      [\n",
    "       #fits.getdata(f'{basepath}/images/F466_minus_F410cont_refitted466wcsto410_nrcb.fits'),\n",
    "       #fits.getdata(f'{basepath}/images/F405_minus_F410cont_refitted405wcsto410_nrcb.fits'),\n",
    "       fits.getdata(f'{basepath}/images/F466_minus_F410cont_refitted466wcsto410_merged_destarred6.fits'),\n",
    "       fits.getdata(f'{basepath}/images/F405_minus_F410cont_refitted405wcsto410_merged_destarred6.fits'),\n",
    "       #fits.getdata(f'{basepath}/images/F410_minus_F405_nrcb.fits')\n",
    "      ]\n",
    ").swapaxes(0,2).swapaxes(0,1)\n",
    "rgb2 = np.array( #TODO: need to reproject the 187-182 to 410\n",
    "      [\n",
    "       #fits.getdata(f'{basepath}/images/F466_minus_F410cont_refitted466wcsto410_nrcb.fits'),\n",
    "       #fits.getdata(f'{basepath}/images/F405_minus_F410cont_refitted405wcsto410_nrcb.fits'),\n",
    "       fits.getdata(f'{basepath}/images/F466_minus_F410cont_refitted466wcsto410_merged_destarred6.fits'),\n",
    "       fits.getdata(f'{basepath}/images/F405_minus_F410cont_refitted405wcsto410_merged_destarred6.fits'),\n",
    "       fits.getdata(f'{basepath}/images/F187_minus_F182cont_refitted187wcsto182_merged_destarred6.fits'),\n",
    "       #fits.getdata(f'{basepath}/images/F410_minus_F405_nrcb.fits')\n",
    "      ]\n",
    ").swapaxes(0,2).swapaxes(0,1)\n",
    "#for layer in (0,1,2):\n",
    "#    # desaturate stars (though this will whiten the edges!)\n",
    "#    rgb[:,:,layer][np.isnan(rgb[:,:,layer])] = np.nanmax(rgb[:,:,layer])\n",
    "#    rgb[:,:,layer][rgb[:,:,layer] == 0] = np.nanmax(rgb[:,:,layer])"
   ]
  },
  {
   "cell_type": "code",
   "execution_count": null,
   "id": "427b94d3-2606-4d3c-b29a-a82fe517ca51",
   "metadata": {},
   "outputs": [],
   "source": [
    "AVM = pyavm.AVM.from_header(fits.getheader(f'{basepath}/images/F466_minus_F410cont_refitted466wcsto410_merged_destarred6.fits'))\n",
    "# AVM = pyavm.AVM.from_header(fits.getheader(f'{basepath}/F410M/pipeline/jw02221-o001_t001_nircam_clear-f410m-nrcb_i2d.fits', ext=['SCI', 1]))"
   ]
  },
  {
   "cell_type": "code",
   "execution_count": null,
   "id": "10b75371-d54f-4cde-88ce-07b0a51fd2fe",
   "metadata": {},
   "outputs": [],
   "source": [
    "def save_rgb(img, filename, flip=-1):\n",
    "    img = (img*256)\n",
    "    img[img<0] = 0\n",
    "    img[img>255] = 255\n",
    "    img = img.astype('uint8')\n",
    "    img = PIL.Image.fromarray(img[::flip,:,:])\n",
    "    img.save(filename)"
   ]
  },
  {
   "cell_type": "code",
   "execution_count": null,
   "id": "75e45302-2717-4c62-b5bd-a0d5fbfbd390",
   "metadata": {},
   "outputs": [],
   "source": [
    "0.35 * 360"
   ]
  },
  {
   "cell_type": "code",
   "execution_count": null,
   "id": "ffb46a74-881a-44b7-a520-4846fdfe8113",
   "metadata": {},
   "outputs": [],
   "source": [
    "narrowsum = rgb[:,:,0] + rgb[:,:,1]\n",
    "rgb_scaled = np.array([\n",
    "                       simple_norm(rgb[:,:,0], stretch='asinh', min_cut=-1, max_cut=90)(rgb[:,:,0]),\n",
    "                       simple_norm(rgb[:,:,1], stretch='asinh', min_cut=-1, max_cut=120)(rgb[:,:,1]),\n",
    "                       simple_norm(narrowsum,  stretch='asinh', min_cut=-2, max_cut=210)(narrowsum)]).swapaxes(0,2).swapaxes(0,1)\n",
    "hsv = rgb_to_hsv(rgb_scaled)\n",
    "hsv[:,:,0] += -0.35  # 0.25 = 90/360\n",
    "hsv[:,:,0] = hsv[:,:,0] % 1 \n",
    "rgb_scaled = hsv_to_rgb(hsv)\n",
    "pl.figure(figsize=(24,10))\n",
    "pl.imshow(rgb_scaled, origin='lower')\n",
    "pl.xticks([]);\n",
    "pl.yticks([]);\n",
    "\n",
    "outfn = f\"{basepath}/images/BrickJWST_merged_longwave_narrowband_rotated.png\"\n",
    "save_rgb(rgb_scaled.swapaxes(0,1), outfn, flip=1)\n",
    "AVM.embed(outfn, outfn)"
   ]
  },
  {
   "cell_type": "code",
   "execution_count": null,
   "id": "31ac9c15-6322-4274-a76a-c6b3e7d3b59e",
   "metadata": {},
   "outputs": [],
   "source": [
    "rgb_scaled = np.array([\n",
    "                       simple_norm(rgb2[:,:,0], stretch='asinh', min_cut=-1, max_cut=90)(rgb[:,:,0]),\n",
    "                       simple_norm(rgb2[:,:,1], stretch='asinh', min_cut=-1, max_cut=120)(rgb[:,:,1]),\n",
    "                       simple_norm(rgb2[:,:,2],  stretch='asinh', min_cut=-2, max_cut=210)(rgb[:,:,2])]).swapaxes(0,2).swapaxes(0,1)\n",
    "hsv = rgb_to_hsv(rgb_scaled)\n",
    "hsv[:,:,0] += -0.35  # 0.25 = 90/360\n",
    "hsv[:,:,0] = hsv[:,:,0] % 1 \n",
    "rgb_scaled = hsv_to_rgb(hsv)\n",
    "pl.figure(figsize=(24,10))\n",
    "pl.imshow(rgb_scaled, origin='lower')\n",
    "pl.xticks([]);\n",
    "pl.yticks([]);\n",
    "\n",
    "outfn = f\"{basepath}/images/BrickJWST_merged_PaABrA466_narrowband_rotated.png\"\n",
    "save_rgb(rgb_scaled.swapaxes(0,1), outfn, flip=1)\n",
    "AVM.embed(outfn, outfn)"
   ]
  },
  {
   "cell_type": "code",
   "execution_count": null,
   "id": "1cf7eafe-efba-467f-b30d-400c9569ce89",
   "metadata": {},
   "outputs": [],
   "source": [
    "narrowsum = rgb[:,:,0] + rgb[:,:,1]\n",
    "rgb_scaled = np.array([\n",
    "                       simple_norm(rgb[:,:,0], stretch='asinh', min_cut=-2, max_cut=70)(rgb[:,:,0]),\n",
    "                       simple_norm(rgb[:,:,1], stretch='asinh', min_cut=-2, max_cut=100)(rgb[:,:,1]),\n",
    "                       simple_norm(narrowsum,  stretch='asinh', min_cut=-4, max_cut=170)(narrowsum)]).swapaxes(0,2).swapaxes(0,1)\n",
    "hsv = rgb_to_hsv(rgb_scaled)\n",
    "hsv[:,:,0] += -0.35  # 0.25 = 90/360\n",
    "hsv[:,:,0] = hsv[:,:,0] % 1 \n",
    "rgb_scaled = hsv_to_rgb(hsv)\n",
    "pl.figure(figsize=(24,10))\n",
    "pl.imshow(rgb_scaled, origin='lower')\n",
    "pl.xticks([]);\n",
    "pl.yticks([]);\n",
    "\n",
    "outfn = f\"{basepath}/images/BrickJWST_merged_longwave_narrowband_rotated_lighter.png\"\n",
    "save_rgb(rgb_scaled.swapaxes(0,1), outfn, flip=1)\n",
    "AVM.embed(outfn, outfn)"
   ]
  },
  {
   "cell_type": "code",
   "execution_count": null,
   "id": "0660e8e6-32a7-4a9f-81bd-34f1ceda8478",
   "metadata": {},
   "outputs": [],
   "source": [
    "PIL.Image.open(outfn)"
   ]
  },
  {
   "cell_type": "code",
   "execution_count": null,
   "id": "bc86ebc6-210d-4c19-a2de-2f0cd75c9364",
   "metadata": {},
   "outputs": [],
   "source": [
    "target_wcs, target_shape = find_optimal_celestial_wcs(files_405)\n",
    "target_wcs.to_header()"
   ]
  },
  {
   "cell_type": "code",
   "execution_count": null,
   "id": "e6542482-84a2-457b-b6e3-0ae8ecbf49d4",
   "metadata": {},
   "outputs": [],
   "source": [
    "target_wcs, target_shape = find_optimal_celestial_wcs(files_405)\n",
    "flip_wcs = target_wcs.copy()\n",
    "flip_wcs.wcs.crval = flip_wcs.wcs.crval[::-1]\n",
    "flip_wcs.wcs.ctype = flip_wcs.wcs.ctype[1], flip_wcs.wcs.ctype[0]\n",
    "flip_wcs.wcs.crpix = flip_wcs.wcs.crpix[::-1]\n",
    "flip_wcs.wcs.cdelt = flip_wcs.wcs.cdelt[::-1]\n",
    "flip_wcs.wcs.cdelt = np.abs(flip_wcs.wcs.cdelt)\n",
    "flip_wcs.wcs.latpole = target_wcs.wcs.lonpole\n",
    "flip_wcs.wcs.lonpole = target_wcs.wcs.latpole"
   ]
  },
  {
   "cell_type": "code",
   "execution_count": null,
   "id": "bec380d5-1b90-4a88-8c4f-ce407590f19c",
   "metadata": {},
   "outputs": [],
   "source": [
    "import regions\n",
    "from astropy.coordinates import SkyCoord\n",
    "from astropy import units as u"
   ]
  },
  {
   "cell_type": "code",
   "execution_count": null,
   "id": "81d80a08-f5a4-49b9-988e-738da228acb0",
   "metadata": {},
   "outputs": [],
   "source": [
    "def hide_ticks(ax):\n",
    "    ra = ax.coords['ra']\n",
    "    dec = ax.coords['dec']\n",
    "    ax.set_xticklabels([])\n",
    "    ax.set_yticklabels([])\n",
    "    ax.xaxis.set_visible(False)\n",
    "    ax.yaxis.set_visible(False)\n",
    "    ra.set_ticks_visible(False)\n",
    "    dec.set_ticks_visible(False)\n",
    "    ra.set_axislabel('')\n",
    "    dec.set_axislabel('')\n",
    "    ra.ticklabels.set_visible(False)\n",
    "    dec.ticklabels.set_visible(False)"
   ]
  },
  {
   "cell_type": "code",
   "execution_count": null,
   "id": "893aae96-fcb7-4724-bcf3-bc380b534688",
   "metadata": {},
   "outputs": [],
   "source": [
    "narrowsum = rgb[:,:,0] + rgb[:,:,1]\n",
    "rgb_scaled = np.array([\n",
    "                       simple_norm(rgb[:,:,0], stretch='asinh', min_cut=-2, max_cut=70)(rgb[:,:,0]),\n",
    "                       simple_norm(rgb[:,:,1], stretch='asinh', min_cut=-2, max_cut=100)(rgb[:,:,1]),\n",
    "                       simple_norm(narrowsum,  stretch='asinh', min_cut=-4, max_cut=170)(narrowsum)]).swapaxes(0,2).swapaxes(0,1)\n",
    "hsv = rgb_to_hsv(rgb_scaled)\n",
    "hsv[:,:,0] += -0.35  # 0.25 = 90/360\n",
    "hsv[:,:,0] = hsv[:,:,0] % 1 \n",
    "rgb_scaled = hsv_to_rgb(hsv)\n",
    "\n",
    "\n",
    "reg = regions.CircleSkyRegion(SkyCoord('17:46:10.63 -28:42:17.8', unit=(u.h, u.deg), frame='icrs'), 30*u.arcsec)\n",
    "preg = reg.to_pixel(flip_wcs)\n",
    "pl.figure(figsize=(24,10), dpi=300)\n",
    "ax = pl.subplot(projection=target_wcs)\n",
    "ax.imshow(rgb_scaled.swapaxes(0,1)[::-1,:], )\n",
    "preg.plot(ax=ax, edgecolor='w')\n",
    "hide_ticks(ax)\n",
    "pl.savefig(f\"{basepath}/images/BrickJWST_merged_longwave_narrowband_rotated_lighter_withBrickLineSurveyPointing.png\",\n",
    "           bbox_inches='tight', dpi=300)"
   ]
  },
  {
   "cell_type": "code",
   "execution_count": null,
   "id": "7dc95379-e643-47d0-aa35-7a87d5a48a41",
   "metadata": {},
   "outputs": [],
   "source": []
  },
  {
   "cell_type": "code",
   "execution_count": null,
   "id": "b16def65-59f1-4197-b465-1b6a97a60832",
   "metadata": {},
   "outputs": [],
   "source": []
  },
  {
   "cell_type": "code",
   "execution_count": null,
   "id": "65720612-8e54-4680-a061-32f5467aa468",
   "metadata": {},
   "outputs": [],
   "source": []
  }
 ],
 "metadata": {
  "kernelspec": {
   "display_name": "python39",
   "language": "python",
   "name": "python39"
  },
  "language_info": {
   "codemirror_mode": {
    "name": "ipython",
    "version": 3
   },
   "file_extension": ".py",
   "mimetype": "text/x-python",
   "name": "python",
   "nbconvert_exporter": "python",
   "pygments_lexer": "ipython3",
   "version": "3.9.13"
  }
 },
 "nbformat": 4,
 "nbformat_minor": 5
}
