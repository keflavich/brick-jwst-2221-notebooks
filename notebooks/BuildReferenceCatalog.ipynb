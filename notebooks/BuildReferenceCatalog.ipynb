{
 "cells": [
  {
   "cell_type": "markdown",
   "id": "76af832c-153d-4b9a-b7d0-dfa50418dff3",
   "metadata": {},
   "source": [
    "# Build A Reference Catalog\n",
    "\n",
    "(just use VVVGaiaAstrometry)\n"
   ]
  },
  {
   "cell_type": "code",
   "execution_count": null,
   "id": "9ab357c4-6b9d-44c3-917c-cca6e3120566",
   "metadata": {},
   "outputs": [],
   "source": [
    "The VVV alignment"
   ]
  }
 ],
 "metadata": {
  "kernelspec": {
   "display_name": "python39",
   "language": "python",
   "name": "python39"
  },
  "language_info": {
   "codemirror_mode": {
    "name": "ipython",
    "version": 3
   },
   "file_extension": ".py",
   "mimetype": "text/x-python",
   "name": "python",
   "nbconvert_exporter": "python",
   "pygments_lexer": "ipython3",
   "version": "3.9.13"
  }
 },
 "nbformat": 4,
 "nbformat_minor": 5
}
