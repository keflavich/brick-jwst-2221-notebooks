{
 "cells": [
  {
   "cell_type": "markdown",
   "id": "76af832c-153d-4b9a-b7d0-dfa50418dff3",
   "metadata": {},
   "source": [
    "# Build A Reference Catalog\n",
    "\n",
    "This is just a simple call to make_reftable"
   ]
  },
  {
   "cell_type": "code",
   "execution_count": 1,
   "id": "aee00ace-7389-4aea-a652-efe8dbfa0517",
   "metadata": {},
   "outputs": [
    {
     "name": "stdout",
     "output_type": "stream",
     "text": [
      "QFs are good for 66556 out of 530916 catalog entries\n",
      "Rejecting 1278 replaced-saturated sources.\n",
      "Rejecting 434 near-saturated sources.\n",
      "Making the reference catalog from 64844 out of 530916 catalog entries\n"
     ]
    },
    {
     "name": "stderr",
     "output_type": "stream",
     "text": [
      "WARNING: VerifyWarning: Keyword name 'PARENT_VERSION' is greater than 8 characters or contains characters not allowed by the FITS standard; a HIERARCH card will be created. [astropy.io.fits.card]\n"
     ]
    }
   ],
   "source": [
    "%run ../analysis/make_reftable.py"
   ]
  },
  {
   "cell_type": "code",
   "execution_count": null,
   "id": "de03a0c1-196a-435b-99df-3a530efc5d19",
   "metadata": {},
   "outputs": [],
   "source": []
  }
 ],
 "metadata": {
  "kernelspec": {
   "display_name": "python39",
   "language": "python",
   "name": "python39"
  },
  "language_info": {
   "codemirror_mode": {
    "name": "ipython",
    "version": 3
   },
   "file_extension": ".py",
   "mimetype": "text/x-python",
   "name": "python",
   "nbconvert_exporter": "python",
   "pygments_lexer": "ipython3",
   "version": "3.9.13"
  }
 },
 "nbformat": 4,
 "nbformat_minor": 5
}
