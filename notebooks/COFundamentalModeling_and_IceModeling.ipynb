{
 "cells": [
  {
   "cell_type": "markdown",
   "id": "463810fe-7732-4c50-8d64-a44cefbd1e0c",
   "metadata": {},
   "source": [
    "# Modeling work on the CO v=0-1 absorption band"
   ]
  },
  {
   "cell_type": "code",
   "execution_count": null,
   "id": "5b93276b-20c7-4739-804a-ad0b916b687f",
   "metadata": {},
   "outputs": [],
   "source": []
  },
  {
   "cell_type": "code",
   "execution_count": 1,
   "id": "ca6ce8fe-53fe-4bcf-983b-b0be4f11e583",
   "metadata": {},
   "outputs": [],
   "source": [
    "basepath = '/orange/adamginsburg/jwst/brick'"
   ]
  },
  {
   "cell_type": "code",
   "execution_count": 2,
   "id": "ae797517-2ebd-4336-8f71-b74b0c730d47",
   "metadata": {},
   "outputs": [
    {
     "name": "stdout",
     "output_type": "stream",
     "text": [
      "Could not find atran.txt.  atran atmospheric transition model will not be available\n"
     ]
    }
   ],
   "source": [
    "import numpy as np\n",
    "import pyspeckitmodels"
   ]
  },
  {
   "cell_type": "code",
   "execution_count": 3,
   "id": "e6071a2e-6186-47a8-a265-04efbfa1ecfb",
   "metadata": {},
   "outputs": [],
   "source": [
    "from astropy import units as u"
   ]
  },
  {
   "cell_type": "code",
   "execution_count": 4,
   "id": "7dd575cc-850b-4256-9ead-55b17db7b3b2",
   "metadata": {},
   "outputs": [],
   "source": [
    "from tqdm.notebook import tqdm"
   ]
  },
  {
   "cell_type": "code",
   "execution_count": 5,
   "id": "eafbaa4d-b5fc-4f1a-9af3-59659ca8bd1b",
   "metadata": {},
   "outputs": [],
   "source": [
    "from astroquery.svo_fps import SvoFps"
   ]
  },
  {
   "cell_type": "code",
   "execution_count": 6,
   "id": "1524fa80-7cc8-4f24-a009-ddbab338c7cc",
   "metadata": {},
   "outputs": [],
   "source": [
    "%matplotlib inline\n",
    "import matplotlib.pyplot as pl\n",
    "pl.rcParams['figure.figsize'] = (10,8)\n",
    "pl.rcParams['font.size'] = 16"
   ]
  },
  {
   "cell_type": "code",
   "execution_count": 7,
   "id": "269c536c-6dc6-44f6-9798-d0c84ae6e24c",
   "metadata": {},
   "outputs": [],
   "source": [
    "instrument = 'NIRCam'\n",
    "telescope = 'JWST'\n",
    "filt466 = 'F466N'\n",
    "filt470 = 'F470N'\n",
    "wavelength_table_466 = SvoFps.get_transmission_data(f'{telescope}/{instrument}.{filt466}')\n",
    "wavelength_table_470 = SvoFps.get_transmission_data(f'{telescope}/{instrument}.{filt470}')\n",
    "wavelength_table_410 = SvoFps.get_transmission_data(f'{telescope}/{instrument}.F410M')\n",
    "wavelength_table_405 = SvoFps.get_transmission_data(f'{telescope}/{instrument}.F405N')"
   ]
  },
  {
   "cell_type": "code",
   "execution_count": 8,
   "id": "2c357b80-11f2-483e-84fb-c72e038b06fd",
   "metadata": {},
   "outputs": [
    {
     "data": {
      "text/html": [
       "<div><i>Table length=5</i>\n",
       "<table id=\"table47114588318496\" class=\"table-striped table-bordered table-condensed\">\n",
       "<thead><tr><th>Wavelength</th><th>Transmission</th></tr></thead>\n",
       "<thead><tr><th>AA</th><th></th></tr></thead>\n",
       "<thead><tr><th>float64</th><th>float64</th></tr></thead>\n",
       "<tr><td>45658.1</td><td>0.000107229</td></tr>\n",
       "<tr><td>45671.6</td><td>0.00014</td></tr>\n",
       "<tr><td>45685.1</td><td>0.000181014</td></tr>\n",
       "<tr><td>45698.6</td><td>0.000231183</td></tr>\n",
       "<tr><td>45712.2</td><td>0.000291353</td></tr>\n",
       "</table></div>"
      ],
      "text/plain": [
       "<Table length=5>\n",
       "Wavelength Transmission\n",
       "    AA                 \n",
       " float64     float64   \n",
       "---------- ------------\n",
       "   45658.1  0.000107229\n",
       "   45671.6      0.00014\n",
       "   45685.1  0.000181014\n",
       "   45698.6  0.000231183\n",
       "   45712.2  0.000291353"
      ]
     },
     "execution_count": 8,
     "metadata": {},
     "output_type": "execute_result"
    }
   ],
   "source": [
    "wavelength_table_466[:5]"
   ]
  },
  {
   "cell_type": "code",
   "execution_count": 9,
   "id": "33c40a73-b877-4328-a29e-04f7ca87f95c",
   "metadata": {},
   "outputs": [
    {
     "ename": "TypeError",
     "evalue": "get_filter_list() takes 2 positional arguments but 3 were given",
     "output_type": "error",
     "traceback": [
      "\u001b[0;31m---------------------------------------------------------------------------\u001b[0m",
      "\u001b[0;31mTypeError\u001b[0m                                 Traceback (most recent call last)",
      "\u001b[0;32m/scratch/local/62267443/ipykernel_99480/996354980.py\u001b[0m in \u001b[0;36m<module>\u001b[0;34m\u001b[0m\n\u001b[0;32m----> 1\u001b[0;31m \u001b[0mfilterlist\u001b[0m \u001b[0;34m=\u001b[0m \u001b[0mSvoFps\u001b[0m\u001b[0;34m.\u001b[0m\u001b[0mget_filter_list\u001b[0m\u001b[0;34m(\u001b[0m\u001b[0;34m'JWST'\u001b[0m\u001b[0;34m,\u001b[0m \u001b[0;34m'NIRCam'\u001b[0m\u001b[0;34m)\u001b[0m\u001b[0;34m\u001b[0m\u001b[0;34m\u001b[0m\u001b[0m\n\u001b[0m\u001b[1;32m      2\u001b[0m \u001b[0mfilterlist\u001b[0m\u001b[0;34m.\u001b[0m\u001b[0madd_index\u001b[0m\u001b[0;34m(\u001b[0m\u001b[0;34m'filterID'\u001b[0m\u001b[0;34m)\u001b[0m\u001b[0;34m\u001b[0m\u001b[0;34m\u001b[0m\u001b[0m\n",
      "\u001b[0;31mTypeError\u001b[0m: get_filter_list() takes 2 positional arguments but 3 were given"
     ]
    }
   ],
   "source": [
    "filterlist = SvoFps.get_filter_list('JWST', 'NIRCam')\n",
    "filterlist.add_index('filterID')"
   ]
  },
  {
   "cell_type": "code",
   "execution_count": null,
   "id": "4cea97b1-3579-4ed5-b9aa-567fbce7e83d",
   "metadata": {},
   "outputs": [],
   "source": [
    "filterlist.loc['JWST/NIRCam.F466N']"
   ]
  },
  {
   "cell_type": "code",
   "execution_count": null,
   "id": "b905cba7-9b93-48f7-85e8-7c8873dfb045",
   "metadata": {},
   "outputs": [],
   "source": [
    "import imp\n",
    "from pyspeckitmodels.sio import exomol_sio_vibration \n",
    "imp.reload(exomol_sio_vibration); from pyspeckitmodels.sio.exomol_sio_vibration import exomol_xsec, transitions, levels, tau_of_N, test, test2"
   ]
  },
  {
   "cell_type": "code",
   "execution_count": null,
   "id": "5511ffef-68e5-4bd8-beae-2dcd66d11209",
   "metadata": {},
   "outputs": [],
   "source": [
    "import imp\n",
    "from pyspeckitmodels.co import exomol_co_vibration \n",
    "imp.reload(exomol_co_vibration); from pyspeckitmodels.co.exomol_co_vibration import exomol_xsec, transitions, levels, tau_of_N, test, test2"
   ]
  },
  {
   "cell_type": "code",
   "execution_count": null,
   "id": "bd232476-24d7-45e5-865f-e1ce7589c8c7",
   "metadata": {},
   "outputs": [],
   "source": [
    "# this takes a while to load the first time especially\n",
    "from pyspeckitmodels.sio.exomol_sio_vibration import exomol_xsec as SiO_exomol_xsec\n",
    "from pyspeckitmodels.co.exomol_co_vibration import exomol_xsec as CO_exomol_xsec, tau_of_N as CO_tau_of_N\n",
    "from astropy import constants"
   ]
  },
  {
   "cell_type": "code",
   "execution_count": null,
   "id": "5ef48f34-2e04-4e8e-9ccf-360830c6322e",
   "metadata": {},
   "outputs": [],
   "source": [
    "fig = pl.figure()\n",
    "\n",
    "xarr = wavelength_table_466['Wavelength'].quantity.to(u.um)\n",
    "xarr = np.linspace(xarr.min(), xarr.max(), int(5e4))\n",
    "\n",
    "T = 100\n",
    "width = ((constants.k_B * T*u.K / (28*u.Da))**0.5).to(u.km/u.s)\n",
    "column = 1e18\n",
    "L, = pl.plot(xarr,\n",
    "             pyspeckitmodels.co_vibration.tau_of_N(xarr.to(u.cm).value, column, T, width=width.value),\n",
    "             label=f\"T={T} K, $\\sigma$={width:0.2f}\")\n",
    "\n",
    "# sanity check based on exomol\n",
    "exomol_sigmas = CO_exomol_xsec(\n",
    "                            np.round(xarr.max().to(u.cm**-1, u.spectral()).value),\n",
    "                            np.round(xarr.min().to(u.cm**-1, u.spectral()).value),\n",
    "                            dnu=0.01,\n",
    "                            temperature=T)\n",
    "wl_exo = (np.arange(np.round(xarr.max().to(u.cm**-1, u.spectral()).value),\n",
    "                    np.round(xarr.min().to(u.cm**-1, u.spectral()).value)+0.005,\n",
    "                    0.01)*u.cm**-1).to(u.um, u.spectral())\n",
    "pl.plot(wl_exo, exomol_sigmas * column*u.cm**-2, label='ExoMol')\n",
    "    \n",
    "pl.legend(loc='best')\n",
    "pl.xlabel(f\"Wavelength [$\\mu$m]\")\n",
    "pl.ylabel(\"$\\\\tau(N(\\\\mathrm{CO})=10^{18})~\\mathrm{cm^{-2}}$\")\n",
    "pl.title(\"Failed sanity check: the opacities from exomol seem to be ~3 orders of magnitude lower\")"
   ]
  },
  {
   "cell_type": "code",
   "execution_count": null,
   "id": "edf7cfc3-a853-4042-93e3-1ed099f35f3c",
   "metadata": {},
   "outputs": [],
   "source": [
    "fig = pl.figure()\n",
    "assert np.all(fig.get_size_inches() == (10,8))\n",
    "\n",
    "xarr = wavelength_table_466['Wavelength'].quantity.to(u.um)\n",
    "xarr = np.linspace(xarr.min(), xarr.max(), int(1e4))\n",
    "\n",
    "for T in [50, ]:\n",
    "    L, = pl.plot(xarr,\n",
    "                    pyspeckitmodels.co_vibration.tau_of_N(xarr.to(u.cm).value, 1e18, T, width=20), label=\"T={0} K, $\\sigma$=20 km/s\".format(T))\n",
    "xarr = wavelength_table_466['Wavelength'].quantity.to(u.um)\n",
    "pl.plot(xarr, wavelength_table_466['Transmission']/wavelength_table_466['Transmission'].max() * pl.ylim()[1],\n",
    "        color='k')\n",
    "pl.legend(loc='best')\n",
    "pl.xlabel(f\"Wavelength [$\\mu$m]\")\n",
    "pl.ylabel(\"$\\\\tau(N(\\\\mathrm{CO})=10^{18})~\\mathrm{cm^{-2}}$\")\n",
    "fig.savefig(f'{basepath}/paper_figures/CO_F466N_opticaldepth_example_1e18_tau.pdf', bbox_inches='tight')"
   ]
  },
  {
   "cell_type": "code",
   "execution_count": null,
   "id": "53d94ffe-2464-44c7-8aef-0e8a390aebb6",
   "metadata": {},
   "outputs": [],
   "source": [
    "fig = pl.figure()\n",
    "assert np.all(fig.get_size_inches() == (10,8))\n",
    "\n",
    "xarr = wavelength_table_466['Wavelength'].quantity.to(u.um)\n",
    "xarr = np.linspace(xarr.min(), xarr.max(), int(1e4))\n",
    "\n",
    "for T in [50, ]:\n",
    "    L, = pl.plot(xarr,\n",
    "                 CO_tau_of_N(xarr, 1e18*u.cm**-2, T*u.K, width=20*u.km/u.s),\n",
    "                 label=\"T={0} K, $\\sigma$=20 km/s\".format(T))\n",
    "xarr = wavelength_table_466['Wavelength'].quantity.to(u.um)\n",
    "pl.plot(xarr, wavelength_table_466['Transmission']/wavelength_table_466['Transmission'].max() * pl.ylim()[1],\n",
    "        color='k')\n",
    "pl.legend(loc='best')\n",
    "pl.xlabel(f\"Wavelength [$\\mu$m]\")\n",
    "pl.ylabel(\"$\\\\tau(N(\\\\mathrm{CO})=10^{18})~\\mathrm{cm^{-2}}$\")\n",
    "fig.savefig(f'{basepath}/paper_figures/CO_F466N_opticaldepth_example_1e18_tau_exomol.pdf', bbox_inches='tight')"
   ]
  },
  {
   "cell_type": "code",
   "execution_count": null,
   "id": "a3986ce5-6113-44ae-9407-808c10dcb94e",
   "metadata": {},
   "outputs": [],
   "source": [
    "x = 1*u.dimensionless_unscaled\n",
    "x.unit.is_equivalent(u.dimensionless_unscaled)"
   ]
  },
  {
   "cell_type": "code",
   "execution_count": null,
   "id": "6527db6c-0e20-467b-bedf-3df0a9674e30",
   "metadata": {},
   "outputs": [],
   "source": [
    "xarr = wavelength_table_466['Wavelength'].quantity.to(u.um)\n",
    "xarr = np.linspace(xarr.min(), xarr.max(), int(1e4))\n",
    "\n",
    "for T in [50, ]:\n",
    "    L, = pl.plot(xarr,\n",
    "                 CO_tau_of_N(xarr.to(u.cm), 1e18*u.cm**-2, T*u.K, width=20*u.km/u.s), label=\"T={0} K, $\\sigma$=20 km/s\".format(T))\n",
    "xarr = wavelength_table_466['Wavelength'].quantity.to(u.um)\n",
    "pl.plot(xarr, wavelength_table_466['Transmission']/wavelength_table_466['Transmission'].max() * pl.ylim()[1],\n",
    "        color='k')\n",
    "pl.legend(loc='best')\n",
    "pl.xlabel(f\"Wavelength [$\\mu$m]\")\n",
    "pl.ylabel(\"$\\\\tau(N(\\\\mathrm{CO})=10^{18})~\\mathrm{cm^{-2}}$\");"
   ]
  },
  {
   "cell_type": "code",
   "execution_count": null,
   "id": "b1fc4d77-f9a3-472d-8bf5-ad8d56f49436",
   "metadata": {},
   "outputs": [],
   "source": [
    "xarr = wavelength_table_466['Wavelength'].quantity.to(u.um)\n",
    "xarr = np.linspace(xarr.min(), xarr.max(), int(1e4))\n",
    "\n",
    "for T in [50, ]:\n",
    "    tau = CO_tau_of_N(xarr.to(u.cm), 1e17*u.cm**-2, T*u.K, width=20*u.km/u.s)\n",
    "    L, = pl.plot(xarr,\n",
    "                    (1-np.exp(-tau)), label=\"T={0} K, $\\sigma$=20 km/s\".format(T))\n",
    "xarr = wavelength_table_466['Wavelength'].quantity.to(u.um)\n",
    "pl.plot(xarr, wavelength_table_466['Transmission']/wavelength_table_466['Transmission'].max() * pl.ylim()[1],\n",
    "        color='k')\n",
    "pl.legend(loc='best')\n",
    "pl.xlabel(f\"Wavelength [$\\mu$m]\")\n",
    "pl.ylabel(\"$1-\\\\exp\\\\left[-\\\\tau(N_\\\\mathrm{CO}=10^{17}~\\mathrm{cm^{-2}})\\\\right]$\")\n",
    "pl.savefig(f'{basepath}/paper_figures/CO_F466N_absorptionspectrum_example_1e17_exptau.pdf', bbox_inches='tight');"
   ]
  },
  {
   "cell_type": "code",
   "execution_count": null,
   "id": "35e2e8fe-d34f-4b56-ac4f-1f27937ab65c",
   "metadata": {},
   "outputs": [],
   "source": [
    "xarr = wavelength_table_466['Wavelength'].quantity.to(u.um)\n",
    "xarr = np.linspace(xarr.min(), xarr.max(), int(1e4))\n",
    "\n",
    "for T in [50, ]:\n",
    "    tau = pyspeckitmodels.co.exomol_co_vibration.tau_of_N(xarr.to(u.cm).value, 1e16, T, width=20)\n",
    "    L, = pl.plot(xarr,\n",
    "                    (1-np.exp(-tau)), label=\"T={0} K, $\\sigma$=20 km/s\".format(T))\n",
    "    \n",
    "pl.ylim(0,1)\n",
    "xarr = wavelength_table_466['Wavelength'].quantity.to(u.um)\n",
    "pl.plot(xarr, wavelength_table_466['Transmission']/wavelength_table_466['Transmission'].max() * pl.ylim()[1],\n",
    "        color='k')\n",
    "pl.legend(loc='best')\n",
    "pl.xlabel(f\"Wavelength [$\\mu$m]\")\n",
    "pl.ylabel(\"$1-\\\\exp\\\\left[-\\\\tau(N_\\\\mathrm{CO}=10^{16}~\\mathrm{cm^{-2}})\\\\right]$\")\n",
    "pl.savefig(f'{basepath}/paper_figures/CO_F466N_absorptionspectrum_example_1e16_exptau.pdf', bbox_inches='tight');"
   ]
  },
  {
   "cell_type": "code",
   "execution_count": null,
   "id": "4656a5af-f7aa-43d4-907f-8f6df7d10dba",
   "metadata": {},
   "outputs": [],
   "source": [
    "xarr = wavelength_table_466['Wavelength'].quantity.to(u.um)\n",
    "xarr = np.linspace(xarr.min(), xarr.max(), int(1e4))\n",
    "\n",
    "for T in [50, ]:\n",
    "    tau = pyspeckitmodels.co.exomol_co_vibration.tau_of_N(xarr.to(u.cm).value, 1e18, T, width=20)\n",
    "    L, = pl.plot(xarr,\n",
    "                    (1-np.exp(-tau)), label=\"T={0} K, $\\sigma$=20 km/s\".format(T))\n",
    "\n",
    "xarr = wavelength_table_466['Wavelength'].quantity.to(u.um)\n",
    "pl.plot(xarr, wavelength_table_466['Transmission']/wavelength_table_466['Transmission'].max() * pl.ylim()[1],\n",
    "        color='k')\n",
    "pl.legend(loc='best')\n",
    "pl.xlabel(f\"Wavelength [$\\mu$m]\")\n",
    "pl.ylabel(\"$1-\\\\exp\\\\left[-\\\\tau(N_\\\\mathrm{CO}=10^{18}~\\mathrm{cm^{-2}})\\\\right]$\")\n",
    "pl.savefig(f'{basepath}/paper_figures/CO_F466N_absorptionspectrum_example_1e18_exptau.pdf', bbox_inches='tight');"
   ]
  },
  {
   "cell_type": "code",
   "execution_count": null,
   "id": "ca83b49e-b82d-4a25-a6c8-cfb9521c1b3d",
   "metadata": {},
   "outputs": [],
   "source": [
    "xarr = wavelength_table_466['Wavelength'].quantity.to(u.um)\n",
    "xarr = np.linspace(xarr.min(), xarr.max(), int(1e4))\n",
    "\n",
    "for T in [150, ]:\n",
    "    tau = pyspeckitmodels.co.exomol_co_vibration.tau_of_N(xarr.to(u.cm).value, 1e18, T, width=20)\n",
    "    L, = pl.plot(xarr,\n",
    "                    (1-np.exp(-tau)), label=\"T={0} K, $\\sigma$=20 km/s\".format(T))\n",
    "\n",
    "xarr = wavelength_table_466['Wavelength'].quantity.to(u.um)\n",
    "pl.plot(xarr, wavelength_table_466['Transmission']/wavelength_table_466['Transmission'].max() * pl.ylim()[1],\n",
    "        color='k')\n",
    "pl.legend(loc='best')\n",
    "pl.xlabel(f\"Wavelength [$\\mu$m]\")\n",
    "pl.ylabel(\"$1-\\\\exp\\\\left[-\\\\tau(N_\\\\mathrm{CO}=10^{18}~\\mathrm{cm^{-2}})\\\\right]$\")\n",
    "pl.savefig(f'{basepath}/paper_figures/CO_F466N_absorptionspectrum_example_1e18_t150_exptau.pdf', bbox_inches='tight');"
   ]
  },
  {
   "cell_type": "code",
   "execution_count": null,
   "id": "3f61201b-4a9e-42ba-8845-7023495ea8c4",
   "metadata": {},
   "outputs": [],
   "source": [
    "xarr = wavelength_table_466['Wavelength'].quantity.to(u.um)\n",
    "xarr = np.linspace(xarr.min(), xarr.max(), int(1e4))\n",
    "\n",
    "for T in [100, ]:\n",
    "    tau = pyspeckitmodels.co.exomol_co_vibration.tau_of_N(xarr.to(u.cm).value, 1e18, T, width=20)\n",
    "    L, = pl.plot(xarr,\n",
    "                    (1-np.exp(-tau)), label=\"T={0} K, $\\sigma$=20 km/s\".format(T))\n",
    "\n",
    "xarr = wavelength_table_466['Wavelength'].quantity.to(u.um)\n",
    "pl.plot(xarr, wavelength_table_466['Transmission']/wavelength_table_466['Transmission'].max() * pl.ylim()[1],\n",
    "        color='k')\n",
    "pl.legend(loc='best')\n",
    "pl.xlabel(f\"Wavelength [$\\mu$m]\")\n",
    "pl.ylabel(\"$1-\\\\exp\\\\left[-\\\\tau(N_\\\\mathrm{CO}=10^{18}~\\mathrm{cm^{-2}})\\\\right]$\")\n",
    "pl.savefig(f'{basepath}/paper_figures/CO_F466N_absorptionspectrum_example_1e18_t100_exptau.pdf', bbox_inches='tight');"
   ]
  },
  {
   "cell_type": "code",
   "execution_count": null,
   "id": "fdcb4f12-aa2f-417d-baf6-3b37cfe2c4b6",
   "metadata": {},
   "outputs": [],
   "source": [
    "xarr = wavelength_table_466['Wavelength'].quantity.to(u.um)\n",
    "xarr = np.linspace(xarr.min(), xarr.max(), int(1e4))\n",
    "\n",
    "for T in [20, ]:\n",
    "    tau = pyspeckitmodels.co_vibration.tau_of_N(xarr.to(u.cm).value, 1e17, T, width=2)\n",
    "    L, = pl.plot(xarr,\n",
    "                    (1-np.exp(-tau)), label=\"T={0} K, $\\sigma$=2 km/s\".format(T))\n",
    "xarr = wavelength_table_466['Wavelength'].quantity.to(u.um)\n",
    "pl.plot(xarr, wavelength_table_466['Transmission']/wavelength_table_466['Transmission'].max() * pl.ylim()[1],\n",
    "        color='k')\n",
    "pl.legend(loc='best')\n",
    "pl.xlabel(f\"Wavelength [$\\mu$m]\")\n",
    "pl.ylabel(\"$1-\\\\exp\\\\left[-\\\\tau(N_{\\\\mathrm{CO}}=10^{17}\\\\mathrm{~cm}^{-2})\\\\right]$\")\n",
    "pl.savefig(f'{basepath}/paper_figures/CO_F466N_absorptionspectrum_example_DiskClouds.pdf', bbox_inches='tight')"
   ]
  },
  {
   "cell_type": "code",
   "execution_count": null,
   "id": "e2efc705-902d-4715-af32-9a496b52ebf6",
   "metadata": {},
   "outputs": [],
   "source": [
    "xarr = wavelength_table_466['Wavelength'].quantity.to(u.um)\n",
    "xarr = np.linspace(xarr.min(), xarr.max(), int(1e4))\n",
    "\n",
    "for T in [20, ]:\n",
    "    tau = pyspeckitmodels.co.exomol_co_vibration.tau_of_N(xarr.to(u.cm).value, 1e16, T, width=2)\n",
    "    L, = pl.plot(xarr,\n",
    "                    (1-np.exp(-tau)), label=\"T={0} K, $\\sigma$=2 km/s\".format(T))\n",
    "xarr = wavelength_table_466['Wavelength'].quantity.to(u.um)\n",
    "pl.plot(xarr, wavelength_table_466['Transmission']/wavelength_table_466['Transmission'].max() * pl.ylim()[1],\n",
    "        color='k')\n",
    "pl.legend(loc='best')\n",
    "pl.xlabel(f\"Wavelength [$\\mu$m]\")\n",
    "pl.ylabel(\"$1-\\\\exp\\\\left[-\\\\tau(N_{\\\\mathrm{CO}}=10^{16}\\\\mathrm{~cm}^{-2})\\\\right]$\")\n",
    "pl.savefig(f'{basepath}/paper_figures/CO_F466N_absorptionspectrum_example_DiskClouds_thin.pdf', bbox_inches='tight')"
   ]
  },
  {
   "cell_type": "code",
   "execution_count": null,
   "id": "522aae75-433b-4645-b5fa-de833771e28e",
   "metadata": {},
   "outputs": [],
   "source": [
    "xarr = wavelength_table_466['Wavelength'].quantity.to(u.um)\n",
    "xarr = np.linspace(xarr.min(), xarr.max(), int(1e4))\n",
    "trans = np.interp(xarr, wavelength_table_466['Wavelength'], wavelength_table_466['Transmission'])\n",
    "transmission_sum = (trans).sum()\n",
    "def fractional_absorption(temperature, column, linewidth):\n",
    "    tau = pyspeckitmodels.co.exomol_co_vibration.tau_of_N(xarr.to(u.cm).value,\n",
    "                                                column.to(u.cm**-2).value,\n",
    "                                                temperature.to(u.K).value,\n",
    "                                                width=linewidth.to(u.km/u.s).value,\n",
    "                                                          progressbar=lambda x: x,\n",
    "                                                         )\n",
    "    absorbed_fraction = ((1-np.exp(-tau)) * trans).sum() / transmission_sum\n",
    "    return absorbed_fraction"
   ]
  },
  {
   "cell_type": "code",
   "execution_count": null,
   "id": "8744769d-7d79-488b-8ffc-ed12335da284",
   "metadata": {},
   "outputs": [],
   "source": [
    "temperatures = np.linspace(5, 30, 50)*u.K\n",
    "column = 1e18*u.cm**-2\n",
    "sig = 20*u.km/u.s\n",
    "for sig in np.linspace(1, 100, 10)*u.km/u.s:\n",
    "    grid1d = [fractional_absorption(T, column, sig) for T in temperatures]\n",
    "    tmax = temperatures[np.argmax(grid1d)]\n",
    "    pl.plot(temperatures, grid1d, label=f'$\\\\sigma={sig:0.1f}$; $T_{{max}} = {tmax:0.1f}$')\n",
    "    print(f'$\\\\sigma={sig:0.1f}$; $T_{{max}} = {tmax:0.1f}')\n",
    "pl.legend(loc='best')\n",
    "pl.xlabel(\"Temperature [K]\")\n",
    "pl.ylabel(\"Fractional Absorption\")"
   ]
  },
  {
   "cell_type": "code",
   "execution_count": null,
   "id": "39f7ae92-94ea-4a1f-b49f-9fe2d9ea30d1",
   "metadata": {},
   "outputs": [],
   "source": [
    "temperatures = np.linspace(5, 150, 50)*u.K\n",
    "linewidths = np.linspace(1, 100, 24)*u.km/u.s\n",
    "column = 1e18*u.cm**-2\n",
    "grid = [[fractional_absorption(T, column, sig) for T in temperatures]\n",
    "        for sig in tqdm(linewidths)]"
   ]
  },
  {
   "cell_type": "code",
   "execution_count": null,
   "id": "a3cdcb33-cf8d-45f9-a5c1-31d192a0ba84",
   "metadata": {},
   "outputs": [],
   "source": [
    "ax = pl.gca()\n",
    "im = ax.imshow(grid, extent=[temperatures.min().value, temperatures.max().value,\n",
    "                             linewidths.min().value, linewidths.max().value],\n",
    "          origin='lower', cmap='cividis')\n",
    "pl.xlabel(\"Temperature [K]\")\n",
    "pl.ylabel(\"Linewidth $\\sigma$\")\n",
    "pl.title(\"CO absorption at N(CO) = 10$^{18}$ cm$^{-2}$\")\n",
    "\n",
    "from mpl_toolkits.axes_grid1 import make_axes_locatable\n",
    "divider = make_axes_locatable(ax)\n",
    "cax = divider.append_axes(\"right\", size=\"5%\", pad=0.05)\n",
    "cb = pl.colorbar(cax=cax, mappable=im)\n",
    "   \n",
    "cb.set_label(\"Fractional Absorption in F466N\")"
   ]
  },
  {
   "cell_type": "code",
   "execution_count": null,
   "id": "28b0292e-6c74-4de0-8ee0-9dee1940bacb",
   "metadata": {},
   "outputs": [],
   "source": [
    "levels=[0.01, 0.05, 0.1, 0.15, 0.2, 0.3, 0.4, 0.5, 0.75, 0.9]\n",
    "colors=['w', 'y', 'g', 'c', 'r', 'b', 'purple', 'orange', 'maroon', 'springgreen']"
   ]
  },
  {
   "cell_type": "code",
   "execution_count": null,
   "id": "64997f8c-35ca-4a0d-ac1d-9c498b91877c",
   "metadata": {},
   "outputs": [],
   "source": [
    "# mag1 - mag2 = 2.5 log flux1/flux2\n",
    "2.5 * np.log10(1-np.array(levels))"
   ]
  },
  {
   "cell_type": "code",
   "execution_count": null,
   "id": "aa1c8a73-4788-463a-aef0-2c98c552e80a",
   "metadata": {},
   "outputs": [],
   "source": [
    "# mag1 - mag2 = 2.5 log flux1/flux2\n",
    "', '.join([f'{np.abs(x):0.3f}' for x in 2.5 * np.log10(1-np.array(levels))])"
   ]
  },
  {
   "cell_type": "code",
   "execution_count": null,
   "id": "b3fe4fbb-bbea-4505-b1af-d475031cd98a",
   "metadata": {},
   "outputs": [],
   "source": [
    "ax = pl.gca()\n",
    "im = ax.imshow(grid, \n",
    "               #extent=[np.log10(column.min().value), np.log10(column.max().value),\n",
    "               #        linewidths.min().value, linewidths.max().value],\n",
    "               origin='lower',\n",
    "               interpolation='bilinear',\n",
    "               vmin=0,\n",
    "               vmax=1,\n",
    "               cmap='gray')\n",
    "con = ax.contour(grid, levels=levels, colors=colors)\n",
    "pl.xlabel(\"Temperature [K]\")\n",
    "pl.ylabel(\"Linewidth $\\sigma$\")\n",
    "pl.title(\"CO absorption at N(CO) = 10$^{18}$ cm$^{-2}$\")\n",
    "\n",
    "\n",
    "sigma_labels = [1,10,20,50,100]\n",
    "ax.yaxis.set_ticks(np.interp(sigma_labels, linewidths.value, np.arange(len(linewidths)), right=np.nan),\n",
    "                   labels=sigma_labels)\n",
    "tem_labels = np.arange(temperatures.min().value, temperatures.max().value, 20, dtype='int')\n",
    "ax.xaxis.set_ticks(np.interp(tem_labels, (temperatures.value), np.arange(len(temperatures)), right=np.nan),\n",
    "                   labels=tem_labels)\n",
    "\n",
    "from mpl_toolkits.axes_grid1 import make_axes_locatable\n",
    "divider = make_axes_locatable(ax)\n",
    "cax = divider.append_axes(\"right\", size=\"3%\", pad=-2.3)\n",
    "cb = pl.colorbar(cax=cax, mappable=im)\n",
    "cb.set_label(\"Fractional Absorption in F466N\")\n",
    "cb.ax.hlines(con.levels, *cb.ax.get_xlim(), colors=con.colors)\n",
    "ax.set_aspect(2)\n",
    "\n",
    "\n",
    "pl.savefig(f'{basepath}/paper_figures/CO_F466N_absorption_1e18co_coldens.pdf', bbox_inches='tight')"
   ]
  },
  {
   "cell_type": "code",
   "execution_count": null,
   "id": "d66994f6-bb62-42fa-b821-cbda50d5b609",
   "metadata": {},
   "outputs": [],
   "source": []
  },
  {
   "cell_type": "code",
   "execution_count": null,
   "id": "daccfbb9-b704-44fb-a4d9-5c8c9d3a238a",
   "metadata": {},
   "outputs": [],
   "source": [
    "temperature = 60*u.K\n",
    "linewidths = np.linspace(1, 100, 24)*u.km/u.s\n",
    "column = np.logspace(15,19,24)*u.cm**-2\n",
    "grid_sigcol = [[fractional_absorption(temperature, col, sig) for col in column]\n",
    "                for sig in tqdm(linewidths)]"
   ]
  },
  {
   "cell_type": "code",
   "execution_count": null,
   "id": "8a35c54c-6ae0-410d-8c74-17a1cbbab489",
   "metadata": {},
   "outputs": [],
   "source": [
    "ax = pl.gca()\n",
    "im = ax.imshow(grid_sigcol, \n",
    "               #extent=[np.log10(column.min().value), np.log10(column.max().value),\n",
    "               #        linewidths.min().value, linewidths.max().value],\n",
    "               origin='lower',\n",
    "               interpolation='bilinear',\n",
    "               vmin=0,\n",
    "               vmax=1,\n",
    "               cmap='gray')\n",
    "con = ax.contour(grid_sigcol, levels=levels, colors=colors)\n",
    "pl.xlabel(\"CO Column Density [log cm$^{-2}$]\")\n",
    "pl.ylabel(\"Linewidth $\\sigma$\")\n",
    "pl.title(\"CO absorption T=60 K\")\n",
    "\n",
    "\n",
    "# a hideous way to format the axis\n",
    "# @pl.FuncFormatter\n",
    "# def log_scaler(x, pos):\n",
    "#     'The two args are the value and tick position'\n",
    "#     try:\n",
    "#         col = np.interp(x, np.arange(len(column)), column.value)\n",
    "#         return f'{np.log10(col):0.1f}'\n",
    "#     except Exception:\n",
    "#         return None\n",
    "# ax.xaxis.set_major_formatter(log_scaler)\n",
    "# @pl.FuncFormatter\n",
    "# def sig_scaler(x, pos):\n",
    "#     'The two args are the value and tick position'\n",
    "#     sig = np.interp(x, np.arange(len(linewidths)), linewidths.value)\n",
    "#     return f'{sig:0.1f}'\n",
    "# ax.yaxis.set_major_formatter(sig_scaler)\n",
    "sigma_labels = [1,10,20,50,100]\n",
    "ax.yaxis.set_ticks(np.interp(sigma_labels, linewidths.value, np.arange(len(linewidths)), right=np.nan),\n",
    "                   labels=sigma_labels)\n",
    "col_labels = [15,16,17,18,19,]\n",
    "ax.xaxis.set_ticks(np.interp(col_labels, np.log10(column.value), np.arange(len(column)), right=np.nan),\n",
    "                   labels=col_labels)\n",
    "\n",
    "from mpl_toolkits.axes_grid1 import make_axes_locatable\n",
    "divider = make_axes_locatable(ax)\n",
    "cax = divider.append_axes(\"right\", size=\"5%\", pad=0.05)\n",
    "cb = pl.colorbar(cax=cax, mappable=im)\n",
    "cb.set_label(\"Fractional Absorption in F466N\")\n",
    "cb.ax.hlines(con.levels, *cb.ax.get_xlim(), colors=con.colors)\n",
    "\n",
    "\n",
    "pl.savefig(f'{basepath}/paper_figures/CO_F466N_absorption_60K.pdf', bbox_inches='tight')"
   ]
  },
  {
   "cell_type": "code",
   "execution_count": null,
   "id": "344cd696-06a5-4783-ad74-f56fccdbe8f6",
   "metadata": {},
   "outputs": [],
   "source": []
  },
  {
   "cell_type": "code",
   "execution_count": null,
   "id": "8a72cb6d-8e86-42b0-ab3c-ff8f2fe45a98",
   "metadata": {},
   "outputs": [],
   "source": []
  },
  {
   "cell_type": "code",
   "execution_count": null,
   "id": "5b0d9d47-ea90-4602-aeb2-32dacba912ae",
   "metadata": {},
   "outputs": [],
   "source": []
  },
  {
   "cell_type": "code",
   "execution_count": null,
   "id": "3efae49b-4a6f-4a44-925e-bb5b98aebb87",
   "metadata": {},
   "outputs": [],
   "source": [
    "temperature = 20*u.K\n",
    "linewidths = np.linspace(1, 100, 24)*u.km/u.s\n",
    "column = np.logspace(15,19,24)*u.cm**-2\n",
    "grid_sigcol_20K = [[fractional_absorption(temperature, col, sig) for col in column]\n",
    "                for sig in tqdm(linewidths)]"
   ]
  },
  {
   "cell_type": "code",
   "execution_count": null,
   "id": "2ab3a175-f9ac-4c66-8825-bdf54dd9a04e",
   "metadata": {},
   "outputs": [],
   "source": [
    "ax = pl.gca()\n",
    "im = ax.imshow(grid_sigcol_20K, \n",
    "               #extent=[np.log10(column.min().value), np.log10(column.max().value),\n",
    "               #        linewidths.min().value, linewidths.max().value],\n",
    "               origin='lower',\n",
    "               interpolation='bilinear',\n",
    "               vmin=0,\n",
    "               vmax=1,\n",
    "               cmap='gray')\n",
    "con = ax.contour(grid_sigcol_20K, levels=levels, colors=colors)\n",
    "pl.xlabel(\"CO Column Density [log cm$^{-2}$]\")\n",
    "pl.ylabel(\"Linewidth $\\sigma$\")\n",
    "pl.title(\"CO absorption T=20 K\")\n",
    "\n",
    "\n",
    "# a hideous way to format the axis\n",
    "# @pl.FuncFormatter\n",
    "# def log_scaler(x, pos):\n",
    "#     'The two args are the value and tick position'\n",
    "#     try:\n",
    "#         col = np.interp(x, np.arange(len(column)), column.value)\n",
    "#         return f'{np.log10(col):0.1f}'\n",
    "#     except Exception:\n",
    "#         return None\n",
    "# ax.xaxis.set_major_formatter(log_scaler)\n",
    "# @pl.FuncFormatter\n",
    "# def sig_scaler(x, pos):\n",
    "#     'The two args are the value and tick position'\n",
    "#     sig = np.interp(x, np.arange(len(linewidths)), linewidths.value)\n",
    "#     return f'{sig:0.1f}'\n",
    "# ax.yaxis.set_major_formatter(sig_scaler)\n",
    "sigma_labels = [1,10,20,50,100]\n",
    "ax.yaxis.set_ticks(np.interp(sigma_labels, linewidths.value, np.arange(len(linewidths)), right=np.nan),\n",
    "                   labels=sigma_labels)\n",
    "col_labels = [15,16,17,18,19,]\n",
    "ax.xaxis.set_ticks(np.interp(col_labels, np.log10(column.value), np.arange(len(column)), right=np.nan),\n",
    "                   labels=col_labels)\n",
    "\n",
    "from mpl_toolkits.axes_grid1 import make_axes_locatable\n",
    "divider = make_axes_locatable(ax)\n",
    "cax = divider.append_axes(\"right\", size=\"5%\", pad=0.05)\n",
    "cb = pl.colorbar(cax=cax, mappable=im)\n",
    "cb.set_label(\"Fractional Absorption in F466N\")\n",
    "cb.ax.hlines(con.levels, *cb.ax.get_xlim(), colors=con.colors)\n",
    "\n",
    "\n",
    "pl.savefig(f'{basepath}/paper_figures/CO_F466N_absorption_20K_matched_60K.pdf', bbox_inches='tight')"
   ]
  },
  {
   "cell_type": "code",
   "execution_count": null,
   "id": "149c7f5a-2264-49d0-b9ed-fbe5757ea497",
   "metadata": {},
   "outputs": [],
   "source": [
    "temperature = 20*u.K\n",
    "linewidths = np.linspace(0.1, 10, 24)*u.km/u.s\n",
    "column = np.logspace(15,19,24)*u.cm**-2\n",
    "grid_sigcol_20K = [[fractional_absorption(temperature, col, sig) for col in column]\n",
    "                for sig in tqdm(linewidths)]"
   ]
  },
  {
   "cell_type": "code",
   "execution_count": null,
   "id": "07793161-9e82-4587-abc4-08f00edf2858",
   "metadata": {},
   "outputs": [],
   "source": [
    "ax = pl.gca()\n",
    "im = ax.imshow(grid_sigcol_20K, \n",
    "               #extent=[np.log10(column.min().value), np.log10(column.max().value),\n",
    "               #        linewidths.min().value, linewidths.max().value],\n",
    "               origin='lower',\n",
    "               interpolation='bilinear',\n",
    "               vmin=0,\n",
    "               vmax=0.3,\n",
    "               cmap='gray')\n",
    "con = ax.contour(grid_sigcol_20K, levels=levels, colors=colors)\n",
    "pl.xlabel(\"CO Column Density [log cm$^{-2}$]\")\n",
    "pl.ylabel(\"Linewidth $\\sigma$\")\n",
    "pl.title(\"CO absorption T=20 K\")\n",
    "\n",
    "\n",
    "# a hideous way to format the axis\n",
    "# @pl.FuncFormatter\n",
    "# def log_scaler(x, pos):\n",
    "#     'The two args are the value and tick position'\n",
    "#     try:\n",
    "#         col = np.interp(x, np.arange(len(column)), column.value)\n",
    "#         return f'{np.log10(col):0.1f}'\n",
    "#     except Exception:\n",
    "#         return None\n",
    "# ax.xaxis.set_major_formatter(log_scaler)\n",
    "# @pl.FuncFormatter\n",
    "# def sig_scaler(x, pos):\n",
    "#     'The two args are the value and tick position'\n",
    "#     sig = np.interp(x, np.arange(len(linewidths)), linewidths.value)\n",
    "#     return f'{sig:0.1f}'\n",
    "# ax.yaxis.set_major_formatter(sig_scaler)\n",
    "sigma_labels = [1,2,5,10,20,50,100]\n",
    "ax.yaxis.set_ticks(np.interp(sigma_labels, linewidths.value, np.arange(len(linewidths)), right=np.nan),\n",
    "                   labels=sigma_labels)\n",
    "col_labels = [15,16,17,18,19,]\n",
    "ax.xaxis.set_ticks(np.interp(col_labels, np.log10(column.value), np.arange(len(column)), right=np.nan),\n",
    "                   labels=col_labels)\n",
    "\n",
    "from mpl_toolkits.axes_grid1 import make_axes_locatable\n",
    "divider = make_axes_locatable(ax)\n",
    "cax = divider.append_axes(\"right\", size=\"5%\", pad=0.05)\n",
    "cb = pl.colorbar(cax=cax, mappable=im)\n",
    "cb.set_label(\"Fractional Absorption in F466N\")\n",
    "cb.ax.hlines(con.levels, *cb.ax.get_xlim(), colors=con.colors)\n",
    "\n",
    "\n",
    "pl.savefig(f'{basepath}/paper_figures/CO_F466N_absorption_20K.pdf', bbox_inches='tight')"
   ]
  },
  {
   "cell_type": "markdown",
   "id": "ac94e6bf-0dfd-4bc1-b3f2-cec2c5ac8aff",
   "metadata": {},
   "source": [
    "# TODO:\n",
    "\n",
    "Do it for many filters"
   ]
  },
  {
   "cell_type": "code",
   "execution_count": null,
   "id": "eb5bde88-6697-4195-a169-1c80d92e5ef2",
   "metadata": {},
   "outputs": [],
   "source": [
    "# do this on the command line %run /orange/adamginsburg/jwst/brick/analysis/co_fundamental_modeling.py"
   ]
  },
  {
   "cell_type": "code",
   "execution_count": null,
   "id": "220c1985-3515-4f16-a850-c1dabd43af0b",
   "metadata": {},
   "outputs": [],
   "source": []
  },
  {
   "cell_type": "code",
   "execution_count": null,
   "id": "62902c63-f425-4b1f-91e9-35b8e4138e99",
   "metadata": {},
   "outputs": [],
   "source": []
  },
  {
   "cell_type": "code",
   "execution_count": null,
   "id": "7ece4473-92c0-4236-b81a-7fa809f30666",
   "metadata": {},
   "outputs": [],
   "source": []
  },
  {
   "cell_type": "code",
   "execution_count": null,
   "id": "b42b6a22-308a-4291-add1-4a687823cb56",
   "metadata": {},
   "outputs": [],
   "source": []
  },
  {
   "cell_type": "code",
   "execution_count": null,
   "id": "419f3f39-f275-476f-b979-2eb2d8874109",
   "metadata": {},
   "outputs": [],
   "source": [
    "import pylab"
   ]
  },
  {
   "cell_type": "code",
   "execution_count": null,
   "id": "a5dace84-4e24-4448-a3fa-a71e54b5245b",
   "metadata": {},
   "outputs": [],
   "source": [
    "# I think this is code copied over from my old scripts intended to find the location of the CO bandhead?\n",
    "temperatures = np.linspace(2000,8000,50)\n",
    "xarr1 = np.linspace(4.28, 4.68,5000)\n",
    "peak_lambda_one = [ xarr1[pyspeckitmodels.co.exomol_co_vibration.tau_of_N(xarr1*1e-4,1e18,T,width=20, progressbar=lambda x:x).argmax()] for T in temperatures ] \n",
    "xarr2 = np.linspace(4.68, 5.08,5000)\n",
    "peak_lambda_two = [ xarr2[pyspeckitmodels.co.exomol_co_vibration.tau_of_N(xarr2*1e-4,1e18,T,width=20, progressbar=lambda x:x).argmax()] for T in temperatures ] \n",
    "xarr3 = np.linspace(5.08, 5.48,5000)\n",
    "peak_lambda_three = [ xarr3[pyspeckitmodels.co.exomol_co_vibration.tau_of_N(xarr3*1e-4,1e18,T,width=20, progressbar=lambda x:x).argmax()] for T in temperatures ] \n",
    "\n",
    "# pylab.figure(17)\n",
    "# pylab.clf()\n",
    "# pylab.plot(temperatures,peak_lambda_one)\n",
    "# pylab.plot(temperatures,peak_lambda_two)\n",
    "# pylab.plot(temperatures,peak_lambda_three)\n",
    "\n",
    "pylab.figure(16)\n",
    "pylab.clf()\n",
    "for T in [50, 100, 500, 2000, 10000]:\n",
    "    L, = pylab.plot(xarr1,pyspeckitmodels.co.exomol_co_vibration.tau_of_N(xarr1*1e-4,1e18,T,width=100, progressbar=lambda x:x), label=\"{0} K\".format(T))\n",
    "    L, = pylab.plot(xarr2,pyspeckitmodels.co.exomol_co_vibration.tau_of_N(xarr2*1e-4,1e18,T,width=100, progressbar=lambda x:x), color=L.get_color())\n",
    "    L, = pylab.plot(xarr3,pyspeckitmodels.co.exomol_co_vibration.tau_of_N(xarr3*1e-4,1e18,T,width=100, progressbar=lambda x:x), color=L.get_color())\n",
    "pylab.legend(loc='best')\n",
    "pylab.xlabel(\"Wavelength (microns)\")\n",
    "pylab.ylabel(\"$\\\\tau(N=10^{18})$\")\n"
   ]
  },
  {
   "cell_type": "code",
   "execution_count": null,
   "id": "6cda3804-a5b3-4ddc-9d80-d256a8ffbfca",
   "metadata": {},
   "outputs": [],
   "source": [
    "pylab.figure(6)\n",
    "pylab.clf()\n",
    "for T in [500, 800, 1100]:\n",
    "    L, = pylab.plot(xarr1,\n",
    "                    pyspeckitmodels.co_vibration.modelemissionspectrum(xarr1*1e-4,\n",
    "                                                                       column=1e17, tex=T,\n",
    "                                                                       width=20, unit='cm'),\n",
    "                    label=\"{0} K\".format(T))\n",
    "    L, = pylab.plot(xarr2,\n",
    "                    pyspeckitmodels.co_vibration.modelemissionspectrum(xarr2*1e-4,\n",
    "                                                                       column=1e17, tex=T,\n",
    "                                                                       width=20, unit='cm'),\n",
    "                    color=L.get_color())\n",
    "    L, = pylab.plot(xarr3,\n",
    "                    pyspeckitmodels.co_vibration.modelemissionspectrum(xarr3*1e-4,\n",
    "                                                                       column=1e17, tex=T,\n",
    "                                                                       width=20, unit='cm'),\n",
    "                    color=L.get_color())\n",
    "pylab.legend(loc='best')\n",
    "pylab.xlabel(\"Wavelength (microns)\")\n",
    "pylab.ylabel(\"$S_\\\\nu(N=10^{17})$ [erg s$^{-1}$ cm$^{-2}$ A$^{-1}$]\")\n",
    "\n"
   ]
  },
  {
   "cell_type": "markdown",
   "id": "6b148f68-c6ed-4fe8-90b1-272bfa4c7aa8",
   "metadata": {},
   "source": [
    "print(\"First  bandhead: %f\" % np.median(peak_lambda_one))\n",
    "print(\"Second bandhead: %f\" % np.median(peak_lambda_two))\n",
    "print(\"Third  bandhead: %f\" % np.median(peak_lambda_three))\n",
    "\n",
    "temperatures = np.linspace(2000,8000,50)\n",
    "peak_lambda_13co_one = [ xarr1[pyspeckitmodels.co.exomol_co_vibration.tau_of_N(xarr1*1e-4,1e18,T,width=20,isotopomer=36).argmax()] for T in temperatures ] \n",
    "peak_lambda_13co_two = [ xarr2[pyspeckitmodels.co.exomol_co_vibration.tau_of_N(xarr2*1e-4,1e18,T,width=20,isotopomer=36).argmax()] for T in temperatures ] \n",
    "peak_lambda_13co_three = [ xarr3[pyspeckitmodels.co.exomol_co_vibration.tau_of_N(xarr3*1e-4,1e18,T,width=20,isotopomer=36).argmax()] for T in temperatures ] \n",
    "\n",
    "pylab.figure(19)\n",
    "pylab.clf()\n",
    "pylab.plot(temperatures,peak_lambda_13co_one)\n",
    "pylab.plot(temperatures,peak_lambda_13co_two)\n",
    "pylab.plot(temperatures,peak_lambda_13co_three)\n",
    "\n",
    "pylab.figure(18)\n",
    "pylab.clf()\n",
    "for T in np.linspace(2000,8000,7):\n",
    "    pylab.plot(xarr1,pyspeckitmodels.co.exomol_co_vibration.tau_of_N(xarr1*1e-4,1e18,T,width=20,isotopomer=36))\n",
    "    pylab.plot(xarr2,pyspeckitmodels.co.exomol_co_vibration.tau_of_N(xarr2*1e-4,1e18,T,width=20,isotopomer=36))\n",
    "    pylab.plot(xarr3,pyspeckitmodels.co.exomol_co_vibration.tau_of_N(xarr3*1e-4,1e18,T,width=20,isotopomer=36))\n",
    "\n",
    "print(\"13CO First  bandhead: %f\" % np.median(peak_lambda_13co_one))\n",
    "print(\"13CO Second bandhead: %f\" % np.median(peak_lambda_13co_two))\n",
    "print(\"13CO Third  bandhead: %f\" % np.median(peak_lambda_13co_three))\n",
    "\n",
    "pylab.figure(20)\n",
    "pylab.clf()\n",
    "for T in np.linspace(20,5000,7):\n",
    "    l, = pylab.plot(xarr1,pyspeckitmodels.co.exomol_co_vibration.tau_of_N(xarr1*1e-4,1e18,T,width=20,isotopomer=28),label='T=%i' % T)\n",
    "    l, = pylab.plot(xarr2,pyspeckitmodels.co.exomol_co_vibration.tau_of_N(xarr2*1e-4,1e18,T,width=20,isotopomer=28), color=l.get_color())\n",
    "    l, = pylab.plot(xarr3,pyspeckitmodels.co.exomol_co_vibration.tau_of_N(xarr3*1e-4,1e18,T,width=20,isotopomer=28), color=l.get_color())\n",
    "pylab.legend()"
   ]
  },
  {
   "cell_type": "code",
   "execution_count": null,
   "id": "cf641f60-fe35-4d49-99c4-b3990aa05ebc",
   "metadata": {},
   "outputs": [],
   "source": [
    "xarr = wavelength_table_470['Wavelength'].quantity.to(u.um)\n",
    "xarr = np.linspace(xarr.min(), xarr.max(), int(1e4))\n",
    "\n",
    "for T in [50, ]:\n",
    "    tau = pyspeckitmodels.co.exomol_co_vibration.tau_of_N(xarr.to(u.cm).value, 1e17, T, width=20)\n",
    "    L, = pl.plot(xarr,\n",
    "                 (1-np.exp(-tau)), label=\"T={0} K, $\\sigma$=20 km/s\".format(T))\n",
    "xarr = wavelength_table_470['Wavelength'].quantity.to(u.um)\n",
    "pl.plot(xarr, wavelength_table_470['Transmission']/wavelength_table_470['Transmission'].max() * pl.ylim()[1],\n",
    "        color='k')\n",
    "pl.legend(loc='best')\n",
    "pl.xlabel(f\"Wavelength [$\\mu$m]\")\n",
    "pl.ylabel(\"$1-\\\\exp\\\\left[-\\\\tau(N_\\\\mathrm{CO}=10^{17}~\\mathrm{cm^{-2}})\\\\right]$\")\n",
    "pl.savefig(f'{basepath}/paper_figures/CO_F470N_absorptionspectrum_example_1e17_exptau.pdf', bbox_inches='tight');"
   ]
  },
  {
   "cell_type": "code",
   "execution_count": null,
   "id": "910ee9e2-4387-4fd0-a4f3-8d9a84095c06",
   "metadata": {},
   "outputs": [],
   "source": [
    "xarr = np.linspace(4.57, 4.77, int(2e4))*u.um\n",
    "\n",
    "for T in [50, ]:\n",
    "    tau = pyspeckitmodels.co.exomol_co_vibration.tau_of_N(xarr.to(u.cm).value, 1e17, T, width=20)\n",
    "    L, = pl.plot(xarr,\n",
    "                 (1-np.exp(-tau)), label=\"T={0} K, $\\sigma$=20 km/s\".format(T))\n",
    "xarr = wavelength_table_466['Wavelength'].quantity.to(u.um)\n",
    "pl.plot(xarr, wavelength_table_466['Transmission']/wavelength_table_466['Transmission'].max() * pl.ylim()[1],\n",
    "        color='k')\n",
    "\n",
    "xarr = wavelength_table_470['Wavelength'].quantity.to(u.um)\n",
    "pl.plot(xarr, wavelength_table_470['Transmission']/wavelength_table_470['Transmission'].max() * pl.ylim()[1],\n",
    "        color='k')\n",
    "pl.legend(loc='best')\n",
    "pl.xlabel(f\"Wavelength [$\\mu$m]\")\n",
    "pl.ylabel(\"$1-\\\\exp\\\\left[-\\\\tau(N_\\\\mathrm{CO}=10^{17}~\\mathrm{cm^{-2}})\\\\right]$\")\n",
    "pl.savefig(f'{basepath}/paper_figures/CO_F466N_F470N_absorptionspectrum_example_1e17_exptau.pdf', bbox_inches='tight');"
   ]
  },
  {
   "cell_type": "code",
   "execution_count": null,
   "id": "696c4c8a-b5f8-4078-8825-fc31944913f4",
   "metadata": {},
   "outputs": [],
   "source": [
    "xarr = np.linspace(4.57, 4.77, int(2e4))*u.um\n",
    "\n",
    "for T in [20, ]:\n",
    "    tau = pyspeckitmodels.co.exomol_co_vibration.tau_of_N(xarr.to(u.cm).value, 1e17, T, width=20)\n",
    "    L, = pl.plot(xarr,\n",
    "                 (1-np.exp(-tau)), label=\"T={0} K, $\\sigma$=20 km/s\".format(T))\n",
    "xarr = wavelength_table_466['Wavelength'].quantity.to(u.um)\n",
    "pl.plot(xarr, wavelength_table_466['Transmission']/wavelength_table_466['Transmission'].max() * pl.ylim()[1],\n",
    "        color='k')\n",
    "\n",
    "xarr = wavelength_table_470['Wavelength'].quantity.to(u.um)\n",
    "pl.plot(xarr, wavelength_table_470['Transmission']/wavelength_table_470['Transmission'].max() * pl.ylim()[1],\n",
    "        color='k')\n",
    "pl.legend(loc='best')\n",
    "pl.xlabel(f\"Wavelength [$\\mu$m]\")\n",
    "pl.ylabel(\"$1-\\\\exp\\\\left[-\\\\tau(N_\\\\mathrm{CO}=10^{17}~\\mathrm{cm^{-2}})\\\\right]$\")\n",
    "pl.savefig(f'{basepath}/paper_figures/CO_F466N_F470N_absorptionspectrum_example_20K_1e17_exptau.pdf', bbox_inches='tight');"
   ]
  },
  {
   "cell_type": "markdown",
   "id": "0cd1a2ce-b8d5-4900-89d7-8c6a18ad2fa1",
   "metadata": {},
   "source": [
    "# Pontoppidan ice models"
   ]
  },
  {
   "cell_type": "code",
   "execution_count": null,
   "id": "ca6ecc3a-a8b1-40ad-8e3a-5f7b33ef6272",
   "metadata": {},
   "outputs": [],
   "source": [
    "# apolar in CO2, apolar pure CO, polar methanol ice\n",
    "co_ice_wls_icm = ([2143.7, 2139.9, 2136.5] * u.cm**-1)\n",
    "co_ice_wls = co_ice_wls_icm.to(u.um, u.spectral())\n",
    "co_ice_widths = (([3.0, 3.5, 10.6] * u.cm**-1)/co_ice_wls_icm * co_ice_wls).to(u.um, u.spectral())\n",
    "co_ice_bandstrength = 1.1e-17 * u.cm # cm per molecule; Jian+1975 via Boogert+2022\n",
    "co_ice_wls, co_ice_widths"
   ]
  },
  {
   "cell_type": "markdown",
   "id": "9ccc7e43-b4b9-436d-9e90-88381513302b",
   "metadata": {},
   "source": [
    "## Boogert OCN OCS"
   ]
  },
  {
   "cell_type": "code",
   "execution_count": null,
   "id": "e53db0c4-0807-46e8-8e38-47e12dbc9951",
   "metadata": {},
   "outputs": [],
   "source": [
    "ocn_center = 4.62*u.um\n",
    "ocn_width = 100*u.cm**-1 / (ocn_center.to(u.cm**-1, u.spectral())) * ocn_center\n",
    "ocs_center = 4.90*u.um\n",
    "ocn_bandstrength = 1.3e-16*u.cm # per molecule; via Boogert+2022 from van Broekhuizen+2004\n",
    "ocs_bandstrength = 1.5e-16*u.cm # per molecule; via Boogert+2022 from Palumbo+1997"
   ]
  },
  {
   "cell_type": "markdown",
   "id": "21a9e942-9bae-4ae5-99fd-5041f8327433",
   "metadata": {},
   "source": [
    "# Boogert CO2 ice"
   ]
  },
  {
   "cell_type": "code",
   "execution_count": null,
   "id": "5432206c-0468-4558-b151-778911841f89",
   "metadata": {},
   "outputs": [],
   "source": [
    "co2_ice_center = co2_center = 4.27*u.um\n",
    "co2_ice_width = co2_width = 20*u.cm**-1 / (co2_center.to(u.cm**-1, u.spectral())) * co2_center\n",
    "co2_ice_bandstrength = co2_bandstrength = 7.6e-17*u.cm # per molecule; via Gerakines+ 1995 table 1\""
   ]
  },
  {
   "cell_type": "markdown",
   "id": "00d78474-3448-4d89-b422-ff68f0caaae8",
   "metadata": {},
   "source": [
    "## Boogert 2015 H2O"
   ]
  },
  {
   "cell_type": "code",
   "execution_count": null,
   "id": "8df28ad2-74f8-4f1d-9bb9-e49beb771b84",
   "metadata": {},
   "outputs": [],
   "source": [
    "water_ice_centers_icm = [1666, 3333]*u.cm**-1\n",
    "water_ice_widths_icm = [160, 390]*u.cm**-1\n",
    "water_ice_centers = water_ice_centers_icm.to(u.um, u.spectral())\n",
    "water_ice_widths = (water_ice_widths_icm / water_ice_centers_icm) * water_ice_centers\n",
    "water_ice_bandstrengths = [1.2e-17, 2e-16]*u.cm\n",
    "# first is Gerakines+1995 via Boogert+2007\n",
    "# second Hagen+1981 vis Boogert+2022 - but this is for the 3um band, not the 6um?\n",
    "nh4_ice_centers = []\n",
    "nh4_ice_widths = []\n",
    "nh4_ice_bandstrengths = []"
   ]
  },
  {
   "cell_type": "code",
   "execution_count": null,
   "id": "c3e5e3dc-02dd-45c7-b3ec-42ff5a7d2079",
   "metadata": {},
   "outputs": [],
   "source": [
    "(3.47*u.um).to(u.cm**-1, u.spectral())"
   ]
  },
  {
   "cell_type": "code",
   "execution_count": null,
   "id": "a1a6defd-246b-410a-b1fd-38c13546449b",
   "metadata": {},
   "outputs": [],
   "source": [
    "# Hudgins 1993, with centers & widths from Boogert 2015\n",
    "# these don't always agree well\n",
    "# some also come from Allamandola 1992 (2832 from their 2825 in tbl 2, 2597 from footnote of tbl 3)\n",
    "methanol_ice_centers_icm = [2881.8, 2832, 2597, 2538, 1459, 1128, 1026]*u.cm**-1\n",
    "methanol_ice_widths_icm = [80, 30, 40, 40, 85, 15, 30]*u.cm**-1\n",
    "methanol_ice_centers = methanol_ice_centers_icm.to(u.um, u.spectral())\n",
    "methanol_ice_widths = (methanol_ice_widths_icm / methanol_ice_centers_icm) * methanol_ice_centers\n",
    "methanol_ice_bandstrengths = [5.6e-18, 4e-18, 2.6e-18, 2.8e-18, 1.2e-17, 1.8e-18, 1.8e-17]*u.cm\n",
    "print(len(methanol_ice_centers_icm), len(methanol_ice_widths_icm), len(methanol_ice_bandstrengths))\n",
    "methanol_ice_centers_icm.to(u.um, u.spectral())"
   ]
  },
  {
   "cell_type": "code",
   "execution_count": null,
   "id": "13eb217b-fc7f-48fb-b534-84790445df19",
   "metadata": {},
   "outputs": [],
   "source": [
    "xarr = np.linspace(4.59, 4.77, int(2e4))*u.um\n",
    "\n",
    "for cen, wid in zip(co_ice_wls, co_ice_widths):\n",
    "    pl.plot(xarr, np.exp(-(xarr-cen)**2/(2*wid**2)))\n",
    "\n",
    "xarr = wavelength_table_470['Wavelength'].quantity.to(u.um)\n",
    "pl.plot(xarr, wavelength_table_470['Transmission']/wavelength_table_470['Transmission'].max(),\n",
    "        color='k')\n",
    "xarr = wavelength_table_466['Wavelength'].quantity.to(u.um)\n",
    "pl.plot(xarr, wavelength_table_466['Transmission']/wavelength_table_466['Transmission'].max(),\n",
    "        color='k')\n",
    "\n",
    "#pl.legend(loc='best')\n",
    "pl.xlabel(f\"Wavelength [$\\mu$m]\")\n",
    "pl.ylabel(\"CO ice feature strength or Filter Transmission\")\n",
    "pl.savefig(f'{basepath}/paper_figures/CO_Ice_on_466and470.pdf', bbox_inches='tight');"
   ]
  },
  {
   "cell_type": "code",
   "execution_count": null,
   "id": "45ef8f3d-d76f-4f1e-ab9f-7118b9399545",
   "metadata": {},
   "outputs": [],
   "source": [
    "fig = pl.figure(figsize=(10, 8))\n",
    "\n",
    "xarr = np.linspace(4.55, 4.80, int(2e4))*u.um\n",
    "\n",
    "for cen, wid in zip(co_ice_wls, co_ice_widths):\n",
    "    pl.plot(xarr, np.exp(-(xarr-cen)**2/(2*wid**2)))\n",
    "\n",
    "pl.plot(xarr, np.exp(-(xarr-ocn_center)**2 / (2*ocn_width**2)))\n",
    "        \n",
    "xarr = wavelength_table_470['Wavelength'].quantity.to(u.um)\n",
    "pl.plot(xarr, wavelength_table_470['Transmission']/wavelength_table_470['Transmission'].max(),\n",
    "        color='k')\n",
    "xarr = wavelength_table_466['Wavelength'].quantity.to(u.um)\n",
    "pl.plot(xarr, wavelength_table_466['Transmission']/wavelength_table_466['Transmission'].max(),\n",
    "        color='k')\n",
    "pl.xlim(4.57, 4.79)\n",
    "#pl.legend(loc='best')\n",
    "pl.xlabel(f\"Wavelength [$\\mu$m]\")\n",
    "pl.ylabel(\"CO ice feature strength or Filter Transmission\")\n",
    "pl.savefig(f'{basepath}/paper_figures/CO_and_XCN_Ice_on_466and470.pdf', bbox_inches='tight');"
   ]
  },
  {
   "cell_type": "markdown",
   "id": "f7f6ffc8-cc72-466f-afe4-12e38c491692",
   "metadata": {},
   "source": [
    "# Column - tau - bandstrength relation\n",
    "\n",
    "Eqn 1 of Boogert:\n",
    "\n",
    "$$ N = \\frac{1}{A} \\int \\tau_{\\nu} d \\nu $$\n",
    "\n",
    "where $d\\nu$ is in cm$^{-1}$"
   ]
  },
  {
   "cell_type": "markdown",
   "id": "06f3ec05-6e5c-432d-89a2-71832cad6d1a",
   "metadata": {},
   "source": [
    "So, $\\tau_\\nu = N A / d\\nu$"
   ]
  },
  {
   "cell_type": "markdown",
   "id": "c73e1476-3a62-44ae-9ced-5c93843964d8",
   "metadata": {},
   "source": [
    "For a Gaussian profile, $\\tau_\\nu = \\frac{N A}{\\sqrt{2 \\pi} \\sigma}$"
   ]
  },
  {
   "cell_type": "code",
   "execution_count": null,
   "id": "3c142112-b7e6-4c91-a8df-93d1b93ad153",
   "metadata": {},
   "outputs": [],
   "source": [
    "np.diff(xarr.to(u.cm**-1, u.spectral()))"
   ]
  },
  {
   "cell_type": "code",
   "execution_count": null,
   "id": "d885beeb-875b-47d2-8ed2-1fcd8a3fc4a6",
   "metadata": {},
   "outputs": [],
   "source": [
    "wid"
   ]
  },
  {
   "cell_type": "code",
   "execution_count": null,
   "id": "9deba689-43ec-4f99-84d5-605231ea6432",
   "metadata": {},
   "outputs": [],
   "source": [
    "xarr = np.linspace(4.59, 4.77, int(2e4))*u.um\n",
    "\n",
    "co_ice_column = 5e17*u.cm**-2\n",
    "tau = np.zeros(xarr.size)\n",
    "chwidth_icm = np.abs(np.diff(xarr.to(u.cm**-1, u.spectral())).mean()) # not correct! formally should be in freq units\n",
    "for cen, wid in zip(co_ice_wls, co_ice_widths):\n",
    "    wid_icm = (wid / cen) * cen.to(u.cm**-1, u.spectral())\n",
    "    print(wid_icm)\n",
    "    tau += (co_ice_column / len(co_ice_wls) * co_ice_bandstrength / ((2*np.pi)**0.5 * wid_icm) * np.exp(-(xarr-cen)**2/(2*wid**2))).decompose().value\n",
    "#pl.plot(xarr, np.exp(-(xarr-cen)**2/(2*wid**2)))\n",
    "#pl.plot(xarr, np.exp(-(xarr-ocn_center)**2 / (2*ocn_width**2)))\n",
    "pl.plot(xarr, 1-np.exp(-tau))\n",
    "        \n",
    "xarr = wavelength_table_470['Wavelength'].quantity.to(u.um)\n",
    "pl.plot(xarr, wavelength_table_470['Transmission']/wavelength_table_470['Transmission'].max(),\n",
    "        color='k')\n",
    "xarr = wavelength_table_466['Wavelength'].quantity.to(u.um)\n",
    "pl.plot(xarr, wavelength_table_466['Transmission']/wavelength_table_466['Transmission'].max(),\n",
    "        color='k')\n",
    "\n",
    "#pl.legend(loc='best')\n",
    "pl.xlabel(f\"Wavelength [$\\mu$m]\")\n",
    "pl.ylabel(\"CO ice feature strength or Filter Transmission\")\n",
    "pl.savefig(f'{basepath}/paper_figures/CO_and_XCN_Ice_absorptionmodel_on_466and470.pdf', bbox_inches='tight');"
   ]
  },
  {
   "cell_type": "code",
   "execution_count": null,
   "id": "36087474-3751-4bba-96a4-fb75a6935035",
   "metadata": {},
   "outputs": [],
   "source": [
    "co_ice_column, co_ice_bandstrength, chwidth_icm"
   ]
  },
  {
   "cell_type": "code",
   "execution_count": null,
   "id": "9ec6afa1-cbfa-460b-8aad-589205f4cda7",
   "metadata": {},
   "outputs": [],
   "source": [
    "co_ice_column * co_ice_bandstrength / chwidth_icm"
   ]
  },
  {
   "cell_type": "code",
   "execution_count": null,
   "id": "670dcf96-9f7c-42b1-af4b-02a84dc038d4",
   "metadata": {},
   "outputs": [],
   "source": []
  },
  {
   "cell_type": "markdown",
   "id": "c0e22fc8-2f1e-4dcf-a798-dc7cca09883b",
   "metadata": {},
   "source": [
    "# Compute fractional absorption in each of the ice bands"
   ]
  },
  {
   "cell_type": "code",
   "execution_count": null,
   "id": "bf75f17b-ef69-4830-8a03-9bdbb9e8c034",
   "metadata": {},
   "outputs": [],
   "source": [
    "co_ice_widths"
   ]
  },
  {
   "cell_type": "markdown",
   "id": "e14c21e1-2103-4db1-a5bc-7a4a07f41e90",
   "metadata": {},
   "source": [
    "$$ N A = \\int \\tau_\\nu d\\nu$$"
   ]
  },
  {
   "cell_type": "code",
   "execution_count": null,
   "id": "f8a68b55-2da4-471b-9ec4-58dacc624978",
   "metadata": {},
   "outputs": [],
   "source": [
    "def fractional_absorption_ice(ice_column, center, width, ice_bandstrength, return_tau=False):\n",
    "    xarr = wavelength_table_466['Wavelength'].quantity.to(u.um)\n",
    "    xarr = np.linspace(xarr.min(), xarr.max(), int(1e4))\n",
    "    xarr_nu = xarr.to(u.cm**-1, u.spectral())\n",
    "    dx = (xarr[1]-xarr[0])\n",
    "    dx_icm = np.abs(xarr_nu[1] - xarr_nu[0])\n",
    "    trans = np.interp(xarr, wavelength_table_466['Wavelength'], wavelength_table_466['Transmission'])\n",
    "    transmission_sum = (trans).sum()\n",
    "\n",
    "    center_nu = center.to(u.cm**-1, u.spectral())\n",
    "    \n",
    "    tau = np.zeros(xarr.size)\n",
    "    wid_icm = (width / center) * center_nu\n",
    "    line_profile = 1/((2*np.pi)**0.5 * wid_icm) * np.exp(-(xarr_nu-center_nu)**2/(2*wid_icm**2))\n",
    "    #print(line_profile.unit, (line_profile * dx_icm).decompose().sum())\n",
    "\n",
    "    # \\int line_profile * dnu = 1\n",
    "    \n",
    "    tau = tau + (ice_column * ice_bandstrength * line_profile).decompose()\n",
    "    assert tau.unit is u.dimensionless_unscaled\n",
    "    if return_tau:\n",
    "        print(ice_column, ice_bandstrength, \"tau:\", tau.sum(), \"tau dnu sum:\", (tau*dx_icm).sum(), \"line prof:\", (line_profile * dx_icm).sum(), \"width:\", width, \"width icm:\",wid_icm, dx_icm)\n",
    "        return tau\n",
    "    absorbed_fraction = (((1-np.exp(-tau)) * trans).sum() / transmission_sum).value\n",
    "    return absorbed_fraction"
   ]
  },
  {
   "cell_type": "code",
   "execution_count": null,
   "id": "419ef837-8c06-44f0-8ce4-7b1fdc71b477",
   "metadata": {},
   "outputs": [],
   "source": [
    "# sanity check: integral(tau) should be 1 because N A = 1\n",
    "fractional_absorption_ice(1.1e17*u.cm**-2, co_ice_wls[0], co_ice_widths[0], co_ice_bandstrength, return_tau=True).sum()"
   ]
  },
  {
   "cell_type": "code",
   "execution_count": null,
   "id": "3ba403e8-d83d-4164-8a1e-8c12e8b51305",
   "metadata": {},
   "outputs": [],
   "source": [
    "column = np.logspace(16, 21, 100)*u.cm**-2\n",
    "grid_co_in_co2_ice = [fractional_absorption_ice(col, co_ice_wls[0], co_ice_widths[0], co_ice_bandstrength) for col in column]\n",
    "grid_co_pure_ice = [fractional_absorption_ice(col, co_ice_wls[1], co_ice_widths[1], co_ice_bandstrength) for col in column]\n",
    "grid_co_methanol_ice = [fractional_absorption_ice(col, co_ice_wls[2], co_ice_widths[2], co_ice_bandstrength) for col in column]\n",
    "grid_ocn = [fractional_absorption_ice(col, ocn_center, ocn_width, ocn_bandstrength) for col in column]"
   ]
  },
  {
   "cell_type": "code",
   "execution_count": null,
   "id": "e13a6584-10e4-4553-be7a-6e99e03b2569",
   "metadata": {},
   "outputs": [],
   "source": [
    "fig = pl.figure(figsize=(10, 8))\n",
    "ax = fig.gca()\n",
    "\n",
    "LCO, = pl.semilogx(column, grid_co_in_co2_ice, label='CO in CO$_2$')\n",
    "pl.semilogx(column, grid_co_pure_ice, label='Pure CO')\n",
    "pl.semilogx(column, grid_co_methanol_ice, label='CO in CH$_3$OH')\n",
    "LOCN, = pl.semilogx(column, grid_ocn, linestyle='--', label='OCN-')\n",
    "\n",
    "def col2mag(x):\n",
    "    ret = -2.5*np.log10(1-np.array(x))\n",
    "    ret[~np.isfinite(ret)] = 999\n",
    "    return ret\n",
    "def mag2col(x):\n",
    "    return 1-10**(-x/2.5)\n",
    "\n",
    "secax = ax.secondary_yaxis('right', functions=(col2mag, mag2col, ))\n",
    "secax.set_ylabel(\"Absorption in F466N filter [magnitudes]\")\n",
    "secax.set_ticks([0.001, 0.01, 0.1, 0.25, 0.50, 0.75, 1, 1.5, 2, 3, 4])\n",
    "\n",
    "pl.ylim(0.02, 1)# NOTE: conversion breaks if this is not 1!!\n",
    "pl.legend(loc='best')\n",
    "pl.xlabel(\"Column density of CO or OCN- in specified ice state\")\n",
    "pl.ylabel(\"Absorption in F466N filter [fractional]\")\n",
    "\n",
    "fig.savefig(f'{basepath}/paper_figures/IceAbsorptionvsColumn_linear.pdf', bbox_inches='tight');\n",
    "\n",
    "pl.arrow(2.7e18, 0, 0, 0.04, color=LCO.get_color(), label='N(CO)$_{max}$ Boogert+ 2022', head_width=2.7e17, head_length=0.02)\n",
    "pl.arrow(2.6e17, 0, 0, 0.04, color=LOCN.get_color(), linestyle='--', label='N(OCN)$_{max}$ Boogert+ 2022', head_width=2.6e16, head_length=0.02)\n",
    "pl.legend(loc='best')\n",
    "\n",
    "fig.savefig(f'{basepath}/paper_figures/IceAbsorptionvsColumn_linear_withBoogertMaxima.pdf', bbox_inches='tight');"
   ]
  },
  {
   "cell_type": "code",
   "execution_count": null,
   "id": "a7558951-0a4b-4df5-b979-521c09371757",
   "metadata": {},
   "outputs": [],
   "source": [
    "pl.semilogx(column, -2.5*np.log10(1-np.array(grid_co_in_co2_ice)), label='CO in CO$_2$')\n",
    "pl.semilogx(column, -2.5*np.log10(1-np.array(grid_co_pure_ice)), label='Pure CO')\n",
    "pl.semilogx(column, -2.5*np.log10(1-np.array(grid_co_methanol_ice)), label='CO in CH$_3$OH')\n",
    "pl.semilogx(column, -2.5*np.log10(1-np.array(grid_ocn)), label='OCN-')\n",
    "#pl.semilogx(column, grid_co_in_co2_ice, label='CO in CO$_2$')\n",
    "#pl.semilogx(column, grid_co_pure_ice, label='Pure CO')\n",
    "#pl.semilogx(column, grid_co_methanol_ice, label='CO in CH$_3$OH')\n",
    "#pl.semilogx(column, grid_ocn, label='OCN-')\n",
    "\n",
    "\n",
    "def col2mag(x):\n",
    "    return -2.5*np.log10(1-np.array(x))\n",
    "def mag2col(x):\n",
    "    return 1-10**(-x/2.5)\n",
    "\n",
    "ax = pl.gca()\n",
    "secax = ax.secondary_yaxis('right', functions=(mag2col, col2mag, ))\n",
    "secax.set_ylabel(\"Absorption in F466N filter [fractional]\")\n",
    "\n",
    "pl.legend(loc='best')\n",
    "pl.xlabel(\"Column density of CO or OCN- in specified ice state\")\n",
    "pl.ylabel(\"Absorption in F466N filter [magnitudes]\")\n",
    "pl.ylim([0,5]);\n",
    "pl.savefig(f'{basepath}/paper_figures/IceAbsorptionvsColumn_magnitudes.pdf', bbox_inches='tight');\n",
    "\n",
    "pl.axvline(2.7e18, color='k', label='Largest N(CO) observed by Boogert+ 2022')\n",
    "pl.axvline(2.6e17, color='k', linestyle='--', label='Largest N(OCN) observed by Boogert+ 2022')\n",
    "pl.legend(loc='best')\n",
    "\n",
    "pl.savefig(f'{basepath}/paper_figures/IceAbsorptionvsColumn_magnitudes_withBoogertMaxima.pdf', bbox_inches='tight');"
   ]
  },
  {
   "cell_type": "code",
   "execution_count": null,
   "id": "0a12e716-0b59-479a-8ddb-999174be8a76",
   "metadata": {},
   "outputs": [],
   "source": []
  },
  {
   "cell_type": "code",
   "execution_count": null,
   "id": "1b66df72-c27f-4890-b02b-c5509655d8ca",
   "metadata": {},
   "outputs": [],
   "source": []
  },
  {
   "cell_type": "code",
   "execution_count": null,
   "id": "35a058a8-07d8-45c3-a494-d3e5e621cc1c",
   "metadata": {},
   "outputs": [],
   "source": [
    "grid_CO2_F410M = [fractional_absorption_ice_filter(col, co2_ice_center, co2_ice_width,\n",
    "                                                  co2_ice_bandstrength, wavelength_table_410)\n",
    "                 for col in column]\n",
    "grid_CO2_F405N = [fractional_absorption_ice_filter(col, co2_ice_center, co2_ice_width,\n",
    "                                                  co2_ice_bandstrength, wavelength_table_405)\n",
    "                 for col in column]"
   ]
  },
  {
   "cell_type": "code",
   "execution_count": null,
   "id": "a937bd39-6cd0-46f2-9cb2-666a0f9d226a",
   "metadata": {},
   "outputs": [],
   "source": [
    "fig = pl.figure(figsize=(10, 8))\n",
    "ax = fig.gca()\n",
    "\n",
    "pl.semilogx(column, grid_CO2_F405N, label='CO2: F405N')\n",
    "pl.semilogx(column, grid_CO2_F410M, label='CO2: F410M')\n",
    "\n",
    "def col2mag(x):\n",
    "    ret = -2.5*np.log10(1-np.array(x))\n",
    "    ret[~np.isfinite(ret)] = 999\n",
    "    return ret\n",
    "def mag2col(x):\n",
    "    return 1-10**(-x/2.5)\n",
    "\n",
    "secax = ax.secondary_yaxis('right', functions=(col2mag, mag2col, ))\n",
    "secax.set_ylabel(\"Absorption in specified filter [magnitudes]\")\n",
    "secax.set_ticks([0.001, 0.01, 0.1, 0.25, 0.50, 0.75, 1, 1.5, 2, 3, 4])\n",
    "\n",
    "pl.ylim(0.02, 1)# NOTE: conversion breaks if this is not 1!!\n",
    "pl.legend(loc='best')\n",
    "pl.xlabel(\"Column density of CO$_2$ in specified ice state\")\n",
    "pl.ylabel(\"Absorption in specified filter [fractional]\")\n",
    "\n",
    "fig.savefig(f'{basepath}/paper_figures/CO2IceAbsorptionvsColumn_linear.pdf', bbox_inches='tight');\n",
    "\n",
    "#pl.arrow(2.7e18, 0, 0, 0.04, color=LCO.get_color(), label='N(CO)$_{max}$ Boogert+ 2022', head_width=2.7e17, head_length=0.02)\n",
    "#pl.arrow(2.6e17, 0, 0, 0.04, color=LOCN.get_color(), linestyle='--', label='N(OCN)$_{max}$ Boogert+ 2022', head_width=2.6e16, head_length=0.02)\n",
    "#pl.legend(loc='best')\n",
    "#fig.savefig(f'{basepath}/paper_figures/CO2IceAbsorptionvsColumn_linear_withBoogertMaxima.pdf', bbox_inches='tight');"
   ]
  },
  {
   "cell_type": "code",
   "execution_count": null,
   "id": "7d02e196-54f5-4a91-8b48-4ee7fb784b8e",
   "metadata": {},
   "outputs": [],
   "source": []
  },
  {
   "cell_type": "code",
   "execution_count": null,
   "id": "79204f96-841e-4798-928b-61f2b25b3c89",
   "metadata": {},
   "outputs": [],
   "source": []
  },
  {
   "cell_type": "markdown",
   "id": "1f4f2ff9-6de2-4fda-b8e1-697507e37b8c",
   "metadata": {},
   "source": [
    "# Spitzer absorptions"
   ]
  },
  {
   "cell_type": "code",
   "execution_count": null,
   "id": "948f299d-02a2-48b3-8f53-cfa30f8eb46a",
   "metadata": {},
   "outputs": [],
   "source": []
  },
  {
   "cell_type": "code",
   "execution_count": null,
   "id": "36435840-7b9d-4640-bfda-ac48dad90ae7",
   "metadata": {},
   "outputs": [],
   "source": [
    "instrument = 'IRAC'\n",
    "telescope = 'Spitzer'\n",
    "wavelength_tables_spitzer = {filt: SvoFps.get_transmission_data(f'{telescope}/{instrument}.{filt}')\n",
    "                             for filt in ['I1', 'I2', 'I3', 'I4']}"
   ]
  },
  {
   "cell_type": "code",
   "execution_count": null,
   "id": "f0157691-16ac-4d77-9a9d-96d9ff45853b",
   "metadata": {},
   "outputs": [],
   "source": [
    "wavelength_tables = {'f470n': wavelength_table_470,\n",
    "                     'f466n': wavelength_table_466,\n",
    "                     'f410m': wavelength_table_410,\n",
    "                     'f405n': wavelength_table_405,\n",
    "                    }\n",
    "wavelength_tables.update(wavelength_tables_spitzer)"
   ]
  },
  {
   "cell_type": "code",
   "execution_count": null,
   "id": "90561533-6176-4b63-b2e9-91e518e43317",
   "metadata": {},
   "outputs": [],
   "source": [
    "xarr = np.linspace(3.0, 10.5, int(5e4))*u.um\n",
    "\n",
    "for cen, wid in zip(co_ice_wls, co_ice_widths):\n",
    "    pl.plot(xarr, np.exp(-(xarr-cen)**2/(2*wid**2)))\n",
    "\n",
    "pl.plot(xarr, np.exp(-(xarr-ocn_center)**2 / (2*ocn_width**2)))\n",
    "\n",
    "for cen, wid in zip(water_ice_centers, water_ice_widths):\n",
    "    pl.plot(xarr, np.exp(-(xarr-cen)**2/(2*wid**2)), color='r')\n",
    "\n",
    "for cen, wid in zip(methanol_ice_centers, methanol_ice_widths):\n",
    "    pl.plot(xarr, np.exp(-(xarr-cen)**2/(2*wid**2)), color='b')\n",
    "    \n",
    "for filt, tbl in wavelength_tables.items():\n",
    "    xarr = tbl['Wavelength'].quantity.to(u.um)\n",
    "    pl.plot(xarr, tbl['Transmission']/tbl['Transmission'].max(),\n",
    "            color='k')\n",
    "\n",
    "#pl.legend(loc='best')\n",
    "pl.xlabel(f\"Wavelength [$\\mu$m]\")\n",
    "pl.ylabel(\"Ice feature strength or Filter Transmission\")\n",
    "#pl.savefig(f'{basepath}/paper_figures/Ices_on_SpitzerandWebb.pdf', bbox_inches='tight');"
   ]
  },
  {
   "cell_type": "code",
   "execution_count": null,
   "id": "50b3a886-7398-4e8f-978e-ffd3b523ce11",
   "metadata": {},
   "outputs": [],
   "source": []
  },
  {
   "cell_type": "code",
   "execution_count": null,
   "id": "e2eadde5-e39f-4fba-99ce-cc4f04cb3d9f",
   "metadata": {},
   "outputs": [],
   "source": [
    "def fractional_absorption_ice_filter(ice_column, center, width, ice_bandstrength, tbl):\n",
    "    xarr = tbl['Wavelength'].quantity.to(u.um)\n",
    "    xarr = np.linspace(xarr.min(), xarr.max(), int(1e4))\n",
    "    trans = np.interp(xarr, tbl['Wavelength'], tbl['Transmission'])\n",
    "    transmission_sum = (trans).sum()\n",
    "\n",
    "    tau = np.zeros(xarr.size)\n",
    "    wid_icm = (width / center) * center.to(u.cm**-1, u.spectral())\n",
    "    tau += (ice_column * ice_bandstrength / ((2*np.pi)**0.5 * wid_icm) * np.exp(-(xarr-center)**2/(2*width**2))).decompose().value\n",
    "    absorbed_fraction = ((1-np.exp(-tau)) * trans).sum() / transmission_sum\n",
    "    return absorbed_fraction"
   ]
  },
  {
   "cell_type": "code",
   "execution_count": null,
   "id": "7d7ccc27-fd62-4586-97cf-60efd3f20d43",
   "metadata": {},
   "outputs": [],
   "source": [
    "water_ice_centers"
   ]
  },
  {
   "cell_type": "code",
   "execution_count": null,
   "id": "66c0ee56-fdab-4600-bda0-b2a5db84b51f",
   "metadata": {},
   "outputs": [],
   "source": [
    "column = np.logspace(17, 21, 100)*u.cm**-2\n",
    "grid_water_I1 = [fractional_absorption_ice_filter(col, water_ice_centers[1], water_ice_widths[1],\n",
    "                                                  water_ice_bandstrengths[1], wavelength_tables['I1'])\n",
    "                 for col in column]\n",
    "grid_water_I3 = [fractional_absorption_ice_filter(col, water_ice_centers[0], water_ice_widths[0],\n",
    "                                                  water_ice_bandstrengths[0], wavelength_tables['I3'])\n",
    "                 for col in column]\n",
    "grid_water_I4 = [fractional_absorption_ice_filter(col, water_ice_centers[0], water_ice_widths[0],\n",
    "                                                  water_ice_bandstrengths[0], wavelength_tables['I4'])\n",
    "                 for col in column]\n",
    "grid_CO_I2 = [fractional_absorption_ice_filter(col, co_ice_wls[2], co_ice_widths[2],\n",
    "                                                  co_ice_bandstrength, wavelength_tables['I2'])\n",
    "                 for col in column]\n",
    "grid_CO2_I2 = [fractional_absorption_ice_filter(col, co2_ice_center, co2_ice_width,\n",
    "                                                  co2_ice_bandstrength, wavelength_tables['I2'])\n",
    "                 for col in column]"
   ]
  },
  {
   "cell_type": "code",
   "execution_count": null,
   "id": "4541476c-0f79-4aa5-9d90-aa8269cf30ca",
   "metadata": {},
   "outputs": [],
   "source": [
    "pl.semilogx(column, grid_water_I1, label='Water: I1')\n",
    "pl.semilogx(column, grid_water_I3, label='Water: I3')\n",
    "pl.semilogx(column, grid_water_I4, label='Water: I4')\n",
    "pl.semilogx(column, grid_CO_I2, label='CO: I2')\n",
    "pl.semilogx(column, grid_CO2_I2, label='CO2: I2')\n",
    "\n",
    "def col2mag(x):\n",
    "    ret = -2.5*np.log10(1-np.array(x))\n",
    "    ret[~np.isfinite(ret)] = 999\n",
    "    return ret\n",
    "def mag2col(x):\n",
    "    return 1-10**(-x/2.5)\n",
    "\n",
    "ax = pl.gca()\n",
    "secax = ax.secondary_yaxis('right', functions=(col2mag, mag2col, ))\n",
    "secax.set_ylabel(\"Absorption in filter [magnitudes]\")\n",
    "secax.set_ticks([0.001, 0.01, 0.1, 0.25, 0.50, 0.75, 1, 1.5, 2, 3, 4])\n",
    "\n",
    "pl.ylim(0.02, 1)# NOTE: conversion breaks if this is not 1!!\n",
    "pl.legend(loc='best')\n",
    "pl.xlabel(\"Column density of molecule in specified ice state\")\n",
    "pl.ylabel(\"Absorption in filter [fractional]\")\n",
    "\n",
    "pl.savefig(f'{basepath}/paper_figures/WaterIce_SpitzerFilters.pdf', bbox_inches='tight');"
   ]
  },
  {
   "cell_type": "code",
   "execution_count": null,
   "id": "36dce5b8-3938-444f-b602-724242cc1487",
   "metadata": {},
   "outputs": [],
   "source": [
    "methanol_ice_centers.to(u.um)"
   ]
  },
  {
   "cell_type": "code",
   "execution_count": null,
   "id": "3f3c86bf-f350-4b7a-b2d8-d02297bb3f9b",
   "metadata": {},
   "outputs": [],
   "source": [
    "column = np.logspace(17, 21, 100)*u.cm**-2\n",
    "grid_methanol_I1a = [fractional_absorption_ice_filter(col, methanol_ice_centers[0], methanol_ice_widths[0],\n",
    "                                                  methanol_ice_bandstrengths[0], wavelength_tables['I1'])\n",
    "                 for col in column]\n",
    "grid_methanol_I1b = [fractional_absorption_ice_filter(col, methanol_ice_centers[1], methanol_ice_widths[1],\n",
    "                                                  methanol_ice_bandstrengths[1], wavelength_tables['I1'])\n",
    "                 for col in column]\n",
    "grid_methanol_I1c = [fractional_absorption_ice_filter(col, methanol_ice_centers[2], methanol_ice_widths[2],\n",
    "                                                  methanol_ice_bandstrengths[2], wavelength_tables['I1'])\n",
    "                 for col in column]\n",
    "\n",
    "\n",
    "grid_methanol_I3 = [fractional_absorption_ice_filter(col, methanol_ice_centers[4], methanol_ice_widths[4],\n",
    "                                                  methanol_ice_bandstrengths[4], wavelength_tables['I3'])\n",
    "                 for col in column]\n",
    "grid_methanol_I4a = [fractional_absorption_ice_filter(col, methanol_ice_centers[5], methanol_ice_widths[5],\n",
    "                                                  methanol_ice_bandstrengths[5], wavelength_tables['I4'])\n",
    "                 for col in column]\n",
    "grid_methanol_I4b = [fractional_absorption_ice_filter(col, methanol_ice_centers[6], methanol_ice_widths[6],\n",
    "                                                  methanol_ice_bandstrengths[6], wavelength_tables['I4'])\n",
    "                 for col in column]"
   ]
  },
  {
   "cell_type": "code",
   "execution_count": null,
   "id": "cd03f87f-0b45-4b68-b2eb-2bcae31504bd",
   "metadata": {},
   "outputs": [],
   "source": [
    "pl.semilogx(column, grid_methanol_I1a, label='Methanol: I1a')\n",
    "pl.semilogx(column, grid_methanol_I1b, label='Methanol: I1b')\n",
    "pl.semilogx(column, grid_methanol_I1c, label='Methanol: I1c')\n",
    "pl.semilogx(column, grid_methanol_I3, label='Methanol: I3')\n",
    "pl.semilogx(column, grid_methanol_I4a, label='Methanol: I4a')\n",
    "pl.semilogx(column, grid_methanol_I4b, label='Methanol: I4b')\n",
    "\n",
    "def col2mag(x):\n",
    "    ret = -2.5*np.log10(1-np.array(x))\n",
    "    ret[~np.isfinite(ret)] = 999\n",
    "    return ret\n",
    "def mag2col(x):\n",
    "    return 1-10**(-x/2.5)\n",
    "\n",
    "ax = pl.gca()\n",
    "secax = ax.secondary_yaxis('right', functions=(col2mag, mag2col, ))\n",
    "secax.set_ylabel(\"Absorption in filter [magnitudes]\")\n",
    "secax.set_ticks([0.001, 0.01, 0.1, 0.25, 0.50, 0.75, 1, 1.5, 2, 3, 4])\n",
    "\n",
    "pl.ylim(0.02, 1)# NOTE: conversion breaks if this is not 1!!\n",
    "pl.legend(loc='best')\n",
    "pl.xlabel(\"Column density of molecule in specified ice state\")\n",
    "pl.ylabel(\"Absorption in filter [fractional]\")\n",
    "\n",
    "pl.savefig(f'{basepath}/paper_figures/MethanolIce_SpitzerFilters.pdf', bbox_inches='tight');"
   ]
  },
  {
   "cell_type": "markdown",
   "id": "5e80c3f0-f31a-49f3-b1c8-18a1348b8ab8",
   "metadata": {},
   "source": [
    "# Gordon+ 2021 give a model for the 9.7 um feature as a Drude profile"
   ]
  },
  {
   "cell_type": "markdown",
   "id": "6b0c2131-372e-45be-82db-6bc95bcdbbe8",
   "metadata": {},
   "source": [
    "$$ D_m(\\lambda) = \\frac{(\\gamma/\\lambda_0)^2}{(\\lambda/\\lambda_0 - \\lambda_0/\\lambda)^2 + (\\gamma/\\lambda)^2}$$"
   ]
  },
  {
   "cell_type": "markdown",
   "id": "f53965fd-609b-4cd4-9dc3-74d6d2e3ee71",
   "metadata": {},
   "source": [
    "$$\\gamma = \\frac{\\gamma_0}{1+\\exp\\left[a(\\lambda-\\lambda_0)\\right]}$$"
   ]
  },
  {
   "cell_type": "code",
   "execution_count": null,
   "id": "93bbaeb9-caa0-409d-8a46-2b5b63eeaf2c",
   "metadata": {},
   "outputs": [],
   "source": [
    "def silicate_drude(lam, S1=1, a=-0.5, lambda0=9.7*u.um, gamma0=2*u.um):\n",
    "    dlambda = (lam-lambda0).decompose()\n",
    "    gamma = gamma0 / (1+np.exp(a*(lam-lambda0).to(u.um).value))\n",
    "    dm = (gamma/lambda0)**2 / ((lam/lambda0 - lambda0/lam)**2 + (gamma/lam)**2)\n",
    "    return dm * S1"
   ]
  },
  {
   "cell_type": "code",
   "execution_count": null,
   "id": "82dbbdfc-4ed9-4e23-add5-cf2b9f2e09fa",
   "metadata": {},
   "outputs": [],
   "source": [
    "xarr = np.linspace(5.0, 10.5, int(5e4))*u.um\n",
    "\n",
    "pl.plot(xarr, silicate_drude(xarr))\n",
    "pl.plot(xarr, silicate_drude(xarr, a=-1.25), label='a=-1.25')\n",
    "pl.plot(xarr, silicate_drude(xarr, a=-1.25, lambda0=9.64*u.um), label='lambda0=9.64')\n",
    "pl.plot(xarr, silicate_drude(xarr, a=-1.25, lambda0=9.64*u.um, gamma0=4*u.um), label='gamma0=4')\n",
    "\n",
    "\n",
    "tbl = wavelength_tables['I4']\n",
    "xarr = tbl['Wavelength'].quantity.to(u.um)\n",
    "pl.plot(xarr, tbl['Transmission']/tbl['Transmission'].max(),\n",
    "        color='k')\n",
    "\n",
    "pl.legend(loc='best')\n",
    "pl.xlabel(f\"Wavelength [$\\mu$m]\")\n",
    "pl.ylabel(\"Silicate feature strength or Filter Transmission\")\n",
    "#pl.savefig(f'{basepath}/paper_figures/Ices_on_SpitzerandWebb.pdf', bbox_inches='tight');"
   ]
  },
  {
   "cell_type": "markdown",
   "id": "aa9ef33a-302e-4f70-820e-1f9d6edc598a",
   "metadata": {},
   "source": [
    "# what if it's gas-phase SiO?\n",
    "\n",
    "fig 1 of https://ui.adsabs.harvard.edu/abs/2011A%26A...526A.152V/abstract caption says the short-wavelength component of the silicate feature (which overlaps heavily with the IRAC4 filter) is from gas-phase SiO"
   ]
  },
  {
   "cell_type": "markdown",
   "id": "9a825161-6dcf-47d0-9bbc-475b43323b87",
   "metadata": {},
   "source": [
    "In short, it can't be gas-phase SiO: the exomol cross-section page (and my own calculations, though they came up waaaaay different) gives cross sections peaking around $3\\times10^{-17}$ per molecule, so we'd need $N(SiO) \\sim 10^{17}$ to get significant absorption, which implies abundances $X_{SiO} > 10^{-5}$, which is implausible."
   ]
  },
  {
   "cell_type": "code",
   "execution_count": null,
   "id": "192e94d9-b78b-4132-b190-49bd02d5a6a0",
   "metadata": {},
   "outputs": [],
   "source": []
  }
 ],
 "metadata": {
  "kernelspec": {
   "display_name": "python39",
   "language": "python",
   "name": "python39"
  },
  "language_info": {
   "codemirror_mode": {
    "name": "ipython",
    "version": 3
   },
   "file_extension": ".py",
   "mimetype": "text/x-python",
   "name": "python",
   "nbconvert_exporter": "python",
   "pygments_lexer": "ipython3",
   "version": "3.9.13"
  }
 },
 "nbformat": 4,
 "nbformat_minor": 5
}
