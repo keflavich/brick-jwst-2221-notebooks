{
 "cells": [
  {
   "cell_type": "code",
   "execution_count": 6,
   "id": "c5bb1271-a835-44f1-9f06-5e7a1ea8ec6a",
   "metadata": {},
   "outputs": [],
   "source": []
  },
  {
   "cell_type": "code",
   "execution_count": 7,
   "id": "b7ed71ee-300d-4d5e-adad-75bc32ff9c8a",
   "metadata": {},
   "outputs": [],
   "source": []
  },
  {
   "cell_type": "code",
   "execution_count": 8,
   "id": "c302216d-0f0a-4add-95a9-32ddb2c39c1f",
   "metadata": {},
   "outputs": [],
   "source": [
    "from astropy.wcs.wcsapi import SlicedLowLevelWCS\n",
    "import asdf\n",
    "basepath = '/orange/adamginsburg/jwst/brick/'\n",
    "gwcs1 = asdf.open(f\"{basepath}/F187N/pipeline/jw02221001001_03101_00005_nrcb4_cal.fits\").tree['meta']['wcs']"
   ]
  },
  {
   "cell_type": "code",
   "execution_count": 10,
   "id": "aef7a5b8-9d84-4bce-9b8f-ab5aadce5ef9",
   "metadata": {},
   "outputs": [
    {
     "data": {
      "text/plain": [
       "<astropy.wcs.wcsapi.wrappers.sliced_wcs.SlicedLowLevelWCS object at 0x2ba8653ca940>\n",
       "SlicedLowLevelWCS Transformation\n",
       "\n",
       "This transformation has 2 pixel and 2 world dimensions\n",
       "\n",
       "Array shape (Numpy order): None\n",
       "\n",
       "Pixel Dim  Axis Name  Data size  Bounds\n",
       "        0  x               None  (-55.5, 1992.5)\n",
       "        1  y               None  (-35.5, 2012.5)\n",
       "\n",
       "World Dim  Axis Name  Physical Type  Units\n",
       "        0  lon        pos.eq.ra      deg\n",
       "        1  lat        pos.eq.dec     deg\n",
       "\n",
       "Correlation between pixel and world axes:\n",
       "\n",
       "           Pixel Dim\n",
       "World Dim    0    1\n",
       "        0  yes  yes\n",
       "        1  yes  yes"
      ]
     },
     "execution_count": 10,
     "metadata": {},
     "output_type": "execute_result"
    }
   ],
   "source": [
    "SlicedLowLevelWCS(gwcs1, slices=[slice(35, 45), slice(55, 65)])"
   ]
  },
  {
   "cell_type": "code",
   "execution_count": 16,
   "id": "988911d3-f67a-400b-8918-b7021fa03dab",
   "metadata": {},
   "outputs": [
    {
     "name": "stderr",
     "output_type": "stream",
     "text": [
      "2022-09-19 10:28:07,054 - stpipe - WARNING - /orange/adamginsburg/miniconda3/envs/python39/lib/python3.9/site-packages/astropy/wcs/wcs.py:725: FITSFixedWarning: 'datfix' made the change 'Set DATE-BEG to '2022-08-28T00:41:43.547' from MJD-BEG.\n",
      "Set DATE-AVG to '2022-08-28T00:42:10.389' from MJD-AVG.\n",
      "Set DATE-END to '2022-08-28T00:42:37.231' from MJD-END'.\n",
      "  warnings.warn(\n",
      "\n",
      "2022-09-19 10:28:07,056 - stpipe - WARNING - /orange/adamginsburg/miniconda3/envs/python39/lib/python3.9/site-packages/astropy/wcs/wcs.py:725: FITSFixedWarning: 'obsfix' made the change 'Set OBSGEO-L to   -51.588160 from OBSGEO-[XYZ].\n",
      "Set OBSGEO-B to   -20.718951 from OBSGEO-[XYZ].\n",
      "Set OBSGEO-H to 1527082915.812 from OBSGEO-[XYZ]'.\n",
      "  warnings.warn(\n",
      "\n"
     ]
    }
   ],
   "source": [
    "from astropy.wcs import WCS\n",
    "from astropy.io import fits\n",
    "wcs1 = WCS(fits.getheader(f\"{basepath}/F187N/pipeline/jw02221001001_03101_00005_nrcb4_cal.fits\", ext=('SCI', 1)))"
   ]
  },
  {
   "cell_type": "code",
   "execution_count": 17,
   "id": "a4c3ba27-d2e1-4049-a82f-8a3d6ca00f27",
   "metadata": {},
   "outputs": [
    {
     "name": "stderr",
     "output_type": "stream",
     "text": [
      "2022-09-19 10:28:09,704 - stpipe - WARNING - /orange/adamginsburg/miniconda3/envs/python39/lib/python3.9/site-packages/astropy/wcs/wcs.py:2733: AstropyWarning: Some non-standard WCS keywords were excluded: A_ORDER, A_0_2, A_0_3, A_1_1, A_1_2, A_2_0, A_2_1, A_3_0, B_ORDER, B_0_2, B_0_3, B_1_1, B_1_2, B_2_0, B_2_1, B_3_0, AP_ORDER, AP_0_2, AP_0_3, AP_1_1, AP_1_2, AP_2_0, AP_2_1, AP_3_0, BP_ORDER, BP_0_2, BP_0_3, BP_1_1, BP_1_2, BP_2_0, BP_2_1, BP_3_0 Use the ``relax`` kwarg to control this.\n",
      "  warnings.warn(\n",
      "\n"
     ]
    },
    {
     "data": {
      "text/plain": [
       "WCSAXES =                    2 / Number of coordinate axes                      \n",
       "CRPIX1  =               1024.5 / Pixel coordinate of reference point            \n",
       "CRPIX2  =               1024.5 / Pixel coordinate of reference point            \n",
       "PC1_1   = -1.4394600533796E-07 / Coordinate transformation matrix element       \n",
       "PC1_2   =    8.72384917875E-06 / Coordinate transformation matrix element       \n",
       "PC2_1   =  8.6753562566211E-06 / Coordinate transformation matrix element       \n",
       "PC2_2   =  1.8315258174282E-07 / Coordinate transformation matrix element       \n",
       "CDELT1  =                  1.0 / [deg] Coordinate increment at reference point  \n",
       "CDELT2  =                  1.0 / [deg] Coordinate increment at reference point  \n",
       "CUNIT1  = 'deg'                / Units of coordinate increment and value        \n",
       "CUNIT2  = 'deg'                / Units of coordinate increment and value        \n",
       "CTYPE1  = 'RA---TAN'           / TAN (gnomonic) projection + SIP distortions    \n",
       "CTYPE2  = 'DEC--TAN'           / TAN (gnomonic) projection + SIP distortions    \n",
       "CRVAL1  =      266.52319585906 / [deg] Coordinate value at reference point      \n",
       "CRVAL2  =     -28.691117945508 / [deg] Coordinate value at reference point      \n",
       "LONPOLE =                180.0 / [deg] Native longitude of celestial pole       \n",
       "LATPOLE =     -28.691117945508 / [deg] Native latitude of celestial pole        \n",
       "MJDREF  =                  0.0 / [d] MJD of fiducial time                       \n",
       "DATE-BEG= '2022-08-28T00:41:43.547' / ISO-8601 time at start of observation     \n",
       "MJD-BEG =       59819.02897624 / [d] MJD at start of observation                \n",
       "DATE-AVG= '2022-08-28T00:42:10.389' / ISO-8601 time at midpoint of observation  \n",
       "MJD-AVG =      59819.029286911 / [d] MJD at midpoint of observation             \n",
       "DATE-END= '2022-08-28T00:42:37.231' / ISO-8601 time at end of observation       \n",
       "MJD-END =      59819.029597581 / [d] MJD at end of observation                  \n",
       "XPOSURE =               42.947 / [s] Exposure (integration) time                \n",
       "TELAPSE =               42.947 / [s] Elapsed time (start to stop)               \n",
       "OBSGEO-X=      891138381.41853 / [m] observatory X-coordinate                   \n",
       "OBSGEO-Y=     -1123859670.1911 / [m] observatory Y-coordinate                   \n",
       "OBSGEO-Z=      -542500175.0939 / [m] observatory Z-coordinate                   \n",
       "RADESYS = 'ICRS'               / Equatorial coordinate system                   \n",
       "VELOSYS =             27517.95 / [m/s] Velocity towards source                  "
      ]
     },
     "execution_count": 17,
     "metadata": {},
     "output_type": "execute_result"
    }
   ],
   "source": [
    "wcs1[:5,:5].to_header()"
   ]
  },
  {
   "cell_type": "code",
   "execution_count": 19,
   "id": "8f60e215-012c-4bc7-b291-ebd1230ccbbc",
   "metadata": {},
   "outputs": [
    {
     "ename": "AttributeError",
     "evalue": "'SlicedLowLevelWCS' object has no attribute 'to_header'",
     "output_type": "error",
     "traceback": [
      "\u001b[0;31m---------------------------------------------------------------------------\u001b[0m",
      "\u001b[0;31mAttributeError\u001b[0m                            Traceback (most recent call last)",
      "\u001b[0;32m/scratch/local/45915091/ipykernel_2398/180710097.py\u001b[0m in \u001b[0;36m<module>\u001b[0;34m\u001b[0m\n\u001b[0;32m----> 1\u001b[0;31m \u001b[0mSlicedLowLevelWCS\u001b[0m\u001b[0;34m(\u001b[0m\u001b[0mwcs1\u001b[0m\u001b[0;34m,\u001b[0m \u001b[0mslices\u001b[0m\u001b[0;34m=\u001b[0m\u001b[0;34m[\u001b[0m\u001b[0mslice\u001b[0m\u001b[0;34m(\u001b[0m\u001b[0;36m35\u001b[0m\u001b[0;34m,\u001b[0m \u001b[0;36m45\u001b[0m\u001b[0;34m)\u001b[0m\u001b[0;34m,\u001b[0m \u001b[0mslice\u001b[0m\u001b[0;34m(\u001b[0m\u001b[0;36m55\u001b[0m\u001b[0;34m,\u001b[0m \u001b[0;36m65\u001b[0m\u001b[0;34m)\u001b[0m\u001b[0;34m]\u001b[0m\u001b[0;34m)\u001b[0m\u001b[0;34m.\u001b[0m\u001b[0mto_header\u001b[0m\u001b[0;34m(\u001b[0m\u001b[0;34m)\u001b[0m\u001b[0;34m\u001b[0m\u001b[0;34m\u001b[0m\u001b[0m\n\u001b[0m",
      "\u001b[0;31mAttributeError\u001b[0m: 'SlicedLowLevelWCS' object has no attribute 'to_header'"
     ]
    }
   ],
   "source": [
    "SlicedLowLevelWCS(wcs1, slices=[slice(35, 45), slice(55, 65)]).to_header()"
   ]
  },
  {
   "cell_type": "code",
   "execution_count": 22,
   "id": "2019114e-8eb5-46bf-bd3a-4290f3902cfe",
   "metadata": {},
   "outputs": [
    {
     "data": {
      "text/plain": [
       "\u001b[0;31mSignature:\u001b[0m \u001b[0mwcs1\u001b[0m\u001b[0;34m.\u001b[0m\u001b[0mslice\u001b[0m\u001b[0;34m(\u001b[0m\u001b[0mview\u001b[0m\u001b[0;34m,\u001b[0m \u001b[0mnumpy_order\u001b[0m\u001b[0;34m=\u001b[0m\u001b[0;32mTrue\u001b[0m\u001b[0;34m)\u001b[0m\u001b[0;34m\u001b[0m\u001b[0;34m\u001b[0m\u001b[0m\n",
       "\u001b[0;31mSource:\u001b[0m   \n",
       "    \u001b[0;32mdef\u001b[0m \u001b[0mslice\u001b[0m\u001b[0;34m(\u001b[0m\u001b[0mself\u001b[0m\u001b[0;34m,\u001b[0m \u001b[0mview\u001b[0m\u001b[0;34m,\u001b[0m \u001b[0mnumpy_order\u001b[0m\u001b[0;34m=\u001b[0m\u001b[0;32mTrue\u001b[0m\u001b[0;34m)\u001b[0m\u001b[0;34m:\u001b[0m\u001b[0;34m\u001b[0m\n",
       "\u001b[0;34m\u001b[0m        \u001b[0;34m\"\"\"\u001b[0m\n",
       "\u001b[0;34m        Slice a WCS instance using a Numpy slice. The order of the slice should\u001b[0m\n",
       "\u001b[0;34m        be reversed (as for the data) compared to the natural WCS order.\u001b[0m\n",
       "\u001b[0;34m\u001b[0m\n",
       "\u001b[0;34m        Parameters\u001b[0m\n",
       "\u001b[0;34m        ----------\u001b[0m\n",
       "\u001b[0;34m        view : tuple\u001b[0m\n",
       "\u001b[0;34m            A tuple containing the same number of slices as the WCS system.\u001b[0m\n",
       "\u001b[0;34m            The ``step`` method, the third argument to a slice, is not\u001b[0m\n",
       "\u001b[0;34m            presently supported.\u001b[0m\n",
       "\u001b[0;34m        numpy_order : bool\u001b[0m\n",
       "\u001b[0;34m            Use numpy order, i.e. slice the WCS so that an identical slice\u001b[0m\n",
       "\u001b[0;34m            applied to a numpy array will slice the array and WCS in the same\u001b[0m\n",
       "\u001b[0;34m            way. If set to `False`, the WCS will be sliced in FITS order,\u001b[0m\n",
       "\u001b[0;34m            meaning the first slice will be applied to the *last* numpy index\u001b[0m\n",
       "\u001b[0;34m            but the *first* WCS axis.\u001b[0m\n",
       "\u001b[0;34m\u001b[0m\n",
       "\u001b[0;34m        Returns\u001b[0m\n",
       "\u001b[0;34m        -------\u001b[0m\n",
       "\u001b[0;34m        wcs_new : `~astropy.wcs.WCS`\u001b[0m\n",
       "\u001b[0;34m            A new resampled WCS axis\u001b[0m\n",
       "\u001b[0;34m        \"\"\"\u001b[0m\u001b[0;34m\u001b[0m\n",
       "\u001b[0;34m\u001b[0m        \u001b[0;32mif\u001b[0m \u001b[0mhasattr\u001b[0m\u001b[0;34m(\u001b[0m\u001b[0mview\u001b[0m\u001b[0;34m,\u001b[0m \u001b[0;34m'__len__'\u001b[0m\u001b[0;34m)\u001b[0m \u001b[0;32mand\u001b[0m \u001b[0mlen\u001b[0m\u001b[0;34m(\u001b[0m\u001b[0mview\u001b[0m\u001b[0;34m)\u001b[0m \u001b[0;34m>\u001b[0m \u001b[0mself\u001b[0m\u001b[0;34m.\u001b[0m\u001b[0mwcs\u001b[0m\u001b[0;34m.\u001b[0m\u001b[0mnaxis\u001b[0m\u001b[0;34m:\u001b[0m\u001b[0;34m\u001b[0m\n",
       "\u001b[0;34m\u001b[0m            \u001b[0;32mraise\u001b[0m \u001b[0mValueError\u001b[0m\u001b[0;34m(\u001b[0m\u001b[0;34m\"Must have # of slices <= # of WCS axes\"\u001b[0m\u001b[0;34m)\u001b[0m\u001b[0;34m\u001b[0m\n",
       "\u001b[0;34m\u001b[0m        \u001b[0;32melif\u001b[0m \u001b[0;32mnot\u001b[0m \u001b[0mhasattr\u001b[0m\u001b[0;34m(\u001b[0m\u001b[0mview\u001b[0m\u001b[0;34m,\u001b[0m \u001b[0;34m'__len__'\u001b[0m\u001b[0;34m)\u001b[0m\u001b[0;34m:\u001b[0m  \u001b[0;31m# view MUST be an iterable\u001b[0m\u001b[0;34m\u001b[0m\n",
       "\u001b[0;34m\u001b[0m            \u001b[0mview\u001b[0m \u001b[0;34m=\u001b[0m \u001b[0;34m[\u001b[0m\u001b[0mview\u001b[0m\u001b[0;34m]\u001b[0m\u001b[0;34m\u001b[0m\n",
       "\u001b[0;34m\u001b[0m\u001b[0;34m\u001b[0m\n",
       "\u001b[0;34m\u001b[0m        \u001b[0;32mif\u001b[0m \u001b[0;32mnot\u001b[0m \u001b[0mall\u001b[0m\u001b[0;34m(\u001b[0m\u001b[0misinstance\u001b[0m\u001b[0;34m(\u001b[0m\u001b[0mx\u001b[0m\u001b[0;34m,\u001b[0m \u001b[0mslice\u001b[0m\u001b[0;34m)\u001b[0m \u001b[0;32mfor\u001b[0m \u001b[0mx\u001b[0m \u001b[0;32min\u001b[0m \u001b[0mview\u001b[0m\u001b[0;34m)\u001b[0m\u001b[0;34m:\u001b[0m\u001b[0;34m\u001b[0m\n",
       "\u001b[0;34m\u001b[0m            \u001b[0;31m# We need to drop some dimensions, but this may not always be\u001b[0m\u001b[0;34m\u001b[0m\n",
       "\u001b[0;34m\u001b[0m            \u001b[0;31m# possible with .sub due to correlated axes, so instead we use the\u001b[0m\u001b[0;34m\u001b[0m\n",
       "\u001b[0;34m\u001b[0m            \u001b[0;31m# generalized slicing infrastructure from astropy.wcs.wcsapi.\u001b[0m\u001b[0;34m\u001b[0m\n",
       "\u001b[0;34m\u001b[0m            \u001b[0;32mreturn\u001b[0m \u001b[0mSlicedFITSWCS\u001b[0m\u001b[0;34m(\u001b[0m\u001b[0mself\u001b[0m\u001b[0;34m,\u001b[0m \u001b[0mview\u001b[0m\u001b[0;34m)\u001b[0m\u001b[0;34m\u001b[0m\n",
       "\u001b[0;34m\u001b[0m\u001b[0;34m\u001b[0m\n",
       "\u001b[0;34m\u001b[0m        \u001b[0;31m# NOTE: we could in principle use SlicedFITSWCS as above for all slicing,\u001b[0m\u001b[0;34m\u001b[0m\n",
       "\u001b[0;34m\u001b[0m        \u001b[0;31m# but in the simple case where there are no axes dropped, we can just\u001b[0m\u001b[0;34m\u001b[0m\n",
       "\u001b[0;34m\u001b[0m        \u001b[0;31m# create a full WCS object with updated WCS parameters which is faster\u001b[0m\u001b[0;34m\u001b[0m\n",
       "\u001b[0;34m\u001b[0m        \u001b[0;31m# for this specific case and also backward-compatible.\u001b[0m\u001b[0;34m\u001b[0m\n",
       "\u001b[0;34m\u001b[0m\u001b[0;34m\u001b[0m\n",
       "\u001b[0;34m\u001b[0m        \u001b[0mwcs_new\u001b[0m \u001b[0;34m=\u001b[0m \u001b[0mself\u001b[0m\u001b[0;34m.\u001b[0m\u001b[0mdeepcopy\u001b[0m\u001b[0;34m(\u001b[0m\u001b[0;34m)\u001b[0m\u001b[0;34m\u001b[0m\n",
       "\u001b[0;34m\u001b[0m        \u001b[0;32mif\u001b[0m \u001b[0mwcs_new\u001b[0m\u001b[0;34m.\u001b[0m\u001b[0msip\u001b[0m \u001b[0;32mis\u001b[0m \u001b[0;32mnot\u001b[0m \u001b[0;32mNone\u001b[0m\u001b[0;34m:\u001b[0m\u001b[0;34m\u001b[0m\n",
       "\u001b[0;34m\u001b[0m            \u001b[0msip_crpix\u001b[0m \u001b[0;34m=\u001b[0m \u001b[0mwcs_new\u001b[0m\u001b[0;34m.\u001b[0m\u001b[0msip\u001b[0m\u001b[0;34m.\u001b[0m\u001b[0mcrpix\u001b[0m\u001b[0;34m.\u001b[0m\u001b[0mtolist\u001b[0m\u001b[0;34m(\u001b[0m\u001b[0;34m)\u001b[0m\u001b[0;34m\u001b[0m\n",
       "\u001b[0;34m\u001b[0m\u001b[0;34m\u001b[0m\n",
       "\u001b[0;34m\u001b[0m        \u001b[0;32mfor\u001b[0m \u001b[0mi\u001b[0m\u001b[0;34m,\u001b[0m \u001b[0miview\u001b[0m \u001b[0;32min\u001b[0m \u001b[0menumerate\u001b[0m\u001b[0;34m(\u001b[0m\u001b[0mview\u001b[0m\u001b[0;34m)\u001b[0m\u001b[0;34m:\u001b[0m\u001b[0;34m\u001b[0m\n",
       "\u001b[0;34m\u001b[0m            \u001b[0;32mif\u001b[0m \u001b[0miview\u001b[0m\u001b[0;34m.\u001b[0m\u001b[0mstep\u001b[0m \u001b[0;32mis\u001b[0m \u001b[0;32mnot\u001b[0m \u001b[0;32mNone\u001b[0m \u001b[0;32mand\u001b[0m \u001b[0miview\u001b[0m\u001b[0;34m.\u001b[0m\u001b[0mstep\u001b[0m \u001b[0;34m<\u001b[0m \u001b[0;36m0\u001b[0m\u001b[0;34m:\u001b[0m\u001b[0;34m\u001b[0m\n",
       "\u001b[0;34m\u001b[0m                \u001b[0;32mraise\u001b[0m \u001b[0mNotImplementedError\u001b[0m\u001b[0;34m(\u001b[0m\u001b[0;34m\"Reversing an axis is not \"\u001b[0m\u001b[0;34m\u001b[0m\n",
       "\u001b[0;34m\u001b[0m                                          \u001b[0;34m\"implemented.\"\u001b[0m\u001b[0;34m)\u001b[0m\u001b[0;34m\u001b[0m\n",
       "\u001b[0;34m\u001b[0m\u001b[0;34m\u001b[0m\n",
       "\u001b[0;34m\u001b[0m            \u001b[0;32mif\u001b[0m \u001b[0mnumpy_order\u001b[0m\u001b[0;34m:\u001b[0m\u001b[0;34m\u001b[0m\n",
       "\u001b[0;34m\u001b[0m                \u001b[0mwcs_index\u001b[0m \u001b[0;34m=\u001b[0m \u001b[0mself\u001b[0m\u001b[0;34m.\u001b[0m\u001b[0mwcs\u001b[0m\u001b[0;34m.\u001b[0m\u001b[0mnaxis\u001b[0m \u001b[0;34m-\u001b[0m \u001b[0;36m1\u001b[0m \u001b[0;34m-\u001b[0m \u001b[0mi\u001b[0m\u001b[0;34m\u001b[0m\n",
       "\u001b[0;34m\u001b[0m            \u001b[0;32melse\u001b[0m\u001b[0;34m:\u001b[0m\u001b[0;34m\u001b[0m\n",
       "\u001b[0;34m\u001b[0m                \u001b[0mwcs_index\u001b[0m \u001b[0;34m=\u001b[0m \u001b[0mi\u001b[0m\u001b[0;34m\u001b[0m\n",
       "\u001b[0;34m\u001b[0m\u001b[0;34m\u001b[0m\n",
       "\u001b[0;34m\u001b[0m            \u001b[0;32mif\u001b[0m \u001b[0miview\u001b[0m\u001b[0;34m.\u001b[0m\u001b[0mstep\u001b[0m \u001b[0;32mis\u001b[0m \u001b[0;32mnot\u001b[0m \u001b[0;32mNone\u001b[0m \u001b[0;32mand\u001b[0m \u001b[0miview\u001b[0m\u001b[0;34m.\u001b[0m\u001b[0mstart\u001b[0m \u001b[0;32mis\u001b[0m \u001b[0;32mNone\u001b[0m\u001b[0;34m:\u001b[0m\u001b[0;34m\u001b[0m\n",
       "\u001b[0;34m\u001b[0m                \u001b[0;31m# Slice from \"None\" is equivalent to slice from 0 (but one\u001b[0m\u001b[0;34m\u001b[0m\n",
       "\u001b[0;34m\u001b[0m                \u001b[0;31m# might want to downsample, so allow slices with\u001b[0m\u001b[0;34m\u001b[0m\n",
       "\u001b[0;34m\u001b[0m                \u001b[0;31m# None,None,step or None,stop,step)\u001b[0m\u001b[0;34m\u001b[0m\n",
       "\u001b[0;34m\u001b[0m                \u001b[0miview\u001b[0m \u001b[0;34m=\u001b[0m \u001b[0mslice\u001b[0m\u001b[0;34m(\u001b[0m\u001b[0;36m0\u001b[0m\u001b[0;34m,\u001b[0m \u001b[0miview\u001b[0m\u001b[0;34m.\u001b[0m\u001b[0mstop\u001b[0m\u001b[0;34m,\u001b[0m \u001b[0miview\u001b[0m\u001b[0;34m.\u001b[0m\u001b[0mstep\u001b[0m\u001b[0;34m)\u001b[0m\u001b[0;34m\u001b[0m\n",
       "\u001b[0;34m\u001b[0m\u001b[0;34m\u001b[0m\n",
       "\u001b[0;34m\u001b[0m            \u001b[0;32mif\u001b[0m \u001b[0miview\u001b[0m\u001b[0;34m.\u001b[0m\u001b[0mstart\u001b[0m \u001b[0;32mis\u001b[0m \u001b[0;32mnot\u001b[0m \u001b[0;32mNone\u001b[0m\u001b[0;34m:\u001b[0m\u001b[0;34m\u001b[0m\n",
       "\u001b[0;34m\u001b[0m                \u001b[0;32mif\u001b[0m \u001b[0miview\u001b[0m\u001b[0;34m.\u001b[0m\u001b[0mstep\u001b[0m \u001b[0;32mnot\u001b[0m \u001b[0;32min\u001b[0m \u001b[0;34m(\u001b[0m\u001b[0;32mNone\u001b[0m\u001b[0;34m,\u001b[0m \u001b[0;36m1\u001b[0m\u001b[0;34m)\u001b[0m\u001b[0;34m:\u001b[0m\u001b[0;34m\u001b[0m\n",
       "\u001b[0;34m\u001b[0m                    \u001b[0mcrpix\u001b[0m \u001b[0;34m=\u001b[0m \u001b[0mself\u001b[0m\u001b[0;34m.\u001b[0m\u001b[0mwcs\u001b[0m\u001b[0;34m.\u001b[0m\u001b[0mcrpix\u001b[0m\u001b[0;34m[\u001b[0m\u001b[0mwcs_index\u001b[0m\u001b[0;34m]\u001b[0m\u001b[0;34m\u001b[0m\n",
       "\u001b[0;34m\u001b[0m                    \u001b[0mcdelt\u001b[0m \u001b[0;34m=\u001b[0m \u001b[0mself\u001b[0m\u001b[0;34m.\u001b[0m\u001b[0mwcs\u001b[0m\u001b[0;34m.\u001b[0m\u001b[0mcdelt\u001b[0m\u001b[0;34m[\u001b[0m\u001b[0mwcs_index\u001b[0m\u001b[0;34m]\u001b[0m\u001b[0;34m\u001b[0m\n",
       "\u001b[0;34m\u001b[0m                    \u001b[0;31m# equivalently (keep this comment so you can compare eqns):\u001b[0m\u001b[0;34m\u001b[0m\n",
       "\u001b[0;34m\u001b[0m                    \u001b[0;31m# wcs_new.wcs.crpix[wcs_index] =\u001b[0m\u001b[0;34m\u001b[0m\n",
       "\u001b[0;34m\u001b[0m                    \u001b[0;31m# (crpix - iview.start)*iview.step + 0.5 - iview.step/2.\u001b[0m\u001b[0;34m\u001b[0m\n",
       "\u001b[0;34m\u001b[0m                    \u001b[0mcrp\u001b[0m \u001b[0;34m=\u001b[0m \u001b[0;34m(\u001b[0m\u001b[0;34m(\u001b[0m\u001b[0mcrpix\u001b[0m \u001b[0;34m-\u001b[0m \u001b[0miview\u001b[0m\u001b[0;34m.\u001b[0m\u001b[0mstart\u001b[0m \u001b[0;34m-\u001b[0m \u001b[0;36m1.\u001b[0m\u001b[0;34m)\u001b[0m\u001b[0;34m/\u001b[0m\u001b[0miview\u001b[0m\u001b[0;34m.\u001b[0m\u001b[0mstep\u001b[0m\u001b[0;34m\u001b[0m\n",
       "\u001b[0;34m\u001b[0m                           \u001b[0;34m+\u001b[0m \u001b[0;36m0.5\u001b[0m \u001b[0;34m+\u001b[0m \u001b[0;36m1.\u001b[0m\u001b[0;34m/\u001b[0m\u001b[0miview\u001b[0m\u001b[0;34m.\u001b[0m\u001b[0mstep\u001b[0m\u001b[0;34m/\u001b[0m\u001b[0;36m2.\u001b[0m\u001b[0;34m)\u001b[0m\u001b[0;34m\u001b[0m\n",
       "\u001b[0;34m\u001b[0m                    \u001b[0mwcs_new\u001b[0m\u001b[0;34m.\u001b[0m\u001b[0mwcs\u001b[0m\u001b[0;34m.\u001b[0m\u001b[0mcrpix\u001b[0m\u001b[0;34m[\u001b[0m\u001b[0mwcs_index\u001b[0m\u001b[0;34m]\u001b[0m \u001b[0;34m=\u001b[0m \u001b[0mcrp\u001b[0m\u001b[0;34m\u001b[0m\n",
       "\u001b[0;34m\u001b[0m                    \u001b[0;32mif\u001b[0m \u001b[0mwcs_new\u001b[0m\u001b[0;34m.\u001b[0m\u001b[0msip\u001b[0m \u001b[0;32mis\u001b[0m \u001b[0;32mnot\u001b[0m \u001b[0;32mNone\u001b[0m\u001b[0;34m:\u001b[0m\u001b[0;34m\u001b[0m\n",
       "\u001b[0;34m\u001b[0m                        \u001b[0msip_crpix\u001b[0m\u001b[0;34m[\u001b[0m\u001b[0mwcs_index\u001b[0m\u001b[0;34m]\u001b[0m \u001b[0;34m=\u001b[0m \u001b[0mcrp\u001b[0m\u001b[0;34m\u001b[0m\n",
       "\u001b[0;34m\u001b[0m                    \u001b[0mwcs_new\u001b[0m\u001b[0;34m.\u001b[0m\u001b[0mwcs\u001b[0m\u001b[0;34m.\u001b[0m\u001b[0mcdelt\u001b[0m\u001b[0;34m[\u001b[0m\u001b[0mwcs_index\u001b[0m\u001b[0;34m]\u001b[0m \u001b[0;34m=\u001b[0m \u001b[0mcdelt\u001b[0m \u001b[0;34m*\u001b[0m \u001b[0miview\u001b[0m\u001b[0;34m.\u001b[0m\u001b[0mstep\u001b[0m\u001b[0;34m\u001b[0m\n",
       "\u001b[0;34m\u001b[0m                \u001b[0;32melse\u001b[0m\u001b[0;34m:\u001b[0m\u001b[0;34m\u001b[0m\n",
       "\u001b[0;34m\u001b[0m                    \u001b[0mwcs_new\u001b[0m\u001b[0;34m.\u001b[0m\u001b[0mwcs\u001b[0m\u001b[0;34m.\u001b[0m\u001b[0mcrpix\u001b[0m\u001b[0;34m[\u001b[0m\u001b[0mwcs_index\u001b[0m\u001b[0;34m]\u001b[0m \u001b[0;34m-=\u001b[0m \u001b[0miview\u001b[0m\u001b[0;34m.\u001b[0m\u001b[0mstart\u001b[0m\u001b[0;34m\u001b[0m\n",
       "\u001b[0;34m\u001b[0m                    \u001b[0;32mif\u001b[0m \u001b[0mwcs_new\u001b[0m\u001b[0;34m.\u001b[0m\u001b[0msip\u001b[0m \u001b[0;32mis\u001b[0m \u001b[0;32mnot\u001b[0m \u001b[0;32mNone\u001b[0m\u001b[0;34m:\u001b[0m\u001b[0;34m\u001b[0m\n",
       "\u001b[0;34m\u001b[0m                        \u001b[0msip_crpix\u001b[0m\u001b[0;34m[\u001b[0m\u001b[0mwcs_index\u001b[0m\u001b[0;34m]\u001b[0m \u001b[0;34m-=\u001b[0m \u001b[0miview\u001b[0m\u001b[0;34m.\u001b[0m\u001b[0mstart\u001b[0m\u001b[0;34m\u001b[0m\n",
       "\u001b[0;34m\u001b[0m\u001b[0;34m\u001b[0m\n",
       "\u001b[0;34m\u001b[0m            \u001b[0;32mtry\u001b[0m\u001b[0;34m:\u001b[0m\u001b[0;34m\u001b[0m\n",
       "\u001b[0;34m\u001b[0m                \u001b[0;31m# range requires integers but the other attributes can also\u001b[0m\u001b[0;34m\u001b[0m\n",
       "\u001b[0;34m\u001b[0m                \u001b[0;31m# handle arbitrary values, so this needs to be in a try/except.\u001b[0m\u001b[0;34m\u001b[0m\n",
       "\u001b[0;34m\u001b[0m                \u001b[0mnitems\u001b[0m \u001b[0;34m=\u001b[0m \u001b[0mlen\u001b[0m\u001b[0;34m(\u001b[0m\u001b[0mbuiltins\u001b[0m\u001b[0;34m.\u001b[0m\u001b[0mrange\u001b[0m\u001b[0;34m(\u001b[0m\u001b[0mself\u001b[0m\u001b[0;34m.\u001b[0m\u001b[0m_naxis\u001b[0m\u001b[0;34m[\u001b[0m\u001b[0mwcs_index\u001b[0m\u001b[0;34m]\u001b[0m\u001b[0;34m)\u001b[0m\u001b[0;34m[\u001b[0m\u001b[0miview\u001b[0m\u001b[0;34m]\u001b[0m\u001b[0;34m)\u001b[0m\u001b[0;34m\u001b[0m\n",
       "\u001b[0;34m\u001b[0m            \u001b[0;32mexcept\u001b[0m \u001b[0mTypeError\u001b[0m \u001b[0;32mas\u001b[0m \u001b[0mexc\u001b[0m\u001b[0;34m:\u001b[0m\u001b[0;34m\u001b[0m\n",
       "\u001b[0;34m\u001b[0m                \u001b[0;32mif\u001b[0m \u001b[0;34m'indices must be integers'\u001b[0m \u001b[0;32mnot\u001b[0m \u001b[0;32min\u001b[0m \u001b[0mstr\u001b[0m\u001b[0;34m(\u001b[0m\u001b[0mexc\u001b[0m\u001b[0;34m)\u001b[0m\u001b[0;34m:\u001b[0m\u001b[0;34m\u001b[0m\n",
       "\u001b[0;34m\u001b[0m                    \u001b[0;32mraise\u001b[0m\u001b[0;34m\u001b[0m\n",
       "\u001b[0;34m\u001b[0m                \u001b[0mwarnings\u001b[0m\u001b[0;34m.\u001b[0m\u001b[0mwarn\u001b[0m\u001b[0;34m(\u001b[0m\u001b[0;34m\"NAXIS{} attribute is not updated because at \"\u001b[0m\u001b[0;34m\u001b[0m\n",
       "\u001b[0;34m\u001b[0m                              \u001b[0;34m\"least one index ('{}') is no integer.\"\u001b[0m\u001b[0;34m\u001b[0m\n",
       "\u001b[0;34m\u001b[0m                              \u001b[0;34m\"\"\u001b[0m\u001b[0;34m.\u001b[0m\u001b[0mformat\u001b[0m\u001b[0;34m(\u001b[0m\u001b[0mwcs_index\u001b[0m\u001b[0;34m,\u001b[0m \u001b[0miview\u001b[0m\u001b[0;34m)\u001b[0m\u001b[0;34m,\u001b[0m \u001b[0mAstropyUserWarning\u001b[0m\u001b[0;34m)\u001b[0m\u001b[0;34m\u001b[0m\n",
       "\u001b[0;34m\u001b[0m            \u001b[0;32melse\u001b[0m\u001b[0;34m:\u001b[0m\u001b[0;34m\u001b[0m\n",
       "\u001b[0;34m\u001b[0m                \u001b[0mwcs_new\u001b[0m\u001b[0;34m.\u001b[0m\u001b[0m_naxis\u001b[0m\u001b[0;34m[\u001b[0m\u001b[0mwcs_index\u001b[0m\u001b[0;34m]\u001b[0m \u001b[0;34m=\u001b[0m \u001b[0mnitems\u001b[0m\u001b[0;34m\u001b[0m\n",
       "\u001b[0;34m\u001b[0m\u001b[0;34m\u001b[0m\n",
       "\u001b[0;34m\u001b[0m        \u001b[0;32mif\u001b[0m \u001b[0mwcs_new\u001b[0m\u001b[0;34m.\u001b[0m\u001b[0msip\u001b[0m \u001b[0;32mis\u001b[0m \u001b[0;32mnot\u001b[0m \u001b[0;32mNone\u001b[0m\u001b[0;34m:\u001b[0m\u001b[0;34m\u001b[0m\n",
       "\u001b[0;34m\u001b[0m            \u001b[0mwcs_new\u001b[0m\u001b[0;34m.\u001b[0m\u001b[0msip\u001b[0m \u001b[0;34m=\u001b[0m \u001b[0mSip\u001b[0m\u001b[0;34m(\u001b[0m\u001b[0mself\u001b[0m\u001b[0;34m.\u001b[0m\u001b[0msip\u001b[0m\u001b[0;34m.\u001b[0m\u001b[0ma\u001b[0m\u001b[0;34m,\u001b[0m \u001b[0mself\u001b[0m\u001b[0;34m.\u001b[0m\u001b[0msip\u001b[0m\u001b[0;34m.\u001b[0m\u001b[0mb\u001b[0m\u001b[0;34m,\u001b[0m \u001b[0mself\u001b[0m\u001b[0;34m.\u001b[0m\u001b[0msip\u001b[0m\u001b[0;34m.\u001b[0m\u001b[0map\u001b[0m\u001b[0;34m,\u001b[0m \u001b[0mself\u001b[0m\u001b[0;34m.\u001b[0m\u001b[0msip\u001b[0m\u001b[0;34m.\u001b[0m\u001b[0mbp\u001b[0m\u001b[0;34m,\u001b[0m\u001b[0;34m\u001b[0m\n",
       "\u001b[0;34m\u001b[0m                              \u001b[0msip_crpix\u001b[0m\u001b[0;34m)\u001b[0m\u001b[0;34m\u001b[0m\n",
       "\u001b[0;34m\u001b[0m\u001b[0;34m\u001b[0m\n",
       "\u001b[0;34m\u001b[0m        \u001b[0;32mreturn\u001b[0m \u001b[0mwcs_new\u001b[0m\u001b[0;34m\u001b[0m\u001b[0;34m\u001b[0m\u001b[0m\n",
       "\u001b[0;31mFile:\u001b[0m      /orange/adamginsburg/miniconda3/envs/python39/lib/python3.9/site-packages/astropy/wcs/wcs.py\n",
       "\u001b[0;31mType:\u001b[0m      method\n"
      ]
     },
     "metadata": {},
     "output_type": "display_data"
    }
   ],
   "source": [
    "wcs1.slice??"
   ]
  },
  {
   "cell_type": "code",
   "execution_count": null,
   "id": "19d09ab8-016d-4009-821b-2d3e01d47cad",
   "metadata": {},
   "outputs": [],
   "source": []
  }
 ],
 "metadata": {
  "kernelspec": {
   "display_name": "python39",
   "language": "python",
   "name": "python39"
  },
  "language_info": {
   "codemirror_mode": {
    "name": "ipython",
    "version": 3
   },
   "file_extension": ".py",
   "mimetype": "text/x-python",
   "name": "python",
   "nbconvert_exporter": "python",
   "pygments_lexer": "ipython3",
   "version": "3.9.13"
  }
 },
 "nbformat": 4,
 "nbformat_minor": 5
}
