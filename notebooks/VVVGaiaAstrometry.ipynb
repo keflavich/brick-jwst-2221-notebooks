{
 "cells": [
  {
   "cell_type": "markdown",
   "id": "0e8d0eb8-f373-4f53-b5e9-6c896f143a7d",
   "metadata": {},
   "source": [
    "# Make a catalog to cross-match to for astrometry"
   ]
  },
  {
   "cell_type": "markdown",
   "id": "f9611f50-a3e7-445e-b097-e9dff1db890d",
   "metadata": {},
   "source": [
    "Gaia does not seem to have enough stars, nor  does 2MASS\n",
    "\n",
    "VVV does, but the matches aren't good enough, so we need to use our own..."
   ]
  },
  {
   "cell_type": "code",
   "execution_count": null,
   "id": "0bec5e66-b032-4f40-83e5-dbdac4397b8e",
   "metadata": {},
   "outputs": [],
   "source": [
    "import numpy as np"
   ]
  },
  {
   "cell_type": "code",
   "execution_count": null,
   "id": "ab69e5ca-364a-4b91-a581-dc6747a256bc",
   "metadata": {},
   "outputs": [],
   "source": [
    "import astropy.units as u\n",
    "from astropy.coordinates import SkyCoord\n",
    "from astroquery.gaia import Gaia\n",
    "from astropy.table import Table\n",
    "from astropy.io import fits\n",
    "from astropy import wcs\n",
    "from astropy.wcs import WCS\n",
    "import regions\n",
    "from astroquery.vizier import Vizier"
   ]
  },
  {
   "cell_type": "code",
   "execution_count": null,
   "id": "923ab066-97c5-4f8b-8f3c-c781a2f57bd5",
   "metadata": {},
   "outputs": [],
   "source": [
    "from astropy.visualization import quantity_support"
   ]
  },
  {
   "cell_type": "code",
   "execution_count": null,
   "id": "50989de9-1b0c-4efc-b43d-871f17ea695d",
   "metadata": {},
   "outputs": [],
   "source": [
    "%matplotlib inline\n",
    "import pylab as pl"
   ]
  },
  {
   "cell_type": "code",
   "execution_count": null,
   "id": "c4348d80-b29a-4dc9-bdfc-69f575f03911",
   "metadata": {},
   "outputs": [],
   "source": [
    "basepath = '/orange/adamginsburg/jwst/brick/'"
   ]
  },
  {
   "cell_type": "code",
   "execution_count": null,
   "id": "ab5f098f-dd95-4fac-933c-db43a34004cc",
   "metadata": {},
   "outputs": [],
   "source": [
    "fov = regions.Regions.read(f'{basepath}/regions/nircam_fov.reg')"
   ]
  },
  {
   "cell_type": "code",
   "execution_count": null,
   "id": "eaf09f25-587d-42f3-8709-b30156442966",
   "metadata": {},
   "outputs": [],
   "source": [
    "coord = fov[0].center\n",
    "height = fov[0].height\n",
    "width = fov[0].width\n",
    "height, width = width, height # CARTA wrote it wrong\n",
    "coord, width, height"
   ]
  },
  {
   "cell_type": "code",
   "execution_count": null,
   "id": "7eaf29d6-7463-44ec-be26-3094b77fcd1d",
   "metadata": {},
   "outputs": [],
   "source": [
    "Gaia.ROW_LIMIT = 10000\n",
    "rslt = Gaia.query_object_async(coordinate=coord, width=width, height=height)"
   ]
  },
  {
   "cell_type": "code",
   "execution_count": null,
   "id": "2d5ed313-6a49-455e-b7b0-7e3303a9275c",
   "metadata": {},
   "outputs": [],
   "source": [
    "gaiacrds = SkyCoord(rslt['ra'], rslt['dec'], frame='icrs')\n",
    "len(gaiacrds)"
   ]
  },
  {
   "cell_type": "code",
   "execution_count": null,
   "id": "668e45ab-6284-4955-a635-0cc0a63756da",
   "metadata": {},
   "outputs": [],
   "source": [
    "regs = regions.Regions([regions.PointSkyRegion(crd) for crd in gaiacrds])"
   ]
  },
  {
   "cell_type": "code",
   "execution_count": null,
   "id": "b910a9fa-9c74-4c60-815d-88aba3e896c8",
   "metadata": {},
   "outputs": [],
   "source": [
    "regs.write(f'{basepath}/regions/gaia_sources.reg', overwrite=True)"
   ]
  },
  {
   "cell_type": "code",
   "execution_count": null,
   "id": "42913ef1-eab9-4bce-8091-68c83cd31b02",
   "metadata": {},
   "outputs": [],
   "source": [
    "Vizier.find_catalogs('2MASS Point Source')"
   ]
  },
  {
   "cell_type": "code",
   "execution_count": null,
   "id": "a52ada02-0e24-41c9-9543-be2230a41e73",
   "metadata": {},
   "outputs": [],
   "source": [
    "Vizier.ROW_LIMIT = 5e4"
   ]
  },
  {
   "cell_type": "code",
   "execution_count": null,
   "id": "606d83d7-d637-4fed-b732-b8b517a0ea2f",
   "metadata": {},
   "outputs": [],
   "source": [
    "galnuc2019 = Vizier.query_region(coordinates=coord, width=width, height=height, catalog=['J/A+A/631/A20'])[0]\n",
    "galnuc2019[:3]"
   ]
  },
  {
   "cell_type": "code",
   "execution_count": null,
   "id": "7e20cd37-e1e8-4412-9696-3f70e5ea69a9",
   "metadata": {},
   "outputs": [],
   "source": [
    "galnuc2021 = Vizier.query_region(coordinates=coord, width=width, height=height, catalog=['J/A+A/653/A133'])[0]\n",
    "galnuc2021[:3]"
   ]
  },
  {
   "cell_type": "code",
   "execution_count": null,
   "id": "401d1a54-72f8-448e-96cb-1aabaa956851",
   "metadata": {},
   "outputs": [],
   "source": [
    "# FK5 because it says 'J2000' on the Vizier page (same as twomass)\n",
    "galnuc2021_crds = SkyCoord(galnuc2021['RAJ2000'], galnuc2021['DEJ2000'], frame='fk5')"
   ]
  },
  {
   "cell_type": "code",
   "execution_count": null,
   "id": "3f1039a2-d0b8-4dbe-879c-604d162da3fc",
   "metadata": {},
   "outputs": [],
   "source": [
    "vvvdr2 = Vizier.query_region(coordinates=coord, width=width, height=height, catalog=['II/348/vvv2'])[0]\n",
    "vvvdr2[:3]\n",
    "len(vvvdr2)"
   ]
  },
  {
   "cell_type": "code",
   "execution_count": null,
   "id": "e9454112-72f3-438f-834a-aa5f7bf7d095",
   "metadata": {},
   "outputs": [],
   "source": [
    "vvvdr2.write(f'{basepath}/regions/vvvdr2.fits', overwrite=True)"
   ]
  },
  {
   "cell_type": "code",
   "execution_count": null,
   "id": "d2a9618f-a9f8-427e-8e05-35e1f6289485",
   "metadata": {},
   "outputs": [],
   "source": [
    "# FK5 because it says 'J2000' on the Vizier page (same as twomass)\n",
    "vvvdr2_crds = SkyCoord(vvvdr2['RAJ2000'], vvvdr2['DEJ2000'], frame='fk5')"
   ]
  },
  {
   "cell_type": "code",
   "execution_count": null,
   "id": "c2b7d1ac-13c1-428b-bd3a-b4de6d527078",
   "metadata": {},
   "outputs": [],
   "source": [
    "Vizier.ROW_LIMIT = 1e4\n",
    "twomass = Vizier.query_region(coordinates=coord, width=width, height=height, catalog=['II/246'])[0]\n",
    "twomass[:3]"
   ]
  },
  {
   "cell_type": "code",
   "execution_count": null,
   "id": "a391cabb-9591-4e38-aa53-e1dc3d5d0332",
   "metadata": {},
   "outputs": [],
   "source": [
    "twomass.meta['description'] = '2MASS Point Source Catalog'"
   ]
  },
  {
   "cell_type": "code",
   "execution_count": null,
   "id": "3e931643-d616-45dc-ba49-f2fe6d21b51d",
   "metadata": {},
   "outputs": [],
   "source": [
    "twomass.write(f'{basepath}/regions/twomass.fits', overwrite=True)"
   ]
  },
  {
   "cell_type": "code",
   "execution_count": null,
   "id": "7bc1fa1e-77dc-4dac-b83b-35e267274229",
   "metadata": {},
   "outputs": [],
   "source": [
    "# FK5 because it says 'J2000' on the Vizier page\n",
    "twomass_crds = SkyCoord(twomass['RAJ2000'], twomass['DEJ2000'], frame='fk5')"
   ]
  },
  {
   "cell_type": "markdown",
   "id": "6aeb9ea1-91b4-4d1d-9099-acc5c419eea9",
   "metadata": {},
   "source": [
    "# Test cross-match (to be put in the pipeline when it works)"
   ]
  },
  {
   "cell_type": "code",
   "execution_count": null,
   "id": "97345dc7-343e-4d43-968f-5436e74ea52f",
   "metadata": {
    "tags": []
   },
   "outputs": [],
   "source": [
    "from astropy.table import Table"
   ]
  },
  {
   "cell_type": "code",
   "execution_count": null,
   "id": "68daae88-eede-4a8b-8633-4a9ffa765b1d",
   "metadata": {},
   "outputs": [],
   "source": [
    "filtername = 'f212n'\n",
    "module = 'nrca'\n",
    "catfile = f'{basepath}/{filtername.upper()}/pipeline/jw02221-o001_t001_nircam_clear-{filtername}-{module}_cat.ecsv'\n",
    "imfile = f'{basepath}/{filtername.upper()}/pipeline/jw02221-o001_t001_nircam_clear-{filtername}-{module}_i2d.fits'\n",
    "cat = Table.read(catfile)\n",
    "cat.write(catfile.replace('ecsv', 'fits'), overwrite=True) # for CARTA viewing"
   ]
  },
  {
   "cell_type": "code",
   "execution_count": null,
   "id": "64e0c8de-1c3f-43e7-b30d-ad5996d6e43c",
   "metadata": {},
   "outputs": [],
   "source": [
    "cat[:3]"
   ]
  },
  {
   "cell_type": "code",
   "execution_count": null,
   "id": "18e2c17e-7e6b-4eab-9cce-a5d49dc9b319",
   "metadata": {},
   "outputs": [],
   "source": [
    "skycrds_cat = cat['sky_centroid']"
   ]
  },
  {
   "cell_type": "code",
   "execution_count": null,
   "id": "49c23377-5739-43f0-af2a-98ed34a55262",
   "metadata": {},
   "outputs": [],
   "source": [
    "idx, sidx, sep, sep3d = gaiacrds.search_around_sky(skycrds_cat, 0.2*u.arcsec)"
   ]
  },
  {
   "cell_type": "code",
   "execution_count": null,
   "id": "343cf531-b64a-4dc3-8e99-d43559b0df3d",
   "metadata": {},
   "outputs": [],
   "source": [
    "len(idx)"
   ]
  },
  {
   "cell_type": "code",
   "execution_count": null,
   "id": "8b8db2c2-d2e3-4081-a829-1a0f7f4061e9",
   "metadata": {},
   "outputs": [],
   "source": [
    "dra = (skycrds_cat[idx].ra - gaiacrds[sidx].ra).to(u.arcsec)\n",
    "ddec = (skycrds_cat[idx].dec - gaiacrds[sidx].dec).to(u.arcsec)"
   ]
  },
  {
   "cell_type": "code",
   "execution_count": null,
   "id": "d5c91221-4018-4370-b28a-a7b3ee60bfe3",
   "metadata": {},
   "outputs": [],
   "source": [
    "pl.title(\"Separation from Gaia sources\")\n",
    "pl.scatter(dra, ddec);"
   ]
  },
  {
   "cell_type": "code",
   "execution_count": null,
   "id": "b8a5c70a-39ea-473c-a654-b84bbcc37bb7",
   "metadata": {},
   "outputs": [],
   "source": [
    "with quantity_support():\n",
    "    pl.scatter(gaiacrds.ra, gaiacrds.dec)\n",
    "    pl.scatter(gaiacrds.ra[sidx], gaiacrds.dec[sidx])\n",
    "    pl.scatter([fov[0].center.ra - fov[0].height/2,\n",
    "                fov[0].center.ra + fov[0].height/2,\n",
    "                fov[0].center.ra - fov[0].height/2,\n",
    "                fov[0].center.ra + fov[0].height/2,],\n",
    "               [fov[0].center.dec - fov[0].width/2,\n",
    "                fov[0].center.dec - fov[0].width/2,\n",
    "                fov[0].center.dec + fov[0].width/2,\n",
    "                fov[0].center.dec + fov[0].width/2,]\n",
    "              )\n",
    "    pl.colorbar()\n",
    "    pl.title(\"Orange are matched, blue are all Gaia coordinates, green show FOV corners\")"
   ]
  },
  {
   "cell_type": "code",
   "execution_count": null,
   "id": "57c50c30-3e58-49c3-8a25-f5bc676d7ce2",
   "metadata": {},
   "outputs": [],
   "source": []
  },
  {
   "cell_type": "code",
   "execution_count": null,
   "id": "68d9448c-e2c3-4905-b125-25414fce8e6c",
   "metadata": {},
   "outputs": [],
   "source": [
    "idx, sidx, sep, sep3d = twomass_crds.search_around_sky(skycrds_cat, 0.2*u.arcsec)"
   ]
  },
  {
   "cell_type": "code",
   "execution_count": null,
   "id": "82c0e297-7e5b-48a2-a40d-cba366df56d5",
   "metadata": {},
   "outputs": [],
   "source": [
    "len(idx)"
   ]
  },
  {
   "cell_type": "code",
   "execution_count": null,
   "id": "73303889-805f-44df-923e-233ebc83efba",
   "metadata": {},
   "outputs": [],
   "source": [
    "dra = skycrds_cat[idx].ra - twomass_crds[sidx].ra\n",
    "ddec = skycrds_cat[idx].dec - twomass_crds[sidx].dec"
   ]
  },
  {
   "cell_type": "code",
   "execution_count": null,
   "id": "0a6c4896-15e7-4e7b-8a8e-de457ea25a75",
   "metadata": {},
   "outputs": [],
   "source": [
    "pl.title(\"2MASS offsets\")\n",
    "pl.scatter(dra, ddec);"
   ]
  },
  {
   "cell_type": "code",
   "execution_count": null,
   "id": "582b6b7c-18a9-4b35-86c0-f74b34ec3cff",
   "metadata": {},
   "outputs": [],
   "source": [
    "with quantity_support():\n",
    "    pl.scatter(twomass_crds.ra, twomass_crds.dec)\n",
    "    pl.scatter(twomass_crds.ra[sidx], twomass_crds.dec[sidx])\n",
    "    pl.scatter([fov[0].center.ra - fov[0].height/2,\n",
    "                fov[0].center.ra + fov[0].height/2,\n",
    "                fov[0].center.ra - fov[0].height/2,\n",
    "                fov[0].center.ra + fov[0].height/2,],\n",
    "               [fov[0].center.dec - fov[0].width/2,\n",
    "                fov[0].center.dec - fov[0].width/2,\n",
    "                fov[0].center.dec + fov[0].width/2,\n",
    "                fov[0].center.dec + fov[0].width/2,]\n",
    "              )\n",
    "    pl.colorbar()"
   ]
  },
  {
   "cell_type": "code",
   "execution_count": null,
   "id": "2ac35a4c-6459-4970-b16f-5b47851cbadb",
   "metadata": {},
   "outputs": [],
   "source": []
  },
  {
   "cell_type": "code",
   "execution_count": null,
   "id": "8ed313c4-bf7e-4f19-99d5-770ccd10eab2",
   "metadata": {},
   "outputs": [],
   "source": []
  },
  {
   "cell_type": "code",
   "execution_count": null,
   "id": "249d8479-4568-40d9-ba2b-1b1fe59eb9d4",
   "metadata": {},
   "outputs": [],
   "source": [
    "idx, sidx, sep, sep3d = galnuc2021_crds.search_around_sky(skycrds_cat, 0.2*u.arcsec)"
   ]
  },
  {
   "cell_type": "code",
   "execution_count": null,
   "id": "8c52ebd5-807b-47eb-8429-dffeabbaab68",
   "metadata": {},
   "outputs": [],
   "source": [
    "len(idx)"
   ]
  },
  {
   "cell_type": "code",
   "execution_count": null,
   "id": "d26c797d-ae4a-4880-b69f-a019450637ad",
   "metadata": {},
   "outputs": [],
   "source": [
    "dra = (skycrds_cat[idx].ra - galnuc2021_crds[sidx].ra).to(u.arcsec)\n",
    "ddec = (skycrds_cat[idx].dec - galnuc2021_crds[sidx].dec).to(u.arcsec)"
   ]
  },
  {
   "cell_type": "code",
   "execution_count": null,
   "id": "46c13e7c-342b-434b-a3d2-9091e9b7949d",
   "metadata": {},
   "outputs": [],
   "source": [
    "pl.scatter(dra, ddec, s=1, alpha=0.1)"
   ]
  },
  {
   "cell_type": "code",
   "execution_count": null,
   "id": "1124c5a8-45f4-447d-9995-7dcc8e4f1a8c",
   "metadata": {},
   "outputs": [],
   "source": [
    "pl.scatter(skycrds_cat[idx].ra, skycrds_cat[idx].dec, c=cat['aper30_abmag'][idx], s=1)\n",
    "pl.colorbar()"
   ]
  },
  {
   "cell_type": "code",
   "execution_count": null,
   "id": "5a19b619-6cbe-4937-a9e5-e5e94021f6a4",
   "metadata": {},
   "outputs": [],
   "source": [
    "with quantity_support():\n",
    "    pl.scatter(galnuc2021_crds.ra, galnuc2021_crds.dec)\n",
    "    pl.scatter(galnuc2021_crds.ra[sidx], galnuc2021_crds.dec[sidx])\n",
    "    pl.scatter([fov[0].center.ra - fov[0].height/2,\n",
    "                fov[0].center.ra + fov[0].height/2,\n",
    "                fov[0].center.ra - fov[0].height/2,\n",
    "                fov[0].center.ra + fov[0].height/2,],\n",
    "               [fov[0].center.dec - fov[0].width/2,\n",
    "                fov[0].center.dec - fov[0].width/2,\n",
    "                fov[0].center.dec + fov[0].width/2,\n",
    "                fov[0].center.dec + fov[0].width/2,]\n",
    "              )\n",
    "    pl.colorbar()\n",
    "    pl.title(\"GALACTINUCLEUS is great but covers only half the field\")"
   ]
  },
  {
   "cell_type": "markdown",
   "id": "f7f7dc77-d2a1-4be1-8e7d-5090d7969e89",
   "metadata": {},
   "source": [
    "# VVV offsets"
   ]
  },
  {
   "cell_type": "code",
   "execution_count": null,
   "id": "95e6dc40-0c4e-4539-9a34-9a37027a1fb8",
   "metadata": {},
   "outputs": [],
   "source": [
    "idx, sidx, sep, sep3d = vvvdr2_crds.search_around_sky(skycrds_cat, 0.2*u.arcsec)"
   ]
  },
  {
   "cell_type": "code",
   "execution_count": null,
   "id": "ddad4d4a-0fcb-41f1-8c0e-58dbd956d2f2",
   "metadata": {},
   "outputs": [],
   "source": [
    "len(idx)"
   ]
  },
  {
   "cell_type": "code",
   "execution_count": null,
   "id": "2ea74ee7-a21c-4ddc-a1cb-fddd85041cfe",
   "metadata": {},
   "outputs": [],
   "source": [
    "dra = (skycrds_cat[idx].ra - vvvdr2_crds[sidx].ra).to(u.arcsec)\n",
    "ddec = (skycrds_cat[idx].dec - vvvdr2_crds[sidx].dec).to(u.arcsec)"
   ]
  },
  {
   "cell_type": "code",
   "execution_count": null,
   "id": "4f234237-8456-4368-9d08-6fa490d34a33",
   "metadata": {},
   "outputs": [],
   "source": [
    "pl.scatter(dra, ddec, s=1, alpha=0.5)"
   ]
  },
  {
   "cell_type": "code",
   "execution_count": null,
   "id": "b73da53f-e7cd-4811-b718-ea3dca9a90e5",
   "metadata": {},
   "outputs": [],
   "source": [
    "pl.scatter(skycrds_cat[idx].ra, skycrds_cat[idx].dec, c=cat['aper30_abmag'][idx], s=1)\n",
    "pl.colorbar()"
   ]
  },
  {
   "cell_type": "code",
   "execution_count": null,
   "id": "85cf827c-e81f-4ae7-b8bf-ff5ec74032fa",
   "metadata": {},
   "outputs": [],
   "source": [
    "with quantity_support():\n",
    "    pl.scatter(vvvdr2_crds.ra, vvvdr2_crds.dec)\n",
    "    pl.scatter(vvvdr2_crds.ra[sidx], vvvdr2_crds.dec[sidx])\n",
    "    pl.scatter([fov[0].center.ra - fov[0].height/2,\n",
    "                fov[0].center.ra + fov[0].height/2,\n",
    "                fov[0].center.ra - fov[0].height/2,\n",
    "                fov[0].center.ra + fov[0].height/2,],\n",
    "               [fov[0].center.dec - fov[0].width/2,\n",
    "                fov[0].center.dec - fov[0].width/2,\n",
    "                fov[0].center.dec + fov[0].width/2,\n",
    "                fov[0].center.dec + fov[0].width/2,]\n",
    "              )\n",
    "    pl.colorbar()"
   ]
  },
  {
   "cell_type": "code",
   "execution_count": null,
   "id": "1d7724a6-bfb8-44bb-82ac-e25016eb329f",
   "metadata": {},
   "outputs": [],
   "source": []
  },
  {
   "cell_type": "markdown",
   "id": "e6bc8f60-62dd-4be4-9ee8-61e6572f1987",
   "metadata": {},
   "source": [
    "# VVV\n",
    "\n",
    "VVV looks pretty good superposed on the images.\n",
    "\n",
    "The offset is generally <0.2 arcsec, often <0.1, but there's a systematic shift.\n",
    "\n",
    "The flux range that matches is:\n",
    "\n",
    "F187N : ~ 500 - 3000 MJy/sr\n",
    "\n",
    "F182M, F212N: seems ~same-ish\n",
    "\n",
    "Actually looks same-ish for the long wave too"
   ]
  },
  {
   "cell_type": "markdown",
   "id": "62a88c95-f598-49ef-9642-39b5b79db801",
   "metadata": {},
   "source": [
    "Argh, what's the MJy/sr conversion?"
   ]
  },
  {
   "cell_type": "code",
   "execution_count": null,
   "id": "cfa2e6d6-4be7-487d-b57c-ea5fbbe20d2d",
   "metadata": {},
   "outputs": [],
   "source": [
    "from astropy.wcs import WCS\n",
    "from astropy.io import fits"
   ]
  },
  {
   "cell_type": "code",
   "execution_count": null,
   "id": "ae7dda9a-43bd-4127-82fd-39e478ceb638",
   "metadata": {},
   "outputs": [],
   "source": [
    "ww =  WCS(fits.getheader(imfile, ext=('SCI', 1)))\n",
    "pixscale = ww.proj_plane_pixel_area()"
   ]
  },
  {
   "cell_type": "code",
   "execution_count": null,
   "id": "001ada7b-87cf-4b36-81f9-c5ee3aa6aae8",
   "metadata": {},
   "outputs": [],
   "source": [
    "import numpy as np"
   ]
  },
  {
   "cell_type": "markdown",
   "id": "97733a52-6034-4638-970e-1b7f14cf1315",
   "metadata": {},
   "source": [
    "## Approximate Jy/beam"
   ]
  },
  {
   "cell_type": "code",
   "execution_count": null,
   "id": "58d8313a-9db1-4601-8785-c34b82f8499d",
   "metadata": {},
   "outputs": [],
   "source": [
    "(u.MJy/u.sr * (2*np.pi * (8*np.log(2)) * 2.5**2 * pixscale)).to(u.Jy)"
   ]
  },
  {
   "cell_type": "markdown",
   "id": "63d747b5-9149-4304-b5c5-ad2cea2b9296",
   "metadata": {},
   "source": [
    "but that doesn't seem to work."
   ]
  },
  {
   "cell_type": "markdown",
   "id": "b4f938c2-ddc7-4e3d-98af-b0e4ffdbaccf",
   "metadata": {},
   "source": [
    "Empirically,\n",
    "\n",
    "8.5e-5 Jy -> 1933 MJy/sr\n",
    "1.1e-5 Jy ->  165 MJy/sr\n",
    "2.1e-5 Jy ->  350 MJy/sr"
   ]
  },
  {
   "cell_type": "markdown",
   "id": "98329d2d-369d-4eda-a136-e7334a689e58",
   "metadata": {},
   "source": [
    "So there are ~70 nJy / (MJy/sr)"
   ]
  },
  {
   "cell_type": "code",
   "execution_count": null,
   "id": "d9519725-f043-4b9f-a236-6889c791a4a9",
   "metadata": {},
   "outputs": [],
   "source": [
    "1.1e-5 / 165"
   ]
  },
  {
   "cell_type": "raw",
   "id": "6810972d-420f-4742-bd02-be4f228ede9a",
   "metadata": {},
   "source": [
    "    tbl.meta['pixelscale'] = ww.proj_plane_pixel_area()\n",
    "    flux_jy = (tbl['flux'] * u.MJy/u.sr * (2*np.pi / (8*np.log(2))) * tbl['fwhm']**2 * tbl.meta['pixelscale']).to(u.Jy)"
   ]
  },
  {
   "cell_type": "code",
   "execution_count": null,
   "id": "a2024fad-f64a-4819-b4f4-37a27c0e36e5",
   "metadata": {},
   "outputs": [],
   "source": [
    "flux = (cat['aper30_abmag'].value * u.ABmag).to(u.Jy)\n",
    "pl.hist(flux.value, bins=np.linspace(7e-8 * 500, 7e-8 * 4000))\n",
    "sel = (flux > 7e-8*500*u.Jy) & (flux < 4000*7e-8*u.Jy)"
   ]
  },
  {
   "cell_type": "code",
   "execution_count": null,
   "id": "82e9f634-dada-450c-a34b-3acb57fb83c5",
   "metadata": {},
   "outputs": [],
   "source": [
    "idx, sidx, sep, sep3d = vvvdr2_crds.search_around_sky(skycrds_cat[sel], 0.4*u.arcsec)"
   ]
  },
  {
   "cell_type": "code",
   "execution_count": null,
   "id": "bf8ee092-c989-4b31-8754-71ca447bee2b",
   "metadata": {},
   "outputs": [],
   "source": [
    "len(idx)"
   ]
  },
  {
   "cell_type": "code",
   "execution_count": null,
   "id": "512f66d1-ee4b-4c7a-b72e-b39fff3c12e5",
   "metadata": {},
   "outputs": [],
   "source": [
    "dra = (skycrds_cat[sel][idx].ra - vvvdr2_crds[sidx].ra).to(u.arcsec)\n",
    "ddec = (skycrds_cat[sel][idx].dec - vvvdr2_crds[sidx].dec).to(u.arcsec)"
   ]
  },
  {
   "cell_type": "code",
   "execution_count": null,
   "id": "d2dcc9d2-4c62-42b4-a7c7-e03eb400ea41",
   "metadata": {},
   "outputs": [],
   "source": [
    "pl.scatter(dra, ddec, s=1, alpha=0.5)"
   ]
  },
  {
   "cell_type": "code",
   "execution_count": null,
   "id": "3b945319-7aa0-4812-af49-5fbf00ce1ad4",
   "metadata": {},
   "outputs": [],
   "source": [
    "with quantity_support():\n",
    "    pl.scatter(skycrds_cat[sel][idx].ra, skycrds_cat[sel][idx].dec, c=cat['aper30_abmag'][idx], s=1)\n",
    "    pl.scatter([fov[0].center.ra - fov[0].height/2,\n",
    "                fov[0].center.ra + fov[0].height/2,\n",
    "                fov[0].center.ra - fov[0].height/2,\n",
    "                fov[0].center.ra + fov[0].height/2,],\n",
    "               [fov[0].center.dec - fov[0].width/2,\n",
    "                fov[0].center.dec - fov[0].width/2,\n",
    "                fov[0].center.dec + fov[0].width/2,\n",
    "                fov[0].center.dec + fov[0].width/2,]\n",
    "              )\n",
    "    pl.colorbar()"
   ]
  },
  {
   "cell_type": "code",
   "execution_count": null,
   "id": "ed655566-8c74-48f9-8e60-dde022ea68b8",
   "metadata": {},
   "outputs": [],
   "source": [
    "with quantity_support():\n",
    "    pl.scatter(vvvdr2_crds.ra, vvvdr2_crds.dec)\n",
    "    pl.scatter(vvvdr2_crds[sidx].ra, vvvdr2_crds[sidx].dec)\n",
    "    pl.scatter([fov[0].center.ra - fov[0].height/2,\n",
    "                fov[0].center.ra + fov[0].height/2,\n",
    "                fov[0].center.ra - fov[0].height/2,\n",
    "                fov[0].center.ra + fov[0].height/2,],\n",
    "               [fov[0].center.dec - fov[0].width/2,\n",
    "                fov[0].center.dec - fov[0].width/2,\n",
    "                fov[0].center.dec + fov[0].width/2,\n",
    "                fov[0].center.dec + fov[0].width/2,]\n",
    "              )\n",
    "    pl.colorbar()"
   ]
  },
  {
   "cell_type": "code",
   "execution_count": null,
   "id": "a3a14723-ddd2-4767-a892-1a07c98af65a",
   "metadata": {},
   "outputs": [],
   "source": [
    "idx, sidx, sep, sep3d = vvvdr2_crds.search_around_sky(skycrds_cat[sel], 0.4*u.arcsec)\n",
    "dra = (skycrds_cat[sel][idx].ra - vvvdr2_crds[sidx].ra).to(u.arcsec)\n",
    "ddec = (skycrds_cat[sel][idx].dec - vvvdr2_crds[sidx].dec).to(u.arcsec)\n",
    "print(np.median(dra), np.median(ddec))"
   ]
  },
  {
   "cell_type": "code",
   "execution_count": null,
   "id": "0448025b-7cab-4278-bde0-3aae7a6f57e2",
   "metadata": {},
   "outputs": [],
   "source": [
    "pl.scatter(dra, ddec, s=1, alpha=0.5)\n",
    "pl.scatter(np.median(dra), np.median(ddec))"
   ]
  },
  {
   "cell_type": "code",
   "execution_count": null,
   "id": "3d23ab55-4617-43d9-a19c-32fa9f381ed7",
   "metadata": {},
   "outputs": [],
   "source": [
    "ww =  WCS(fits.getheader(imfile, ext=('SCI', 1)))\n",
    "ww.wcs.crval = ww.wcs.crval - [np.median(dra).to(u.deg).value, np.median(ddec).to(u.deg).value]\n",
    "with fits.open(imfile, mode='update') as hdulist:\n",
    "    print(hdulist[1].header['CRVAL1'],\n",
    "          hdulist[1].header['CRVAL2'])\n",
    "    hdulist[1].header.update(ww.to_header())\n",
    "    print(hdulist[1].header['CRVAL1'],\n",
    "          hdulist[1].header['CRVAL2'])"
   ]
  },
  {
   "cell_type": "code",
   "execution_count": null,
   "id": "e233666e-9cf5-47f6-b184-8a627c718138",
   "metadata": {},
   "outputs": [],
   "source": [
    "skycrds_cat_new = ww.pixel_to_world(cat['xcentroid'], cat['ycentroid'])\n",
    "\n",
    "idx, sidx, sep, sep3d = vvvdr2_crds.search_around_sky(skycrds_cat_new[sel], 0.2*u.arcsec)\n",
    "dra = (skycrds_cat_new[sel][idx].ra - vvvdr2_crds[sidx].ra).to(u.arcsec)\n",
    "ddec = (skycrds_cat_new[sel][idx].dec - vvvdr2_crds[sidx].dec).to(u.arcsec)\n",
    "\n",
    "pl.scatter(dra, ddec, s=1, alpha=0.5)\n",
    "pl.scatter(np.median(dra), np.median(ddec))"
   ]
  },
  {
   "cell_type": "code",
   "execution_count": null,
   "id": "2cd1c494-df61-45b9-a848-5c5133eaa13f",
   "metadata": {},
   "outputs": [],
   "source": []
  },
  {
   "cell_type": "markdown",
   "id": "3e00758b-4eba-4e81-88f3-4315e639ec7c",
   "metadata": {},
   "source": [
    "# Check what's happening in the overlap zones"
   ]
  },
  {
   "cell_type": "code",
   "execution_count": null,
   "id": "c2c77ce7-2f7e-4099-8c72-bba255d4932d",
   "metadata": {},
   "outputs": [],
   "source": [
    "from astropy import wcs"
   ]
  },
  {
   "cell_type": "code",
   "execution_count": null,
   "id": "50029f2b-bcab-40ed-bcbf-42d3706a998d",
   "metadata": {},
   "outputs": [],
   "source": [
    "import regions\n",
    "module_overlap = regions.Regions.read(f'{basepath}/regions/overlap_region.reg')\n",
    "module_overlap"
   ]
  },
  {
   "cell_type": "code",
   "execution_count": null,
   "id": "cb2c9f13-ea94-4929-8f22-1c89aa2ad85f",
   "metadata": {},
   "outputs": [],
   "source": [
    "import warnings"
   ]
  },
  {
   "cell_type": "code",
   "execution_count": null,
   "id": "83cc6216-316e-4383-9a7c-f9b746d947b8",
   "metadata": {},
   "outputs": [],
   "source": [
    "def check_overlap_zone(filtername = 'f212n'):\n",
    "    fig = pl.figure(1, figsize=(10,5))\n",
    "    pl.suptitle(filtername)\n",
    "    \n",
    "    ax1 = pl.subplot(1,2,1)\n",
    "    ax2 = pl.subplot(1,2,2)\n",
    "\n",
    "    for module in ('nrca', 'nrcb'):\n",
    "        catfile = f'{basepath}/{filtername.upper()}/pipeline/jw02221-o001_t001_nircam_clear-{filtername}-{module}_cat.ecsv'\n",
    "        imfile = f'{basepath}/{filtername.upper()}/pipeline/jw02221-o001_t001_nircam_clear-{filtername}-{module}_i2d.fits'\n",
    "        cat = Table.read(catfile)\n",
    "        with warnings.catch_warnings():\n",
    "            warnings.simplefilter('ignore')\n",
    "            ww = wcs.WCS(fits.getheader(imfile, ext=('SCI', 1)))\n",
    "        \n",
    "        skycrds_cat = cat['sky_centroid']\n",
    "        realigned_skycrds = ww.pixel_to_world(cat['xcentroid'], cat['ycentroid'])\n",
    "        \n",
    "        for crds, ax, title in [(skycrds_cat, ax1, 'original'),\n",
    "                                (realigned_skycrds, ax2, 'realigned')]:\n",
    "            ax.set_title(title)\n",
    "            sel = module_overlap[0].contains(crds, ww)\n",
    "\n",
    "            idx, sidx, sep, sep3d = vvvdr2_crds.search_around_sky(crds, 0.3*u.arcsec)\n",
    "\n",
    "            dra_all = (crds[idx].ra - vvvdr2_crds[sidx].ra).to(u.arcsec)\n",
    "            ddec_all = (crds[idx].dec - vvvdr2_crds[sidx].dec).to(u.arcsec)\n",
    "\n",
    "            idx, sidx, sep, sep3d = vvvdr2_crds.search_around_sky(crds[sel], 0.3*u.arcsec)\n",
    "\n",
    "            dra = (crds[sel][idx].ra - vvvdr2_crds[sidx].ra).to(u.arcsec)\n",
    "            ddec = (crds[sel][idx].dec - vvvdr2_crds[sidx].dec).to(u.arcsec)\n",
    "\n",
    "            ax.axhline(0, color='k', linestyle=':')\n",
    "            ax.axvline(0, color='k', linestyle=':')\n",
    "            ax.scatter(dra_all, ddec_all, s=1, alpha=0.2, label=module)\n",
    "            ax.scatter(dra, ddec, s=3, alpha=0.5, marker='s', label=module)\n",
    "            ax.scatter(np.median(dra), np.median(ddec), marker='x', s=100)\n",
    "            ax.axis([-0.3, 0.3, -0.3, 0.3])\n",
    "    return fig"
   ]
  },
  {
   "cell_type": "code",
   "execution_count": null,
   "id": "3bce5085-a25f-446d-956d-8768e7651f68",
   "metadata": {},
   "outputs": [],
   "source": [
    "check_overlap_zone('f212n');"
   ]
  },
  {
   "cell_type": "code",
   "execution_count": null,
   "id": "184256eb-5888-465b-b99b-af994477cdc4",
   "metadata": {},
   "outputs": [],
   "source": [
    "check_overlap_zone('f410m');"
   ]
  },
  {
   "cell_type": "code",
   "execution_count": null,
   "id": "c8a9259c-bdc4-422b-b215-d4acae648117",
   "metadata": {},
   "outputs": [],
   "source": [
    "check_overlap_zone('f405n');"
   ]
  },
  {
   "cell_type": "code",
   "execution_count": null,
   "id": "da66e3fe-307a-403d-8e8f-7e547562926c",
   "metadata": {},
   "outputs": [],
   "source": [
    "check_overlap_zone('f466n');"
   ]
  },
  {
   "cell_type": "code",
   "execution_count": null,
   "id": "519f6849-8cea-4619-89d8-80f674eb187a",
   "metadata": {},
   "outputs": [],
   "source": [
    "check_overlap_zone('f187n');"
   ]
  },
  {
   "cell_type": "code",
   "execution_count": null,
   "id": "03f28e88-627a-4df9-9092-8e7bce3216c8",
   "metadata": {},
   "outputs": [],
   "source": [
    "check_overlap_zone('f182m');"
   ]
  },
  {
   "cell_type": "code",
   "execution_count": null,
   "id": "ce66a941-6454-411e-b09e-1d77cd6d0114",
   "metadata": {},
   "outputs": [],
   "source": []
  },
  {
   "cell_type": "markdown",
   "id": "8e8d1df2-de4f-40d6-a767-b5ba413572e6",
   "metadata": {},
   "source": [
    "# \"Production Run\" test "
   ]
  },
  {
   "cell_type": "code",
   "execution_count": null,
   "id": "29cff2b3-0889-409f-8bec-09b6144d6f44",
   "metadata": {},
   "outputs": [],
   "source": [
    "%run $basepath/reduction/align_to_catalogs.py"
   ]
  },
  {
   "cell_type": "code",
   "execution_count": null,
   "id": "5f7c987f-bee9-4fe0-a03a-3172638d541d",
   "metadata": {},
   "outputs": [],
   "source": []
  },
  {
   "cell_type": "code",
   "execution_count": null,
   "id": "7d36177c-be0f-41e8-8f65-4d06f3ede48e",
   "metadata": {},
   "outputs": [],
   "source": [
    "realign_to_vvv()"
   ]
  },
  {
   "cell_type": "code",
   "execution_count": null,
   "id": "9ad1c5bd-11db-4979-93d1-e3ded3d2487a",
   "metadata": {},
   "outputs": [],
   "source": [
    "main()"
   ]
  },
  {
   "cell_type": "code",
   "execution_count": null,
   "id": "cc6f2317-e8f6-44d3-a336-f90fde00d159",
   "metadata": {},
   "outputs": [],
   "source": [
    "%run $basepath/reduction/align_to_catalogs.py"
   ]
  },
  {
   "cell_type": "code",
   "execution_count": null,
   "id": "2ac699d3-8cc2-416b-a42f-945e2c0a57c4",
   "metadata": {},
   "outputs": [],
   "source": [
    "merge_a_plus_b('f410m')"
   ]
  },
  {
   "cell_type": "code",
   "execution_count": null,
   "id": "2c57a63e-3084-4bb1-94ab-d1a39cf1ca0d",
   "metadata": {},
   "outputs": [],
   "source": [
    "merge_a_plus_b('f212n', parallel=True)"
   ]
  },
  {
   "cell_type": "code",
   "execution_count": null,
   "id": "131610c8-0381-400a-901c-56ba4ba95100",
   "metadata": {},
   "outputs": [],
   "source": []
  },
  {
   "cell_type": "code",
   "execution_count": null,
   "id": "95a0b42e-1c21-496c-9185-8f2f0f7fc362",
   "metadata": {},
   "outputs": [],
   "source": []
  },
  {
   "cell_type": "markdown",
   "id": "265ea9c6-a945-4e0f-9c51-68731663b69d",
   "metadata": {},
   "source": [
    "# TEST aligning using tweakreg"
   ]
  },
  {
   "cell_type": "code",
   "execution_count": null,
   "id": "013eb0e1-5e0c-4afd-969a-fc2bffa7f3fd",
   "metadata": {},
   "outputs": [],
   "source": [
    "from tweakwcs import JWSTgWCS, align_wcs, JWSTWCSCorrector, FITSWCSCorrector\n",
    "from astropy.table import Table\n",
    "from jwst.datamodels import ImageModel\n",
    "\n",
    "# to update FITS WCS of the data models next import\n",
    "# requires installing dev version of the pipeline\n",
    "from jwst.assign_wcs.util import update_fits_wcsinfo\n"
   ]
  },
  {
   "cell_type": "markdown",
   "id": "12d01af3-dd04-48cc-a281-0dc72987a789",
   "metadata": {},
   "source": [
    "# This only works with L2 files"
   ]
  },
  {
   "cell_type": "code",
   "execution_count": null,
   "id": "724a18f5-d056-4fb2-916f-cdefb1e0f607",
   "metadata": {},
   "outputs": [],
   "source": [
    "dm1 = ImageModel(imfile)\n",
    "dm1.meta.wcs.available_frames"
   ]
  },
  {
   "cell_type": "code",
   "execution_count": null,
   "id": "5a9bb70c-40b5-4661-8549-0837d0ed1dfb",
   "metadata": {
    "tags": []
   },
   "outputs": [],
   "source": [
    "imcat1 = cat\n",
    "imcat1['x'] = imcat1['xcentroid']\n",
    "imcat1['y'] = imcat1['ycentroid']\n",
    "refcat = vvvdr2\n",
    "refcat['RA'] = refcat['RAJ2000']\n",
    "refcat['DEC'] = refcat['DEJ2000']\n",
    "\n",
    "corr1 = FITSWCSCorrector(dm1.get_fits_wcs(),# dm1.meta.wcsinfo.instance,\n",
    "                 meta={'catalog': imcat1, 'group_id': 1})\n",
    "\n",
    "# align images to the reference catalog:\n",
    "aligned_cat = align_wcs([corr1,], refcat=refcat) # + add other arguments as needed - see docs"
   ]
  },
  {
   "cell_type": "markdown",
   "id": "f0f9eb4b-4b7e-4e0a-91b0-f71663d4b4b6",
   "metadata": {},
   "source": [
    "dm1.meta.wcs = corr1.wcs\n",
    "update_fits_wcsinfo(dm1, npoints=16) # <- update FITS WCS too (optionally). Repeat for each model below\n",
    "\n",
    "# save image models to different files but one can also overwrite existing models:\n",
    "#dm1.write(imfile.replace(\".fits\", \"_wcscorrected_vvv.fits\"))"
   ]
  },
  {
   "cell_type": "code",
   "execution_count": null,
   "id": "dd8fed9e-d74c-437f-965e-7da5c433ae8f",
   "metadata": {},
   "outputs": [],
   "source": []
  },
  {
   "cell_type": "code",
   "execution_count": null,
   "id": "68d7dbaf-9323-4c1c-af8b-e2c82c4c65f8",
   "metadata": {},
   "outputs": [],
   "source": []
  },
  {
   "cell_type": "markdown",
   "id": "bcb3c905-4fc0-41dd-a78d-6e3c38bd5b63",
   "metadata": {},
   "source": [
    "# Crossmatch F212N with VVV, then we'll save that and use it as our reference case\n",
    "\n",
    "\n",
    "Work done Oct 20, 2022\n",
    "\n",
    "Idea is to establish a new and *usable* master table, since VVV stars are mostly saturated in JW."
   ]
  },
  {
   "cell_type": "code",
   "execution_count": null,
   "id": "c8fa65b4-5a76-47de-8d64-f6b2591adea6",
   "metadata": {},
   "outputs": [],
   "source": [
    "basepath = '/blue/adamginsburg/adamginsburg/jwst/brick'"
   ]
  },
  {
   "cell_type": "code",
   "execution_count": null,
   "id": "97d4be8b-8cd9-4603-848d-4582dfaff7fa",
   "metadata": {},
   "outputs": [],
   "source": [
    "cd $basepath"
   ]
  },
  {
   "cell_type": "code",
   "execution_count": null,
   "id": "0cb9bd68-6df2-4706-8a73-5407e60a9454",
   "metadata": {},
   "outputs": [],
   "source": [
    "filtername = 'f212n'\n",
    "module = 'nrca'\n",
    "catfile = f'{basepath}/{filtername.upper()}/pipeline/jw02221-o001_t001_nircam_clear-{filtername}-{module}_cat.ecsv'\n",
    "imfile = f'{basepath}/{filtername.upper()}/pipeline/jw02221-o001_t001_nircam_clear-{filtername}-{module}_i2d.fits'\n",
    "cat = Table.read(catfile)\n",
    "#cat.write(catfile.replace('ecsv', 'fits'), overwrite=True) # for CARTA viewing"
   ]
  },
  {
   "cell_type": "markdown",
   "id": "d87fcc3a-5538-4faa-b368-3ed27107f0b9",
   "metadata": {},
   "source": [
    "Catalogs:\n",
    "\n",
    " * F212N/pipeline/jw02221-o001_t001_nircam_clear-f212n-merged_cat.ecsv\n",
    " * F212N/f212n_?merged?_crowdsource.fits doesn't exist yet\n",
    " * F212N/f212n_?merged?_daophot_iterative.fits doesn't exist yet"
   ]
  },
  {
   "cell_type": "code",
   "execution_count": null,
   "id": "dc7d83e8-4854-4eec-a17d-173148cc8849",
   "metadata": {},
   "outputs": [],
   "source": [
    "# TODO: replace nrca w/full\n",
    "\n",
    "crowdtbl = Table.read('F212N/f212n_nrca_crowdsource.fits')\n",
    "crowdheader = fits.getheader('F212N/f212n_nrca_crowdsource.fits')\n",
    "daobasictbl = Table.read('F212N/f212n_nrca_daophot_basic.fits')\n",
    "daoitertbl = Table.read('F212N/f212n_nrca_daophot_iterative.fits')\n",
    "len(crowdtbl), len(daobasictbl), len(daoitertbl)"
   ]
  },
  {
   "cell_type": "code",
   "execution_count": null,
   "id": "baa5a8c1-11c0-4103-9ff8-372a3ec57bd8",
   "metadata": {},
   "outputs": [],
   "source": [
    "if 'skycoord' not in crowdtbl.colnames:\n",
    "    print (\"Swapping coords\")\n",
    "    # I've now fixed crowdtbl to include skycoord, but it hasn't run yet\n",
    "    ww = wcs.WCS(crowdheader)\n",
    "    # crowdtbl are still backwards now\n",
    "    crowdtbl['skycoord'] = ww.pixel_to_world(crowdtbl['y'], crowdtbl['x'])"
   ]
  },
  {
   "cell_type": "code",
   "execution_count": null,
   "id": "7563a829-81e9-4857-b9e4-dd4339a53559",
   "metadata": {},
   "outputs": [],
   "source": [
    "idx, sidx, sep, sep3d = vvvdr2_crds.search_around_sky(daobasictbl['skycoord_centroid'], 0.5*u.arcsec)\n",
    "dra = (daobasictbl['skycoord_centroid'][idx].ra - vvvdr2_crds[sidx].ra).to(u.arcsec)\n",
    "ddec = (daobasictbl['skycoord_centroid'][idx].dec - vvvdr2_crds[sidx].dec).to(u.arcsec)\n",
    "print(np.median(dra), np.median(ddec))"
   ]
  },
  {
   "cell_type": "code",
   "execution_count": null,
   "id": "b67112a7-1193-424d-b1a8-824f44d0d3b5",
   "metadata": {},
   "outputs": [],
   "source": [
    "pl.title(\"Offsets with DAO Basic table\")\n",
    "pl.scatter(dra, ddec, s=1, alpha=0.5)\n",
    "pl.scatter(np.median(dra), np.median(ddec));"
   ]
  },
  {
   "cell_type": "code",
   "execution_count": null,
   "id": "3830d2fd-b198-4acb-9585-cb4c875084ee",
   "metadata": {},
   "outputs": [],
   "source": []
  },
  {
   "cell_type": "code",
   "execution_count": null,
   "id": "bda37243-e7d2-400c-8f83-01a717b75621",
   "metadata": {},
   "outputs": [],
   "source": [
    "idx, sidx, sep, sep3d = vvvdr2_crds.search_around_sky(daoitertbl['skycoord_centroid'], 0.5*u.arcsec)\n",
    "dra = (daoitertbl['skycoord_centroid'][idx].ra - vvvdr2_crds[sidx].ra).to(u.arcsec)\n",
    "ddec = (daoitertbl['skycoord_centroid'][idx].dec - vvvdr2_crds[sidx].dec).to(u.arcsec)\n",
    "print(np.median(dra), np.median(ddec))"
   ]
  },
  {
   "cell_type": "code",
   "execution_count": null,
   "id": "9fc66338-71ed-4dc0-8e29-c69c090960d7",
   "metadata": {},
   "outputs": [],
   "source": [
    "pl.title(\"Offsets with DAO Iter table\")\n",
    "pl.scatter(dra, ddec, s=1, alpha=0.5)\n",
    "pl.scatter(np.median(dra), np.median(ddec));"
   ]
  },
  {
   "cell_type": "code",
   "execution_count": null,
   "id": "62044811-9545-4bdd-b153-e9cf056d2b48",
   "metadata": {},
   "outputs": [],
   "source": []
  },
  {
   "cell_type": "code",
   "execution_count": null,
   "id": "4a053891-e30d-4c8a-9586-2cdb147db6c6",
   "metadata": {},
   "outputs": [],
   "source": [
    "idx, sidx, sep, sep3d = vvvdr2_crds.search_around_sky(crowdtbl['skycoord'], 0.5*u.arcsec)\n",
    "dra = (crowdtbl['skycoord'][idx].ra - vvvdr2_crds[sidx].ra).to(u.arcsec)\n",
    "ddec = (crowdtbl['skycoord'][idx].dec - vvvdr2_crds[sidx].dec).to(u.arcsec)\n",
    "print(np.median(dra), np.median(ddec))"
   ]
  },
  {
   "cell_type": "code",
   "execution_count": null,
   "id": "31de8ff8-69c3-48b2-9cd1-69056bf7ba9a",
   "metadata": {},
   "outputs": [],
   "source": [
    "pl.title(\"Offsets with Crowdsource table\")\n",
    "pl.scatter(dra, ddec, s=1, alpha=0.5)\n",
    "pl.scatter(np.median(dra), np.median(ddec));"
   ]
  },
  {
   "cell_type": "markdown",
   "id": "efb1b113-3f10-4a16-a978-56bdaf34a4a0",
   "metadata": {},
   "source": [
    "### Intermediate conclusions:\n",
    "\n",
    "The iter table performed best but still quite poorly.  Only matches within <0.15 arcsec are remotely valid, so more source rejection is needed to get a good result."
   ]
  },
  {
   "cell_type": "code",
   "execution_count": null,
   "id": "41bab8c9-eec1-4430-80c5-ad3c915a56d5",
   "metadata": {},
   "outputs": [],
   "source": [
    "satstarcat = Table.read('F212N/pipeline/jw02221-o001_t001_nircam_clear-f212n-merged_i2d_satstar_catalog.fits')\n",
    "if 'skycoord_fit' not in satstarcat.colnames:\n",
    "    ww = WCS(fits.getheader('F212N/pipeline/jw02221-o001_t001_nircam_clear-f212n-merged_i2d.fits', ext=('SCI', 1)))\n",
    "    satstarcat['skycoord_fit'] = ww.pixel_to_world(satstarcat['x_fit'], satstarcat['y_fit'])\n",
    "    satstarcat.write('F212N/pipeline/jw02221-o001_t001_nircam_clear-f212n-merged_i2d_satstar_catalog.fits', overwrite=True)\n",
    "satstarcat[:5]"
   ]
  },
  {
   "cell_type": "markdown",
   "id": "2abe05a1-8e3b-4153-9e23-1e77db5bbbcf",
   "metadata": {},
   "source": [
    "### Try to reject sources near saturated sources (about 0.4\" in F4* and 0.95\" (?!?!) in F1*)"
   ]
  },
  {
   "cell_type": "code",
   "execution_count": null,
   "id": "7437506e-2da4-45dd-b6e2-89564a134b08",
   "metadata": {},
   "outputs": [],
   "source": [
    "satcrd = satstarcat['skycoord_fit']\n",
    "daoitercrd = daoitertbl['skycoord_centroid']\n",
    "idx_s, sidx_s, sep_s, sep3d_s = satcrd.search_around_sky(daoitertbl['skycoord_centroid'], 0.95*u.arcsec)\n",
    "len(idx_s), len(sidx_s), len(sep_s), len(sep3d_s)"
   ]
  },
  {
   "cell_type": "code",
   "execution_count": null,
   "id": "086f6605-e25e-469f-b9e3-02427de96c9c",
   "metadata": {},
   "outputs": [],
   "source": [
    "inds = np.arange(len(daoitercrd))\n",
    "unsat_inds = inds[~np.in1d(inds, idx_s)]\n",
    "#daoitercrd_nosat = daoitercrd[unsat_inds]\n",
    "daoitertbl_nosat = daoitertbl[unsat_inds]"
   ]
  },
  {
   "cell_type": "code",
   "execution_count": null,
   "id": "f51620a7-3853-45c9-b35a-cf7ebd342a04",
   "metadata": {},
   "outputs": [],
   "source": [
    "idx, sidx, sep, sep3d = vvvdr2_crds.search_around_sky(daoitertbl['skycoord_centroid'], 0.5*u.arcsec)\n",
    "sat_idx = np.isin(idx, idx_s)\n",
    "dra = (daoitertbl['skycoord_centroid'][idx].ra - vvvdr2_crds[sidx].ra).to(u.arcsec)\n",
    "ddec = (daoitertbl['skycoord_centroid'][idx].dec - vvvdr2_crds[sidx].dec).to(u.arcsec)\n",
    "dra_s = (daoitertbl['skycoord_centroid'][idx[sat_idx]].ra - vvvdr2_crds[sidx[sat_idx]].ra).to(u.arcsec)\n",
    "ddec_s = (daoitertbl['skycoord_centroid'][idx[sat_idx]].dec - vvvdr2_crds[sidx[sat_idx]].dec).to(u.arcsec)\n",
    "print(np.median(dra), np.median(ddec))"
   ]
  },
  {
   "cell_type": "code",
   "execution_count": null,
   "id": "e71cbcac-f238-4ade-96db-cc4430181a1f",
   "metadata": {},
   "outputs": [],
   "source": [
    "pl.title(\"Offsets with DAO Iter table (saturated in orange)\")\n",
    "pl.scatter(dra, ddec, s=1, alpha=0.5)\n",
    "pl.scatter(dra_s, ddec_s, s=2, alpha=1)\n",
    "pl.scatter(np.median(dra), np.median(ddec));"
   ]
  },
  {
   "cell_type": "markdown",
   "id": "cb0a3808-4eb5-401d-8acd-a885e864992e",
   "metadata": {},
   "source": [
    "## Try to match saturated star centroids"
   ]
  },
  {
   "cell_type": "code",
   "execution_count": null,
   "id": "cb908061-16cd-40fa-b66e-504cfeb97b3f",
   "metadata": {},
   "outputs": [],
   "source": [
    "satcrd = satstarcat['skycoord_fit']\n",
    "idx_s, sidx_s, sep_s, sep3d_s = satcrd.search_around_sky(vvvdr2_crds, 0.5*u.arcsec)\n",
    "dra_s = (satcrd[sidx_s].ra - vvvdr2_crds[idx_s].ra).to(u.arcsec)\n",
    "ddec_s = (satcrd[sidx_s].dec - vvvdr2_crds[idx_s].dec).to(u.arcsec)\n",
    "len(idx_s), len(satcrd), len(vvvdr2_crds)"
   ]
  },
  {
   "cell_type": "code",
   "execution_count": null,
   "id": "1436a9ed-7e6b-47f6-834f-3e09fe1a6115",
   "metadata": {},
   "outputs": [],
   "source": [
    "pl.title(\"Offsets from saturated stars\")\n",
    "pl.scatter(dra_s, ddec_s, s=1, alpha=0.5)\n",
    "pl.scatter(np.median(dra_s), np.median(ddec_s));"
   ]
  },
  {
   "cell_type": "code",
   "execution_count": null,
   "id": "056cb0e4-1d0b-4ec1-a04d-5973fbc644c9",
   "metadata": {},
   "outputs": [],
   "source": [
    "# for each coordinate in DAO catalog, find VVV match (for plotting)\n",
    "daoitercrd_nosat = daoitertbl_nosat['skycoord_centroid']\n",
    "idx, sidx, sep, sep3d = daoitercrd_nosat.search_around_sky(vvvdr2_crds, 0.5*u.arcsec)\n",
    "dra = (daoitercrd_nosat[sidx].ra - vvvdr2_crds[idx].ra).to(u.arcsec)\n",
    "ddec = (daoitercrd_nosat[sidx].dec - vvvdr2_crds[idx].dec).to(u.arcsec)\n",
    "len(idx), len(daoitercrd), len(vvvdr2_crds)"
   ]
  },
  {
   "cell_type": "code",
   "execution_count": null,
   "id": "f5215bbc-c8ac-46ca-af39-0060622e4b2c",
   "metadata": {},
   "outputs": [],
   "source": [
    "pl.title(\"Offsets b/w DAO Iter & VVV (starting w/DAO Iter) stars\")\n",
    "pl.scatter(dra, ddec, s=1, alpha=0.5)\n",
    "bright = daoitertbl_nosat['flux_fit'][sidx] > 1e4\n",
    "pl.scatter(dra[bright], ddec[bright], s=1, alpha=0.5)\n",
    "pl.scatter(dra_s, ddec_s, s=2, alpha=1)\n",
    "pl.scatter(np.median(dra), np.median(ddec));"
   ]
  },
  {
   "cell_type": "code",
   "execution_count": null,
   "id": "e518b649-4c35-495f-b76a-24dd9892a858",
   "metadata": {},
   "outputs": [],
   "source": [
    "pl.title(\"Scatterplot to see what flux level results in good matches\")\n",
    "pl.scatter((dra**2 + ddec**2)**0.5, daoitertbl_nosat['flux_fit'][sidx], s=1)\n",
    "pl.semilogy();\n",
    "pl.axhline(1e4, color='k', linestyle='--');"
   ]
  },
  {
   "cell_type": "code",
   "execution_count": null,
   "id": "4d237ea9-3665-4301-927c-de59197c3ad9",
   "metadata": {},
   "outputs": [],
   "source": [
    "# for each coordinate in DAO catalog, find VVV match (for saving)\n",
    "daoitercrd_nosat = daoitertbl_nosat['skycoord_centroid']\n",
    "bright = daoitertbl_nosat['flux_fit'] > 1e4\n",
    "idxd, sepd, _ = daoitercrd_nosat[bright].match_to_catalog_sky(vvvdr2_crds)\n",
    "\n",
    "drad = (daoitercrd_nosat[bright].ra - vvvdr2_crds[idxd].ra).to(u.arcsec)\n",
    "ddecd = (daoitercrd_nosat[bright].dec - vvvdr2_crds[idxd].dec).to(u.arcsec)\n",
    "\n",
    "# then, for each vvv object, find the closest DAO\n",
    "idxv, sepv, _ = vvvdr2_crds.match_to_catalog_sky(daoitercrd_nosat[bright])\n",
    "drav = (daoitercrd_nosat[bright][idxv].ra - vvvdr2_crds.ra).to(u.arcsec)\n",
    "ddecv = (daoitercrd_nosat[bright][idxv].dec - vvvdr2_crds.dec).to(u.arcsec)\n",
    "\n",
    "len(idxd), len(idxv), bright.sum(), len(vvvdr2_crds)"
   ]
  },
  {
   "cell_type": "code",
   "execution_count": null,
   "id": "26e325b0-71bf-4611-b9e5-210663a8bca5",
   "metadata": {},
   "outputs": [],
   "source": [
    "pl.title(\"Offsets b/w DAO Iter & VVV matches\")\n",
    "pl.scatter(drad, ddecd, s=1, alpha=0.5)\n",
    "pl.scatter(drav, ddecv, s=1, alpha=0.5)\n",
    "pl.scatter(np.median(drad), np.median(ddecd));\n",
    "pl.scatter(np.median(drav), np.median(ddecv));\n",
    "pl.scatter(np.median(drad[sepd<0.15*u.arcsec]), np.median(ddecd[sepd<0.15*u.arcsec]));\n",
    "pl.scatter(np.median(drav[sepv<0.15*u.arcsec]), np.median(ddecv[sepv<0.15*u.arcsec]));\n",
    "pl.axhline(0, color='k', linestyle='--', zorder=-5)\n",
    "pl.axvline(0, color='k', linestyle='--', zorder=-5);\n",
    "pl.axis([-0.5,0.5,-0.5,0.5])"
   ]
  },
  {
   "cell_type": "code",
   "execution_count": null,
   "id": "64010b37-f4dc-45a4-b6b8-e15ecfdab50e",
   "metadata": {},
   "outputs": [],
   "source": [
    "Table.read('F212N/pipeline/jw02221-o001_t001_nircam_clear-f212n-merged_vvvcat.ecsv').write('F212N/pipeline/jw02221-o001_t001_nircam_clear-f212n-merged_vvvcat.fits')"
   ]
  },
  {
   "cell_type": "markdown",
   "id": "adb0d631-3d00-4f51-a912-2109d81f1f56",
   "metadata": {},
   "source": [
    "# Conclusions again: There's no offset?\n",
    "\n",
    "So, what the hell?  Why do the catalogs _look_ so offset when overlaid on the data?\n",
    "\n",
    "Maybe it's just that the catalogs have never run to completion on the final data."
   ]
  },
  {
   "cell_type": "code",
   "execution_count": null,
   "id": "dbf9a7f9-71b5-46b1-a127-14de840b2796",
   "metadata": {},
   "outputs": [],
   "source": []
  },
  {
   "cell_type": "markdown",
   "id": "8852f281-c513-42c0-bb7a-a871d1e9058a",
   "metadata": {},
   "source": [
    "# Some plots for the paper"
   ]
  },
  {
   "cell_type": "code",
   "execution_count": null,
   "id": "2e8189d4-2d77-4d71-874d-9aea65d8e4eb",
   "metadata": {},
   "outputs": [],
   "source": [
    "basepath = '/orange/adamginsburg/jwst/brick/'"
   ]
  },
  {
   "cell_type": "code",
   "execution_count": null,
   "id": "ee9098f3-70df-4af2-8edf-00957daad57b",
   "metadata": {},
   "outputs": [],
   "source": [
    "import sys\n",
    "if '' in sys.path:\n",
    "    sys.path.remove('')"
   ]
  },
  {
   "cell_type": "code",
   "execution_count": null,
   "id": "eef754e4-9405-4038-a240-6f455c8eb70c",
   "metadata": {},
   "outputs": [],
   "source": [
    "%run $basepath/analysis/analysis_setup.py\n",
    "basetable = basetable_merged"
   ]
  },
  {
   "cell_type": "code",
   "execution_count": null,
   "id": "a3f68b15-bc20-47c6-a22c-a58b1755458d",
   "metadata": {},
   "outputs": [],
   "source": [
    "%run $basepath/analysis/selections.py --module=merged\n",
    "assert len(basetable) == len(basetable_merged)"
   ]
  },
  {
   "cell_type": "code",
   "execution_count": null,
   "id": "a24d7107-c3fd-4dbd-b5f9-8a61f52db7b3",
   "metadata": {},
   "outputs": [],
   "source": [
    "idx, sidx, sep, sep3d = vvvdr2_crds.search_around_sky(basetable['skycoord_centroid'], 0.5*u.arcsec)\n",
    "dra = (basetable['skycoord_centroid'][idx].ra - vvvdr2_crds[sidx].ra).to(u.arcsec)\n",
    "ddec = (basetable['skycoord_centroid'][idx].dec - vvvdr2_crds[sidx].dec).to(u.arcsec)\n",
    "print(np.median(dra), np.median(ddec))"
   ]
  },
  {
   "cell_type": "code",
   "execution_count": null,
   "id": "03dead9a-4ca0-4a33-b68d-146a1b0511d2",
   "metadata": {},
   "outputs": [],
   "source": []
  }
 ],
 "metadata": {
  "kernelspec": {
   "display_name": "python39",
   "language": "python",
   "name": "python39"
  },
  "language_info": {
   "codemirror_mode": {
    "name": "ipython",
    "version": 3
   },
   "file_extension": ".py",
   "mimetype": "text/x-python",
   "name": "python",
   "nbconvert_exporter": "python",
   "pygments_lexer": "ipython3",
   "version": "3.9.13"
  }
 },
 "nbformat": 4,
 "nbformat_minor": 5
}
