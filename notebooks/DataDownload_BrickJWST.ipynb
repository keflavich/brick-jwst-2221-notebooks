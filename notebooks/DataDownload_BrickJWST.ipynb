{
 "cells": [
  {
   "cell_type": "code",
   "execution_count": 1,
   "id": "fa95d728-4b9e-4291-8562-b16d7248d2a5",
   "metadata": {},
   "outputs": [
    {
     "name": "stdout",
     "output_type": "stream",
     "text": [
      "/orange/adamginsburg/jwst/brick\n"
     ]
    }
   ],
   "source": [
    "cd /orange/adamginsburg/jwst/brick"
   ]
  },
  {
   "cell_type": "code",
   "execution_count": 2,
   "id": "37b6476f-12e6-4846-88bb-9811a0ac1318",
   "metadata": {},
   "outputs": [],
   "source": [
    "from astroquery.mast import Mast, Observations\n",
    "import os"
   ]
  },
  {
   "cell_type": "code",
   "execution_count": 3,
   "id": "6a36f501-6ce9-495d-a8d6-9121fdcadbbb",
   "metadata": {},
   "outputs": [],
   "source": [
    "with open(os.path.expanduser('/home/adamginsburg/.mast_api_token'), 'r') as fh:\n",
    "    api_token = fh.read().strip()"
   ]
  },
  {
   "cell_type": "code",
   "execution_count": 4,
   "id": "1a0cca66-975a-45d9-bec3-74575ff6def4",
   "metadata": {},
   "outputs": [
    {
     "name": "stdout",
     "output_type": "stream",
     "text": [
      "INFO: MAST API token accepted, welcome Adam Ginsburg [astroquery.mast.auth]\n"
     ]
    }
   ],
   "source": [
    "Mast.login(api_token.strip())"
   ]
  },
  {
   "cell_type": "code",
   "execution_count": 5,
   "id": "5d21080b-d150-40cf-9f57-ec2125a7b7e1",
   "metadata": {},
   "outputs": [],
   "source": [
    "obs_table = Observations.query_criteria(dataproduct_type=[\"image\"],\n",
    "                                        proposal_pi=\"Ginsburg*\",\n",
    "                                       )"
   ]
  },
  {
   "cell_type": "code",
   "execution_count": null,
   "id": "7fbf1646-50cb-494d-a23f-10a0d65512f3",
   "metadata": {},
   "outputs": [],
   "source": [
    "data_products_by_obs = Observations.get_product_list(obs_table)"
   ]
  },
  {
   "cell_type": "code",
   "execution_count": null,
   "id": "83870c80-1d37-46be-9498-a12098b24542",
   "metadata": {},
   "outputs": [],
   "source": [
    "len(data_products_by_obs)"
   ]
  },
  {
   "cell_type": "code",
   "execution_count": null,
   "id": "f0e61393-81e1-417d-a5ef-5ac79fdc5564",
   "metadata": {},
   "outputs": [],
   "source": [
    "data_products_by_obs[:5]"
   ]
  },
  {
   "cell_type": "markdown",
   "id": "8392c892-4f81-407e-acc5-0c560e7e02ee",
   "metadata": {},
   "source": [
    "data_products_by_id = Observations.get_product_list(obs_table['obsid'])"
   ]
  },
  {
   "cell_type": "code",
   "execution_count": null,
   "id": "ecd8fd64-adbb-46ea-a9eb-e664c0f81e75",
   "metadata": {},
   "outputs": [],
   "source": [
    "products = Observations.filter_products(data_products_by_obs,\n",
    "                                        productType=[\"SCIENCE\", \"PREVIEW\"],\n",
    "                                        extension=\"fits\")"
   ]
  },
  {
   "cell_type": "code",
   "execution_count": null,
   "id": "45753ab3-195d-4096-9088-755448d8feea",
   "metadata": {},
   "outputs": [],
   "source": [
    "len(products)"
   ]
  },
  {
   "cell_type": "code",
   "execution_count": null,
   "id": "66a669df-4d3d-4da2-abde-778db4986945",
   "metadata": {
    "tags": []
   },
   "outputs": [],
   "source": [
    "products[:5]"
   ]
  },
  {
   "cell_type": "code",
   "execution_count": null,
   "id": "926a13c5-dadf-4ca4-827c-b7564237b500",
   "metadata": {},
   "outputs": [],
   "source": [
    "Observations.login(api_token)"
   ]
  },
  {
   "cell_type": "code",
   "execution_count": null,
   "id": "4d72dd9a-df41-4c01-876b-ca6c3c9f7b2e",
   "metadata": {},
   "outputs": [],
   "source": [
    "manifest = Observations.download_products(products)"
   ]
  },
  {
   "cell_type": "code",
   "execution_count": null,
   "id": "e5afe049-0552-4a0a-9be2-e9abfb47a9f8",
   "metadata": {},
   "outputs": [],
   "source": [
    "manifest[:5]"
   ]
  },
  {
   "cell_type": "code",
   "execution_count": null,
   "id": "29f99eb3-ca3a-4ef8-9c03-52ae629b80c9",
   "metadata": {},
   "outputs": [],
   "source": []
  }
 ],
 "metadata": {
  "kernelspec": {
   "display_name": "python39",
   "language": "python",
   "name": "python39"
  },
  "language_info": {
   "codemirror_mode": {
    "name": "ipython",
    "version": 3
   },
   "file_extension": ".py",
   "mimetype": "text/x-python",
   "name": "python",
   "nbconvert_exporter": "python",
   "pygments_lexer": "ipython3",
   "version": "3.9.13"
  }
 },
 "nbformat": 4,
 "nbformat_minor": 5
}
